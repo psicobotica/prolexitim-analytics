{
  "nbformat": 4,
  "nbformat_minor": 0,
  "metadata": {
    "colab": {
      "name": "ProlexitimDetector-LSTM-v1-3.ipynb",
      "version": "0.3.2",
      "provenance": [],
      "collapsed_sections": []
    },
    "kernelspec": {
      "name": "python3",
      "display_name": "Python 3"
    },
    "accelerator": "GPU"
  },
  "cells": [
    {
      "cell_type": "code",
      "metadata": {
        "id": "0ufuuEwohSFL",
        "colab_type": "code",
        "outputId": "44e88878-0c63-4341-b932-57fde7f70474",
        "colab": {
          "base_uri": "https://localhost:8080/",
          "height": 54
        }
      },
      "source": [
        "from google.colab import drive\n",
        "drive.mount('/content/gdrive')"
      ],
      "execution_count": 1,
      "outputs": [
        {
          "output_type": "stream",
          "text": [
            "Drive already mounted at /content/gdrive; to attempt to forcibly remount, call drive.mount(\"/content/gdrive\", force_remount=True).\n"
          ],
          "name": "stdout"
        }
      ]
    },
    {
      "cell_type": "code",
      "metadata": {
        "id": "c2q-ib7fhcto",
        "colab_type": "code",
        "colab": {}
      },
      "source": [
        "dataset_path = \"/content/gdrive/My Drive/datasets/tas-nlp/\""
      ],
      "execution_count": 0,
      "outputs": []
    },
    {
      "cell_type": "code",
      "metadata": {
        "id": "YLQe6X8Jfbsg",
        "colab_type": "code",
        "outputId": "996d62bc-1c70-44d6-fe52-67b6cec54873",
        "colab": {
          "base_uri": "https://localhost:8080/",
          "height": 69
        }
      },
      "source": [
        "import re\n",
        "\n",
        "import numpy as np\n",
        "import pandas as pd\n",
        "from sklearn.model_selection import train_test_split\n",
        "\n",
        "# TensorFlow and tf.keras\n",
        "import tensorflow as tf\n",
        "from tensorflow import keras\n",
        "\n",
        "from keras.preprocessing.text import Tokenizer\n",
        "from keras.preprocessing.sequence import pad_sequences\n",
        "from keras.models import Sequential\n",
        "from keras.layers import Dense, Embedding, LSTM, SpatialDropout1D\n",
        "from sklearn.model_selection import train_test_split\n",
        "from keras.utils.np_utils import to_categorical\n",
        "\n",
        "print('Keras       ', keras.__version__)\n",
        "print('TensorFlow  ', tf.__version__)"
      ],
      "execution_count": 3,
      "outputs": [
        {
          "output_type": "stream",
          "text": [
            "Keras        2.2.4-tf\n",
            "TensorFlow   1.13.1\n"
          ],
          "name": "stdout"
        },
        {
          "output_type": "stream",
          "text": [
            "Using TensorFlow backend.\n"
          ],
          "name": "stderr"
        }
      ]
    },
    {
      "cell_type": "code",
      "metadata": {
        "id": "j3SsAI1bfs-i",
        "colab_type": "code",
        "outputId": "50b21854-fcd2-4394-ad16-551bce25966e",
        "colab": {
          "base_uri": "https://localhost:8080/",
          "height": 34
        }
      },
      "source": [
        "\n",
        "from tensorflow.python.client import device_lib\n",
        "\n",
        "def get_available_gpus():\n",
        "    local_device_protos = device_lib.list_local_devices()\n",
        "    return [x.name for x in local_device_protos if x.device_type == 'GPU']\n",
        "\n",
        "get_available_gpus()"
      ],
      "execution_count": 4,
      "outputs": [
        {
          "output_type": "execute_result",
          "data": {
            "text/plain": [
              "['/device:GPU:0']"
            ]
          },
          "metadata": {
            "tags": []
          },
          "execution_count": 4
        }
      ]
    },
    {
      "cell_type": "code",
      "metadata": {
        "id": "wqpul9DRlEzM",
        "colab_type": "code",
        "colab": {}
      },
      "source": [
        "# drive.mount(\"/content/gdrive\", force_remount=True)"
      ],
      "execution_count": 0,
      "outputs": []
    },
    {
      "cell_type": "code",
      "metadata": {
        "id": "OKI4Lf4am2Bb",
        "colab_type": "code",
        "outputId": "ba0a76ba-063b-4647-a01e-298053ceccc0",
        "colab": {
          "base_uri": "https://localhost:8080/",
          "height": 54
        }
      },
      "source": [
        "! ls -la /content/gdrive/'My Drive'/datasets/tas-nlp/prolexitim-merged-1.3.csv\n",
        "      "
      ],
      "execution_count": 6,
      "outputs": [
        {
          "output_type": "stream",
          "text": [
            "-rw------- 1 root root 209682 May 13 09:39 '/content/gdrive/My Drive/datasets/tas-nlp/prolexitim-merged-1.3.csv'\n"
          ],
          "name": "stdout"
        }
      ]
    },
    {
      "cell_type": "code",
      "metadata": {
        "id": "2KaO7RIQfxFy",
        "colab_type": "code",
        "colab": {}
      },
      "source": [
        "tasnlp_df = pd.read_csv(dataset_path + \"prolexitim-merged-1.3.csv\", header=0, delimiter=\"\\t\")"
      ],
      "execution_count": 0,
      "outputs": []
    },
    {
      "cell_type": "code",
      "metadata": {
        "id": "2FM9tTSIkbSc",
        "colab_type": "code",
        "colab": {}
      },
      "source": [
        "# tasnlp_df.head()"
      ],
      "execution_count": 0,
      "outputs": []
    },
    {
      "cell_type": "code",
      "metadata": {
        "id": "PyoplxtmoTEj",
        "colab_type": "code",
        "colab": {}
      },
      "source": [
        "# We only need text and label\n",
        "data = tasnlp_df[['Text','alex-a']]"
      ],
      "execution_count": 0,
      "outputs": []
    },
    {
      "cell_type": "code",
      "metadata": {
        "id": "t-OPWEquo1Cy",
        "colab_type": "code",
        "outputId": "ad134dd5-4eb0-4eef-903c-53c9ac0c49a3",
        "colab": {
          "base_uri": "https://localhost:8080/",
          "height": 198
        }
      },
      "source": [
        "data.head()"
      ],
      "execution_count": 10,
      "outputs": [
        {
          "output_type": "execute_result",
          "data": {
            "text/html": [
              "<div>\n",
              "<style scoped>\n",
              "    .dataframe tbody tr th:only-of-type {\n",
              "        vertical-align: middle;\n",
              "    }\n",
              "\n",
              "    .dataframe tbody tr th {\n",
              "        vertical-align: top;\n",
              "    }\n",
              "\n",
              "    .dataframe thead th {\n",
              "        text-align: right;\n",
              "    }\n",
              "</style>\n",
              "<table border=\"1\" class=\"dataframe\">\n",
              "  <thead>\n",
              "    <tr style=\"text-align: right;\">\n",
              "      <th></th>\n",
              "      <th>Text</th>\n",
              "      <th>alex-a</th>\n",
              "    </tr>\n",
              "  </thead>\n",
              "  <tbody>\n",
              "    <tr>\n",
              "      <th>0</th>\n",
              "      <td>Era un niño pensando en el granero pensando a ...</td>\n",
              "      <td>NoAlex</td>\n",
              "    </tr>\n",
              "    <tr>\n",
              "      <th>1</th>\n",
              "      <td>Una madre que está consolando a su hijo, despu...</td>\n",
              "      <td>NoAlex</td>\n",
              "    </tr>\n",
              "    <tr>\n",
              "      <th>2</th>\n",
              "      <td>Un pantanal con una barca abandonada. A ver qu...</td>\n",
              "      <td>NoAlex</td>\n",
              "    </tr>\n",
              "    <tr>\n",
              "      <th>3</th>\n",
              "      <td>Era un paraje muy bonito, con una barca, un po...</td>\n",
              "      <td>Alex</td>\n",
              "    </tr>\n",
              "    <tr>\n",
              "      <th>4</th>\n",
              "      <td>Era una vez un matrimonio, que se quería muchí...</td>\n",
              "      <td>Alex</td>\n",
              "    </tr>\n",
              "  </tbody>\n",
              "</table>\n",
              "</div>"
            ],
            "text/plain": [
              "                                                Text  alex-a\n",
              "0  Era un niño pensando en el granero pensando a ...  NoAlex\n",
              "1  Una madre que está consolando a su hijo, despu...  NoAlex\n",
              "2  Un pantanal con una barca abandonada. A ver qu...  NoAlex\n",
              "3  Era un paraje muy bonito, con una barca, un po...    Alex\n",
              "4  Era una vez un matrimonio, que se quería muchí...    Alex"
            ]
          },
          "metadata": {
            "tags": []
          },
          "execution_count": 10
        }
      ]
    },
    {
      "cell_type": "code",
      "metadata": {
        "id": "ol5kMIP-qKgj",
        "colab_type": "code",
        "outputId": "7b90b2fd-82fa-4de3-9462-b34762fea290",
        "colab": {
          "base_uri": "https://localhost:8080/",
          "height": 121
        }
      },
      "source": [
        "print(data.dtypes)\n",
        "print(data.count())"
      ],
      "execution_count": 11,
      "outputs": [
        {
          "output_type": "stream",
          "text": [
            "Text      object\n",
            "alex-a    object\n",
            "dtype: object\n",
            "Text      334\n",
            "alex-a    318\n",
            "dtype: int64\n"
          ],
          "name": "stdout"
        }
      ]
    },
    {
      "cell_type": "code",
      "metadata": {
        "id": "_45D3_b9q9M1",
        "colab_type": "code",
        "colab": {}
      },
      "source": [
        "data = data.dropna()"
      ],
      "execution_count": 0,
      "outputs": []
    },
    {
      "cell_type": "code",
      "metadata": {
        "id": "FYCGPHxjrEzk",
        "colab_type": "code",
        "outputId": "b9b1d0af-1743-418d-9eb9-7ce1f617e319",
        "colab": {
          "base_uri": "https://localhost:8080/",
          "height": 69
        }
      },
      "source": [
        "data.count()"
      ],
      "execution_count": 13,
      "outputs": [
        {
          "output_type": "execute_result",
          "data": {
            "text/plain": [
              "Text      318\n",
              "alex-a    318\n",
              "dtype: int64"
            ]
          },
          "metadata": {
            "tags": []
          },
          "execution_count": 13
        }
      ]
    },
    {
      "cell_type": "code",
      "metadata": {
        "id": "8r-vMhPGZlsf",
        "colab_type": "code",
        "outputId": "d70393d4-e429-461d-b5ef-9a36beab0bb7",
        "colab": {
          "base_uri": "https://localhost:8080/",
          "height": 168
        }
      },
      "source": [
        "data.groupby('alex-a').count()"
      ],
      "execution_count": 14,
      "outputs": [
        {
          "output_type": "execute_result",
          "data": {
            "text/html": [
              "<div>\n",
              "<style scoped>\n",
              "    .dataframe tbody tr th:only-of-type {\n",
              "        vertical-align: middle;\n",
              "    }\n",
              "\n",
              "    .dataframe tbody tr th {\n",
              "        vertical-align: top;\n",
              "    }\n",
              "\n",
              "    .dataframe thead th {\n",
              "        text-align: right;\n",
              "    }\n",
              "</style>\n",
              "<table border=\"1\" class=\"dataframe\">\n",
              "  <thead>\n",
              "    <tr style=\"text-align: right;\">\n",
              "      <th></th>\n",
              "      <th>Text</th>\n",
              "    </tr>\n",
              "    <tr>\n",
              "      <th>alex-a</th>\n",
              "      <th></th>\n",
              "    </tr>\n",
              "  </thead>\n",
              "  <tbody>\n",
              "    <tr>\n",
              "      <th>Alex</th>\n",
              "      <td>31</td>\n",
              "    </tr>\n",
              "    <tr>\n",
              "      <th>NoAlex</th>\n",
              "      <td>242</td>\n",
              "    </tr>\n",
              "    <tr>\n",
              "      <th>PosAlex</th>\n",
              "      <td>45</td>\n",
              "    </tr>\n",
              "  </tbody>\n",
              "</table>\n",
              "</div>"
            ],
            "text/plain": [
              "         Text\n",
              "alex-a       \n",
              "Alex       31\n",
              "NoAlex    242\n",
              "PosAlex    45"
            ]
          },
          "metadata": {
            "tags": []
          },
          "execution_count": 14
        }
      ]
    },
    {
      "cell_type": "code",
      "metadata": {
        "id": "Q13Jz2fMpxkU",
        "colab_type": "code",
        "colab": {}
      },
      "source": [
        "# Join alexithymia and possible alexithymia as one positive class\n",
        "#data['alex-a'] = data['alex-a'].apply(lambda x: x.replace('PosAlex', 'NoAlex'))\n",
        "# data['alex-a'] = data['alex-a'].apply(lambda x: x.replace('PosAlex', 'Alex'))"
      ],
      "execution_count": 0,
      "outputs": []
    },
    {
      "cell_type": "code",
      "metadata": {
        "id": "KSesjH48Z-pO",
        "colab_type": "code",
        "outputId": "6b1e49fb-d240-4ddd-b922-11df9356dbc0",
        "colab": {
          "base_uri": "https://localhost:8080/",
          "height": 168
        }
      },
      "source": [
        "data.groupby('alex-a').count()"
      ],
      "execution_count": 16,
      "outputs": [
        {
          "output_type": "execute_result",
          "data": {
            "text/html": [
              "<div>\n",
              "<style scoped>\n",
              "    .dataframe tbody tr th:only-of-type {\n",
              "        vertical-align: middle;\n",
              "    }\n",
              "\n",
              "    .dataframe tbody tr th {\n",
              "        vertical-align: top;\n",
              "    }\n",
              "\n",
              "    .dataframe thead th {\n",
              "        text-align: right;\n",
              "    }\n",
              "</style>\n",
              "<table border=\"1\" class=\"dataframe\">\n",
              "  <thead>\n",
              "    <tr style=\"text-align: right;\">\n",
              "      <th></th>\n",
              "      <th>Text</th>\n",
              "    </tr>\n",
              "    <tr>\n",
              "      <th>alex-a</th>\n",
              "      <th></th>\n",
              "    </tr>\n",
              "  </thead>\n",
              "  <tbody>\n",
              "    <tr>\n",
              "      <th>Alex</th>\n",
              "      <td>31</td>\n",
              "    </tr>\n",
              "    <tr>\n",
              "      <th>NoAlex</th>\n",
              "      <td>242</td>\n",
              "    </tr>\n",
              "    <tr>\n",
              "      <th>PosAlex</th>\n",
              "      <td>45</td>\n",
              "    </tr>\n",
              "  </tbody>\n",
              "</table>\n",
              "</div>"
            ],
            "text/plain": [
              "         Text\n",
              "alex-a       \n",
              "Alex       31\n",
              "NoAlex    242\n",
              "PosAlex    45"
            ]
          },
          "metadata": {
            "tags": []
          },
          "execution_count": 16
        }
      ]
    },
    {
      "cell_type": "code",
      "metadata": {
        "id": "0CcfODD0bRr5",
        "colab_type": "code",
        "colab": {}
      },
      "source": [
        "# Cleanining text\n",
        "\n",
        "import unicodedata\n",
        "def strip_accents(s):\n",
        "   return ''.join(c for c in unicodedata.normalize('NFD', s)\n",
        "                  if unicodedata.category(c) != 'Mn')\n",
        "\n",
        "def remove_accents(input_str):\n",
        "    nfkd_form = unicodedata.normalize('NFKD', input_str)\n",
        "    return u\"\".join([c for c in nfkd_form if not unicodedata.combining(c)])\n",
        "                    "
      ],
      "execution_count": 0,
      "outputs": []
    },
    {
      "cell_type": "code",
      "metadata": {
        "id": "3cbIoWA9aDGI",
        "colab_type": "code",
        "colab": {}
      },
      "source": [
        "# Cleanining text\n",
        "\n",
        "data['Text'] = data['Text'].apply(lambda x: remove_accents(x))\n",
        "data['Text'] = data['Text'].apply(lambda x: x.lower())\n",
        "data['Text'] = data['Text'].apply((lambda x: re.sub('[^ña-zA-z0-9\\s]', '', x)))"
      ],
      "execution_count": 0,
      "outputs": []
    },
    {
      "cell_type": "code",
      "metadata": {
        "id": "LmOc2z-maNt1",
        "colab_type": "code",
        "outputId": "df5fb541-0451-4d76-eaaa-635365fc1f3a",
        "colab": {
          "base_uri": "https://localhost:8080/",
          "height": 469
        }
      },
      "source": [
        "data.tail(n=14)"
      ],
      "execution_count": 19,
      "outputs": [
        {
          "output_type": "execute_result",
          "data": {
            "text/html": [
              "<div>\n",
              "<style scoped>\n",
              "    .dataframe tbody tr th:only-of-type {\n",
              "        vertical-align: middle;\n",
              "    }\n",
              "\n",
              "    .dataframe tbody tr th {\n",
              "        vertical-align: top;\n",
              "    }\n",
              "\n",
              "    .dataframe thead th {\n",
              "        text-align: right;\n",
              "    }\n",
              "</style>\n",
              "<table border=\"1\" class=\"dataframe\">\n",
              "  <thead>\n",
              "    <tr style=\"text-align: right;\">\n",
              "      <th></th>\n",
              "      <th>Text</th>\n",
              "      <th>alex-a</th>\n",
              "    </tr>\n",
              "  </thead>\n",
              "  <tbody>\n",
              "    <tr>\n",
              "      <th>320</th>\n",
              "      <td>una cascada</td>\n",
              "      <td>NoAlex</td>\n",
              "    </tr>\n",
              "    <tr>\n",
              "      <th>321</th>\n",
              "      <td>hombre llorando porque su mujer ha muerto</td>\n",
              "      <td>NoAlex</td>\n",
              "    </tr>\n",
              "    <tr>\n",
              "      <th>322</th>\n",
              "      <td>erase una vez un nino que debia acudir a clase...</td>\n",
              "      <td>NoAlex</td>\n",
              "    </tr>\n",
              "    <tr>\n",
              "      <th>323</th>\n",
              "      <td>varios hombres habian decidido descansar en me...</td>\n",
              "      <td>NoAlex</td>\n",
              "    </tr>\n",
              "    <tr>\n",
              "      <th>324</th>\n",
              "      <td>el fin del camino empedrado estaba cerca si te...</td>\n",
              "      <td>NoAlex</td>\n",
              "    </tr>\n",
              "    <tr>\n",
              "      <th>325</th>\n",
              "      <td>acababa de fallecer su mujer estaba desconsola...</td>\n",
              "      <td>NoAlex</td>\n",
              "    </tr>\n",
              "    <tr>\n",
              "      <th>326</th>\n",
              "      <td>erase una vez un nino al que no le gustaba la ...</td>\n",
              "      <td>Alex</td>\n",
              "    </tr>\n",
              "    <tr>\n",
              "      <th>327</th>\n",
              "      <td>erase una vez un campesino que durante las hor...</td>\n",
              "      <td>Alex</td>\n",
              "    </tr>\n",
              "    <tr>\n",
              "      <th>328</th>\n",
              "      <td>erase una ve un lugar maravilloso donde la man...</td>\n",
              "      <td>Alex</td>\n",
              "    </tr>\n",
              "    <tr>\n",
              "      <th>329</th>\n",
              "      <td>erase una vez un hombre que no amaba a su muje...</td>\n",
              "      <td>Alex</td>\n",
              "    </tr>\n",
              "    <tr>\n",
              "      <th>330</th>\n",
              "      <td>el nino estaba sangrando por la boca porque se...</td>\n",
              "      <td>PosAlex</td>\n",
              "    </tr>\n",
              "    <tr>\n",
              "      <th>331</th>\n",
              "      <td>se habian pasado todo el dia corriendo y jugan...</td>\n",
              "      <td>PosAlex</td>\n",
              "    </tr>\n",
              "    <tr>\n",
              "      <th>332</th>\n",
              "      <td>hay unos toros que estan enfadados y se prepar...</td>\n",
              "      <td>PosAlex</td>\n",
              "    </tr>\n",
              "    <tr>\n",
              "      <th>333</th>\n",
              "      <td>un senor que se arrepiente de haber matado a s...</td>\n",
              "      <td>PosAlex</td>\n",
              "    </tr>\n",
              "  </tbody>\n",
              "</table>\n",
              "</div>"
            ],
            "text/plain": [
              "                                                  Text   alex-a\n",
              "320                                        una cascada   NoAlex\n",
              "321          hombre llorando porque su mujer ha muerto   NoAlex\n",
              "322  erase una vez un nino que debia acudir a clase...   NoAlex\n",
              "323  varios hombres habian decidido descansar en me...   NoAlex\n",
              "324  el fin del camino empedrado estaba cerca si te...   NoAlex\n",
              "325  acababa de fallecer su mujer estaba desconsola...   NoAlex\n",
              "326  erase una vez un nino al que no le gustaba la ...     Alex\n",
              "327  erase una vez un campesino que durante las hor...     Alex\n",
              "328  erase una ve un lugar maravilloso donde la man...     Alex\n",
              "329  erase una vez un hombre que no amaba a su muje...     Alex\n",
              "330  el nino estaba sangrando por la boca porque se...  PosAlex\n",
              "331  se habian pasado todo el dia corriendo y jugan...  PosAlex\n",
              "332  hay unos toros que estan enfadados y se prepar...  PosAlex\n",
              "333  un senor que se arrepiente de haber matado a s...  PosAlex"
            ]
          },
          "metadata": {
            "tags": []
          },
          "execution_count": 19
        }
      ]
    },
    {
      "cell_type": "code",
      "metadata": {
        "id": "jn0rmqyfo2xT",
        "colab_type": "code",
        "outputId": "02f523e5-ea62-415c-844c-3d7574296f3f",
        "colab": {
          "base_uri": "https://localhost:8080/",
          "height": 69
        }
      },
      "source": [
        "nb_alex = data[data['alex-a'] == 'Alex'].size\n",
        "nb_no_alex = data[data['alex-a'] == 'NoAlex'].size\n",
        "nb_pos_alex = data[data['alex-a'] == 'PosAlex'].size\n",
        "\n",
        "\n",
        "print(f\"There are {nb_alex} positive intances of alexithymia or possible alexithymia.\")\n",
        "print(f\"There are {nb_no_alex} negative instances, no alexithymia detected\")\n",
        "print(f\"There are {nb_pos_alex} possible instances, possible alexithymia detected\")\n"
      ],
      "execution_count": 20,
      "outputs": [
        {
          "output_type": "stream",
          "text": [
            "There are 62 positive intances of alexithymia or possible alexithymia.\n",
            "There are 484 negative instances, no alexithymia detected\n",
            "There are 90 possible instances, possible alexithymia detected\n"
          ],
          "name": "stdout"
        }
      ]
    },
    {
      "cell_type": "code",
      "metadata": {
        "id": "30mwFlQxpEsM",
        "colab_type": "code",
        "colab": {}
      },
      "source": [
        "# Keras vectorization of the text corpus \n",
        "max_features = 2000\n",
        "\n",
        "tokenizer = Tokenizer(num_words=max_features, split=' ')\n",
        "tokenizer.fit_on_texts(data['Text'].values)\n",
        "\n",
        "X = tokenizer.texts_to_sequences(data['Text'].values)"
      ],
      "execution_count": 0,
      "outputs": []
    },
    {
      "cell_type": "code",
      "metadata": {
        "id": "Kb2WFuPQc6F2",
        "colab_type": "code",
        "outputId": "c05dc90e-9a32-4e01-908e-0de36e46a4b7",
        "colab": {
          "base_uri": "https://localhost:8080/",
          "height": 72
        }
      },
      "source": [
        "print(f\"Text: {data['Text'][1]}. Vector: {X[1]}\") \n",
        "print(f\"Text: {data['Text'][2]}. Vector: {X[2]}\") "
      ],
      "execution_count": 22,
      "outputs": [
        {
          "output_type": "stream",
          "text": [
            "Text: una madre que esta consolando a su hijo despues de darle las notas que ha sacado no se cuantos insuficientes. Vector: [8, 160, 1, 16, 870, 5, 11, 125, 45, 2, 871, 18, 397, 1, 38, 872, 12, 10, 539, 873]\n",
            "Text: un pantanal con una barca abandonada a ver que estan haciendo los de la barca buscar setas. Vector: [4, 874, 14, 8, 161, 540, 5, 112, 1, 39, 126, 19, 2, 7, 161, 212, 875]\n"
          ],
          "name": "stdout"
        }
      ]
    },
    {
      "cell_type": "code",
      "metadata": {
        "id": "pDYSX-UZc4cm",
        "colab_type": "code",
        "colab": {}
      },
      "source": [
        "# Make sure we have the same length in all document vector\n",
        "X = pad_sequences(X)"
      ],
      "execution_count": 0,
      "outputs": []
    },
    {
      "cell_type": "code",
      "metadata": {
        "id": "ntj4AsOqrv_E",
        "colab_type": "code",
        "outputId": "f105f735-3d32-41c8-d143-bd99a1211acd",
        "colab": {
          "base_uri": "https://localhost:8080/",
          "height": 536
        }
      },
      "source": [
        "print(f\"Vector Length: {len(X[1])}\")\n",
        "print(X[1])\n",
        "print(f\"Vector Length: {len(X[131])}\")\n",
        "print(X[131])\n",
        "print(f\"Vector Length: {len(X[3])}\")\n",
        "print(X[3])"
      ],
      "execution_count": 24,
      "outputs": [
        {
          "output_type": "stream",
          "text": [
            "Vector Length: 162\n",
            "[  0   0   0   0   0   0   0   0   0   0   0   0   0   0   0   0   0   0\n",
            "   0   0   0   0   0   0   0   0   0   0   0   0   0   0   0   0   0   0\n",
            "   0   0   0   0   0   0   0   0   0   0   0   0   0   0   0   0   0   0\n",
            "   0   0   0   0   0   0   0   0   0   0   0   0   0   0   0   0   0   0\n",
            "   0   0   0   0   0   0   0   0   0   0   0   0   0   0   0   0   0   0\n",
            "   0   0   0   0   0   0   0   0   0   0   0   0   0   0   0   0   0   0\n",
            "   0   0   0   0   0   0   0   0   0   0   0   0   0   0   0   0   0   0\n",
            "   0   0   0   0   0   0   0   0   0   0   0   0   0   0   0   0   8 160\n",
            "   1  16 870   5  11 125  45   2 871  18 397   1  38 872  12  10 539 873]\n",
            "Vector Length: 162\n",
            "[  0   0   0   0   0   0   0   0   0   0   0   0   0   0   0   0   0   0\n",
            "   0   0   0   0   0   0   0   0   0   0   0   0   0   0   0   0   0   0\n",
            "   0   0   0   0   0   0   0   0   0   0   0   0   0   0   0   0   0   0\n",
            "   0   0   0   0   0   0   0   0   0   0   0   0   0   0   0   0   0   0\n",
            "   0   0   0   0   0   0   0   0   0   0   0   0   0   0   0   0   0   0\n",
            "   0   0   0   0   0   0   0   0   0   0   0   0   0   0   0   0   0   0\n",
            "   0   0   0   0   0   0   0   0   0   0   0   0   0   0   0   0   0   0\n",
            "   0   0   0   0   0   0   0   0   0   0   0   0   0   0   0   0   0   0\n",
            "   0   0   0   0   0   0   0   0   4  62   2  88  82 105   2 337  23  74]\n",
            "Vector Length: 162\n",
            "[  0   0   0   0   0   0   0   0   0   0   0   0   0   0   0   0   0   0\n",
            "   0   0   0   0   0   0   0   0   0   0   0   0   0   0   0   0   0   0\n",
            "   0   0   0   0   0   0   0   0   0   0   0   0   0   0   0   0   0   0\n",
            "   0   0   0   0   0   0   0   0   0   0   0   0   0   0   0   0   0   0\n",
            "   0   0   0   0   0   0   0   0   0   0   0   0   0   0   0   0   0   0\n",
            "   0   0   0   0   0   0   0   0   0   0   0   0   0   0   0   0   0   0\n",
            "   0   0   0   0   0   0   0   0   0  35   4 541  36 398  14   8 161   4\n",
            " 162 399  14 298 876 542  25  35  68  28  12  33 213  63   1   4  34 543\n",
            "  42 877   1 400   3  23 214 543  42 299   3  10 401   5 544 878   3 398]\n"
          ],
          "name": "stdout"
        }
      ]
    },
    {
      "cell_type": "code",
      "metadata": {
        "id": "_U24pHVDrokb",
        "colab_type": "code",
        "colab": {}
      },
      "source": [
        "# One HOT encoding for alexithymia label\n",
        "# and the values in Y. \n",
        "\n",
        "Y = pd.get_dummies(data['alex-a']).values"
      ],
      "execution_count": 0,
      "outputs": []
    },
    {
      "cell_type": "code",
      "metadata": {
        "id": "DDFD7M-TYoQh",
        "colab_type": "code",
        "outputId": "41b51103-2c79-46e9-fc94-74c0b303b5eb",
        "colab": {
          "base_uri": "https://localhost:8080/",
          "height": 52
        }
      },
      "source": [
        "# Train / Test partitions (90/10)\n",
        "\n",
        "X_train, X_test, Y_train, Y_test = train_test_split(X,Y, test_size = 0.20, random_state = 42)\n",
        "\n",
        "print(f\"Train shape. Feature Vector:{X_train.shape}, Label:{Y_train.shape} (binary classification)\")\n",
        "print(f\"Test shape. Feature Vector: {X_test.shape}, Label:{Y_test.shape} (binary classification)\")"
      ],
      "execution_count": 26,
      "outputs": [
        {
          "output_type": "stream",
          "text": [
            "Train shape. Feature Vector:(254, 162), Label:(254, 3) (binary classification)\n",
            "Test shape. Feature Vector: (64, 162), Label:(64, 3) (binary classification)\n"
          ],
          "name": "stdout"
        }
      ]
    },
    {
      "cell_type": "code",
      "metadata": {
        "id": "Fw3HeaJo2i91",
        "colab_type": "code",
        "colab": {}
      },
      "source": [
        "# define roc_callback, inspired by https://github.com/keras-team/keras/issues/6050#issuecomment-329996505\n",
        "def auc_roc(y_true, y_pred):\n",
        "    # any tensorflow metric\n",
        "    value, update_op = tf.contrib.metrics.streaming_auc(y_pred, y_true)\n",
        "\n",
        "    # find all variables created for this metric\n",
        "    metric_vars = [i for i in tf.local_variables() if 'auc_roc' in i.name.split('/')[1]]\n",
        "\n",
        "    # Add metric variables to GLOBAL_VARIABLES collection.\n",
        "    # They will be initialized for new session.\n",
        "    for v in metric_vars:\n",
        "        tf.add_to_collection(tf.GraphKeys.GLOBAL_VARIABLES, v)\n",
        "\n",
        "    # force to update metric values\n",
        "    with tf.control_dependencies([update_op]):\n",
        "        value = tf.identity(value)\n",
        "        return value"
      ],
      "execution_count": 0,
      "outputs": []
    },
    {
      "cell_type": "code",
      "metadata": {
        "id": "u9I9nXBhsTF7",
        "colab_type": "code",
        "outputId": "0e85c7a7-9afb-4065-ddf6-d84e372e6384",
        "colab": {
          "base_uri": "https://localhost:8080/",
          "height": 294
        }
      },
      "source": [
        "# Deep RNN Model Definition:\n",
        "# Embedding -> Dropout -> LSTM -> Dense \n",
        "\n",
        "embed_dim = 128\n",
        "lstm_out = 196\n",
        "\n",
        "model = Sequential()\n",
        "model.add(Embedding(max_features, embed_dim, input_length = X.shape[1]))\n",
        "model.add(SpatialDropout1D(0.4))\n",
        "model.add(LSTM(lstm_out, dropout=0.2, recurrent_dropout=0.2))\n",
        "model.add(Dense(3,activation='softmax'))\n",
        "model.compile(loss = 'categorical_crossentropy', optimizer='adam',metrics = ['accuracy', auc_roc])\n",
        "print(model.summary())"
      ],
      "execution_count": 31,
      "outputs": [
        {
          "output_type": "stream",
          "text": [
            "_________________________________________________________________\n",
            "Layer (type)                 Output Shape              Param #   \n",
            "=================================================================\n",
            "embedding_2 (Embedding)      (None, 162, 128)          256000    \n",
            "_________________________________________________________________\n",
            "spatial_dropout1d_2 (Spatial (None, 162, 128)          0         \n",
            "_________________________________________________________________\n",
            "lstm_2 (LSTM)                (None, 196)               254800    \n",
            "_________________________________________________________________\n",
            "dense_2 (Dense)              (None, 3)                 591       \n",
            "=================================================================\n",
            "Total params: 511,391\n",
            "Trainable params: 511,391\n",
            "Non-trainable params: 0\n",
            "_________________________________________________________________\n",
            "None\n"
          ],
          "name": "stdout"
        }
      ]
    },
    {
      "cell_type": "code",
      "metadata": {
        "id": "Hn0OCo8S2ya4",
        "colab_type": "code",
        "colab": {}
      },
      "source": [
        "from keras.callbacks import Callback, EarlyStopping\n",
        "\n",
        "my_callbacks = [EarlyStopping(monitor='auc_roc', patience=300, verbose=1, mode='max')]"
      ],
      "execution_count": 0,
      "outputs": []
    },
    {
      "cell_type": "code",
      "metadata": {
        "id": "mOKl__45sfUa",
        "colab_type": "code",
        "outputId": "dedc6ce2-4fa1-419f-815f-a29e51a948af",
        "colab": {
          "base_uri": "https://localhost:8080/",
          "height": 625
        }
      },
      "source": [
        "# Train the model\n",
        "batch_size = 32\n",
        "model.fit(X_train, Y_train, epochs = 15, batch_size=batch_size, verbose = 2, callbacks=my_callbacks)"
      ],
      "execution_count": 33,
      "outputs": [
        {
          "output_type": "stream",
          "text": [
            "WARNING:tensorflow:From /usr/local/lib/python3.6/dist-packages/tensorflow/python/ops/math_ops.py:3066: to_int32 (from tensorflow.python.ops.math_ops) is deprecated and will be removed in a future version.\n",
            "Instructions for updating:\n",
            "Use tf.cast instead.\n",
            "Epoch 1/15\n",
            " - 3s - loss: 1.0117 - acc: 0.6929 - auc_roc: 0.6313\n",
            "Epoch 2/15\n",
            " - 2s - loss: 0.7328 - acc: 0.7835 - auc_roc: 0.8282\n",
            "Epoch 3/15\n",
            " - 2s - loss: 0.6986 - acc: 0.7835 - auc_roc: 0.8370\n",
            "Epoch 4/15\n",
            " - 2s - loss: 0.6685 - acc: 0.7835 - auc_roc: 0.8359\n",
            "Epoch 5/15\n",
            " - 2s - loss: 0.6445 - acc: 0.7835 - auc_roc: 0.8442\n",
            "Epoch 6/15\n",
            " - 2s - loss: 0.6238 - acc: 0.7835 - auc_roc: 0.8497\n",
            "Epoch 7/15\n",
            " - 2s - loss: 0.5897 - acc: 0.7835 - auc_roc: 0.8566\n",
            "Epoch 8/15\n",
            " - 2s - loss: 0.5470 - acc: 0.7835 - auc_roc: 0.8683\n",
            "Epoch 9/15\n",
            " - 2s - loss: 0.4955 - acc: 0.7953 - auc_roc: 0.8771\n",
            "Epoch 10/15\n",
            " - 2s - loss: 0.3750 - acc: 0.8386 - auc_roc: 0.8878\n",
            "Epoch 11/15\n",
            " - 2s - loss: 0.2997 - acc: 0.9016 - auc_roc: 0.8982\n",
            "Epoch 12/15\n",
            " - 2s - loss: 0.2284 - acc: 0.9331 - auc_roc: 0.9091\n",
            "Epoch 13/15\n",
            " - 2s - loss: 0.2078 - acc: 0.9409 - auc_roc: 0.9183\n",
            "Epoch 14/15\n",
            " - 2s - loss: 0.1640 - acc: 0.9488 - auc_roc: 0.9264\n",
            "Epoch 15/15\n",
            " - 2s - loss: 0.1368 - acc: 0.9567 - auc_roc: 0.9333\n"
          ],
          "name": "stdout"
        },
        {
          "output_type": "execute_result",
          "data": {
            "text/plain": [
              "<keras.callbacks.History at 0x7fcbe8db7c88>"
            ]
          },
          "metadata": {
            "tags": []
          },
          "execution_count": 33
        }
      ]
    },
    {
      "cell_type": "code",
      "metadata": {
        "id": "4anoHMhai9O4",
        "colab_type": "code",
        "colab": {}
      },
      "source": [
        "print(X_test.shape)\n",
        "print(Y_test.shape)\n",
        "print(f\"Test shape. Feature Vector: {X_test.shape}, Label:{Y_test.shape} (binary classification)\")"
      ],
      "execution_count": 0,
      "outputs": []
    },
    {
      "cell_type": "code",
      "metadata": {
        "id": "_bzk9E7gsoK9",
        "colab_type": "code",
        "outputId": "481764e1-cdff-4617-b491-d10b2692741c",
        "colab": {
          "base_uri": "https://localhost:8080/",
          "height": 86
        }
      },
      "source": [
        "# validation_size = 2\n",
        "\n",
        "# X_validate = X_test[-validation_size:]\n",
        "# Y_validate = Y_test[-validation_size:]\n",
        "# X_test = X_test[:-validation_size]\n",
        "# Y_test = Y_test[:-validation_size]\n",
        "\n",
        "score,acc,auc = model.evaluate(X_test, Y_test, verbose = 2, batch_size = batch_size)\n",
        "\n",
        "print(model.metrics_names)\n",
        "print(\"score: %.2f\" % (score))\n",
        "print(\"acc: %.2f\" % (acc))\n",
        "print(\"auc: %.2f\" % (auc))"
      ],
      "execution_count": 34,
      "outputs": [
        {
          "output_type": "stream",
          "text": [
            "['loss', 'acc', 'auc_roc']\n",
            "score: 1.29\n",
            "acc: 0.64\n",
            "auc: 0.94\n"
          ],
          "name": "stdout"
        }
      ]
    },
    {
      "cell_type": "code",
      "metadata": {
        "id": "MtscSHqVtLL2",
        "colab_type": "code",
        "colab": {}
      },
      "source": [
        "narratives = [' un niño al que sus padres de clase acomodada le dijeron que tenía que aprender a tocar el violín y el niño lo odiaba.', \n",
        "             'Hay unos toros que están enfadados y se preparan para atacar. Van a bajar todos corriendo por la cuesta y si pillan a alguien lo más seguro que es que lo maten.',\n",
        "             'Varios hombres se encuentran echando una siesta en su pausa para el almuerzo. Bajo un sol y calor de justicia, la parada se agradece tremendamente. Las horas de trabajo físico en el campo se hacen largas y cansadas para ganar un jornal que a duras penas les permite llegar a final de mes. Sólo esperan coger fuerzas durante el descanso para terminar la jornada lo antes posible.',\n",
        "             'un hombre que mata a su amante porque ella le amenazó con contárselo a su mujer si este no se iba con ella..',\n",
        "             'tanto me han apretado con lo de las clases extraescolares, que he desarrollado el superpoder de tocar el violín con la mente, mientras los demás compañeros se dejan el cuello sujetando el violín, yo lo toco mandándole órdenes cerebrales al instrumento, el primer día que lo conseguí el profesor me dió una colleja pensando que dormía, cuando empezó a sonar se asustó tanto que ya ni se me acerca, ahora aprovecho las clases de violín para tocar con la mente y para dormir a intervalos con la certeza de que la mente del profesor no va a decirle a su mano que me ajusticie. Cada uno a lo suyo. Fin',\n",
        "             'Se levantó y vio que nada podía ser más bello y nadie podría contemplarlo igual']\n",
        "p_narratives =[]\n",
        "\n",
        "for text in narratives:\n",
        "  p_narratives.append(remove_accents(text).lower())\n",
        "  \n",
        "\n",
        "print(p_narratives)"
      ],
      "execution_count": 0,
      "outputs": []
    },
    {
      "cell_type": "code",
      "metadata": {
        "id": "RA2cazeLldxH",
        "colab_type": "code",
        "colab": {}
      },
      "source": [
        "# vectorizing the text by the pre-fitted tokenizer instance\n",
        "\n",
        "pp_narratives = tokenizer.texts_to_sequences(p_narratives)\n",
        "\n",
        "print(pp_narratives)"
      ],
      "execution_count": 0,
      "outputs": []
    },
    {
      "cell_type": "code",
      "metadata": {
        "id": "ZzP3ymEIs4Or",
        "colab_type": "code",
        "colab": {}
      },
      "source": [
        "# Padding the tweet to have exactly the same shape as `embedding_2` input\n",
        "\n",
        "pp_narratives = pad_sequences(pp_narratives, maxlen=162, dtype='int32', value=0)\n",
        "print(pp_narratives)\n"
      ],
      "execution_count": 0,
      "outputs": []
    },
    {
      "cell_type": "code",
      "metadata": {
        "id": "PIUSrlAQl8nF",
        "colab_type": "code",
        "colab": {}
      },
      "source": [
        "# Testing the predictive model\n",
        "alex_screening = model.predict(pp_narratives, batch_size=1, verbose = 2)\n",
        "text_idx = 0 \n",
        "for prediction in alex_screening:\n",
        "  # print(prediction)\n",
        "  print(\"NARRATIVE: \" + narratives[text_idx])\n",
        "  text_idx += 1\n",
        "  if(np.argmax(prediction) == 0):\n",
        "      print(\"PREDICTION: negative: No Alexithymia.\")\n",
        "  elif (np.argmax(prediction) == 1):\n",
        "    print(\"PREDICTION: positive: Possible Alexithymia.\")\n",
        "  print(\"-----------------\")"
      ],
      "execution_count": 0,
      "outputs": []
    },
    {
      "cell_type": "code",
      "metadata": {
        "id": "SiMaKzHOmKQl",
        "colab_type": "code",
        "colab": {}
      },
      "source": [
        ""
      ],
      "execution_count": 0,
      "outputs": []
    }
  ]
}