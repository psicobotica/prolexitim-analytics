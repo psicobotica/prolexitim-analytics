{
  "nbformat": 4,
  "nbformat_minor": 0,
  "metadata": {
    "colab": {
      "name": "ProlexitimDetector-LSTM-v1.ipynb",
      "version": "0.3.2",
      "provenance": [],
      "collapsed_sections": []
    },
    "kernelspec": {
      "name": "python3",
      "display_name": "Python 3"
    },
    "accelerator": "GPU"
  },
  "cells": [
    {
      "cell_type": "code",
      "metadata": {
        "id": "0ufuuEwohSFL",
        "colab_type": "code",
        "outputId": "b5d45e44-6d42-4bc7-f9ff-f376c1c68fdf",
        "colab": {
          "base_uri": "https://localhost:8080/",
          "height": 124
        }
      },
      "source": [
        "from google.colab import drive\n",
        "drive.mount('/content/gdrive')"
      ],
      "execution_count": 1,
      "outputs": [
        {
          "output_type": "stream",
          "text": [
            "Go to this URL in a browser: https://accounts.google.com/o/oauth2/auth?client_id=947318989803-6bn6qk8qdgf4n4g3pfee6491hc0brc4i.apps.googleusercontent.com&redirect_uri=urn%3Aietf%3Awg%3Aoauth%3A2.0%3Aoob&scope=email%20https%3A%2F%2Fwww.googleapis.com%2Fauth%2Fdocs.test%20https%3A%2F%2Fwww.googleapis.com%2Fauth%2Fdrive%20https%3A%2F%2Fwww.googleapis.com%2Fauth%2Fdrive.photos.readonly%20https%3A%2F%2Fwww.googleapis.com%2Fauth%2Fpeopleapi.readonly&response_type=code\n",
            "\n",
            "Enter your authorization code:\n",
            "··········\n",
            "Mounted at /content/gdrive\n"
          ],
          "name": "stdout"
        }
      ]
    },
    {
      "cell_type": "code",
      "metadata": {
        "id": "c2q-ib7fhcto",
        "colab_type": "code",
        "colab": {}
      },
      "source": [
        "dataset_path = \"/content/gdrive/My Drive/datasets/tas-nlp/\""
      ],
      "execution_count": 0,
      "outputs": []
    },
    {
      "cell_type": "code",
      "metadata": {
        "id": "YLQe6X8Jfbsg",
        "colab_type": "code",
        "outputId": "510f340d-6c2c-445c-a0b6-63068d42e66a",
        "colab": {
          "base_uri": "https://localhost:8080/",
          "height": 69
        }
      },
      "source": [
        "import re\n",
        "\n",
        "import numpy as np\n",
        "import pandas as pd\n",
        "from sklearn.model_selection import train_test_split\n",
        "\n",
        "# TensorFlow and tf.keras\n",
        "import tensorflow as tf\n",
        "from tensorflow import keras\n",
        "\n",
        "from keras.preprocessing.text import Tokenizer\n",
        "from keras.preprocessing.sequence import pad_sequences\n",
        "from keras.models import Sequential\n",
        "from keras.layers import Dense, Embedding, LSTM, SpatialDropout1D\n",
        "from sklearn.model_selection import train_test_split\n",
        "from keras.utils.np_utils import to_categorical\n",
        "\n",
        "print('Keras       ', keras.__version__)\n",
        "print('TensorFlow  ', tf.__version__)"
      ],
      "execution_count": 3,
      "outputs": [
        {
          "output_type": "stream",
          "text": [
            "Keras        2.2.4-tf\n",
            "TensorFlow   1.13.1\n"
          ],
          "name": "stdout"
        },
        {
          "output_type": "stream",
          "text": [
            "Using TensorFlow backend.\n"
          ],
          "name": "stderr"
        }
      ]
    },
    {
      "cell_type": "code",
      "metadata": {
        "id": "j3SsAI1bfs-i",
        "colab_type": "code",
        "outputId": "0b0aa168-2e5d-421e-ae62-9227c6d5a13f",
        "colab": {
          "base_uri": "https://localhost:8080/",
          "height": 34
        }
      },
      "source": [
        "\n",
        "from tensorflow.python.client import device_lib\n",
        "\n",
        "def get_available_gpus():\n",
        "    local_device_protos = device_lib.list_local_devices()\n",
        "    return [x.name for x in local_device_protos if x.device_type == 'GPU']\n",
        "\n",
        "get_available_gpus()"
      ],
      "execution_count": 4,
      "outputs": [
        {
          "output_type": "execute_result",
          "data": {
            "text/plain": [
              "['/device:GPU:0']"
            ]
          },
          "metadata": {
            "tags": []
          },
          "execution_count": 4
        }
      ]
    },
    {
      "cell_type": "code",
      "metadata": {
        "id": "wqpul9DRlEzM",
        "colab_type": "code",
        "colab": {}
      },
      "source": [
        "# drive.mount(\"/content/gdrive\", force_remount=True)"
      ],
      "execution_count": 0,
      "outputs": []
    },
    {
      "cell_type": "code",
      "metadata": {
        "id": "OKI4Lf4am2Bb",
        "colab_type": "code",
        "outputId": "22fd371d-d922-481c-96a2-046a17fe89a1",
        "colab": {
          "base_uri": "https://localhost:8080/",
          "height": 54
        }
      },
      "source": [
        "! ls -la /content/gdrive/'My Drive'/datasets/tas-nlp/prolexitim-merged-1.3.csv\n",
        "      "
      ],
      "execution_count": 6,
      "outputs": [
        {
          "output_type": "stream",
          "text": [
            "-rw------- 1 root root 209682 May 13 09:39 '/content/gdrive/My Drive/datasets/tas-nlp/prolexitim-merged-1.3.csv'\n"
          ],
          "name": "stdout"
        }
      ]
    },
    {
      "cell_type": "code",
      "metadata": {
        "id": "2KaO7RIQfxFy",
        "colab_type": "code",
        "colab": {}
      },
      "source": [
        "tasnlp_df = pd.read_csv(dataset_path + \"prolexitim-merged-1.3.csv\", header=0, delimiter=\"\\t\")"
      ],
      "execution_count": 0,
      "outputs": []
    },
    {
      "cell_type": "code",
      "metadata": {
        "id": "2FM9tTSIkbSc",
        "colab_type": "code",
        "colab": {}
      },
      "source": [
        "# tasnlp_df.head()"
      ],
      "execution_count": 0,
      "outputs": []
    },
    {
      "cell_type": "code",
      "metadata": {
        "id": "PyoplxtmoTEj",
        "colab_type": "code",
        "colab": {}
      },
      "source": [
        "# We only need text and label\n",
        "data = tasnlp_df[['Text','alex-a']]"
      ],
      "execution_count": 0,
      "outputs": []
    },
    {
      "cell_type": "code",
      "metadata": {
        "id": "t-OPWEquo1Cy",
        "colab_type": "code",
        "outputId": "dd5dafaa-fe2c-43da-beeb-00f47f95e053",
        "colab": {
          "base_uri": "https://localhost:8080/",
          "height": 198
        }
      },
      "source": [
        "data.head()"
      ],
      "execution_count": 10,
      "outputs": [
        {
          "output_type": "execute_result",
          "data": {
            "text/html": [
              "<div>\n",
              "<style scoped>\n",
              "    .dataframe tbody tr th:only-of-type {\n",
              "        vertical-align: middle;\n",
              "    }\n",
              "\n",
              "    .dataframe tbody tr th {\n",
              "        vertical-align: top;\n",
              "    }\n",
              "\n",
              "    .dataframe thead th {\n",
              "        text-align: right;\n",
              "    }\n",
              "</style>\n",
              "<table border=\"1\" class=\"dataframe\">\n",
              "  <thead>\n",
              "    <tr style=\"text-align: right;\">\n",
              "      <th></th>\n",
              "      <th>Text</th>\n",
              "      <th>alex-a</th>\n",
              "    </tr>\n",
              "  </thead>\n",
              "  <tbody>\n",
              "    <tr>\n",
              "      <th>0</th>\n",
              "      <td>Era un niño pensando en el granero pensando a ...</td>\n",
              "      <td>NoAlex</td>\n",
              "    </tr>\n",
              "    <tr>\n",
              "      <th>1</th>\n",
              "      <td>Una madre que está consolando a su hijo, despu...</td>\n",
              "      <td>NoAlex</td>\n",
              "    </tr>\n",
              "    <tr>\n",
              "      <th>2</th>\n",
              "      <td>Un pantanal con una barca abandonada. A ver qu...</td>\n",
              "      <td>NoAlex</td>\n",
              "    </tr>\n",
              "    <tr>\n",
              "      <th>3</th>\n",
              "      <td>Era un paraje muy bonito, con una barca, un po...</td>\n",
              "      <td>Alex</td>\n",
              "    </tr>\n",
              "    <tr>\n",
              "      <th>4</th>\n",
              "      <td>Era una vez un matrimonio, que se quería muchí...</td>\n",
              "      <td>Alex</td>\n",
              "    </tr>\n",
              "  </tbody>\n",
              "</table>\n",
              "</div>"
            ],
            "text/plain": [
              "                                                Text  alex-a\n",
              "0  Era un niño pensando en el granero pensando a ...  NoAlex\n",
              "1  Una madre que está consolando a su hijo, despu...  NoAlex\n",
              "2  Un pantanal con una barca abandonada. A ver qu...  NoAlex\n",
              "3  Era un paraje muy bonito, con una barca, un po...    Alex\n",
              "4  Era una vez un matrimonio, que se quería muchí...    Alex"
            ]
          },
          "metadata": {
            "tags": []
          },
          "execution_count": 10
        }
      ]
    },
    {
      "cell_type": "code",
      "metadata": {
        "id": "ol5kMIP-qKgj",
        "colab_type": "code",
        "outputId": "7a639ce0-d825-49ff-f3ae-0da937342620",
        "colab": {
          "base_uri": "https://localhost:8080/",
          "height": 121
        }
      },
      "source": [
        "print(data.dtypes)\n",
        "print(data.count())"
      ],
      "execution_count": 11,
      "outputs": [
        {
          "output_type": "stream",
          "text": [
            "Text      object\n",
            "alex-a    object\n",
            "dtype: object\n",
            "Text      334\n",
            "alex-a    318\n",
            "dtype: int64\n"
          ],
          "name": "stdout"
        }
      ]
    },
    {
      "cell_type": "code",
      "metadata": {
        "id": "_45D3_b9q9M1",
        "colab_type": "code",
        "colab": {}
      },
      "source": [
        "data = data.dropna()"
      ],
      "execution_count": 0,
      "outputs": []
    },
    {
      "cell_type": "code",
      "metadata": {
        "id": "FYCGPHxjrEzk",
        "colab_type": "code",
        "outputId": "91b391b9-c52a-469b-f0f3-aa5311d0523b",
        "colab": {
          "base_uri": "https://localhost:8080/",
          "height": 69
        }
      },
      "source": [
        "data.count()"
      ],
      "execution_count": 13,
      "outputs": [
        {
          "output_type": "execute_result",
          "data": {
            "text/plain": [
              "Text      318\n",
              "alex-a    318\n",
              "dtype: int64"
            ]
          },
          "metadata": {
            "tags": []
          },
          "execution_count": 13
        }
      ]
    },
    {
      "cell_type": "code",
      "metadata": {
        "id": "8r-vMhPGZlsf",
        "colab_type": "code",
        "outputId": "c2ecfcee-cf77-4a23-fdae-06fd8257c5a0",
        "colab": {
          "base_uri": "https://localhost:8080/",
          "height": 168
        }
      },
      "source": [
        "data.groupby('alex-a').count()"
      ],
      "execution_count": 14,
      "outputs": [
        {
          "output_type": "execute_result",
          "data": {
            "text/html": [
              "<div>\n",
              "<style scoped>\n",
              "    .dataframe tbody tr th:only-of-type {\n",
              "        vertical-align: middle;\n",
              "    }\n",
              "\n",
              "    .dataframe tbody tr th {\n",
              "        vertical-align: top;\n",
              "    }\n",
              "\n",
              "    .dataframe thead th {\n",
              "        text-align: right;\n",
              "    }\n",
              "</style>\n",
              "<table border=\"1\" class=\"dataframe\">\n",
              "  <thead>\n",
              "    <tr style=\"text-align: right;\">\n",
              "      <th></th>\n",
              "      <th>Text</th>\n",
              "    </tr>\n",
              "    <tr>\n",
              "      <th>alex-a</th>\n",
              "      <th></th>\n",
              "    </tr>\n",
              "  </thead>\n",
              "  <tbody>\n",
              "    <tr>\n",
              "      <th>Alex</th>\n",
              "      <td>31</td>\n",
              "    </tr>\n",
              "    <tr>\n",
              "      <th>NoAlex</th>\n",
              "      <td>242</td>\n",
              "    </tr>\n",
              "    <tr>\n",
              "      <th>PosAlex</th>\n",
              "      <td>45</td>\n",
              "    </tr>\n",
              "  </tbody>\n",
              "</table>\n",
              "</div>"
            ],
            "text/plain": [
              "         Text\n",
              "alex-a       \n",
              "Alex       31\n",
              "NoAlex    242\n",
              "PosAlex    45"
            ]
          },
          "metadata": {
            "tags": []
          },
          "execution_count": 14
        }
      ]
    },
    {
      "cell_type": "code",
      "metadata": {
        "id": "Q13Jz2fMpxkU",
        "colab_type": "code",
        "colab": {}
      },
      "source": [
        "# Join alexithymia and possible alexithymia as one positive class\n",
        "data['alex-a'] = data['alex-a'].apply(lambda x: x.replace('PosAlex', 'Alex'))"
      ],
      "execution_count": 0,
      "outputs": []
    },
    {
      "cell_type": "code",
      "metadata": {
        "id": "KSesjH48Z-pO",
        "colab_type": "code",
        "outputId": "5ccca7a5-6b06-4a2c-b0c3-fc71a2ee8ddf",
        "colab": {
          "base_uri": "https://localhost:8080/",
          "height": 138
        }
      },
      "source": [
        "data.groupby('alex-a').count()"
      ],
      "execution_count": 16,
      "outputs": [
        {
          "output_type": "execute_result",
          "data": {
            "text/html": [
              "<div>\n",
              "<style scoped>\n",
              "    .dataframe tbody tr th:only-of-type {\n",
              "        vertical-align: middle;\n",
              "    }\n",
              "\n",
              "    .dataframe tbody tr th {\n",
              "        vertical-align: top;\n",
              "    }\n",
              "\n",
              "    .dataframe thead th {\n",
              "        text-align: right;\n",
              "    }\n",
              "</style>\n",
              "<table border=\"1\" class=\"dataframe\">\n",
              "  <thead>\n",
              "    <tr style=\"text-align: right;\">\n",
              "      <th></th>\n",
              "      <th>Text</th>\n",
              "    </tr>\n",
              "    <tr>\n",
              "      <th>alex-a</th>\n",
              "      <th></th>\n",
              "    </tr>\n",
              "  </thead>\n",
              "  <tbody>\n",
              "    <tr>\n",
              "      <th>Alex</th>\n",
              "      <td>76</td>\n",
              "    </tr>\n",
              "    <tr>\n",
              "      <th>NoAlex</th>\n",
              "      <td>242</td>\n",
              "    </tr>\n",
              "  </tbody>\n",
              "</table>\n",
              "</div>"
            ],
            "text/plain": [
              "        Text\n",
              "alex-a      \n",
              "Alex      76\n",
              "NoAlex   242"
            ]
          },
          "metadata": {
            "tags": []
          },
          "execution_count": 16
        }
      ]
    },
    {
      "cell_type": "code",
      "metadata": {
        "id": "0CcfODD0bRr5",
        "colab_type": "code",
        "colab": {}
      },
      "source": [
        "# Cleanining text\n",
        "\n",
        "import unicodedata\n",
        "def strip_accents(s):\n",
        "   return ''.join(c for c in unicodedata.normalize('NFD', s)\n",
        "                  if unicodedata.category(c) != 'Mn')\n",
        "\n",
        "def remove_accents(input_str):\n",
        "    nfkd_form = unicodedata.normalize('NFKD', input_str)\n",
        "    return u\"\".join([c for c in nfkd_form if not unicodedata.combining(c)])\n",
        "                    "
      ],
      "execution_count": 0,
      "outputs": []
    },
    {
      "cell_type": "code",
      "metadata": {
        "id": "3cbIoWA9aDGI",
        "colab_type": "code",
        "colab": {}
      },
      "source": [
        "# Cleanining text\n",
        "\n",
        "data['Text'] = data['Text'].apply(lambda x: remove_accents(x))\n",
        "data['Text'] = data['Text'].apply(lambda x: x.lower())\n",
        "data['Text'] = data['Text'].apply((lambda x: re.sub('[^ña-zA-z0-9\\s]', '', x)))"
      ],
      "execution_count": 0,
      "outputs": []
    },
    {
      "cell_type": "code",
      "metadata": {
        "id": "LmOc2z-maNt1",
        "colab_type": "code",
        "outputId": "f8332cf6-78c3-40b3-be36-9d0bb832593f",
        "colab": {
          "base_uri": "https://localhost:8080/",
          "height": 168
        }
      },
      "source": [
        "data.tail(n=4)"
      ],
      "execution_count": 19,
      "outputs": [
        {
          "output_type": "execute_result",
          "data": {
            "text/html": [
              "<div>\n",
              "<style scoped>\n",
              "    .dataframe tbody tr th:only-of-type {\n",
              "        vertical-align: middle;\n",
              "    }\n",
              "\n",
              "    .dataframe tbody tr th {\n",
              "        vertical-align: top;\n",
              "    }\n",
              "\n",
              "    .dataframe thead th {\n",
              "        text-align: right;\n",
              "    }\n",
              "</style>\n",
              "<table border=\"1\" class=\"dataframe\">\n",
              "  <thead>\n",
              "    <tr style=\"text-align: right;\">\n",
              "      <th></th>\n",
              "      <th>Text</th>\n",
              "      <th>alex-a</th>\n",
              "    </tr>\n",
              "  </thead>\n",
              "  <tbody>\n",
              "    <tr>\n",
              "      <th>330</th>\n",
              "      <td>el nino estaba sangrando por la boca porque se...</td>\n",
              "      <td>Alex</td>\n",
              "    </tr>\n",
              "    <tr>\n",
              "      <th>331</th>\n",
              "      <td>se habian pasado todo el dia corriendo y jugan...</td>\n",
              "      <td>Alex</td>\n",
              "    </tr>\n",
              "    <tr>\n",
              "      <th>332</th>\n",
              "      <td>hay unos toros que estan enfadados y se prepar...</td>\n",
              "      <td>Alex</td>\n",
              "    </tr>\n",
              "    <tr>\n",
              "      <th>333</th>\n",
              "      <td>un senor que se arrepiente de haber matado a s...</td>\n",
              "      <td>Alex</td>\n",
              "    </tr>\n",
              "  </tbody>\n",
              "</table>\n",
              "</div>"
            ],
            "text/plain": [
              "                                                  Text alex-a\n",
              "330  el nino estaba sangrando por la boca porque se...   Alex\n",
              "331  se habian pasado todo el dia corriendo y jugan...   Alex\n",
              "332  hay unos toros que estan enfadados y se prepar...   Alex\n",
              "333  un senor que se arrepiente de haber matado a s...   Alex"
            ]
          },
          "metadata": {
            "tags": []
          },
          "execution_count": 19
        }
      ]
    },
    {
      "cell_type": "code",
      "metadata": {
        "id": "jn0rmqyfo2xT",
        "colab_type": "code",
        "outputId": "85abf7c6-4b9d-40b2-b350-9370b9812ff5",
        "colab": {
          "base_uri": "https://localhost:8080/",
          "height": 52
        }
      },
      "source": [
        "nb_alex = data[data['alex-a'] == 'Alex'].size\n",
        "nb_no_alex = data[data['alex-a'] == 'NoAlex'].size\n",
        "\n",
        "\n",
        "print(f\"There are {nb_alex} positive intances of alexithymia or possible alexithymia.\")\n",
        "print(f\"There are {nb_no_alex} negative instances, no alexithymia detected\")\n"
      ],
      "execution_count": 20,
      "outputs": [
        {
          "output_type": "stream",
          "text": [
            "There are 152 positive intances of alexithymia or possible alexithymia.\n",
            "There are 484 negative instances, no alexithymia detected\n"
          ],
          "name": "stdout"
        }
      ]
    },
    {
      "cell_type": "code",
      "metadata": {
        "id": "30mwFlQxpEsM",
        "colab_type": "code",
        "colab": {}
      },
      "source": [
        "# Keras vectorization of the text corpus \n",
        "max_features = 2000\n",
        "\n",
        "tokenizer = Tokenizer(num_words=max_features, split=' ')\n",
        "tokenizer.fit_on_texts(data['Text'].values)\n",
        "\n",
        "X = tokenizer.texts_to_sequences(data['Text'].values)"
      ],
      "execution_count": 0,
      "outputs": []
    },
    {
      "cell_type": "code",
      "metadata": {
        "id": "Kb2WFuPQc6F2",
        "colab_type": "code",
        "outputId": "78a80965-104e-4c48-9c43-8b8d3d289ace",
        "colab": {
          "base_uri": "https://localhost:8080/",
          "height": 72
        }
      },
      "source": [
        "print(f\"Text: {data['Text'][1]}. Vector: {X[1]}\") \n",
        "print(f\"Text: {data['Text'][2]}. Vector: {X[2]}\") "
      ],
      "execution_count": 22,
      "outputs": [
        {
          "output_type": "stream",
          "text": [
            "Text: una madre que esta consolando a su hijo despues de darle las notas que ha sacado no se cuantos insuficientes. Vector: [8, 160, 1, 16, 870, 5, 11, 125, 45, 2, 871, 18, 397, 1, 38, 872, 12, 10, 539, 873]\n",
            "Text: un pantanal con una barca abandonada a ver que estan haciendo los de la barca buscar setas. Vector: [4, 874, 14, 8, 161, 540, 5, 112, 1, 39, 126, 19, 2, 7, 161, 212, 875]\n"
          ],
          "name": "stdout"
        }
      ]
    },
    {
      "cell_type": "code",
      "metadata": {
        "id": "pDYSX-UZc4cm",
        "colab_type": "code",
        "colab": {}
      },
      "source": [
        "# Make sure we have the same length in all document vector\n",
        "X = pad_sequences(X)"
      ],
      "execution_count": 0,
      "outputs": []
    },
    {
      "cell_type": "code",
      "metadata": {
        "id": "ntj4AsOqrv_E",
        "colab_type": "code",
        "outputId": "af7f516a-0683-4620-fce8-dd450e0dc94e",
        "colab": {
          "base_uri": "https://localhost:8080/",
          "height": 536
        }
      },
      "source": [
        "print(f\"Vector Length: {len(X[1])}\")\n",
        "print(X[1])\n",
        "print(f\"Vector Length: {len(X[131])}\")\n",
        "print(X[131])\n",
        "print(f\"Vector Length: {len(X[3])}\")\n",
        "print(X[3])"
      ],
      "execution_count": 24,
      "outputs": [
        {
          "output_type": "stream",
          "text": [
            "Vector Length: 162\n",
            "[  0   0   0   0   0   0   0   0   0   0   0   0   0   0   0   0   0   0\n",
            "   0   0   0   0   0   0   0   0   0   0   0   0   0   0   0   0   0   0\n",
            "   0   0   0   0   0   0   0   0   0   0   0   0   0   0   0   0   0   0\n",
            "   0   0   0   0   0   0   0   0   0   0   0   0   0   0   0   0   0   0\n",
            "   0   0   0   0   0   0   0   0   0   0   0   0   0   0   0   0   0   0\n",
            "   0   0   0   0   0   0   0   0   0   0   0   0   0   0   0   0   0   0\n",
            "   0   0   0   0   0   0   0   0   0   0   0   0   0   0   0   0   0   0\n",
            "   0   0   0   0   0   0   0   0   0   0   0   0   0   0   0   0   8 160\n",
            "   1  16 870   5  11 125  45   2 871  18 397   1  38 872  12  10 539 873]\n",
            "Vector Length: 162\n",
            "[  0   0   0   0   0   0   0   0   0   0   0   0   0   0   0   0   0   0\n",
            "   0   0   0   0   0   0   0   0   0   0   0   0   0   0   0   0   0   0\n",
            "   0   0   0   0   0   0   0   0   0   0   0   0   0   0   0   0   0   0\n",
            "   0   0   0   0   0   0   0   0   0   0   0   0   0   0   0   0   0   0\n",
            "   0   0   0   0   0   0   0   0   0   0   0   0   0   0   0   0   0   0\n",
            "   0   0   0   0   0   0   0   0   0   0   0   0   0   0   0   0   0   0\n",
            "   0   0   0   0   0   0   0   0   0   0   0   0   0   0   0   0   0   0\n",
            "   0   0   0   0   0   0   0   0   0   0   0   0   0   0   0   0   0   0\n",
            "   0   0   0   0   0   0   0   0   4  62   2  88  82 105   2 337  23  74]\n",
            "Vector Length: 162\n",
            "[  0   0   0   0   0   0   0   0   0   0   0   0   0   0   0   0   0   0\n",
            "   0   0   0   0   0   0   0   0   0   0   0   0   0   0   0   0   0   0\n",
            "   0   0   0   0   0   0   0   0   0   0   0   0   0   0   0   0   0   0\n",
            "   0   0   0   0   0   0   0   0   0   0   0   0   0   0   0   0   0   0\n",
            "   0   0   0   0   0   0   0   0   0   0   0   0   0   0   0   0   0   0\n",
            "   0   0   0   0   0   0   0   0   0   0   0   0   0   0   0   0   0   0\n",
            "   0   0   0   0   0   0   0   0   0  35   4 541  36 398  14   8 161   4\n",
            " 162 399  14 298 876 542  25  35  68  28  12  33 213  63   1   4  34 543\n",
            "  42 877   1 400   3  23 214 543  42 299   3  10 401   5 544 878   3 398]\n"
          ],
          "name": "stdout"
        }
      ]
    },
    {
      "cell_type": "code",
      "metadata": {
        "id": "_U24pHVDrokb",
        "colab_type": "code",
        "colab": {}
      },
      "source": [
        "# One HOT encoding for alexithymia label\n",
        "# and the values in Y. \n",
        "\n",
        "Y = pd.get_dummies(data['alex-a']).values"
      ],
      "execution_count": 0,
      "outputs": []
    },
    {
      "cell_type": "code",
      "metadata": {
        "id": "DDFD7M-TYoQh",
        "colab_type": "code",
        "outputId": "b254d302-fc03-4874-cbf6-65dfd323f57d",
        "colab": {
          "base_uri": "https://localhost:8080/",
          "height": 52
        }
      },
      "source": [
        "# Train / Test partitions (90/10)\n",
        "\n",
        "X_train, X_test, Y_train, Y_test = train_test_split(X,Y, test_size = 0.10, random_state = 42)\n",
        "\n",
        "print(f\"Train shape. Feature Vector:{X_train.shape}, Label:{Y_train.shape} (binary classification)\")\n",
        "print(f\"Test shape. Feature Vector: {X_test.shape}, Label:{Y_test.shape} (binary classification)\")"
      ],
      "execution_count": 43,
      "outputs": [
        {
          "output_type": "stream",
          "text": [
            "Train shape. Feature Vector:(286, 162), Label:(286, 2) (binary classification)\n",
            "Test shape. Feature Vector: (32, 162), Label:(32, 2) (binary classification)\n"
          ],
          "name": "stdout"
        }
      ]
    },
    {
      "cell_type": "code",
      "metadata": {
        "id": "u9I9nXBhsTF7",
        "colab_type": "code",
        "outputId": "faa7fe66-e93a-4f8f-8c09-9f0b7457d615",
        "colab": {
          "base_uri": "https://localhost:8080/",
          "height": 417
        }
      },
      "source": [
        "# Deep RNN Model Definition:\n",
        "# Embedding -> Dropout -> LSTM -> Dense \n",
        "\n",
        "embed_dim = 128\n",
        "lstm_out = 196\n",
        "\n",
        "model = Sequential()\n",
        "model.add(Embedding(max_features, embed_dim, input_length = X.shape[1]))\n",
        "model.add(SpatialDropout1D(0.4))\n",
        "model.add(LSTM(lstm_out, dropout=0.2, recurrent_dropout=0.2))\n",
        "model.add(Dense(2,activation='softmax'))\n",
        "model.compile(loss = 'categorical_crossentropy', optimizer='adam',metrics = ['accuracy'])\n",
        "print(model.summary())"
      ],
      "execution_count": 34,
      "outputs": [
        {
          "output_type": "stream",
          "text": [
            "WARNING:tensorflow:From /usr/local/lib/python3.6/dist-packages/tensorflow/python/framework/op_def_library.py:263: colocate_with (from tensorflow.python.framework.ops) is deprecated and will be removed in a future version.\n",
            "Instructions for updating:\n",
            "Colocations handled automatically by placer.\n",
            "WARNING:tensorflow:From /usr/local/lib/python3.6/dist-packages/keras/backend/tensorflow_backend.py:3445: calling dropout (from tensorflow.python.ops.nn_ops) with keep_prob is deprecated and will be removed in a future version.\n",
            "Instructions for updating:\n",
            "Please use `rate` instead of `keep_prob`. Rate should be set to `rate = 1 - keep_prob`.\n",
            "_________________________________________________________________\n",
            "Layer (type)                 Output Shape              Param #   \n",
            "=================================================================\n",
            "embedding_1 (Embedding)      (None, 162, 128)          256000    \n",
            "_________________________________________________________________\n",
            "spatial_dropout1d_1 (Spatial (None, 162, 128)          0         \n",
            "_________________________________________________________________\n",
            "lstm_1 (LSTM)                (None, 196)               254800    \n",
            "_________________________________________________________________\n",
            "dense_1 (Dense)              (None, 2)                 394       \n",
            "=================================================================\n",
            "Total params: 511,194\n",
            "Trainable params: 511,194\n",
            "Non-trainable params: 0\n",
            "_________________________________________________________________\n",
            "None\n"
          ],
          "name": "stdout"
        }
      ]
    },
    {
      "cell_type": "code",
      "metadata": {
        "id": "mOKl__45sfUa",
        "colab_type": "code",
        "outputId": "e135db93-b4b3-4a48-c553-8ce8373dfc8e",
        "colab": {
          "base_uri": "https://localhost:8080/",
          "height": 625
        }
      },
      "source": [
        "# Train the model\n",
        "batch_size = 32\n",
        "model.fit(X_train, Y_train, epochs = 15, batch_size=batch_size, verbose = 2)"
      ],
      "execution_count": 35,
      "outputs": [
        {
          "output_type": "stream",
          "text": [
            "WARNING:tensorflow:From /usr/local/lib/python3.6/dist-packages/tensorflow/python/ops/math_ops.py:3066: to_int32 (from tensorflow.python.ops.math_ops) is deprecated and will be removed in a future version.\n",
            "Instructions for updating:\n",
            "Use tf.cast instead.\n",
            "Epoch 1/15\n",
            " - 4s - loss: 0.6469 - acc: 0.7273\n",
            "Epoch 2/15\n",
            " - 3s - loss: 0.5807 - acc: 0.7622\n",
            "Epoch 3/15\n",
            " - 2s - loss: 0.5310 - acc: 0.7622\n",
            "Epoch 4/15\n",
            " - 2s - loss: 0.5030 - acc: 0.7622\n",
            "Epoch 5/15\n",
            " - 2s - loss: 0.4540 - acc: 0.7622\n",
            "Epoch 6/15\n",
            " - 2s - loss: 0.3671 - acc: 0.7762\n",
            "Epoch 7/15\n",
            " - 2s - loss: 0.3381 - acc: 0.9056\n",
            "Epoch 8/15\n",
            " - 2s - loss: 0.1956 - acc: 0.9441\n",
            "Epoch 9/15\n",
            " - 2s - loss: 0.1706 - acc: 0.9685\n",
            "Epoch 10/15\n",
            " - 2s - loss: 0.0878 - acc: 0.9720\n",
            "Epoch 11/15\n",
            " - 2s - loss: 0.0633 - acc: 0.9825\n",
            "Epoch 12/15\n",
            " - 2s - loss: 0.0320 - acc: 1.0000\n",
            "Epoch 13/15\n",
            " - 2s - loss: 0.0324 - acc: 0.9965\n",
            "Epoch 14/15\n",
            " - 2s - loss: 0.0244 - acc: 0.9930\n",
            "Epoch 15/15\n",
            " - 2s - loss: 0.0162 - acc: 1.0000\n"
          ],
          "name": "stdout"
        },
        {
          "output_type": "execute_result",
          "data": {
            "text/plain": [
              "<keras.callbacks.History at 0x7fab0a0e28d0>"
            ]
          },
          "metadata": {
            "tags": []
          },
          "execution_count": 35
        }
      ]
    },
    {
      "cell_type": "code",
      "metadata": {
        "id": "4anoHMhai9O4",
        "colab_type": "code",
        "outputId": "5704ae16-2023-40d1-f83a-5edd20c7fb97",
        "colab": {
          "base_uri": "https://localhost:8080/",
          "height": 69
        }
      },
      "source": [
        "print(X_test.shape)\n",
        "print(Y_test.shape)\n",
        "print(f\"Test shape. Feature Vector: {X_test.shape}, Label:{Y_test.shape} (binary classification)\")"
      ],
      "execution_count": 42,
      "outputs": [
        {
          "output_type": "stream",
          "text": [
            "(0, 162)\n",
            "(0, 2)\n",
            "Test shape. Feature Vector: (0, 162), Label:(0, 2) (binary classification)\n"
          ],
          "name": "stdout"
        }
      ]
    },
    {
      "cell_type": "code",
      "metadata": {
        "id": "_bzk9E7gsoK9",
        "colab_type": "code",
        "outputId": "61eb0549-ce55-4d41-db16-27fcf4a72208",
        "colab": {
          "base_uri": "https://localhost:8080/",
          "height": 69
        }
      },
      "source": [
        "# validation_size = 2\n",
        "\n",
        "# X_validate = X_test[-validation_size:]\n",
        "# Y_validate = Y_test[-validation_size:]\n",
        "# X_test = X_test[:-validation_size]\n",
        "# Y_test = Y_test[:-validation_size]\n",
        "\n",
        "score,acc = model.evaluate(X_test, Y_test, verbose = 2, batch_size = batch_size)\n",
        "\n",
        "print(model.metrics_names)\n",
        "print(\"score: %.2f\" % (score))\n",
        "print(\"acc: %.2f\" % (acc))"
      ],
      "execution_count": 44,
      "outputs": [
        {
          "output_type": "stream",
          "text": [
            "['loss', 'acc']\n",
            "score: 0.62\n",
            "acc: 0.75\n"
          ],
          "name": "stdout"
        }
      ]
    },
    {
      "cell_type": "code",
      "metadata": {
        "id": "MtscSHqVtLL2",
        "colab_type": "code",
        "outputId": "35962d74-395f-4100-f5e4-8d463dcf4216",
        "colab": {
          "base_uri": "https://localhost:8080/",
          "height": 54
        }
      },
      "source": [
        "narratives = [' un niño al que sus padres de clase acomodada le dijeron que tenía que aprender a tocar el violín y el niño lo odiaba.', \n",
        "             'Hay unos toros que están enfadados y se preparan para atacar. Van a bajar todos corriendo por la cuesta y si pillan a alguien lo más seguro que es que lo maten.',\n",
        "             'Varios hombres se encuentran echando una siesta en su pausa para el almuerzo. Bajo un sol y calor de justicia, la parada se agradece tremendamente. Las horas de trabajo físico en el campo se hacen largas y cansadas para ganar un jornal que a duras penas les permite llegar a final de mes. Sólo esperan coger fuerzas durante el descanso para terminar la jornada lo antes posible.',\n",
        "             'un hombre que mata a su amante porque ella le amenazó con contárselo a su mujer si este no se iba con ella..',\n",
        "             'tanto me han apretado con lo de las clases extraescolares, que he desarrollado el superpoder de tocar el violín con la mente, mientras los demás compañeros se dejan el cuello sujetando el violín, yo lo toco mandándole órdenes cerebrales al instrumento, el primer día que lo conseguí el profesor me dió una colleja pensando que dormía, cuando empezó a sonar se asustó tanto que ya ni se me acerca, ahora aprovecho las clases de violín para tocar con la mente y para dormir a intervalos con la certeza de que la mente del profesor no va a decirle a su mano que me ajusticie. Cada uno a lo suyo. Fin',\n",
        "             'Se levantó y vio que nada podía ser más bello y nadie podría contemplarlo igual']\n",
        "p_narratives =[]\n",
        "\n",
        "for text in narratives:\n",
        "  p_narratives.append(remove_accents(text).lower())\n",
        "  \n",
        "\n",
        "print(p_narratives)"
      ],
      "execution_count": 84,
      "outputs": [
        {
          "output_type": "stream",
          "text": [
            "[' un nino al que sus padres de clase acomodada le dijeron que tenia que aprender a tocar el violin y el nino lo odiaba.', 'hay unos toros que estan enfadados y se preparan para atacar. van a bajar todos corriendo por la cuesta y si pillan a alguien lo mas seguro que es que lo maten.', 'varios hombres se encuentran echando una siesta en su pausa para el almuerzo. bajo un sol y calor de justicia, la parada se agradece tremendamente. las horas de trabajo fisico en el campo se hacen largas y cansadas para ganar un jornal que a duras penas les permite llegar a final de mes. solo esperan coger fuerzas durante el descanso para terminar la jornada lo antes posible.', 'un hombre que mata a su amante porque ella le amenazo con contarselo a su mujer si este no se iba con ella..', 'tanto me han apretado con lo de las clases extraescolares, que he desarrollado el superpoder de tocar el violin con la mente, mientras los demas companeros se dejan el cuello sujetando el violin, yo lo toco mandandole ordenes cerebrales al instrumento, el primer dia que lo consegui el profesor me dio una colleja pensando que dormia, cuando empezo a sonar se asusto tanto que ya ni se me acerca, ahora aprovecho las clases de violin para tocar con la mente y para dormir a intervalos con la certeza de que la mente del profesor no va a decirle a su mano que me ajusticie. cada uno a lo suyo. fin', 'se levanto y vio que nada podia ser mas bello y nadie podria contemplarlo igual']\n"
          ],
          "name": "stdout"
        }
      ]
    },
    {
      "cell_type": "code",
      "metadata": {
        "id": "RA2cazeLldxH",
        "colab_type": "code",
        "outputId": "07bd21f3-78d7-45db-cbe0-60174c817c5a",
        "colab": {
          "base_uri": "https://localhost:8080/",
          "height": 54
        }
      },
      "source": [
        "# vectorizing the text by the pre-fitted tokenizer instance\n",
        "\n",
        "pp_narratives = tokenizer.texts_to_sequences(p_narratives)\n",
        "\n",
        "print(pp_narratives)"
      ],
      "execution_count": 85,
      "outputs": [
        {
          "output_type": "stream",
          "text": [
            "[[4, 22, 23, 1, 29, 53, 2, 241, 1389, 13, 406, 1, 58, 1, 93, 5, 40, 6, 21, 3, 6, 22, 20, 1390], [65, 42, 1, 39, 3, 10, 17, 563, 5, 472, 69, 265, 15, 7, 3, 50, 5, 303, 20, 41, 326, 1, 27, 1, 20], [252, 121, 10, 731, 417, 8, 81, 9, 11, 17, 6, 234, 4, 75, 3, 609, 2, 1827, 7, 1171, 10, 802, 18, 124, 2, 74, 9, 6, 76, 10, 966, 1274, 3, 17, 4, 1979, 1, 5, 102, 139, 5, 466, 2, 85, 773, 669, 155, 6, 236, 17, 7, 201, 20, 105], [4, 30, 1, 725, 5, 11, 283, 28, 56, 13, 726, 14, 1397, 5, 11, 37, 50, 97, 12, 10, 172, 14, 56], [106, 54, 44, 14, 20, 2, 18, 103, 1, 583, 6, 2, 40, 6, 21, 14, 7, 534, 66, 19, 473, 204, 10, 6, 627, 6, 21, 230, 20, 840, 23, 135, 6, 34, 1, 20, 6, 294, 54, 189, 8, 95, 1, 373, 52, 401, 5, 383, 10, 106, 1, 73, 174, 10, 54, 94, 496, 18, 103, 2, 21, 17, 40, 14, 7, 534, 3, 17, 159, 5, 14, 7, 2, 1, 7, 534, 24, 294, 12, 164, 5, 5, 11, 850, 1, 54, 90, 175, 5, 20, 167], [10, 367, 3, 228, 1, 79, 111, 48, 41, 3, 213, 114, 636]]\n"
          ],
          "name": "stdout"
        }
      ]
    },
    {
      "cell_type": "code",
      "metadata": {
        "id": "ZzP3ymEIs4Or",
        "colab_type": "code",
        "outputId": "fd97bc77-6ad2-4374-8abe-af6f0563f7fa",
        "colab": {
          "base_uri": "https://localhost:8080/",
          "height": 1261
        }
      },
      "source": [
        "# Padding the tweet to have exactly the same shape as `embedding_2` input\n",
        "\n",
        "pp_narratives = pad_sequences(pp_narratives, maxlen=162, dtype='int32', value=0)\n",
        "print(pp_narratives)\n"
      ],
      "execution_count": 86,
      "outputs": [
        {
          "output_type": "stream",
          "text": [
            "[[   0    0    0    0    0    0    0    0    0    0    0    0    0    0\n",
            "     0    0    0    0    0    0    0    0    0    0    0    0    0    0\n",
            "     0    0    0    0    0    0    0    0    0    0    0    0    0    0\n",
            "     0    0    0    0    0    0    0    0    0    0    0    0    0    0\n",
            "     0    0    0    0    0    0    0    0    0    0    0    0    0    0\n",
            "     0    0    0    0    0    0    0    0    0    0    0    0    0    0\n",
            "     0    0    0    0    0    0    0    0    0    0    0    0    0    0\n",
            "     0    0    0    0    0    0    0    0    0    0    0    0    0    0\n",
            "     0    0    0    0    0    0    0    0    0    0    0    0    0    0\n",
            "     0    0    0    0    0    0    0    0    0    0    0    0    4   22\n",
            "    23    1   29   53    2  241 1389   13  406    1   58    1   93    5\n",
            "    40    6   21    3    6   22   20 1390]\n",
            " [   0    0    0    0    0    0    0    0    0    0    0    0    0    0\n",
            "     0    0    0    0    0    0    0    0    0    0    0    0    0    0\n",
            "     0    0    0    0    0    0    0    0    0    0    0    0    0    0\n",
            "     0    0    0    0    0    0    0    0    0    0    0    0    0    0\n",
            "     0    0    0    0    0    0    0    0    0    0    0    0    0    0\n",
            "     0    0    0    0    0    0    0    0    0    0    0    0    0    0\n",
            "     0    0    0    0    0    0    0    0    0    0    0    0    0    0\n",
            "     0    0    0    0    0    0    0    0    0    0    0    0    0    0\n",
            "     0    0    0    0    0    0    0    0    0    0    0    0    0    0\n",
            "     0    0    0    0    0    0    0    0    0    0    0   65   42    1\n",
            "    39    3   10   17  563    5  472   69  265   15    7    3   50    5\n",
            "   303   20   41  326    1   27    1   20]\n",
            " [   0    0    0    0    0    0    0    0    0    0    0    0    0    0\n",
            "     0    0    0    0    0    0    0    0    0    0    0    0    0    0\n",
            "     0    0    0    0    0    0    0    0    0    0    0    0    0    0\n",
            "     0    0    0    0    0    0    0    0    0    0    0    0    0    0\n",
            "     0    0    0    0    0    0    0    0    0    0    0    0    0    0\n",
            "     0    0    0    0    0    0    0    0    0    0    0    0    0    0\n",
            "     0    0    0    0    0    0    0    0    0    0    0    0    0    0\n",
            "     0    0    0    0    0    0    0    0    0    0  252  121   10  731\n",
            "   417    8   81    9   11   17    6  234    4   75    3  609    2 1827\n",
            "     7 1171   10  802   18  124    2   74    9    6   76   10  966 1274\n",
            "     3   17    4 1979    1    5  102  139    5  466    2   85  773  669\n",
            "   155    6  236   17    7  201   20  105]\n",
            " [   0    0    0    0    0    0    0    0    0    0    0    0    0    0\n",
            "     0    0    0    0    0    0    0    0    0    0    0    0    0    0\n",
            "     0    0    0    0    0    0    0    0    0    0    0    0    0    0\n",
            "     0    0    0    0    0    0    0    0    0    0    0    0    0    0\n",
            "     0    0    0    0    0    0    0    0    0    0    0    0    0    0\n",
            "     0    0    0    0    0    0    0    0    0    0    0    0    0    0\n",
            "     0    0    0    0    0    0    0    0    0    0    0    0    0    0\n",
            "     0    0    0    0    0    0    0    0    0    0    0    0    0    0\n",
            "     0    0    0    0    0    0    0    0    0    0    0    0    0    0\n",
            "     0    0    0    0    0    0    0    0    0    0    0    0    0    4\n",
            "    30    1  725    5   11  283   28   56   13  726   14 1397    5   11\n",
            "    37   50   97   12   10  172   14   56]\n",
            " [   0    0    0    0    0    0    0    0    0    0    0    0    0    0\n",
            "     0    0    0    0    0    0    0    0    0    0    0    0    0    0\n",
            "     0    0    0    0    0    0    0    0    0    0    0    0    0    0\n",
            "     0    0    0    0    0    0    0    0    0    0    0    0    0    0\n",
            "     0    0    0    0    0    0    0    0    0    0    0    0    0    0\n",
            "     0  106   54   44   14   20    2   18  103    1  583    6    2   40\n",
            "     6   21   14    7  534   66   19  473  204   10    6  627    6   21\n",
            "   230   20  840   23  135    6   34    1   20    6  294   54  189    8\n",
            "    95    1  373   52  401    5  383   10  106    1   73  174   10   54\n",
            "    94  496   18  103    2   21   17   40   14    7  534    3   17  159\n",
            "     5   14    7    2    1    7  534   24  294   12  164    5    5   11\n",
            "   850    1   54   90  175    5   20  167]\n",
            " [   0    0    0    0    0    0    0    0    0    0    0    0    0    0\n",
            "     0    0    0    0    0    0    0    0    0    0    0    0    0    0\n",
            "     0    0    0    0    0    0    0    0    0    0    0    0    0    0\n",
            "     0    0    0    0    0    0    0    0    0    0    0    0    0    0\n",
            "     0    0    0    0    0    0    0    0    0    0    0    0    0    0\n",
            "     0    0    0    0    0    0    0    0    0    0    0    0    0    0\n",
            "     0    0    0    0    0    0    0    0    0    0    0    0    0    0\n",
            "     0    0    0    0    0    0    0    0    0    0    0    0    0    0\n",
            "     0    0    0    0    0    0    0    0    0    0    0    0    0    0\n",
            "     0    0    0    0    0    0    0    0    0    0    0    0    0    0\n",
            "     0    0    0    0    0    0    0    0    0   10  367    3  228    1\n",
            "    79  111   48   41    3  213  114  636]]\n"
          ],
          "name": "stdout"
        }
      ]
    },
    {
      "cell_type": "code",
      "metadata": {
        "id": "PIUSrlAQl8nF",
        "colab_type": "code",
        "outputId": "76593432-fcc5-4dbb-90dd-9305fbbbaa61",
        "colab": {
          "base_uri": "https://localhost:8080/",
          "height": 348
        }
      },
      "source": [
        "# Testing the predictive model\n",
        "alex_screening = model.predict(pp_narratives, batch_size=1, verbose = 2)\n",
        "text_idx = 0 \n",
        "for prediction in alex_screening:\n",
        "  # print(prediction)\n",
        "  print(\"NARRATIVE: \" + narratives[text_idx])\n",
        "  text_idx += 1\n",
        "  if(np.argmax(prediction) == 0):\n",
        "      print(\"PREDICTION: negative: No Alexithymia.\")\n",
        "  elif (np.argmax(prediction) == 1):\n",
        "    print(\"PREDICTION: positive: Possible Alexithymia.\")\n",
        "  print(\"-----------------\")"
      ],
      "execution_count": 87,
      "outputs": [
        {
          "output_type": "stream",
          "text": [
            "NARRATIVE:  un niño al que sus padres de clase acomodada le dijeron que tenía que aprender a tocar el violín y el niño lo odiaba.\n",
            "PREDICTION: negative: No Alexithymia.\n",
            "-----------------\n",
            "NARRATIVE: Hay unos toros que están enfadados y se preparan para atacar. Van a bajar todos corriendo por la cuesta y si pillan a alguien lo más seguro que es que lo maten.\n",
            "PREDICTION: negative: No Alexithymia.\n",
            "-----------------\n",
            "NARRATIVE: Varios hombres se encuentran echando una siesta en su pausa para el almuerzo. Bajo un sol y calor de justicia, la parada se agradece tremendamente. Las horas de trabajo físico en el campo se hacen largas y cansadas para ganar un jornal que a duras penas les permite llegar a final de mes. Sólo esperan coger fuerzas durante el descanso para terminar la jornada lo antes posible.\n",
            "PREDICTION: positive: Possible Alexithymia.\n",
            "-----------------\n",
            "NARRATIVE: un hombre que mata a su amante porque ella le amenazó con contárselo a su mujer si este no se iba con ella..\n",
            "PREDICTION: negative: No Alexithymia.\n",
            "-----------------\n",
            "NARRATIVE: tanto me han apretado con lo de las clases extraescolares, que he desarrollado el superpoder de tocar el violín con la mente, mientras los demás compañeros se dejan el cuello sujetando el violín, yo lo toco mandándole órdenes cerebrales al instrumento, el primer día que lo conseguí el profesor me dió una colleja pensando que dormía, cuando empezó a sonar se asustó tanto que ya ni se me acerca, ahora aprovecho las clases de violín para tocar con la mente y para dormir a intervalos con la certeza de que la mente del profesor no va a decirle a su mano que me ajusticie. Cada uno a lo suyo. Fin\n",
            "PREDICTION: positive: Possible Alexithymia.\n",
            "-----------------\n",
            "NARRATIVE: Se levantó y vio que nada podía ser más bello y nadie podría contemplarlo igual\n",
            "PREDICTION: positive: Possible Alexithymia.\n",
            "-----------------\n"
          ],
          "name": "stdout"
        }
      ]
    },
    {
      "cell_type": "code",
      "metadata": {
        "id": "SiMaKzHOmKQl",
        "colab_type": "code",
        "colab": {}
      },
      "source": [
        ""
      ],
      "execution_count": 0,
      "outputs": []
    }
  ]
}