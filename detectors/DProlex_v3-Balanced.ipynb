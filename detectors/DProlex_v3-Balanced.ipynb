{
 "cells": [
  {
   "cell_type": "markdown",
   "metadata": {},
   "source": [
    "# Prolexitim Detector (DProlex v3)\n",
    "## Binary Classifiers (Alex / NoAlex) using classical and word vector techniques\n",
    "### Dataset from Prolexitim TAS-20 Spain, Prolexitim NLP and Spanish 3Billion Word2Vec\n",
    "<hr>\n",
    "June 2019.<br> Prolexitim dataset version 1.2 (MPGS-TFM-Submission).<br> \n",
    "Raúl Arrabales Moreno (Psicobótica / Serendeepia Research)<br>\n",
    "<a target=\"_blank\" href=\"http://www.conscious-robots.com/\">http://www.conscious-robots.com/</a> <br>\n",
    "<hr>\n",
    "Spanish Word Vectors from: <a taget=\"_blank\" href=\"https://github.com/aitoralmeida/spanish_word2vec\">Spanish 3B Pre-trained Word2Vec</a>"
   ]
  },
  {
   "cell_type": "markdown",
   "metadata": {},
   "source": [
    "## Load Word Vectors and Documents (texts + labels)\n",
    "- Word Vectors are obtained from the pre-trained Spanish 3B Word2Vec.\n",
    "- Documents are obtained from the Prolexitim Pilot Study.\n",
    "    - Text are narratives from Prolexitim NLP. \n",
    "    - Labels are categorical values from Prolexitim TAS-20.\n"
   ]
  },
  {
   "cell_type": "markdown",
   "metadata": {},
   "source": [
    "### Loading the word vectors"
   ]
  },
  {
   "cell_type": "code",
   "execution_count": 1,
   "metadata": {},
   "outputs": [],
   "source": [
    "from gensim.models import KeyedVectors"
   ]
  },
  {
   "cell_type": "code",
   "execution_count": 2,
   "metadata": {},
   "outputs": [],
   "source": [
    "# My copy of Spanish 3 Billion Word2Vec\n",
    "word_vectors = KeyedVectors.load('D:\\Dropbox-Array2001\\Dropbox\\DataSets\\Spanish Word2Vec\\complete.kv', mmap='r')"
   ]
  },
  {
   "cell_type": "code",
   "execution_count": 3,
   "metadata": {},
   "outputs": [
    {
     "data": {
      "text/plain": [
       "[('chiquillo', 0.863490104675293),\n",
       " ('bebé', 0.85056471824646),\n",
       " ('crío', 0.842483401298523),\n",
       " ('muchacho', 0.7765985727310181),\n",
       " ('niñito', 0.7588649988174438),\n",
       " ('chico', 0.75837242603302),\n",
       " ('cachorro', 0.7369438409805298),\n",
       " ('muchachito', 0.7227176427841187),\n",
       " ('gatito', 0.6718686819076538),\n",
       " ('hombre', 0.6658662557601929)]"
      ]
     },
     "execution_count": 3,
     "metadata": {},
     "output_type": "execute_result"
    }
   ],
   "source": [
    "# Testing Word Vectors for Spanish\n",
    "word_vectors.most_similar(\"niño\")"
   ]
  },
  {
   "cell_type": "code",
   "execution_count": 4,
   "metadata": {},
   "outputs": [
    {
     "data": {
      "text/plain": [
       "memmap([-9.8019737e-01,  3.7916845e-01, -1.6284896e+00,  7.4026036e-01,\n",
       "         6.7275375e-01, -1.6113833e+00, -1.4873409e+00,  1.6933979e+00,\n",
       "         3.0024448e-01,  6.1126029e-01, -1.7352545e+00,  2.5489315e-01,\n",
       "        -7.4795651e-01,  1.0910559e+00, -2.1026888e+00, -4.4130564e+00,\n",
       "         4.2894289e-01,  1.0395617e+00,  1.6460708e+00,  1.0484180e+00,\n",
       "         1.4824442e+00,  1.6438122e+00, -2.7626188e+00,  9.5058024e-01,\n",
       "         8.9740849e-01,  1.6531191e+00, -1.2386736e+00,  1.6032706e+00,\n",
       "        -2.3379698e+00,  7.8928012e-01,  2.1672912e+00, -9.9437529e-01,\n",
       "        -2.5328231e+00,  3.1492624e-01,  1.5492657e-01, -8.9571148e-02,\n",
       "         3.7125247e+00, -1.0850103e+00, -1.0432119e+00, -2.8284986e+00,\n",
       "        -2.1611533e+00,  3.6355894e+00, -2.8690529e+00, -1.6870648e-01,\n",
       "        -4.2504200e-01,  2.8080521e+00,  4.1607413e+00,  2.0719736e+00,\n",
       "        -9.5222074e-01,  1.1894293e+00,  1.0287092e+00, -2.3548654e-01,\n",
       "        -1.3844434e+00,  2.4121676e-01,  9.0101380e-03,  1.0265148e-01,\n",
       "        -3.2968183e+00,  2.0752571e+00, -1.6556615e+00, -3.8786002e-02,\n",
       "        -1.4890193e+00, -3.0560464e-01,  8.5738415e-01,  1.8148477e+00,\n",
       "        -8.2843000e-01, -5.0506163e-01, -1.4600104e+00, -1.1171870e-02,\n",
       "         1.1501406e+00,  2.1369233e+00, -3.9603721e-02, -7.7532732e-01,\n",
       "         1.5903796e+00, -4.3582702e-01, -5.8871174e-01, -1.5905191e+00,\n",
       "         2.1323533e+00, -9.4035882e-01, -8.0692369e-01, -3.4532890e+00,\n",
       "        -2.2992127e-02,  2.0767543e+00, -7.1662493e-02, -3.4065189e+00,\n",
       "        -1.0739474e+00, -9.6360666e-01,  1.8696149e-01,  2.0818729e+00,\n",
       "        -3.1015275e+00, -3.1112653e-01,  1.2955816e+00,  1.8898306e+00,\n",
       "        -3.6121795e-01,  3.9690036e-01,  1.5270262e-02,  2.1567426e+00,\n",
       "         6.7757033e-02,  1.9352016e+00, -4.1454105e+00,  1.1607004e+00,\n",
       "        -9.5965230e-01, -2.3549445e+00,  9.2270344e-02, -1.4243548e+00,\n",
       "        -1.2665675e+00,  5.3080881e-01,  3.0790305e+00,  1.7315191e-01,\n",
       "         1.1744932e+00, -8.4941089e-01, -4.4501007e-01,  2.0254972e+00,\n",
       "         3.5118780e-01, -1.7853947e+00,  5.4741865e-01, -2.7639678e-01,\n",
       "         1.6867747e+00,  1.0924364e+00,  3.5136406e+00,  2.4857979e+00,\n",
       "        -3.1383290e+00, -5.0974870e-01, -9.8099750e-01, -3.1321552e-02,\n",
       "        -1.1673037e+00,  1.0789405e+00, -1.1935455e-01,  7.8409380e-01,\n",
       "        -1.1216023e+00,  1.1370583e+00,  1.9562872e-01,  9.9541974e-01,\n",
       "         1.6094133e+00,  2.0998228e+00, -6.3124341e-01,  5.5850726e-01,\n",
       "        -8.5319960e-01, -3.2088296e+00,  1.7165611e+00, -2.1328779e-01,\n",
       "         2.3587294e+00, -1.5546188e+00,  1.2687100e-01,  1.9562508e+00,\n",
       "        -8.4302372e-01, -1.6411026e+00,  2.0915873e-01,  3.2185469e+00,\n",
       "         2.5274333e-01, -3.0013316e+00, -1.0730166e+00, -9.3324967e-02,\n",
       "         2.0984223e+00, -1.7668195e+00,  2.1962972e+00,  1.0976380e+00,\n",
       "        -9.2647368e-01, -3.2476133e-01,  4.1115508e+00,  1.5275748e-01,\n",
       "         2.6085145e+00, -2.0372862e-02,  7.4710125e-01, -4.5411670e-01,\n",
       "         9.7596057e-02,  2.5161128e+00, -1.3530990e+00, -9.4512939e-01,\n",
       "        -1.8407586e-01,  8.6599660e-01, -1.7965726e+00,  1.5556636e-01,\n",
       "         2.4655361e+00,  8.1840324e-01, -4.6240622e-01, -6.5059102e-01,\n",
       "        -8.1615710e-01, -4.1748175e-01,  4.0988547e-01,  2.3356037e+00,\n",
       "        -5.0089151e-01,  1.3943664e+00,  1.1884069e+00, -4.3710402e-01,\n",
       "         2.1617076e+00,  1.9187655e+00,  6.5393937e-01, -2.4701250e+00,\n",
       "         1.5567814e+00, -1.6165422e+00,  1.4392709e+00, -9.6413320e-01,\n",
       "         7.3564565e-01,  1.0224243e+00,  1.2931311e-02, -1.1055406e+00,\n",
       "        -1.4821014e-01, -1.7847108e+00,  5.6998432e-01, -1.6059356e+00,\n",
       "        -9.6218520e-01,  1.1716418e-01,  5.2084702e-01,  1.0837722e+00,\n",
       "         7.8304090e-02,  1.5599633e+00,  1.1742407e+00,  2.9047723e+00,\n",
       "         5.2355707e-01, -1.2992711e-01,  1.9914528e+00,  7.5311387e-01,\n",
       "         1.4401117e-01, -3.2285967e+00,  1.3644392e+00,  9.5878577e-01,\n",
       "         2.6098435e+00, -1.0520420e+00,  2.7416434e+00,  7.8486991e-01,\n",
       "        -5.6260669e-01,  4.8386270e-01, -3.9561491e-02, -1.7555034e-01,\n",
       "        -1.8156540e+00, -7.0129976e-02,  2.3463640e+00,  2.0420330e+00,\n",
       "         2.3154123e+00, -1.3443410e+00, -1.5813562e+00,  1.1546469e+00,\n",
       "        -1.5704197e+00,  1.6612265e-01,  1.3259580e+00,  1.0469520e+00,\n",
       "        -1.3822209e+00, -2.0973620e+00,  2.9417458e+00, -3.1136039e-01,\n",
       "        -2.0176127e+00,  1.8515371e+00, -1.4440545e+00, -1.8402880e+00,\n",
       "        -2.3412981e+00, -4.5084736e-01, -2.5147460e+00,  3.3905809e+00,\n",
       "         5.7023352e-01,  3.1278849e-01, -5.0142175e-01, -1.6067816e+00,\n",
       "        -1.5599055e+00,  1.5711111e+00,  1.6385747e-01,  7.2384763e-01,\n",
       "         2.0016503e+00, -1.4425695e+00,  9.3982035e-01,  9.3714073e-02,\n",
       "         1.1593354e+00,  5.3733796e-01, -1.5355002e+00,  4.0261114e-01,\n",
       "        -1.2632470e-03,  1.0472178e+00,  7.0645583e-01,  3.7965667e-02,\n",
       "         8.3731341e-01,  2.5888482e-01, -8.2022274e-01, -3.7495537e+00,\n",
       "        -1.7066669e+00, -2.0209246e+00, -1.4982151e+00, -2.3343916e+00,\n",
       "         8.0437279e-01, -2.1464801e+00, -1.6018775e+00,  7.1235347e-01,\n",
       "        -1.5930090e+00,  3.5106944e-04,  3.4931355e+00,  8.9644277e-01,\n",
       "         2.4370448e-01,  3.6288047e+00,  9.9331903e-01,  7.2525972e-01,\n",
       "         1.9553095e+00,  1.2173094e-01, -2.2037309e-01,  4.1105247e+00,\n",
       "         7.5344497e-01, -3.9223105e-01, -1.7570958e+00, -3.5213611e-01,\n",
       "        -6.9875681e-01, -5.2878481e-01,  8.9208102e-01, -6.6897899e-01,\n",
       "         1.9932009e+00, -1.1865415e-01, -4.3779862e-01, -2.4143037e-01,\n",
       "        -1.8878022e+00,  1.9268537e-01,  3.5240468e-02, -4.5528588e-01,\n",
       "         1.1002216e+00, -1.2792325e+00, -1.0800636e+00,  8.5397261e-01,\n",
       "         7.0851243e-01,  2.1065834e+00, -6.5375274e-01,  1.1180370e+00,\n",
       "         1.4879224e+00,  8.5045820e-01,  1.1497388e+00, -2.3856524e-01,\n",
       "        -9.6517116e-01,  1.5112903e+00, -1.7679377e+00,  1.1639472e+00,\n",
       "        -9.2610419e-02,  1.7782736e-01, -1.1988173e+00, -4.0861908e-01,\n",
       "         1.4101517e+00, -1.3729553e-01, -5.3372633e-01, -1.3244117e+00,\n",
       "        -1.3433135e+00, -2.7928379e+00, -4.4247818e-01, -9.5421523e-01,\n",
       "         2.9210382e+00,  1.7072392e-01, -1.1061685e+00,  3.7420643e-04,\n",
       "         3.2633115e-02,  4.5106992e-01,  2.4590565e-01, -3.3659425e-01,\n",
       "        -3.7846923e-02, -1.2610713e+00, -5.1497293e-01, -3.6496311e-01,\n",
       "         2.2892258e+00, -1.3142976e-01,  1.0838083e+00, -5.7563275e-01,\n",
       "        -1.1437786e+00,  3.1401093e+00,  3.5082738e+00, -7.0919120e-01,\n",
       "         2.4267635e+00, -5.6073046e-01,  6.7863721e-01,  9.7687054e-01,\n",
       "         1.8711820e+00,  8.5127455e-01,  1.0924863e+00,  1.9482992e+00,\n",
       "         2.3596973e+00, -1.1786045e-01,  2.4539719e+00, -8.8561243e-01,\n",
       "        -7.0361704e-01,  1.4807769e+00,  3.4427774e+00,  8.4504139e-01,\n",
       "        -1.3820996e+00,  2.5367177e-01,  5.5846190e-01,  2.0964198e+00,\n",
       "        -2.5644645e-01,  1.3102604e+00,  2.9129219e+00,  1.6488185e+00,\n",
       "         5.3059870e-01,  1.4881358e+00, -6.2520319e-01,  2.9942527e+00,\n",
       "         2.3250029e+00,  6.4620948e-01,  2.9438624e+00, -1.7702686e+00,\n",
       "         1.4981197e+00, -1.5345292e+00,  3.4186728e+00, -3.2464521e+00,\n",
       "        -4.8226449e-01,  1.4224052e+00, -4.4379181e-01, -2.0269799e+00,\n",
       "         1.8622971e+00, -2.1099648e+00,  1.4057389e+00,  8.8919646e-01],\n",
       "       dtype=float32)"
      ]
     },
     "execution_count": 4,
     "metadata": {},
     "output_type": "execute_result"
    }
   ],
   "source": [
    "# Testing Word Vectors for Spanish\n",
    "word_vectors.get_vector(\"niño\")"
   ]
  },
  {
   "cell_type": "code",
   "execution_count": 5,
   "metadata": {},
   "outputs": [
    {
     "data": {
      "text/plain": [
       "[('individuo', 0.5064163208007812),\n",
       " ('hombre', 0.4954623878002167),\n",
       " ('muchacho', 0.4840112328529358),\n",
       " ('úrgalo', 0.47156092524528503),\n",
       " ('niño', 0.47056442499160767),\n",
       " ('hombredios', 0.46997901797294617),\n",
       " ('chiquillo', 0.4607599079608917),\n",
       " ('hom\\xadbre', 0.46047237515449524),\n",
       " ('ejército…', 0.45903706550598145),\n",
       " ('gyorn', 0.44549915194511414)]"
      ]
     },
     "execution_count": 5,
     "metadata": {},
     "output_type": "execute_result"
    }
   ],
   "source": [
    "# Testing Word Vectors for Spanish\n",
    "word_vectors.similar_by_vector(word_vectors.get_vector(\"niño\") - word_vectors.get_vector(\"niña\"))"
   ]
  },
  {
   "cell_type": "markdown",
   "metadata": {},
   "source": [
    "### Loading Prolexitim TAS-20 + NLP Dataset Load"
   ]
  },
  {
   "cell_type": "code",
   "execution_count": 6,
   "metadata": {},
   "outputs": [],
   "source": [
    "import pandas as pd "
   ]
  },
  {
   "cell_type": "code",
   "execution_count": 7,
   "metadata": {},
   "outputs": [],
   "source": [
    "# My copy of Prolexitim join tables with TAS-20 categorical label and narratives from Prolexitim NLP\n",
    "tasnlp_dataset_path = \"D:\\\\Dropbox-Array2001\\\\Dropbox\\\\UNI\\\\MPGS\\\\2_TFM\\\\Datos\\\\prolexitim-merged-1.3.csv\""
   ]
  },
  {
   "cell_type": "code",
   "execution_count": 8,
   "metadata": {},
   "outputs": [],
   "source": [
    "docs_df = pd.read_csv(tasnlp_dataset_path,header=0,delimiter=\"\\t\")"
   ]
  },
  {
   "cell_type": "code",
   "execution_count": 9,
   "metadata": {},
   "outputs": [
    {
     "data": {
      "text/html": [
       "<div>\n",
       "<style scoped>\n",
       "    .dataframe tbody tr th:only-of-type {\n",
       "        vertical-align: middle;\n",
       "    }\n",
       "\n",
       "    .dataframe tbody tr th {\n",
       "        vertical-align: top;\n",
       "    }\n",
       "\n",
       "    .dataframe thead th {\n",
       "        text-align: right;\n",
       "    }\n",
       "</style>\n",
       "<table border=\"1\" class=\"dataframe\">\n",
       "  <thead>\n",
       "    <tr style=\"text-align: right;\">\n",
       "      <th></th>\n",
       "      <th>Text</th>\n",
       "      <th>AlexLabel</th>\n",
       "    </tr>\n",
       "  </thead>\n",
       "  <tbody>\n",
       "    <tr>\n",
       "      <th>191</th>\n",
       "      <td>Érase una vez cuatro amigos que salieron a bai...</td>\n",
       "      <td>NoAlex</td>\n",
       "    </tr>\n",
       "    <tr>\n",
       "      <th>174</th>\n",
       "      <td>Un niño al que le obligaban a tocar un instrum...</td>\n",
       "      <td>NoAlex</td>\n",
       "    </tr>\n",
       "    <tr>\n",
       "      <th>24</th>\n",
       "      <td>Es una pareja y el hombre se encuentra arrepen...</td>\n",
       "      <td>NoAlex</td>\n",
       "    </tr>\n",
       "    <tr>\n",
       "      <th>56</th>\n",
       "      <td>Es gente que en una jornada laboral está desca...</td>\n",
       "      <td>PosAlex</td>\n",
       "    </tr>\n",
       "    <tr>\n",
       "      <th>167</th>\n",
       "      <td>un día de campo de q pasamos Todos mis amigos ...</td>\n",
       "      <td>NoAlex</td>\n",
       "    </tr>\n",
       "    <tr>\n",
       "      <th>102</th>\n",
       "      <td>un niño que le gustaba mucho la música, en esp...</td>\n",
       "      <td>NoAlex</td>\n",
       "    </tr>\n",
       "  </tbody>\n",
       "</table>\n",
       "</div>"
      ],
      "text/plain": [
       "                                                  Text AlexLabel\n",
       "191  Érase una vez cuatro amigos que salieron a bai...    NoAlex\n",
       "174  Un niño al que le obligaban a tocar un instrum...    NoAlex\n",
       "24   Es una pareja y el hombre se encuentra arrepen...    NoAlex\n",
       "56   Es gente que en una jornada laboral está desca...   PosAlex\n",
       "167  un día de campo de q pasamos Todos mis amigos ...    NoAlex\n",
       "102  un niño que le gustaba mucho la música, en esp...    NoAlex"
      ]
     },
     "execution_count": 9,
     "metadata": {},
     "output_type": "execute_result"
    }
   ],
   "source": [
    "# We're only intereted in the Spanish text and the corresponding Alexithymia label\n",
    "docs_df = docs_df.dropna()\n",
    "docs_df = docs_df[['Text', 'alex-a']]\n",
    "docs_df.columns = ['Text', 'AlexLabel']\n",
    "docs_df.sample(n=6)"
   ]
  },
  {
   "cell_type": "code",
   "execution_count": 10,
   "metadata": {},
   "outputs": [
    {
     "data": {
      "text/html": [
       "<div>\n",
       "<style scoped>\n",
       "    .dataframe tbody tr th:only-of-type {\n",
       "        vertical-align: middle;\n",
       "    }\n",
       "\n",
       "    .dataframe tbody tr th {\n",
       "        vertical-align: top;\n",
       "    }\n",
       "\n",
       "    .dataframe thead th {\n",
       "        text-align: right;\n",
       "    }\n",
       "</style>\n",
       "<table border=\"1\" class=\"dataframe\">\n",
       "  <thead>\n",
       "    <tr style=\"text-align: right;\">\n",
       "      <th></th>\n",
       "      <th>Text</th>\n",
       "    </tr>\n",
       "    <tr>\n",
       "      <th>AlexLabel</th>\n",
       "      <th></th>\n",
       "    </tr>\n",
       "  </thead>\n",
       "  <tbody>\n",
       "    <tr>\n",
       "      <th>Alex</th>\n",
       "      <td>31</td>\n",
       "    </tr>\n",
       "    <tr>\n",
       "      <th>NoAlex</th>\n",
       "      <td>240</td>\n",
       "    </tr>\n",
       "    <tr>\n",
       "      <th>PosAlex</th>\n",
       "      <td>45</td>\n",
       "    </tr>\n",
       "  </tbody>\n",
       "</table>\n",
       "</div>"
      ],
      "text/plain": [
       "           Text\n",
       "AlexLabel      \n",
       "Alex         31\n",
       "NoAlex      240\n",
       "PosAlex      45"
      ]
     },
     "execution_count": 10,
     "metadata": {},
     "output_type": "execute_result"
    }
   ],
   "source": [
    "# We have a very unbalance dataset\n",
    "docs_df.groupby(by='AlexLabel').count()"
   ]
  },
  {
   "cell_type": "code",
   "execution_count": 11,
   "metadata": {},
   "outputs": [],
   "source": [
    "# And we decided to consider both Possible Alexithymia and Alexithymia as the same (Positive) class\n",
    "docs_df['AlexLabel'] = docs_df['AlexLabel'].apply(lambda x: x.replace('PosAlex', 'Alex'))"
   ]
  },
  {
   "cell_type": "code",
   "execution_count": 12,
   "metadata": {},
   "outputs": [
    {
     "data": {
      "text/html": [
       "<div>\n",
       "<style scoped>\n",
       "    .dataframe tbody tr th:only-of-type {\n",
       "        vertical-align: middle;\n",
       "    }\n",
       "\n",
       "    .dataframe tbody tr th {\n",
       "        vertical-align: top;\n",
       "    }\n",
       "\n",
       "    .dataframe thead th {\n",
       "        text-align: right;\n",
       "    }\n",
       "</style>\n",
       "<table border=\"1\" class=\"dataframe\">\n",
       "  <thead>\n",
       "    <tr style=\"text-align: right;\">\n",
       "      <th></th>\n",
       "      <th>Text</th>\n",
       "    </tr>\n",
       "    <tr>\n",
       "      <th>AlexLabel</th>\n",
       "      <th></th>\n",
       "    </tr>\n",
       "  </thead>\n",
       "  <tbody>\n",
       "    <tr>\n",
       "      <th>Alex</th>\n",
       "      <td>76</td>\n",
       "    </tr>\n",
       "    <tr>\n",
       "      <th>NoAlex</th>\n",
       "      <td>240</td>\n",
       "    </tr>\n",
       "  </tbody>\n",
       "</table>\n",
       "</div>"
      ],
      "text/plain": [
       "           Text\n",
       "AlexLabel      \n",
       "Alex         76\n",
       "NoAlex      240"
      ]
     },
     "execution_count": 12,
     "metadata": {},
     "output_type": "execute_result"
    }
   ],
   "source": [
    "docs_df.groupby(by='AlexLabel').count()"
   ]
  },
  {
   "cell_type": "markdown",
   "metadata": {},
   "source": [
    "## Balancing training set"
   ]
  },
  {
   "cell_type": "code",
   "execution_count": 13,
   "metadata": {},
   "outputs": [],
   "source": [
    "grouped = docs_df.groupby(by='AlexLabel')"
   ]
  },
  {
   "cell_type": "code",
   "execution_count": 21,
   "metadata": {},
   "outputs": [],
   "source": [
    "balanced_df = pd.DataFrame(grouped.apply(lambda x: x.sample(grouped.size().min()).reset_index(drop=True)))"
   ]
  },
  {
   "cell_type": "code",
   "execution_count": 28,
   "metadata": {},
   "outputs": [
    {
     "data": {
      "text/html": [
       "<div>\n",
       "<style scoped>\n",
       "    .dataframe tbody tr th:only-of-type {\n",
       "        vertical-align: middle;\n",
       "    }\n",
       "\n",
       "    .dataframe tbody tr th {\n",
       "        vertical-align: top;\n",
       "    }\n",
       "\n",
       "    .dataframe thead th {\n",
       "        text-align: right;\n",
       "    }\n",
       "</style>\n",
       "<table border=\"1\" class=\"dataframe\">\n",
       "  <thead>\n",
       "    <tr style=\"text-align: right;\">\n",
       "      <th></th>\n",
       "      <th>Text</th>\n",
       "    </tr>\n",
       "    <tr>\n",
       "      <th>AlexLabel</th>\n",
       "      <th></th>\n",
       "    </tr>\n",
       "  </thead>\n",
       "  <tbody>\n",
       "    <tr>\n",
       "      <th>Alex</th>\n",
       "      <td>76</td>\n",
       "    </tr>\n",
       "    <tr>\n",
       "      <th>NoAlex</th>\n",
       "      <td>76</td>\n",
       "    </tr>\n",
       "  </tbody>\n",
       "</table>\n",
       "</div>"
      ],
      "text/plain": [
       "           Text\n",
       "AlexLabel      \n",
       "Alex         76\n",
       "NoAlex       76"
      ]
     },
     "execution_count": 28,
     "metadata": {},
     "output_type": "execute_result"
    }
   ],
   "source": [
    "balanced_df = balanced_df.rename_axis(['AlexGroup', 'NoAlexGroup'])\n",
    "balanced_df.groupby(by='AlexLabel').count()"
   ]
  },
  {
   "cell_type": "code",
   "execution_count": 29,
   "metadata": {},
   "outputs": [
    {
     "data": {
      "text/plain": [
       "Text         152\n",
       "AlexLabel    152\n",
       "dtype: int64"
      ]
     },
     "execution_count": 29,
     "metadata": {},
     "output_type": "execute_result"
    }
   ],
   "source": [
    "balanced_df.count()"
   ]
  },
  {
   "cell_type": "code",
   "execution_count": 31,
   "metadata": {},
   "outputs": [
    {
     "data": {
      "text/html": [
       "<div>\n",
       "<style scoped>\n",
       "    .dataframe tbody tr th:only-of-type {\n",
       "        vertical-align: middle;\n",
       "    }\n",
       "\n",
       "    .dataframe tbody tr th {\n",
       "        vertical-align: top;\n",
       "    }\n",
       "\n",
       "    .dataframe thead th {\n",
       "        text-align: right;\n",
       "    }\n",
       "</style>\n",
       "<table border=\"1\" class=\"dataframe\">\n",
       "  <thead>\n",
       "    <tr style=\"text-align: right;\">\n",
       "      <th></th>\n",
       "      <th>Text</th>\n",
       "      <th>AlexLabel</th>\n",
       "    </tr>\n",
       "  </thead>\n",
       "  <tbody>\n",
       "    <tr>\n",
       "      <th>0</th>\n",
       "      <td>Este niño está frustrado porque tiene demasiad...</td>\n",
       "      <td>NoAlex</td>\n",
       "    </tr>\n",
       "    <tr>\n",
       "      <th>1</th>\n",
       "      <td>2 jóvenes aventureros querían recuperar el tes...</td>\n",
       "      <td>NoAlex</td>\n",
       "    </tr>\n",
       "    <tr>\n",
       "      <th>2</th>\n",
       "      <td>despertando después de hacer el amor con una b...</td>\n",
       "      <td>Alex</td>\n",
       "    </tr>\n",
       "    <tr>\n",
       "      <th>3</th>\n",
       "      <td>Está la mujer dormida, su esposo se acaba de l...</td>\n",
       "      <td>NoAlex</td>\n",
       "    </tr>\n",
       "    <tr>\n",
       "      <th>4</th>\n",
       "      <td>Era un niño que miraba muy triste el violín, q...</td>\n",
       "      <td>Alex</td>\n",
       "    </tr>\n",
       "    <tr>\n",
       "      <th>5</th>\n",
       "      <td>Esto es una historia muy bonita porque se han ...</td>\n",
       "      <td>NoAlex</td>\n",
       "    </tr>\n",
       "    <tr>\n",
       "      <th>6</th>\n",
       "      <td>la ladera de una montaña, con algunas piedras ...</td>\n",
       "      <td>Alex</td>\n",
       "    </tr>\n",
       "    <tr>\n",
       "      <th>7</th>\n",
       "      <td>Cuatro colegas que pusieron una plantación en ...</td>\n",
       "      <td>NoAlex</td>\n",
       "    </tr>\n",
       "    <tr>\n",
       "      <th>8</th>\n",
       "      <td>La acababa de conocer en una discoteca y había...</td>\n",
       "      <td>Alex</td>\n",
       "    </tr>\n",
       "    <tr>\n",
       "      <th>9</th>\n",
       "      <td>Perezón de violín</td>\n",
       "      <td>NoAlex</td>\n",
       "    </tr>\n",
       "    <tr>\n",
       "      <th>10</th>\n",
       "      <td>carlitos, él tiene varios dias intentanto apre...</td>\n",
       "      <td>Alex</td>\n",
       "    </tr>\n",
       "    <tr>\n",
       "      <th>11</th>\n",
       "      <td>Parece una pareja y que es un hombre de median...</td>\n",
       "      <td>NoAlex</td>\n",
       "    </tr>\n",
       "    <tr>\n",
       "      <th>12</th>\n",
       "      <td>Un precioso lugar donde se respiraba y paz y d...</td>\n",
       "      <td>Alex</td>\n",
       "    </tr>\n",
       "    <tr>\n",
       "      <th>13</th>\n",
       "      <td>Un grupo de exploradores que decidieron acampa...</td>\n",
       "      <td>NoAlex</td>\n",
       "    </tr>\n",
       "    <tr>\n",
       "      <th>14</th>\n",
       "      <td>Un niño que se aburría mucho porque sus padres...</td>\n",
       "      <td>NoAlex</td>\n",
       "    </tr>\n",
       "    <tr>\n",
       "      <th>15</th>\n",
       "      <td>Un señor que se arrepiente de haber matado a s...</td>\n",
       "      <td>Alex</td>\n",
       "    </tr>\n",
       "    <tr>\n",
       "      <th>16</th>\n",
       "      <td>un lugar psicodelico al que nadie podía accede...</td>\n",
       "      <td>NoAlex</td>\n",
       "    </tr>\n",
       "    <tr>\n",
       "      <th>17</th>\n",
       "      <td>Un hombre que al volver de su trabajo encuentr...</td>\n",
       "      <td>NoAlex</td>\n",
       "    </tr>\n",
       "    <tr>\n",
       "      <th>18</th>\n",
       "      <td>Es gente que en una jornada laboral está desca...</td>\n",
       "      <td>Alex</td>\n",
       "    </tr>\n",
       "    <tr>\n",
       "      <th>19</th>\n",
       "      <td>Érase una vez un hombre que no amaba a su muje...</td>\n",
       "      <td>Alex</td>\n",
       "    </tr>\n",
       "    <tr>\n",
       "      <th>20</th>\n",
       "      <td>Érase una vez un pobre hombre, pobre, que comp...</td>\n",
       "      <td>NoAlex</td>\n",
       "    </tr>\n",
       "    <tr>\n",
       "      <th>21</th>\n",
       "      <td>Un hombre que tuvo que matar con mucha pena a ...</td>\n",
       "      <td>NoAlex</td>\n",
       "    </tr>\n",
       "    <tr>\n",
       "      <th>22</th>\n",
       "      <td>Pues no sé. Puede haber llegado por la noche d...</td>\n",
       "      <td>NoAlex</td>\n",
       "    </tr>\n",
       "    <tr>\n",
       "      <th>23</th>\n",
       "      <td>Le acaban de dar una noticia muy mala porque l...</td>\n",
       "      <td>NoAlex</td>\n",
       "    </tr>\n",
       "    <tr>\n",
       "      <th>24</th>\n",
       "      <td>Érase una vez una hormiga aventurera llamada L...</td>\n",
       "      <td>Alex</td>\n",
       "    </tr>\n",
       "    <tr>\n",
       "      <th>25</th>\n",
       "      <td>El hombre se levanta a trabajar, mientras su a...</td>\n",
       "      <td>Alex</td>\n",
       "    </tr>\n",
       "    <tr>\n",
       "      <th>26</th>\n",
       "      <td>un hombre y una mujer, puede que la mujer esté...</td>\n",
       "      <td>Alex</td>\n",
       "    </tr>\n",
       "    <tr>\n",
       "      <th>27</th>\n",
       "      <td>Para llegar al interior de la cueva había que ...</td>\n",
       "      <td>Alex</td>\n",
       "    </tr>\n",
       "    <tr>\n",
       "      <th>28</th>\n",
       "      <td>En esa cueva el agua se filtraba discurriendo ...</td>\n",
       "      <td>NoAlex</td>\n",
       "    </tr>\n",
       "    <tr>\n",
       "      <th>29</th>\n",
       "      <td>Érase una vez un niño llamado manolito, sus pa...</td>\n",
       "      <td>NoAlex</td>\n",
       "    </tr>\n",
       "    <tr>\n",
       "      <th>...</th>\n",
       "      <td>...</td>\n",
       "      <td>...</td>\n",
       "    </tr>\n",
       "    <tr>\n",
       "      <th>122</th>\n",
       "      <td>Alguien que está triste o cansado de algo y es...</td>\n",
       "      <td>Alex</td>\n",
       "    </tr>\n",
       "    <tr>\n",
       "      <th>123</th>\n",
       "      <td>una pareja que cuando el marido se iba a traba...</td>\n",
       "      <td>Alex</td>\n",
       "    </tr>\n",
       "    <tr>\n",
       "      <th>124</th>\n",
       "      <td>Érase una vez...un frondoso y mágico bosque ll...</td>\n",
       "      <td>Alex</td>\n",
       "    </tr>\n",
       "    <tr>\n",
       "      <th>125</th>\n",
       "      <td>un grupo de trabajadores descansando despues d...</td>\n",
       "      <td>Alex</td>\n",
       "    </tr>\n",
       "    <tr>\n",
       "      <th>126</th>\n",
       "      <td>El fin del camino empedrado estaba cerca, si t...</td>\n",
       "      <td>NoAlex</td>\n",
       "    </tr>\n",
       "    <tr>\n",
       "      <th>127</th>\n",
       "      <td>Érase una ve un lugar maravilloso, donde la ma...</td>\n",
       "      <td>Alex</td>\n",
       "    </tr>\n",
       "    <tr>\n",
       "      <th>128</th>\n",
       "      <td>unos tíos que se fueron de juerga y ahora está...</td>\n",
       "      <td>Alex</td>\n",
       "    </tr>\n",
       "    <tr>\n",
       "      <th>129</th>\n",
       "      <td>mientras dormía soñé que me despertaba siendo ...</td>\n",
       "      <td>NoAlex</td>\n",
       "    </tr>\n",
       "    <tr>\n",
       "      <th>130</th>\n",
       "      <td>Érase una vez un niño al que no le gustaba la ...</td>\n",
       "      <td>Alex</td>\n",
       "    </tr>\n",
       "    <tr>\n",
       "      <th>131</th>\n",
       "      <td>El doctor solo pudo certificar su muerte, esta...</td>\n",
       "      <td>NoAlex</td>\n",
       "    </tr>\n",
       "    <tr>\n",
       "      <th>132</th>\n",
       "      <td>Unos cazadores que están en el campo y están d...</td>\n",
       "      <td>NoAlex</td>\n",
       "    </tr>\n",
       "    <tr>\n",
       "      <th>133</th>\n",
       "      <td>Parece que alguien ha estado pescando. Ha term...</td>\n",
       "      <td>NoAlex</td>\n",
       "    </tr>\n",
       "    <tr>\n",
       "      <th>134</th>\n",
       "      <td>la historia de un hombre enamorado de sí mismo...</td>\n",
       "      <td>NoAlex</td>\n",
       "    </tr>\n",
       "    <tr>\n",
       "      <th>135</th>\n",
       "      <td>Era un paraje muy bonito, con una barca, un po...</td>\n",
       "      <td>Alex</td>\n",
       "    </tr>\n",
       "    <tr>\n",
       "      <th>136</th>\n",
       "      <td>Érase una vez un assalto a un castillo. Un gru...</td>\n",
       "      <td>Alex</td>\n",
       "    </tr>\n",
       "    <tr>\n",
       "      <th>137</th>\n",
       "      <td>Érase una vez una pareja. Ambos se encontraban...</td>\n",
       "      <td>NoAlex</td>\n",
       "    </tr>\n",
       "    <tr>\n",
       "      <th>138</th>\n",
       "      <td>El niño estaba sangrando por la boca porque se...</td>\n",
       "      <td>Alex</td>\n",
       "    </tr>\n",
       "    <tr>\n",
       "      <th>139</th>\n",
       "      <td>A este niño se le ha roto su violin el cual ha...</td>\n",
       "      <td>Alex</td>\n",
       "    </tr>\n",
       "    <tr>\n",
       "      <th>140</th>\n",
       "      <td>un niño al que le gustaba mucho tocar el violí...</td>\n",
       "      <td>NoAlex</td>\n",
       "    </tr>\n",
       "    <tr>\n",
       "      <th>141</th>\n",
       "      <td>Es un niño que está solo porque ha habido un i...</td>\n",
       "      <td>NoAlex</td>\n",
       "    </tr>\n",
       "    <tr>\n",
       "      <th>142</th>\n",
       "      <td>Es un chico que intenta estudiar y se está que...</td>\n",
       "      <td>Alex</td>\n",
       "    </tr>\n",
       "    <tr>\n",
       "      <th>143</th>\n",
       "      <td>Un día en el bosque en el que disfrutamos much...</td>\n",
       "      <td>Alex</td>\n",
       "    </tr>\n",
       "    <tr>\n",
       "      <th>144</th>\n",
       "      <td>una joven enferma que no pudo más y aprovecho ...</td>\n",
       "      <td>NoAlex</td>\n",
       "    </tr>\n",
       "    <tr>\n",
       "      <th>145</th>\n",
       "      <td>Parece ser que puede ser como un puente que en...</td>\n",
       "      <td>Alex</td>\n",
       "    </tr>\n",
       "    <tr>\n",
       "      <th>146</th>\n",
       "      <td>Estaba tumbado con sus amigos, viajando en un ...</td>\n",
       "      <td>Alex</td>\n",
       "    </tr>\n",
       "    <tr>\n",
       "      <th>147</th>\n",
       "      <td>un niño músico, sentado y pensativo mirando a ...</td>\n",
       "      <td>Alex</td>\n",
       "    </tr>\n",
       "    <tr>\n",
       "      <th>148</th>\n",
       "      <td>Érase una vez... unos caballeros que volvían d...</td>\n",
       "      <td>Alex</td>\n",
       "    </tr>\n",
       "    <tr>\n",
       "      <th>149</th>\n",
       "      <td>Un niño aburrido pensando como iba a aprender ...</td>\n",
       "      <td>NoAlex</td>\n",
       "    </tr>\n",
       "    <tr>\n",
       "      <th>150</th>\n",
       "      <td>Es un niño que está aburrido, está cansado de ...</td>\n",
       "      <td>NoAlex</td>\n",
       "    </tr>\n",
       "    <tr>\n",
       "      <th>151</th>\n",
       "      <td>Un acantilado rocoso y solitario</td>\n",
       "      <td>Alex</td>\n",
       "    </tr>\n",
       "  </tbody>\n",
       "</table>\n",
       "<p>152 rows × 2 columns</p>\n",
       "</div>"
      ],
      "text/plain": [
       "                                                  Text AlexLabel\n",
       "0    Este niño está frustrado porque tiene demasiad...    NoAlex\n",
       "1    2 jóvenes aventureros querían recuperar el tes...    NoAlex\n",
       "2    despertando después de hacer el amor con una b...      Alex\n",
       "3    Está la mujer dormida, su esposo se acaba de l...    NoAlex\n",
       "4    Era un niño que miraba muy triste el violín, q...      Alex\n",
       "5    Esto es una historia muy bonita porque se han ...    NoAlex\n",
       "6    la ladera de una montaña, con algunas piedras ...      Alex\n",
       "7    Cuatro colegas que pusieron una plantación en ...    NoAlex\n",
       "8    La acababa de conocer en una discoteca y había...      Alex\n",
       "9                                   Perezón de violín     NoAlex\n",
       "10   carlitos, él tiene varios dias intentanto apre...      Alex\n",
       "11   Parece una pareja y que es un hombre de median...    NoAlex\n",
       "12   Un precioso lugar donde se respiraba y paz y d...      Alex\n",
       "13   Un grupo de exploradores que decidieron acampa...    NoAlex\n",
       "14   Un niño que se aburría mucho porque sus padres...    NoAlex\n",
       "15   Un señor que se arrepiente de haber matado a s...      Alex\n",
       "16   un lugar psicodelico al que nadie podía accede...    NoAlex\n",
       "17   Un hombre que al volver de su trabajo encuentr...    NoAlex\n",
       "18   Es gente que en una jornada laboral está desca...      Alex\n",
       "19   Érase una vez un hombre que no amaba a su muje...      Alex\n",
       "20   Érase una vez un pobre hombre, pobre, que comp...    NoAlex\n",
       "21   Un hombre que tuvo que matar con mucha pena a ...    NoAlex\n",
       "22   Pues no sé. Puede haber llegado por la noche d...    NoAlex\n",
       "23   Le acaban de dar una noticia muy mala porque l...    NoAlex\n",
       "24   Érase una vez una hormiga aventurera llamada L...      Alex\n",
       "25   El hombre se levanta a trabajar, mientras su a...      Alex\n",
       "26   un hombre y una mujer, puede que la mujer esté...      Alex\n",
       "27   Para llegar al interior de la cueva había que ...      Alex\n",
       "28   En esa cueva el agua se filtraba discurriendo ...    NoAlex\n",
       "29   Érase una vez un niño llamado manolito, sus pa...    NoAlex\n",
       "..                                                 ...       ...\n",
       "122  Alguien que está triste o cansado de algo y es...      Alex\n",
       "123  una pareja que cuando el marido se iba a traba...      Alex\n",
       "124  Érase una vez...un frondoso y mágico bosque ll...      Alex\n",
       "125  un grupo de trabajadores descansando despues d...      Alex\n",
       "126  El fin del camino empedrado estaba cerca, si t...    NoAlex\n",
       "127  Érase una ve un lugar maravilloso, donde la ma...      Alex\n",
       "128  unos tíos que se fueron de juerga y ahora está...      Alex\n",
       "129  mientras dormía soñé que me despertaba siendo ...    NoAlex\n",
       "130  Érase una vez un niño al que no le gustaba la ...      Alex\n",
       "131  El doctor solo pudo certificar su muerte, esta...    NoAlex\n",
       "132  Unos cazadores que están en el campo y están d...    NoAlex\n",
       "133  Parece que alguien ha estado pescando. Ha term...    NoAlex\n",
       "134  la historia de un hombre enamorado de sí mismo...    NoAlex\n",
       "135  Era un paraje muy bonito, con una barca, un po...      Alex\n",
       "136  Érase una vez un assalto a un castillo. Un gru...      Alex\n",
       "137  Érase una vez una pareja. Ambos se encontraban...    NoAlex\n",
       "138  El niño estaba sangrando por la boca porque se...      Alex\n",
       "139  A este niño se le ha roto su violin el cual ha...      Alex\n",
       "140  un niño al que le gustaba mucho tocar el violí...    NoAlex\n",
       "141  Es un niño que está solo porque ha habido un i...    NoAlex\n",
       "142  Es un chico que intenta estudiar y se está que...      Alex\n",
       "143  Un día en el bosque en el que disfrutamos much...      Alex\n",
       "144  una joven enferma que no pudo más y aprovecho ...    NoAlex\n",
       "145  Parece ser que puede ser como un puente que en...      Alex\n",
       "146  Estaba tumbado con sus amigos, viajando en un ...      Alex\n",
       "147  un niño músico, sentado y pensativo mirando a ...      Alex\n",
       "148  Érase una vez... unos caballeros que volvían d...      Alex\n",
       "149  Un niño aburrido pensando como iba a aprender ...    NoAlex\n",
       "150  Es un niño que está aburrido, está cansado de ...    NoAlex\n",
       "151                   Un acantilado rocoso y solitario      Alex\n",
       "\n",
       "[152 rows x 2 columns]"
      ]
     },
     "execution_count": 31,
     "metadata": {},
     "output_type": "execute_result"
    }
   ],
   "source": [
    "balanced_df = balanced_df.sample(frac=1).reset_index(drop=True)\n",
    "balanced_df"
   ]
  },
  {
   "cell_type": "markdown",
   "metadata": {},
   "source": [
    "## Prepare training data set\n",
    "- X (independent variable) --> Text (narrative in Spanish)\n",
    "- y (dependent variable) --> Alexithymia label (Alex/NoAlex)"
   ]
  },
  {
   "cell_type": "code",
   "execution_count": 32,
   "metadata": {},
   "outputs": [],
   "source": [
    "import numpy as np"
   ]
  },
  {
   "cell_type": "code",
   "execution_count": 33,
   "metadata": {},
   "outputs": [],
   "source": [
    "X = balanced_df['Text'].apply(lambda x: x.split())\n",
    "y = balanced_df['AlexLabel']\n",
    "\n",
    "X = np.array(X)\n",
    "y = np.array(y)"
   ]
  },
  {
   "cell_type": "code",
   "execution_count": 34,
   "metadata": {},
   "outputs": [
    {
     "name": "stdout",
     "output_type": "stream",
     "text": [
      "Number of examples: 152\n"
     ]
    }
   ],
   "source": [
    "print (\"Number of examples: %s\" % len(y))"
   ]
  },
  {
   "cell_type": "markdown",
   "metadata": {},
   "source": [
    "## Evaluation Metrics definition"
   ]
  },
  {
   "cell_type": "code",
   "execution_count": 35,
   "metadata": {},
   "outputs": [],
   "source": [
    "from sklearn.metrics import precision_score, recall_score, f1_score, make_scorer\n",
    "from sklearn.metrics import roc_auc_score"
   ]
  },
  {
   "cell_type": "code",
   "execution_count": 36,
   "metadata": {},
   "outputs": [],
   "source": [
    "# Precision detecting the presencen of alexithymia\n",
    "alex_precision_scorer = make_scorer(precision_score, pos_label='Alex')\n",
    "\n",
    "# Precision detecting the absence of alexithymia\n",
    "noalex_precision_scorer = make_scorer(precision_score, pos_label='NoAlex')\n",
    "\n",
    "# sensitivity for the presence of alexithymia: recall, hit rate, or true positive rate (TPR).\n",
    "alex_recall_scorer = make_scorer(recall_score, pos_label='Alex')\n",
    "\n",
    "# sensitivity for the absence of alexithymia: recall, hit rate, or true positive rate (TPR).\n",
    "noalex_recall_scorer = make_scorer(recall_score, pos_label='NoAlex')\n",
    "\n",
    "# F1 Score the presence of alexithymia: harmonic mean of precision and sensitivity.\n",
    "alex_f1_scorer = make_scorer(f1_score, pos_label='Alex')\n",
    "\n",
    "# F1 Score the absence of alexithymia: harmonic mean of precision and sensitivity.\n",
    "noalex_f1_scorer = make_scorer(f1_score, pos_label='NoAlex')"
   ]
  },
  {
   "cell_type": "code",
   "execution_count": 37,
   "metadata": {},
   "outputs": [
    {
     "data": {
      "text/html": [
       "<div>\n",
       "<style scoped>\n",
       "    .dataframe tbody tr th:only-of-type {\n",
       "        vertical-align: middle;\n",
       "    }\n",
       "\n",
       "    .dataframe tbody tr th {\n",
       "        vertical-align: top;\n",
       "    }\n",
       "\n",
       "    .dataframe thead th {\n",
       "        text-align: right;\n",
       "    }\n",
       "</style>\n",
       "<table border=\"1\" class=\"dataframe\">\n",
       "  <thead>\n",
       "    <tr style=\"text-align: right;\">\n",
       "      <th></th>\n",
       "      <th>ModelName</th>\n",
       "      <th>ShortName</th>\n",
       "      <th>Accuracy</th>\n",
       "      <th>AUC</th>\n",
       "      <th>AlexPrecision</th>\n",
       "      <th>NoAlexPrecision</th>\n",
       "      <th>AlexRecall</th>\n",
       "      <th>NoAlexRecall</th>\n",
       "      <th>AlexF1</th>\n",
       "      <th>NoAlexF1</th>\n",
       "    </tr>\n",
       "  </thead>\n",
       "  <tbody>\n",
       "  </tbody>\n",
       "</table>\n",
       "</div>"
      ],
      "text/plain": [
       "Empty DataFrame\n",
       "Columns: [ModelName, ShortName, Accuracy, AUC, AlexPrecision, NoAlexPrecision, AlexRecall, NoAlexRecall, AlexF1, NoAlexF1]\n",
       "Index: []"
      ]
     },
     "execution_count": 37,
     "metadata": {},
     "output_type": "execute_result"
    }
   ],
   "source": [
    "# A dataframe to store all evaluation results\n",
    "col_names =  ['ModelName', 'ShortName', 'Accuracy', 'AUC', 'AlexPrecision', 'NoAlexPrecision', 'AlexRecall', 'NoAlexRecall', 'AlexF1', 'NoAlexF1']\n",
    "eval_df  = pd.DataFrame(columns = col_names)\n",
    "eval_df"
   ]
  },
  {
   "cell_type": "markdown",
   "metadata": {},
   "source": [
    "## Evaluation helper functions"
   ]
  },
  {
   "cell_type": "code",
   "execution_count": 38,
   "metadata": {},
   "outputs": [],
   "source": [
    "import numpy as np\n",
    "import matplotlib.pyplot as plt\n",
    "from sklearn.utils.multiclass import unique_labels"
   ]
  },
  {
   "cell_type": "code",
   "execution_count": 39,
   "metadata": {},
   "outputs": [],
   "source": [
    "def plot_confusion_matrix(y_true, y_pred, classes,\n",
    "                          normalize=False,\n",
    "                          title=None,\n",
    "                          cmap=plt.cm.Blues):\n",
    "    \"\"\"\n",
    "    This function prints and plots the confusion matrix.\n",
    "    Normalization can be applied by setting `normalize=True`.\n",
    "    \"\"\"\n",
    "    if not title:\n",
    "        if normalize:\n",
    "            title = 'Normalized confusion matrix'\n",
    "        else:\n",
    "            title = 'Confusion matrix, without normalization'\n",
    "\n",
    "    # Compute confusion matrix\n",
    "    cm = confusion_matrix(y_true, y_pred)\n",
    "    # Only use the labels that appear in the data\n",
    "    classes = ['Alex','NoAlex']\n",
    "    if normalize:\n",
    "        cm = cm.astype('float') / cm.sum(axis=1)[:, np.newaxis]\n",
    "        print(\"Normalized confusion matrix\")\n",
    "    else:\n",
    "        print('Confusion matrix, without normalization')\n",
    "\n",
    "    print(cm)\n",
    "\n",
    "    fig, ax = plt.subplots()\n",
    "    im = ax.imshow(cm, interpolation='nearest', cmap=cmap)\n",
    "    ax.figure.colorbar(im, ax=ax)\n",
    "    # We want to show all ticks...\n",
    "    ax.set(xticks=np.arange(cm.shape[1]),\n",
    "           yticks=np.arange(cm.shape[0]),\n",
    "           # ... and label them with the respective list entries\n",
    "           xticklabels=classes, yticklabels=classes,\n",
    "           title=title,\n",
    "           ylabel='True label',\n",
    "           xlabel='Predicted label')\n",
    "\n",
    "    # Rotate the tick labels and set their alignment.\n",
    "    plt.setp(ax.get_xticklabels(), rotation=45, ha=\"right\",\n",
    "             rotation_mode=\"anchor\")\n",
    "\n",
    "    # Loop over data dimensions and create text annotations.\n",
    "    fmt = '.2f' if normalize else 'd'\n",
    "    thresh = cm.max() / 2.\n",
    "    for i in range(cm.shape[0]):\n",
    "        for j in range(cm.shape[1]):\n",
    "            ax.text(j, i, format(cm[i, j], fmt),\n",
    "                    ha=\"center\", va=\"center\",\n",
    "                    color=\"white\" if cm[i, j] > thresh else \"black\")\n",
    "    fig.tight_layout()\n",
    "    return ax"
   ]
  },
  {
   "cell_type": "markdown",
   "metadata": {},
   "source": [
    "## Classifier with Word Counts and Multinomial Naive Bayes\n",
    "Multinomial Naive Bayes works with ocurrence counts, therefore we use here a feature vector with word counts for each document. \n",
    "- X: Vector with word counts.\n",
    "- y: Alexithymia label."
   ]
  },
  {
   "cell_type": "code",
   "execution_count": 40,
   "metadata": {},
   "outputs": [],
   "source": [
    "from sklearn.pipeline import Pipeline\n",
    "from sklearn.naive_bayes import MultinomialNB\n",
    "from sklearn.feature_extraction.text import CountVectorizer\n",
    "from sklearn.model_selection import cross_val_score\n",
    "from sklearn.model_selection import cross_validate"
   ]
  },
  {
   "cell_type": "code",
   "execution_count": 41,
   "metadata": {},
   "outputs": [],
   "source": [
    "# Multinomial Naive Bayes using vectors with word counts\n",
    "multinb_pipe = Pipeline([(\"count_vectorizer\", CountVectorizer(analyzer=lambda x: x)), (\"multinomial nb\", MultinomialNB())])"
   ]
  },
  {
   "cell_type": "code",
   "execution_count": 42,
   "metadata": {},
   "outputs": [
    {
     "data": {
      "text/plain": [
       "0.5232142857142856"
      ]
     },
     "execution_count": 42,
     "metadata": {},
     "output_type": "execute_result"
    }
   ],
   "source": [
    "cross_val_score(multinb_pipe, X, y, cv=10).mean()"
   ]
  },
  {
   "cell_type": "code",
   "execution_count": 43,
   "metadata": {},
   "outputs": [],
   "source": [
    "scores = cross_validate(multinb_pipe, X, y, cv=10,\n",
    "                        scoring=('accuracy'),\n",
    "                        return_train_score=True)"
   ]
  },
  {
   "cell_type": "code",
   "execution_count": 44,
   "metadata": {},
   "outputs": [
    {
     "data": {
      "text/plain": [
       "0.5232142857142856"
      ]
     },
     "execution_count": 44,
     "metadata": {},
     "output_type": "execute_result"
    }
   ],
   "source": [
    "accuracy = scores['test_score'].mean()\n",
    "accuracy"
   ]
  },
  {
   "cell_type": "code",
   "execution_count": 45,
   "metadata": {},
   "outputs": [],
   "source": [
    "scores = cross_validate(multinb_pipe, X, y, cv=10,\n",
    "                        scoring=('roc_auc'),\n",
    "                        return_train_score=True)"
   ]
  },
  {
   "cell_type": "code",
   "execution_count": 46,
   "metadata": {},
   "outputs": [
    {
     "data": {
      "text/plain": [
       "0.5519132653061224"
      ]
     },
     "execution_count": 46,
     "metadata": {},
     "output_type": "execute_result"
    }
   ],
   "source": [
    "auc = scores['test_score'].mean()\n",
    "auc"
   ]
  },
  {
   "cell_type": "code",
   "execution_count": 47,
   "metadata": {},
   "outputs": [],
   "source": [
    "scores = cross_validate(multinb_pipe, X, y, cv=10,\n",
    "                        scoring=alex_precision_scorer, \n",
    "                        return_train_score=True)\n",
    "# Warning messages appear due to no positive Alexithymia predicted samples"
   ]
  },
  {
   "cell_type": "code",
   "execution_count": 48,
   "metadata": {},
   "outputs": [
    {
     "data": {
      "text/plain": [
       "0.5986111111111111"
      ]
     },
     "execution_count": 48,
     "metadata": {},
     "output_type": "execute_result"
    }
   ],
   "source": [
    "alex_prec = scores['test_score'].mean()\n",
    "alex_prec"
   ]
  },
  {
   "cell_type": "code",
   "execution_count": 49,
   "metadata": {},
   "outputs": [],
   "source": [
    "scores = cross_validate(multinb_pipe, X, y, cv=10,\n",
    "                        scoring=noalex_precision_scorer, \n",
    "                        return_train_score=True)"
   ]
  },
  {
   "cell_type": "code",
   "execution_count": 50,
   "metadata": {},
   "outputs": [
    {
     "data": {
      "text/plain": [
       "0.5102747252747253"
      ]
     },
     "execution_count": 50,
     "metadata": {},
     "output_type": "execute_result"
    }
   ],
   "source": [
    "noalex_prec = scores['test_score'].mean()\n",
    "noalex_prec"
   ]
  },
  {
   "cell_type": "code",
   "execution_count": 51,
   "metadata": {},
   "outputs": [],
   "source": [
    "scores = cross_validate(multinb_pipe, X, y, cv=10,\n",
    "                        scoring=alex_recall_scorer, \n",
    "                        return_train_score=True)"
   ]
  },
  {
   "cell_type": "code",
   "execution_count": 52,
   "metadata": {},
   "outputs": [
    {
     "data": {
      "text/plain": [
       "0.4035714285714286"
      ]
     },
     "execution_count": 52,
     "metadata": {},
     "output_type": "execute_result"
    }
   ],
   "source": [
    "alex_recall = scores['test_score'].mean()\n",
    "alex_recall"
   ]
  },
  {
   "cell_type": "code",
   "execution_count": 53,
   "metadata": {},
   "outputs": [],
   "source": [
    "scores = cross_validate(multinb_pipe, X, y, cv=10,\n",
    "                        scoring=noalex_recall_scorer, \n",
    "                        return_train_score=True)"
   ]
  },
  {
   "cell_type": "code",
   "execution_count": 54,
   "metadata": {},
   "outputs": [
    {
     "data": {
      "text/plain": [
       "0.6428571428571429"
      ]
     },
     "execution_count": 54,
     "metadata": {},
     "output_type": "execute_result"
    }
   ],
   "source": [
    "noalex_recall = scores['test_score'].mean()\n",
    "noalex_recall"
   ]
  },
  {
   "cell_type": "code",
   "execution_count": 55,
   "metadata": {},
   "outputs": [],
   "source": [
    "scores = cross_validate(multinb_pipe, X, y, cv=10,\n",
    "                        scoring=alex_f1_scorer, \n",
    "                        return_train_score=True)"
   ]
  },
  {
   "cell_type": "code",
   "execution_count": 56,
   "metadata": {},
   "outputs": [
    {
     "data": {
      "text/plain": [
       "0.4392904154668861"
      ]
     },
     "execution_count": 56,
     "metadata": {},
     "output_type": "execute_result"
    }
   ],
   "source": [
    "alex_f1 = scores['test_score'].mean()\n",
    "alex_f1"
   ]
  },
  {
   "cell_type": "code",
   "execution_count": 57,
   "metadata": {},
   "outputs": [],
   "source": [
    "scores = cross_validate(multinb_pipe, X, y, cv=10,\n",
    "                        scoring=noalex_f1_scorer, \n",
    "                        return_train_score=True)"
   ]
  },
  {
   "cell_type": "code",
   "execution_count": 58,
   "metadata": {},
   "outputs": [
    {
     "data": {
      "text/plain": [
       "0.558075569940895"
      ]
     },
     "execution_count": 58,
     "metadata": {},
     "output_type": "execute_result"
    }
   ],
   "source": [
    "noalex_f1 = scores['test_score'].mean()\n",
    "noalex_f1"
   ]
  },
  {
   "cell_type": "code",
   "execution_count": 59,
   "metadata": {},
   "outputs": [
    {
     "name": "stdout",
     "output_type": "stream",
     "text": [
      "Confusion matrix, without normalization\n",
      "[[31 45]\n",
      " [27 49]]\n"
     ]
    },
    {
     "data": {
      "text/plain": [
       "<matplotlib.axes._subplots.AxesSubplot at 0x256466daa90>"
      ]
     },
     "execution_count": 59,
     "metadata": {},
     "output_type": "execute_result"
    },
    {
     "data": {
      "image/png": "[encoded data removed]",
      "text/plain": [
       "<Figure size 432x288 with 2 Axes>"
      ]
     },
     "metadata": {
      "needs_background": "light"
     },
     "output_type": "display_data"
    }
   ],
   "source": [
    "# CONFUSION MATRIX PLOT\n",
    "from sklearn.model_selection import cross_val_predict\n",
    "from sklearn.metrics import confusion_matrix\n",
    "np.set_printoptions(precision=2)\n",
    "y_pred = cross_val_predict(multinb_pipe, X, y, cv=10)\n",
    "plot_confusion_matrix(y, y_pred, classes=['Alex', 'NoAlex'],\n",
    "                      title='Confusion Matrix')"
   ]
  },
  {
   "cell_type": "code",
   "execution_count": 60,
   "metadata": {},
   "outputs": [
    {
     "data": {
      "image/png": "[encoded data removed]",
      "text/plain": [
       "<Figure size 504x432 with 1 Axes>"
      ]
     },
     "metadata": {
      "needs_background": "light"
     },
     "output_type": "display_data"
    }
   ],
   "source": [
    "# ROC CURVE PLOT\n",
    "import scikitplot as skplt\n",
    "y_probas = cross_val_predict(multinb_pipe, X, y, cv=10, method='predict_proba')\n",
    "skplt.metrics.plot_roc(y, y_probas, title=\"ROC - Multinomial Naive Bayes with Word Counts\",\n",
    "                      plot_micro=False, plot_macro=False,\n",
    "                      figsize=(7,6), text_fontsize=12, title_fontsize=14)\n",
    "plt.show()"
   ]
  },
  {
   "cell_type": "code",
   "execution_count": 61,
   "metadata": {},
   "outputs": [],
   "source": [
    "# Save all results from this model to the evaluation results dataframe\n",
    "eval_df.loc[len(eval_df)] = [\"Multinomial Naive Bayes with WC Vectors\", \"MultiNB\",\n",
    "                             accuracy, auc, alex_prec, noalex_prec, \n",
    "                             alex_recall, noalex_recall, alex_f1, noalex_f1]"
   ]
  },
  {
   "cell_type": "code",
   "execution_count": 62,
   "metadata": {},
   "outputs": [
    {
     "data": {
      "text/html": [
       "<div>\n",
       "<style scoped>\n",
       "    .dataframe tbody tr th:only-of-type {\n",
       "        vertical-align: middle;\n",
       "    }\n",
       "\n",
       "    .dataframe tbody tr th {\n",
       "        vertical-align: top;\n",
       "    }\n",
       "\n",
       "    .dataframe thead th {\n",
       "        text-align: right;\n",
       "    }\n",
       "</style>\n",
       "<table border=\"1\" class=\"dataframe\">\n",
       "  <thead>\n",
       "    <tr style=\"text-align: right;\">\n",
       "      <th></th>\n",
       "      <th>ModelName</th>\n",
       "      <th>ShortName</th>\n",
       "      <th>Accuracy</th>\n",
       "      <th>AUC</th>\n",
       "      <th>AlexPrecision</th>\n",
       "      <th>NoAlexPrecision</th>\n",
       "      <th>AlexRecall</th>\n",
       "      <th>NoAlexRecall</th>\n",
       "      <th>AlexF1</th>\n",
       "      <th>NoAlexF1</th>\n",
       "    </tr>\n",
       "  </thead>\n",
       "  <tbody>\n",
       "    <tr>\n",
       "      <th>0</th>\n",
       "      <td>Multinomial Naive Bayes with WC Vectors</td>\n",
       "      <td>MultiNB</td>\n",
       "      <td>0.523214</td>\n",
       "      <td>0.551913</td>\n",
       "      <td>0.598611</td>\n",
       "      <td>0.510275</td>\n",
       "      <td>0.403571</td>\n",
       "      <td>0.642857</td>\n",
       "      <td>0.43929</td>\n",
       "      <td>0.558076</td>\n",
       "    </tr>\n",
       "  </tbody>\n",
       "</table>\n",
       "</div>"
      ],
      "text/plain": [
       "                                 ModelName ShortName  Accuracy       AUC  \\\n",
       "0  Multinomial Naive Bayes with WC Vectors   MultiNB  0.523214  0.551913   \n",
       "\n",
       "   AlexPrecision  NoAlexPrecision  AlexRecall  NoAlexRecall   AlexF1  NoAlexF1  \n",
       "0       0.598611         0.510275    0.403571      0.642857  0.43929  0.558076  "
      ]
     },
     "execution_count": 62,
     "metadata": {},
     "output_type": "execute_result"
    }
   ],
   "source": [
    "eval_df.tail()"
   ]
  },
  {
   "cell_type": "markdown",
   "metadata": {},
   "source": [
    "## Classifier with Word Counts and Multivariate Bernoulli Naive Bayes\n",
    "Multivariate Bernoulli works with discrete data (boolean flags), therefore we use here a feature vector with word counts for each document. \n",
    "- X: Vector with word counts.\n",
    "- y: Alexithymia label."
   ]
  },
  {
   "cell_type": "code",
   "execution_count": 63,
   "metadata": {},
   "outputs": [],
   "source": [
    "from sklearn.pipeline import Pipeline\n",
    "from sklearn.naive_bayes import BernoulliNB\n",
    "from sklearn.feature_extraction.text import CountVectorizer\n",
    "from sklearn.model_selection import cross_val_score\n",
    "from sklearn.model_selection import cross_validate"
   ]
  },
  {
   "cell_type": "code",
   "execution_count": 64,
   "metadata": {},
   "outputs": [],
   "source": [
    "# Multinomial Naive Bayes using vectors with word counts\n",
    "bernnb_pipe = Pipeline([(\"count_vectorizer\", CountVectorizer(analyzer=lambda x: x)), (\"bernoulli nb\", BernoulliNB())])"
   ]
  },
  {
   "cell_type": "code",
   "execution_count": 65,
   "metadata": {},
   "outputs": [
    {
     "data": {
      "text/plain": [
       "0.5767857142857142"
      ]
     },
     "execution_count": 65,
     "metadata": {},
     "output_type": "execute_result"
    }
   ],
   "source": [
    "cross_val_score(bernnb_pipe, X, y, cv=10).mean()"
   ]
  },
  {
   "cell_type": "code",
   "execution_count": 66,
   "metadata": {},
   "outputs": [],
   "source": [
    "scores = cross_validate(bernnb_pipe, X, y, cv=10,\n",
    "                        scoring=('accuracy'),\n",
    "                        return_train_score=True)"
   ]
  },
  {
   "cell_type": "code",
   "execution_count": 67,
   "metadata": {},
   "outputs": [
    {
     "data": {
      "text/plain": [
       "0.5767857142857142"
      ]
     },
     "execution_count": 67,
     "metadata": {},
     "output_type": "execute_result"
    }
   ],
   "source": [
    "accuracy = scores['test_score'].mean()\n",
    "accuracy"
   ]
  },
  {
   "cell_type": "code",
   "execution_count": 68,
   "metadata": {},
   "outputs": [],
   "source": [
    "scores = cross_validate(bernnb_pipe, X, y, cv=10,\n",
    "                        scoring=('roc_auc'),\n",
    "                        return_train_score=True)"
   ]
  },
  {
   "cell_type": "code",
   "execution_count": 69,
   "metadata": {},
   "outputs": [
    {
     "data": {
      "text/plain": [
       "0.5455357142857143"
      ]
     },
     "execution_count": 69,
     "metadata": {},
     "output_type": "execute_result"
    }
   ],
   "source": [
    "auc = scores['test_score'].mean()\n",
    "auc"
   ]
  },
  {
   "cell_type": "code",
   "execution_count": 70,
   "metadata": {},
   "outputs": [],
   "source": [
    "scores = cross_validate(bernnb_pipe, X, y, cv=10,\n",
    "                        scoring=alex_precision_scorer, \n",
    "                        return_train_score=True)"
   ]
  },
  {
   "cell_type": "code",
   "execution_count": 71,
   "metadata": {},
   "outputs": [
    {
     "data": {
      "text/plain": [
       "0.5496470196470196"
      ]
     },
     "execution_count": 71,
     "metadata": {},
     "output_type": "execute_result"
    }
   ],
   "source": [
    "alex_prec = scores['test_score'].mean()\n",
    "alex_prec"
   ]
  },
  {
   "cell_type": "code",
   "execution_count": 72,
   "metadata": {},
   "outputs": [
    {
     "name": "stderr",
     "output_type": "stream",
     "text": [
      "C:\\Users\\array\\Anaconda3\\lib\\site-packages\\sklearn\\metrics\\classification.py:1143: UndefinedMetricWarning: Precision is ill-defined and being set to 0.0 due to no predicted samples.\n",
      "  'precision', 'predicted', average, warn_for)\n",
      "C:\\Users\\array\\Anaconda3\\lib\\site-packages\\sklearn\\metrics\\classification.py:1143: UndefinedMetricWarning: Precision is ill-defined and being set to 0.0 due to no predicted samples.\n",
      "  'precision', 'predicted', average, warn_for)\n",
      "C:\\Users\\array\\Anaconda3\\lib\\site-packages\\sklearn\\metrics\\classification.py:1143: UndefinedMetricWarning: Precision is ill-defined and being set to 0.0 due to no predicted samples.\n",
      "  'precision', 'predicted', average, warn_for)\n"
     ]
    }
   ],
   "source": [
    "scores = cross_validate(bernnb_pipe, X, y, cv=10,\n",
    "                        scoring=noalex_precision_scorer, \n",
    "                        return_train_score=True)"
   ]
  },
  {
   "cell_type": "code",
   "execution_count": 73,
   "metadata": {},
   "outputs": [
    {
     "data": {
      "text/plain": [
       "0.5466666666666666"
      ]
     },
     "execution_count": 73,
     "metadata": {},
     "output_type": "execute_result"
    }
   ],
   "source": [
    "noalex_prec = scores['test_score'].mean()\n",
    "noalex_prec"
   ]
  },
  {
   "cell_type": "code",
   "execution_count": 74,
   "metadata": {},
   "outputs": [],
   "source": [
    "scores = cross_validate(bernnb_pipe, X, y, cv=10,\n",
    "                        scoring=alex_recall_scorer, \n",
    "                        return_train_score=True)"
   ]
  },
  {
   "cell_type": "code",
   "execution_count": 75,
   "metadata": {},
   "outputs": [
    {
     "data": {
      "text/plain": [
       "0.9607142857142857"
      ]
     },
     "execution_count": 75,
     "metadata": {},
     "output_type": "execute_result"
    }
   ],
   "source": [
    "alex_recall = scores['test_score'].mean()\n",
    "alex_recall"
   ]
  },
  {
   "cell_type": "code",
   "execution_count": 76,
   "metadata": {},
   "outputs": [],
   "source": [
    "scores = cross_validate(bernnb_pipe, X, y, cv=10,\n",
    "                        scoring=noalex_recall_scorer, \n",
    "                        return_train_score=True)"
   ]
  },
  {
   "cell_type": "code",
   "execution_count": 77,
   "metadata": {},
   "outputs": [
    {
     "data": {
      "text/plain": [
       "0.19285714285714284"
      ]
     },
     "execution_count": 77,
     "metadata": {},
     "output_type": "execute_result"
    }
   ],
   "source": [
    "noalex_recall = scores['test_score'].mean()\n",
    "noalex_recall"
   ]
  },
  {
   "cell_type": "code",
   "execution_count": 78,
   "metadata": {},
   "outputs": [],
   "source": [
    "scores = cross_validate(bernnb_pipe, X, y, cv=10,\n",
    "                        scoring=alex_f1_scorer, \n",
    "                        return_train_score=True)"
   ]
  },
  {
   "cell_type": "code",
   "execution_count": 79,
   "metadata": {},
   "outputs": [
    {
     "data": {
      "text/plain": [
       "0.6966749878649192"
      ]
     },
     "execution_count": 79,
     "metadata": {},
     "output_type": "execute_result"
    }
   ],
   "source": [
    "alex_f1 = scores['test_score'].mean()\n",
    "alex_f1"
   ]
  },
  {
   "cell_type": "code",
   "execution_count": 80,
   "metadata": {},
   "outputs": [
    {
     "name": "stderr",
     "output_type": "stream",
     "text": [
      "C:\\Users\\array\\Anaconda3\\lib\\site-packages\\sklearn\\metrics\\classification.py:1143: UndefinedMetricWarning: F-score is ill-defined and being set to 0.0 due to no predicted samples.\n",
      "  'precision', 'predicted', average, warn_for)\n",
      "C:\\Users\\array\\Anaconda3\\lib\\site-packages\\sklearn\\metrics\\classification.py:1143: UndefinedMetricWarning: F-score is ill-defined and being set to 0.0 due to no predicted samples.\n",
      "  'precision', 'predicted', average, warn_for)\n",
      "C:\\Users\\array\\Anaconda3\\lib\\site-packages\\sklearn\\metrics\\classification.py:1143: UndefinedMetricWarning: F-score is ill-defined and being set to 0.0 due to no predicted samples.\n",
      "  'precision', 'predicted', average, warn_for)\n"
     ]
    }
   ],
   "source": [
    "scores = cross_validate(bernnb_pipe, X, y, cv=10,\n",
    "                        scoring=noalex_f1_scorer, \n",
    "                        return_train_score=True)"
   ]
  },
  {
   "cell_type": "code",
   "execution_count": 81,
   "metadata": {},
   "outputs": [
    {
     "data": {
      "text/plain": [
       "0.27320512820512816"
      ]
     },
     "execution_count": 81,
     "metadata": {},
     "output_type": "execute_result"
    }
   ],
   "source": [
    "noalex_f1 = scores['test_score'].mean()\n",
    "noalex_f1"
   ]
  },
  {
   "cell_type": "code",
   "execution_count": 82,
   "metadata": {},
   "outputs": [
    {
     "name": "stdout",
     "output_type": "stream",
     "text": [
      "Confusion matrix, without normalization\n",
      "[[73  3]\n",
      " [61 15]]\n"
     ]
    },
    {
     "data": {
      "text/plain": [
       "<matplotlib.axes._subplots.AxesSubplot at 0x2565684a9e8>"
      ]
     },
     "execution_count": 82,
     "metadata": {},
     "output_type": "execute_result"
    },
    {
     "data": {
      "image/png": "[encoded data removed]",
      "text/plain": [
       "<Figure size 432x288 with 2 Axes>"
      ]
     },
     "metadata": {
      "needs_background": "light"
     },
     "output_type": "display_data"
    }
   ],
   "source": [
    "# CONFUSION MATRIX PLOT\n",
    "from sklearn.model_selection import cross_val_predict\n",
    "from sklearn.metrics import confusion_matrix\n",
    "np.set_printoptions(precision=2)\n",
    "y_pred = cross_val_predict(bernnb_pipe, X, y, cv=10)\n",
    "plot_confusion_matrix(y, y_pred, classes=['Alex', 'NoAlex'],\n",
    "                      title='Confusion Matrix')"
   ]
  },
  {
   "cell_type": "code",
   "execution_count": 83,
   "metadata": {},
   "outputs": [
    {
     "data": {
      "image/png": "[encoded data removed]",
      "text/plain": [
       "<Figure size 504x432 with 1 Axes>"
      ]
     },
     "metadata": {
      "needs_background": "light"
     },
     "output_type": "display_data"
    }
   ],
   "source": [
    "# ROC CURVE PLOT\n",
    "import scikitplot as skplt\n",
    "y_probas = cross_val_predict(bernnb_pipe, X, y, cv=10, method='predict_proba')\n",
    "skplt.metrics.plot_roc(y, y_probas, title=\"ROC - Bernoulli Naive Bayes with Word Counts\",\n",
    "                      plot_micro=False, plot_macro=False,\n",
    "                      figsize=(7,6), text_fontsize=12, title_fontsize=14)\n",
    "plt.show()"
   ]
  },
  {
   "cell_type": "code",
   "execution_count": 84,
   "metadata": {},
   "outputs": [],
   "source": [
    "# Save all results from this model to the evaluation results dataframe\n",
    "eval_df.loc[len(eval_df)] = [\"Bernoulli Naive Bayes with Word Counts\", \"BernoulliNB\",\n",
    "                             accuracy, auc, alex_prec, noalex_prec, \n",
    "                             alex_recall, noalex_recall, alex_f1, noalex_f1]"
   ]
  },
  {
   "cell_type": "code",
   "execution_count": 85,
   "metadata": {},
   "outputs": [
    {
     "data": {
      "text/html": [
       "<div>\n",
       "<style scoped>\n",
       "    .dataframe tbody tr th:only-of-type {\n",
       "        vertical-align: middle;\n",
       "    }\n",
       "\n",
       "    .dataframe tbody tr th {\n",
       "        vertical-align: top;\n",
       "    }\n",
       "\n",
       "    .dataframe thead th {\n",
       "        text-align: right;\n",
       "    }\n",
       "</style>\n",
       "<table border=\"1\" class=\"dataframe\">\n",
       "  <thead>\n",
       "    <tr style=\"text-align: right;\">\n",
       "      <th></th>\n",
       "      <th>ModelName</th>\n",
       "      <th>ShortName</th>\n",
       "      <th>Accuracy</th>\n",
       "      <th>AUC</th>\n",
       "      <th>AlexPrecision</th>\n",
       "      <th>NoAlexPrecision</th>\n",
       "      <th>AlexRecall</th>\n",
       "      <th>NoAlexRecall</th>\n",
       "      <th>AlexF1</th>\n",
       "      <th>NoAlexF1</th>\n",
       "    </tr>\n",
       "  </thead>\n",
       "  <tbody>\n",
       "    <tr>\n",
       "      <th>0</th>\n",
       "      <td>Multinomial Naive Bayes with WC Vectors</td>\n",
       "      <td>MultiNB</td>\n",
       "      <td>0.523214</td>\n",
       "      <td>0.551913</td>\n",
       "      <td>0.598611</td>\n",
       "      <td>0.510275</td>\n",
       "      <td>0.403571</td>\n",
       "      <td>0.642857</td>\n",
       "      <td>0.439290</td>\n",
       "      <td>0.558076</td>\n",
       "    </tr>\n",
       "    <tr>\n",
       "      <th>1</th>\n",
       "      <td>Bernoulli Naive Bayes with Word Counts</td>\n",
       "      <td>BernoulliNB</td>\n",
       "      <td>0.576786</td>\n",
       "      <td>0.545536</td>\n",
       "      <td>0.549647</td>\n",
       "      <td>0.546667</td>\n",
       "      <td>0.960714</td>\n",
       "      <td>0.192857</td>\n",
       "      <td>0.696675</td>\n",
       "      <td>0.273205</td>\n",
       "    </tr>\n",
       "  </tbody>\n",
       "</table>\n",
       "</div>"
      ],
      "text/plain": [
       "                                 ModelName    ShortName  Accuracy       AUC  \\\n",
       "0  Multinomial Naive Bayes with WC Vectors      MultiNB  0.523214  0.551913   \n",
       "1   Bernoulli Naive Bayes with Word Counts  BernoulliNB  0.576786  0.545536   \n",
       "\n",
       "   AlexPrecision  NoAlexPrecision  AlexRecall  NoAlexRecall    AlexF1  \\\n",
       "0       0.598611         0.510275    0.403571      0.642857  0.439290   \n",
       "1       0.549647         0.546667    0.960714      0.192857  0.696675   \n",
       "\n",
       "   NoAlexF1  \n",
       "0  0.558076  \n",
       "1  0.273205  "
      ]
     },
     "execution_count": 85,
     "metadata": {},
     "output_type": "execute_result"
    }
   ],
   "source": [
    "eval_df.tail()"
   ]
  },
  {
   "cell_type": "markdown",
   "metadata": {},
   "source": [
    "## Classifier with TF/IDF and Multinomial Naive Bayes\n",
    "Multinomial Naive Bayes works with ocurrence counts, therefore we use here a feature vector with Term Frequency (TF/IDF) for each document. \n",
    "- X: Vector with term frequency and inverse document frequency.\n",
    "- y: Alexithymia label."
   ]
  },
  {
   "cell_type": "code",
   "execution_count": 86,
   "metadata": {},
   "outputs": [],
   "source": [
    "from sklearn.pipeline import Pipeline\n",
    "from sklearn.feature_extraction.text import TfidfVectorizer\n",
    "from sklearn.naive_bayes import MultinomialNB\n",
    "from sklearn.model_selection import cross_val_score\n",
    "from sklearn.model_selection import cross_validate"
   ]
  },
  {
   "cell_type": "code",
   "execution_count": 87,
   "metadata": {},
   "outputs": [],
   "source": [
    "# Multinomial Naive Bayes using vectors with word counts\n",
    "multinb_tfidf_pipe = Pipeline([(\"tfidf_vectorizer\", TfidfVectorizer(analyzer=lambda x: x)), (\"multinomial nb tfidf\", MultinomialNB())])"
   ]
  },
  {
   "cell_type": "code",
   "execution_count": 88,
   "metadata": {},
   "outputs": [
    {
     "data": {
      "text/plain": [
       "0.48303571428571423"
      ]
     },
     "execution_count": 88,
     "metadata": {},
     "output_type": "execute_result"
    }
   ],
   "source": [
    "cross_val_score(multinb_tfidf_pipe, X, y, cv=10).mean()"
   ]
  },
  {
   "cell_type": "code",
   "execution_count": 89,
   "metadata": {},
   "outputs": [],
   "source": [
    "scores = cross_validate(multinb_tfidf_pipe, X, y, cv=10,\n",
    "                        scoring=('accuracy'),\n",
    "                        return_train_score=True)"
   ]
  },
  {
   "cell_type": "code",
   "execution_count": 90,
   "metadata": {},
   "outputs": [
    {
     "data": {
      "text/plain": [
       "0.48303571428571423"
      ]
     },
     "execution_count": 90,
     "metadata": {},
     "output_type": "execute_result"
    }
   ],
   "source": [
    "accuracy = scores['test_score'].mean()\n",
    "accuracy"
   ]
  },
  {
   "cell_type": "code",
   "execution_count": 91,
   "metadata": {},
   "outputs": [],
   "source": [
    "scores = cross_validate(multinb_tfidf_pipe, X, y, cv=10,\n",
    "                        scoring=('roc_auc'),\n",
    "                        return_train_score=True)"
   ]
  },
  {
   "cell_type": "code",
   "execution_count": 92,
   "metadata": {},
   "outputs": [
    {
     "data": {
      "text/plain": [
       "0.5121492346938775"
      ]
     },
     "execution_count": 92,
     "metadata": {},
     "output_type": "execute_result"
    }
   ],
   "source": [
    "auc = scores['test_score'].mean()\n",
    "auc"
   ]
  },
  {
   "cell_type": "code",
   "execution_count": 93,
   "metadata": {},
   "outputs": [
    {
     "name": "stderr",
     "output_type": "stream",
     "text": [
      "C:\\Users\\array\\Anaconda3\\lib\\site-packages\\sklearn\\metrics\\classification.py:1143: UndefinedMetricWarning: Precision is ill-defined and being set to 0.0 due to no predicted samples.\n",
      "  'precision', 'predicted', average, warn_for)\n"
     ]
    }
   ],
   "source": [
    "scores = cross_validate(multinb_tfidf_pipe, X, y, cv=10,\n",
    "                        scoring=alex_precision_scorer, \n",
    "                        return_train_score=True)"
   ]
  },
  {
   "cell_type": "code",
   "execution_count": 94,
   "metadata": {},
   "outputs": [
    {
     "data": {
      "text/plain": [
       "0.4076190476190476"
      ]
     },
     "execution_count": 94,
     "metadata": {},
     "output_type": "execute_result"
    }
   ],
   "source": [
    "alex_prec = scores['test_score'].mean()\n",
    "alex_prec"
   ]
  },
  {
   "cell_type": "code",
   "execution_count": 95,
   "metadata": {},
   "outputs": [],
   "source": [
    "scores = cross_validate(multinb_tfidf_pipe, X, y, cv=10,\n",
    "                        scoring=noalex_precision_scorer, \n",
    "                        return_train_score=True)"
   ]
  },
  {
   "cell_type": "code",
   "execution_count": 96,
   "metadata": {},
   "outputs": [
    {
     "data": {
      "text/plain": [
       "0.48955461205461204"
      ]
     },
     "execution_count": 96,
     "metadata": {},
     "output_type": "execute_result"
    }
   ],
   "source": [
    "noalex_prec = scores['test_score'].mean()\n",
    "noalex_prec"
   ]
  },
  {
   "cell_type": "code",
   "execution_count": 97,
   "metadata": {},
   "outputs": [],
   "source": [
    "scores = cross_validate(multinb_tfidf_pipe, X, y, cv=10,\n",
    "                        scoring=alex_recall_scorer, \n",
    "                        return_train_score=True)"
   ]
  },
  {
   "cell_type": "code",
   "execution_count": 98,
   "metadata": {},
   "outputs": [
    {
     "data": {
      "text/plain": [
       "0.3607142857142857"
      ]
     },
     "execution_count": 98,
     "metadata": {},
     "output_type": "execute_result"
    }
   ],
   "source": [
    "alex_recall = scores['test_score'].mean()\n",
    "alex_recall"
   ]
  },
  {
   "cell_type": "code",
   "execution_count": 99,
   "metadata": {},
   "outputs": [],
   "source": [
    "scores = cross_validate(multinb_tfidf_pipe, X, y, cv=10,\n",
    "                        scoring=noalex_recall_scorer, \n",
    "                        return_train_score=True)"
   ]
  },
  {
   "cell_type": "code",
   "execution_count": 100,
   "metadata": {},
   "outputs": [
    {
     "data": {
      "text/plain": [
       "0.6053571428571429"
      ]
     },
     "execution_count": 100,
     "metadata": {},
     "output_type": "execute_result"
    }
   ],
   "source": [
    "noalex_recall = scores['test_score'].mean()\n",
    "noalex_recall"
   ]
  },
  {
   "cell_type": "code",
   "execution_count": 101,
   "metadata": {},
   "outputs": [
    {
     "name": "stderr",
     "output_type": "stream",
     "text": [
      "C:\\Users\\array\\Anaconda3\\lib\\site-packages\\sklearn\\metrics\\classification.py:1143: UndefinedMetricWarning: F-score is ill-defined and being set to 0.0 due to no predicted samples.\n",
      "  'precision', 'predicted', average, warn_for)\n"
     ]
    }
   ],
   "source": [
    "scores = cross_validate(multinb_tfidf_pipe, X, y, cv=10,\n",
    "                        scoring=alex_f1_scorer, \n",
    "                        return_train_score=True)"
   ]
  },
  {
   "cell_type": "code",
   "execution_count": 102,
   "metadata": {},
   "outputs": [
    {
     "data": {
      "text/plain": [
       "0.3718591865650689"
      ]
     },
     "execution_count": 102,
     "metadata": {},
     "output_type": "execute_result"
    }
   ],
   "source": [
    "alex_f1 = scores['test_score'].mean()\n",
    "alex_f1"
   ]
  },
  {
   "cell_type": "code",
   "execution_count": 103,
   "metadata": {},
   "outputs": [],
   "source": [
    "scores = cross_validate(multinb_tfidf_pipe, X, y, cv=10,\n",
    "                        scoring=noalex_f1_scorer, \n",
    "                        return_train_score=True)"
   ]
  },
  {
   "cell_type": "code",
   "execution_count": 104,
   "metadata": {},
   "outputs": [
    {
     "data": {
      "text/plain": [
       "0.5278357658853016"
      ]
     },
     "execution_count": 104,
     "metadata": {},
     "output_type": "execute_result"
    }
   ],
   "source": [
    "noalex_f1 = scores['test_score'].mean()\n",
    "noalex_f1"
   ]
  },
  {
   "cell_type": "code",
   "execution_count": 105,
   "metadata": {},
   "outputs": [
    {
     "name": "stdout",
     "output_type": "stream",
     "text": [
      "Confusion matrix, without normalization\n",
      "[[28 48]\n",
      " [30 46]]\n"
     ]
    },
    {
     "data": {
      "text/plain": [
       "<matplotlib.axes._subplots.AxesSubplot at 0x25658992ac8>"
      ]
     },
     "execution_count": 105,
     "metadata": {},
     "output_type": "execute_result"
    },
    {
     "data": {
      "image/png": "[encoded data removed]",
      "text/plain": [
       "<Figure size 432x288 with 2 Axes>"
      ]
     },
     "metadata": {
      "needs_background": "light"
     },
     "output_type": "display_data"
    }
   ],
   "source": [
    "# CONFUSION MATRIX PLOT\n",
    "from sklearn.model_selection import cross_val_predict\n",
    "from sklearn.metrics import confusion_matrix\n",
    "np.set_printoptions(precision=2)\n",
    "y_pred = cross_val_predict(multinb_tfidf_pipe, X, y, cv=10)\n",
    "plot_confusion_matrix(y, y_pred, classes=['Alex', 'NoAlex'],\n",
    "                      title='Confusion Matrix')"
   ]
  },
  {
   "cell_type": "code",
   "execution_count": 106,
   "metadata": {},
   "outputs": [
    {
     "data": {
      "image/png": "[encoded data removed]",
      "text/plain": [
       "<Figure size 504x432 with 1 Axes>"
      ]
     },
     "metadata": {
      "needs_background": "light"
     },
     "output_type": "display_data"
    }
   ],
   "source": [
    "# ROC CURVE PLOT\n",
    "import scikitplot as skplt\n",
    "y_probas = cross_val_predict(multinb_tfidf_pipe, X, y, cv=10, method='predict_proba')\n",
    "skplt.metrics.plot_roc(y, y_probas, title=\"ROC - Multinomial Naive Bayes with TF/IDF\",\n",
    "                      plot_micro=False, plot_macro=False,\n",
    "                      figsize=(7,6), text_fontsize=12, title_fontsize=14)\n",
    "plt.show()"
   ]
  },
  {
   "cell_type": "code",
   "execution_count": 107,
   "metadata": {},
   "outputs": [],
   "source": [
    "# Save all results from this model to the evaluation results dataframe\n",
    "eval_df.loc[len(eval_df)] = [\"Multinomial Naive Bayes with TF/IDF\", \"MultiNB-Tfidf\",\n",
    "                             accuracy, auc, alex_prec, noalex_prec, \n",
    "                             alex_recall, noalex_recall, alex_f1, noalex_f1]"
   ]
  },
  {
   "cell_type": "code",
   "execution_count": 108,
   "metadata": {},
   "outputs": [
    {
     "data": {
      "text/html": [
       "<div>\n",
       "<style scoped>\n",
       "    .dataframe tbody tr th:only-of-type {\n",
       "        vertical-align: middle;\n",
       "    }\n",
       "\n",
       "    .dataframe tbody tr th {\n",
       "        vertical-align: top;\n",
       "    }\n",
       "\n",
       "    .dataframe thead th {\n",
       "        text-align: right;\n",
       "    }\n",
       "</style>\n",
       "<table border=\"1\" class=\"dataframe\">\n",
       "  <thead>\n",
       "    <tr style=\"text-align: right;\">\n",
       "      <th></th>\n",
       "      <th>ModelName</th>\n",
       "      <th>ShortName</th>\n",
       "      <th>Accuracy</th>\n",
       "      <th>AUC</th>\n",
       "      <th>AlexPrecision</th>\n",
       "      <th>NoAlexPrecision</th>\n",
       "      <th>AlexRecall</th>\n",
       "      <th>NoAlexRecall</th>\n",
       "      <th>AlexF1</th>\n",
       "      <th>NoAlexF1</th>\n",
       "    </tr>\n",
       "  </thead>\n",
       "  <tbody>\n",
       "    <tr>\n",
       "      <th>0</th>\n",
       "      <td>Multinomial Naive Bayes with WC Vectors</td>\n",
       "      <td>MultiNB</td>\n",
       "      <td>0.523214</td>\n",
       "      <td>0.551913</td>\n",
       "      <td>0.598611</td>\n",
       "      <td>0.510275</td>\n",
       "      <td>0.403571</td>\n",
       "      <td>0.642857</td>\n",
       "      <td>0.439290</td>\n",
       "      <td>0.558076</td>\n",
       "    </tr>\n",
       "    <tr>\n",
       "      <th>1</th>\n",
       "      <td>Bernoulli Naive Bayes with Word Counts</td>\n",
       "      <td>BernoulliNB</td>\n",
       "      <td>0.576786</td>\n",
       "      <td>0.545536</td>\n",
       "      <td>0.549647</td>\n",
       "      <td>0.546667</td>\n",
       "      <td>0.960714</td>\n",
       "      <td>0.192857</td>\n",
       "      <td>0.696675</td>\n",
       "      <td>0.273205</td>\n",
       "    </tr>\n",
       "    <tr>\n",
       "      <th>2</th>\n",
       "      <td>Multinomial Naive Bayes with TF/IDF</td>\n",
       "      <td>MultiNB-Tfidf</td>\n",
       "      <td>0.483036</td>\n",
       "      <td>0.512149</td>\n",
       "      <td>0.407619</td>\n",
       "      <td>0.489555</td>\n",
       "      <td>0.360714</td>\n",
       "      <td>0.605357</td>\n",
       "      <td>0.371859</td>\n",
       "      <td>0.527836</td>\n",
       "    </tr>\n",
       "  </tbody>\n",
       "</table>\n",
       "</div>"
      ],
      "text/plain": [
       "                                 ModelName      ShortName  Accuracy       AUC  \\\n",
       "0  Multinomial Naive Bayes with WC Vectors        MultiNB  0.523214  0.551913   \n",
       "1   Bernoulli Naive Bayes with Word Counts    BernoulliNB  0.576786  0.545536   \n",
       "2      Multinomial Naive Bayes with TF/IDF  MultiNB-Tfidf  0.483036  0.512149   \n",
       "\n",
       "   AlexPrecision  NoAlexPrecision  AlexRecall  NoAlexRecall    AlexF1  \\\n",
       "0       0.598611         0.510275    0.403571      0.642857  0.439290   \n",
       "1       0.549647         0.546667    0.960714      0.192857  0.696675   \n",
       "2       0.407619         0.489555    0.360714      0.605357  0.371859   \n",
       "\n",
       "   NoAlexF1  \n",
       "0  0.558076  \n",
       "1  0.273205  \n",
       "2  0.527836  "
      ]
     },
     "execution_count": 108,
     "metadata": {},
     "output_type": "execute_result"
    }
   ],
   "source": [
    "eval_df.tail()"
   ]
  },
  {
   "cell_type": "markdown",
   "metadata": {},
   "source": [
    "## Classifier with TF/IDF and Multivariate Bernoulli Naive Bayes\n",
    "Multivariate Bernoulli works with discrete data (boolean flags), therefore we use here a feature vector with TF/IDF for each document. \n",
    "- X: Vector with term frequencies.\n",
    "- y: Alexithymia label."
   ]
  },
  {
   "cell_type": "code",
   "execution_count": 109,
   "metadata": {},
   "outputs": [],
   "source": [
    "from sklearn.pipeline import Pipeline\n",
    "from sklearn.feature_extraction.text import TfidfVectorizer\n",
    "from sklearn.naive_bayes import BernoulliNB\n",
    "from sklearn.model_selection import cross_val_score\n",
    "from sklearn.model_selection import cross_validate"
   ]
  },
  {
   "cell_type": "code",
   "execution_count": 110,
   "metadata": {},
   "outputs": [],
   "source": [
    "bernnb_tfidf_pipe = Pipeline([(\"tfidf_vectorizer\", TfidfVectorizer(analyzer=lambda x: x)), (\"bernoulli nb tfidf\", BernoulliNB())])"
   ]
  },
  {
   "cell_type": "code",
   "execution_count": 111,
   "metadata": {},
   "outputs": [],
   "source": [
    "scores = cross_validate(bernnb_tfidf_pipe, X, y, cv=10,\n",
    "                        scoring=('accuracy'),\n",
    "                        return_train_score=True)"
   ]
  },
  {
   "cell_type": "code",
   "execution_count": 112,
   "metadata": {},
   "outputs": [
    {
     "data": {
      "text/plain": [
       "0.5767857142857142"
      ]
     },
     "execution_count": 112,
     "metadata": {},
     "output_type": "execute_result"
    }
   ],
   "source": [
    "accuracy = scores['test_score'].mean()\n",
    "accuracy"
   ]
  },
  {
   "cell_type": "code",
   "execution_count": 113,
   "metadata": {},
   "outputs": [],
   "source": [
    "scores = cross_validate(bernnb_tfidf_pipe, X, y, cv=10,\n",
    "                        scoring=('roc_auc'),\n",
    "                        return_train_score=True)"
   ]
  },
  {
   "cell_type": "code",
   "execution_count": 114,
   "metadata": {},
   "outputs": [
    {
     "data": {
      "text/plain": [
       "0.5455357142857143"
      ]
     },
     "execution_count": 114,
     "metadata": {},
     "output_type": "execute_result"
    }
   ],
   "source": [
    "auc = scores['test_score'].mean()\n",
    "auc"
   ]
  },
  {
   "cell_type": "code",
   "execution_count": 115,
   "metadata": {},
   "outputs": [],
   "source": [
    "scores = cross_validate(bernnb_tfidf_pipe, X, y, cv=10,\n",
    "                        scoring=alex_precision_scorer, \n",
    "                        return_train_score=True)"
   ]
  },
  {
   "cell_type": "code",
   "execution_count": 116,
   "metadata": {},
   "outputs": [
    {
     "data": {
      "text/plain": [
       "0.5496470196470196"
      ]
     },
     "execution_count": 116,
     "metadata": {},
     "output_type": "execute_result"
    }
   ],
   "source": [
    "alex_prec = scores['test_score'].mean()\n",
    "alex_prec"
   ]
  },
  {
   "cell_type": "code",
   "execution_count": 117,
   "metadata": {},
   "outputs": [
    {
     "name": "stderr",
     "output_type": "stream",
     "text": [
      "C:\\Users\\array\\Anaconda3\\lib\\site-packages\\sklearn\\metrics\\classification.py:1143: UndefinedMetricWarning: Precision is ill-defined and being set to 0.0 due to no predicted samples.\n",
      "  'precision', 'predicted', average, warn_for)\n",
      "C:\\Users\\array\\Anaconda3\\lib\\site-packages\\sklearn\\metrics\\classification.py:1143: UndefinedMetricWarning: Precision is ill-defined and being set to 0.0 due to no predicted samples.\n",
      "  'precision', 'predicted', average, warn_for)\n",
      "C:\\Users\\array\\Anaconda3\\lib\\site-packages\\sklearn\\metrics\\classification.py:1143: UndefinedMetricWarning: Precision is ill-defined and being set to 0.0 due to no predicted samples.\n",
      "  'precision', 'predicted', average, warn_for)\n"
     ]
    }
   ],
   "source": [
    "scores = cross_validate(bernnb_tfidf_pipe, X, y, cv=10,\n",
    "                        scoring=noalex_precision_scorer, \n",
    "                        return_train_score=True)"
   ]
  },
  {
   "cell_type": "code",
   "execution_count": 118,
   "metadata": {},
   "outputs": [
    {
     "data": {
      "text/plain": [
       "0.5466666666666666"
      ]
     },
     "execution_count": 118,
     "metadata": {},
     "output_type": "execute_result"
    }
   ],
   "source": [
    "noalex_prec = scores['test_score'].mean()\n",
    "noalex_prec"
   ]
  },
  {
   "cell_type": "code",
   "execution_count": 119,
   "metadata": {},
   "outputs": [],
   "source": [
    "scores = cross_validate(bernnb_tfidf_pipe, X, y, cv=10,\n",
    "                        scoring=alex_recall_scorer, \n",
    "                        return_train_score=True)"
   ]
  },
  {
   "cell_type": "code",
   "execution_count": 120,
   "metadata": {},
   "outputs": [
    {
     "data": {
      "text/plain": [
       "0.9607142857142857"
      ]
     },
     "execution_count": 120,
     "metadata": {},
     "output_type": "execute_result"
    }
   ],
   "source": [
    "alex_recall = scores['test_score'].mean()\n",
    "alex_recall"
   ]
  },
  {
   "cell_type": "code",
   "execution_count": 121,
   "metadata": {},
   "outputs": [],
   "source": [
    "scores = cross_validate(bernnb_tfidf_pipe, X, y, cv=10,\n",
    "                        scoring=noalex_recall_scorer, \n",
    "                        return_train_score=True)"
   ]
  },
  {
   "cell_type": "code",
   "execution_count": 122,
   "metadata": {},
   "outputs": [
    {
     "data": {
      "text/plain": [
       "0.19285714285714284"
      ]
     },
     "execution_count": 122,
     "metadata": {},
     "output_type": "execute_result"
    }
   ],
   "source": [
    "noalex_recall = scores['test_score'].mean()\n",
    "noalex_recall"
   ]
  },
  {
   "cell_type": "code",
   "execution_count": 123,
   "metadata": {},
   "outputs": [],
   "source": [
    "scores = cross_validate(bernnb_tfidf_pipe, X, y, cv=10,\n",
    "                        scoring=alex_f1_scorer, \n",
    "                        return_train_score=True)"
   ]
  },
  {
   "cell_type": "code",
   "execution_count": 124,
   "metadata": {},
   "outputs": [
    {
     "data": {
      "text/plain": [
       "0.6966749878649192"
      ]
     },
     "execution_count": 124,
     "metadata": {},
     "output_type": "execute_result"
    }
   ],
   "source": [
    "alex_f1 = scores['test_score'].mean()\n",
    "alex_f1"
   ]
  },
  {
   "cell_type": "code",
   "execution_count": 125,
   "metadata": {},
   "outputs": [
    {
     "name": "stderr",
     "output_type": "stream",
     "text": [
      "C:\\Users\\array\\Anaconda3\\lib\\site-packages\\sklearn\\metrics\\classification.py:1143: UndefinedMetricWarning: F-score is ill-defined and being set to 0.0 due to no predicted samples.\n",
      "  'precision', 'predicted', average, warn_for)\n",
      "C:\\Users\\array\\Anaconda3\\lib\\site-packages\\sklearn\\metrics\\classification.py:1143: UndefinedMetricWarning: F-score is ill-defined and being set to 0.0 due to no predicted samples.\n",
      "  'precision', 'predicted', average, warn_for)\n",
      "C:\\Users\\array\\Anaconda3\\lib\\site-packages\\sklearn\\metrics\\classification.py:1143: UndefinedMetricWarning: F-score is ill-defined and being set to 0.0 due to no predicted samples.\n",
      "  'precision', 'predicted', average, warn_for)\n"
     ]
    }
   ],
   "source": [
    "scores = cross_validate(bernnb_tfidf_pipe, X, y, cv=10,\n",
    "                        scoring=noalex_f1_scorer, \n",
    "                        return_train_score=True)"
   ]
  },
  {
   "cell_type": "code",
   "execution_count": 126,
   "metadata": {},
   "outputs": [
    {
     "data": {
      "text/plain": [
       "0.27320512820512816"
      ]
     },
     "execution_count": 126,
     "metadata": {},
     "output_type": "execute_result"
    }
   ],
   "source": [
    "noalex_f1 = scores['test_score'].mean()\n",
    "noalex_f1"
   ]
  },
  {
   "cell_type": "code",
   "execution_count": 127,
   "metadata": {},
   "outputs": [
    {
     "name": "stdout",
     "output_type": "stream",
     "text": [
      "Confusion matrix, without normalization\n",
      "[[73  3]\n",
      " [61 15]]\n"
     ]
    },
    {
     "data": {
      "text/plain": [
       "<matplotlib.axes._subplots.AxesSubplot at 0x25657c3a978>"
      ]
     },
     "execution_count": 127,
     "metadata": {},
     "output_type": "execute_result"
    },
    {
     "data": {
      "image/png": "[encoded data removed]",
      "text/plain": [
       "<Figure size 432x288 with 2 Axes>"
      ]
     },
     "metadata": {
      "needs_background": "light"
     },
     "output_type": "display_data"
    }
   ],
   "source": [
    "# CONFUSION MATRIX PLOT\n",
    "from sklearn.model_selection import cross_val_predict\n",
    "from sklearn.metrics import confusion_matrix\n",
    "np.set_printoptions(precision=2)\n",
    "y_pred = cross_val_predict(bernnb_tfidf_pipe, X, y, cv=10)\n",
    "plot_confusion_matrix(y, y_pred, classes=['Alex', 'NoAlex'],\n",
    "                      title='Confusion Matrix')"
   ]
  },
  {
   "cell_type": "code",
   "execution_count": 128,
   "metadata": {},
   "outputs": [
    {
     "data": {
      "image/png": "[encoded data removed]",
      "text/plain": [
       "<Figure size 504x432 with 1 Axes>"
      ]
     },
     "metadata": {
      "needs_background": "light"
     },
     "output_type": "display_data"
    }
   ],
   "source": [
    "# ROC CURVE PLOT\n",
    "import scikitplot as skplt\n",
    "y_probas = cross_val_predict(bernnb_tfidf_pipe, X, y, cv=10, method='predict_proba')\n",
    "skplt.metrics.plot_roc(y, y_probas, title=\"ROC - Bernoulli Naive Bayes with TF/IDF\",\n",
    "                      plot_micro=False, plot_macro=False,\n",
    "                      figsize=(7,6), text_fontsize=12, title_fontsize=14)\n",
    "plt.show()"
   ]
  },
  {
   "cell_type": "code",
   "execution_count": 129,
   "metadata": {},
   "outputs": [],
   "source": [
    "# Save all results from this model to the evaluation results dataframe\n",
    "eval_df.loc[len(eval_df)] = [\"Bernoulli Naive Bayes with TF/IDF\", \"BernoulliNBT-fidf\",\n",
    "                             accuracy, auc, alex_prec, noalex_prec, \n",
    "                             alex_recall, noalex_recall, alex_f1, noalex_f1]"
   ]
  },
  {
   "cell_type": "code",
   "execution_count": 130,
   "metadata": {},
   "outputs": [
    {
     "data": {
      "text/html": [
       "<div>\n",
       "<style scoped>\n",
       "    .dataframe tbody tr th:only-of-type {\n",
       "        vertical-align: middle;\n",
       "    }\n",
       "\n",
       "    .dataframe tbody tr th {\n",
       "        vertical-align: top;\n",
       "    }\n",
       "\n",
       "    .dataframe thead th {\n",
       "        text-align: right;\n",
       "    }\n",
       "</style>\n",
       "<table border=\"1\" class=\"dataframe\">\n",
       "  <thead>\n",
       "    <tr style=\"text-align: right;\">\n",
       "      <th></th>\n",
       "      <th>ModelName</th>\n",
       "      <th>ShortName</th>\n",
       "      <th>Accuracy</th>\n",
       "      <th>AUC</th>\n",
       "      <th>AlexPrecision</th>\n",
       "      <th>NoAlexPrecision</th>\n",
       "      <th>AlexRecall</th>\n",
       "      <th>NoAlexRecall</th>\n",
       "      <th>AlexF1</th>\n",
       "      <th>NoAlexF1</th>\n",
       "    </tr>\n",
       "  </thead>\n",
       "  <tbody>\n",
       "    <tr>\n",
       "      <th>0</th>\n",
       "      <td>Multinomial Naive Bayes with WC Vectors</td>\n",
       "      <td>MultiNB</td>\n",
       "      <td>0.523214</td>\n",
       "      <td>0.551913</td>\n",
       "      <td>0.598611</td>\n",
       "      <td>0.510275</td>\n",
       "      <td>0.403571</td>\n",
       "      <td>0.642857</td>\n",
       "      <td>0.439290</td>\n",
       "      <td>0.558076</td>\n",
       "    </tr>\n",
       "    <tr>\n",
       "      <th>1</th>\n",
       "      <td>Bernoulli Naive Bayes with Word Counts</td>\n",
       "      <td>BernoulliNB</td>\n",
       "      <td>0.576786</td>\n",
       "      <td>0.545536</td>\n",
       "      <td>0.549647</td>\n",
       "      <td>0.546667</td>\n",
       "      <td>0.960714</td>\n",
       "      <td>0.192857</td>\n",
       "      <td>0.696675</td>\n",
       "      <td>0.273205</td>\n",
       "    </tr>\n",
       "    <tr>\n",
       "      <th>2</th>\n",
       "      <td>Multinomial Naive Bayes with TF/IDF</td>\n",
       "      <td>MultiNB-Tfidf</td>\n",
       "      <td>0.483036</td>\n",
       "      <td>0.512149</td>\n",
       "      <td>0.407619</td>\n",
       "      <td>0.489555</td>\n",
       "      <td>0.360714</td>\n",
       "      <td>0.605357</td>\n",
       "      <td>0.371859</td>\n",
       "      <td>0.527836</td>\n",
       "    </tr>\n",
       "    <tr>\n",
       "      <th>3</th>\n",
       "      <td>Bernoulli Naive Bayes with TF/IDF</td>\n",
       "      <td>BernoulliNBT-fidf</td>\n",
       "      <td>0.576786</td>\n",
       "      <td>0.545536</td>\n",
       "      <td>0.549647</td>\n",
       "      <td>0.546667</td>\n",
       "      <td>0.960714</td>\n",
       "      <td>0.192857</td>\n",
       "      <td>0.696675</td>\n",
       "      <td>0.273205</td>\n",
       "    </tr>\n",
       "  </tbody>\n",
       "</table>\n",
       "</div>"
      ],
      "text/plain": [
       "                                 ModelName          ShortName  Accuracy  \\\n",
       "0  Multinomial Naive Bayes with WC Vectors            MultiNB  0.523214   \n",
       "1   Bernoulli Naive Bayes with Word Counts        BernoulliNB  0.576786   \n",
       "2      Multinomial Naive Bayes with TF/IDF      MultiNB-Tfidf  0.483036   \n",
       "3        Bernoulli Naive Bayes with TF/IDF  BernoulliNBT-fidf  0.576786   \n",
       "\n",
       "        AUC  AlexPrecision  NoAlexPrecision  AlexRecall  NoAlexRecall  \\\n",
       "0  0.551913       0.598611         0.510275    0.403571      0.642857   \n",
       "1  0.545536       0.549647         0.546667    0.960714      0.192857   \n",
       "2  0.512149       0.407619         0.489555    0.360714      0.605357   \n",
       "3  0.545536       0.549647         0.546667    0.960714      0.192857   \n",
       "\n",
       "     AlexF1  NoAlexF1  \n",
       "0  0.439290  0.558076  \n",
       "1  0.696675  0.273205  \n",
       "2  0.371859  0.527836  \n",
       "3  0.696675  0.273205  "
      ]
     },
     "execution_count": 130,
     "metadata": {},
     "output_type": "execute_result"
    }
   ],
   "source": [
    "eval_df.tail()"
   ]
  },
  {
   "cell_type": "markdown",
   "metadata": {},
   "source": [
    "## Classifier with Word Counts and Linear Support Vector Machine\n",
    "C-Support Vector Classification (SVM) with word counts for each document. \n",
    "- X: Vector with word counts.\n",
    "- y: Alexithymia label."
   ]
  },
  {
   "cell_type": "code",
   "execution_count": 131,
   "metadata": {},
   "outputs": [],
   "source": [
    "from sklearn.pipeline import Pipeline\n",
    "from sklearn.svm import SVC\n",
    "from sklearn.feature_extraction.text import CountVectorizer\n",
    "from sklearn.model_selection import cross_val_score\n",
    "from sklearn.model_selection import cross_validate"
   ]
  },
  {
   "cell_type": "code",
   "execution_count": 132,
   "metadata": {},
   "outputs": [],
   "source": [
    "svc_pipe = Pipeline([(\"count_vectorizer\", CountVectorizer(analyzer=lambda x: x)), (\"linear svc\", SVC(kernel=\"linear\"))])"
   ]
  },
  {
   "cell_type": "code",
   "execution_count": 133,
   "metadata": {},
   "outputs": [],
   "source": [
    "scores = cross_validate(svc_pipe, X, y, cv=10,\n",
    "                        scoring=('accuracy'),\n",
    "                        return_train_score=True)"
   ]
  },
  {
   "cell_type": "code",
   "execution_count": 134,
   "metadata": {},
   "outputs": [
    {
     "data": {
      "text/plain": [
       "0.5276785714285714"
      ]
     },
     "execution_count": 134,
     "metadata": {},
     "output_type": "execute_result"
    }
   ],
   "source": [
    "accuracy = scores['test_score'].mean()\n",
    "accuracy"
   ]
  },
  {
   "cell_type": "code",
   "execution_count": 135,
   "metadata": {},
   "outputs": [],
   "source": [
    "scores = cross_validate(svc_pipe, X, y, cv=10,\n",
    "                        scoring=('roc_auc'),\n",
    "                        return_train_score=True)"
   ]
  },
  {
   "cell_type": "code",
   "execution_count": 136,
   "metadata": {},
   "outputs": [
    {
     "data": {
      "text/plain": [
       "0.514030612244898"
      ]
     },
     "execution_count": 136,
     "metadata": {},
     "output_type": "execute_result"
    }
   ],
   "source": [
    "auc = scores['test_score'].mean()\n",
    "auc"
   ]
  },
  {
   "cell_type": "code",
   "execution_count": 137,
   "metadata": {},
   "outputs": [],
   "source": [
    "scores = cross_validate(svc_pipe, X, y, cv=10,\n",
    "                        scoring=alex_precision_scorer, \n",
    "                        return_train_score=True)"
   ]
  },
  {
   "cell_type": "code",
   "execution_count": 138,
   "metadata": {},
   "outputs": [
    {
     "data": {
      "text/plain": [
       "0.528931623931624"
      ]
     },
     "execution_count": 138,
     "metadata": {},
     "output_type": "execute_result"
    }
   ],
   "source": [
    "alex_prec = scores['test_score'].mean()\n",
    "alex_prec"
   ]
  },
  {
   "cell_type": "code",
   "execution_count": 139,
   "metadata": {},
   "outputs": [],
   "source": [
    "scores = cross_validate(svc_pipe, X, y, cv=10,\n",
    "                        scoring=noalex_precision_scorer, \n",
    "                        return_train_score=True)"
   ]
  },
  {
   "cell_type": "code",
   "execution_count": 140,
   "metadata": {},
   "outputs": [
    {
     "data": {
      "text/plain": [
       "0.5167857142857143"
      ]
     },
     "execution_count": 140,
     "metadata": {},
     "output_type": "execute_result"
    }
   ],
   "source": [
    "noalex_prec = scores['test_score'].mean()\n",
    "noalex_prec"
   ]
  },
  {
   "cell_type": "code",
   "execution_count": 141,
   "metadata": {},
   "outputs": [],
   "source": [
    "scores = cross_validate(svc_pipe, X, y, cv=10,\n",
    "                        scoring=alex_recall_scorer, \n",
    "                        return_train_score=True)"
   ]
  },
  {
   "cell_type": "code",
   "execution_count": 142,
   "metadata": {},
   "outputs": [
    {
     "data": {
      "text/plain": [
       "0.55"
      ]
     },
     "execution_count": 142,
     "metadata": {},
     "output_type": "execute_result"
    }
   ],
   "source": [
    "alex_recall = scores['test_score'].mean()\n",
    "alex_recall"
   ]
  },
  {
   "cell_type": "code",
   "execution_count": 143,
   "metadata": {},
   "outputs": [],
   "source": [
    "scores = cross_validate(svc_pipe, X, y, cv=10,\n",
    "                        scoring=noalex_recall_scorer, \n",
    "                        return_train_score=True)"
   ]
  },
  {
   "cell_type": "code",
   "execution_count": 144,
   "metadata": {},
   "outputs": [
    {
     "data": {
      "text/plain": [
       "0.5053571428571428"
      ]
     },
     "execution_count": 144,
     "metadata": {},
     "output_type": "execute_result"
    }
   ],
   "source": [
    "noalex_recall = scores['test_score'].mean()\n",
    "noalex_recall"
   ]
  },
  {
   "cell_type": "code",
   "execution_count": 145,
   "metadata": {},
   "outputs": [],
   "source": [
    "scores = cross_validate(svc_pipe, X, y, cv=10,\n",
    "                        scoring=alex_f1_scorer, \n",
    "                        return_train_score=True)"
   ]
  },
  {
   "cell_type": "code",
   "execution_count": 146,
   "metadata": {},
   "outputs": [
    {
     "data": {
      "text/plain": [
       "0.5300003917650976"
      ]
     },
     "execution_count": 146,
     "metadata": {},
     "output_type": "execute_result"
    }
   ],
   "source": [
    "alex_f1 = scores['test_score'].mean()\n",
    "alex_f1"
   ]
  },
  {
   "cell_type": "code",
   "execution_count": 147,
   "metadata": {},
   "outputs": [],
   "source": [
    "scores = cross_validate(svc_pipe, X, y, cv=10,\n",
    "                        scoring=noalex_f1_scorer, \n",
    "                        return_train_score=True)"
   ]
  },
  {
   "cell_type": "code",
   "execution_count": 148,
   "metadata": {},
   "outputs": [
    {
     "data": {
      "text/plain": [
       "0.4999376114081997"
      ]
     },
     "execution_count": 148,
     "metadata": {},
     "output_type": "execute_result"
    }
   ],
   "source": [
    "noalex_f1 = scores['test_score'].mean()\n",
    "noalex_f1"
   ]
  },
  {
   "cell_type": "code",
   "execution_count": 149,
   "metadata": {},
   "outputs": [
    {
     "name": "stdout",
     "output_type": "stream",
     "text": [
      "Confusion matrix, without normalization\n",
      "[[42 34]\n",
      " [38 38]]\n"
     ]
    },
    {
     "data": {
      "text/plain": [
       "<matplotlib.axes._subplots.AxesSubplot at 0x2565989d0f0>"
      ]
     },
     "execution_count": 149,
     "metadata": {},
     "output_type": "execute_result"
    },
    {
     "data": {
      "image/png": "[encoded data removed]",
      "text/plain": [
       "<Figure size 432x288 with 2 Axes>"
      ]
     },
     "metadata": {
      "needs_background": "light"
     },
     "output_type": "display_data"
    }
   ],
   "source": [
    "# CONFUSION MATRIX PLOT\n",
    "from sklearn.model_selection import cross_val_predict\n",
    "from sklearn.metrics import confusion_matrix\n",
    "np.set_printoptions(precision=2)\n",
    "y_pred = cross_val_predict(svc_pipe, X, y, cv=10)\n",
    "plot_confusion_matrix(y, y_pred, classes=['Alex', 'NoAlex'],\n",
    "                      title='Confusion Matrix')"
   ]
  },
  {
   "cell_type": "code",
   "execution_count": 150,
   "metadata": {},
   "outputs": [
    {
     "name": "stderr",
     "output_type": "stream",
     "text": [
      "C:\\Users\\array\\Anaconda3\\lib\\site-packages\\sklearn\\model_selection\\_split.py:2053: FutureWarning: You should specify a value for 'cv' instead of relying on the default value. The default value will change from 3 to 5 in version 0.22.\n",
      "  warnings.warn(CV_WARNING, FutureWarning)\n",
      "C:\\Users\\array\\Anaconda3\\lib\\site-packages\\sklearn\\svm\\base.py:196: FutureWarning: The default value of gamma will change from 'auto' to 'scale' in version 0.22 to account better for unscaled features. Set gamma explicitly to 'auto' or 'scale' to avoid this warning.\n",
      "  \"avoid this warning.\", FutureWarning)\n",
      "C:\\Users\\array\\Anaconda3\\lib\\site-packages\\sklearn\\svm\\base.py:196: FutureWarning: The default value of gamma will change from 'auto' to 'scale' in version 0.22 to account better for unscaled features. Set gamma explicitly to 'auto' or 'scale' to avoid this warning.\n",
      "  \"avoid this warning.\", FutureWarning)\n",
      "C:\\Users\\array\\Anaconda3\\lib\\site-packages\\sklearn\\svm\\base.py:196: FutureWarning: The default value of gamma will change from 'auto' to 'scale' in version 0.22 to account better for unscaled features. Set gamma explicitly to 'auto' or 'scale' to avoid this warning.\n",
      "  \"avoid this warning.\", FutureWarning)\n"
     ]
    },
    {
     "data": {
      "text/plain": [
       "CalibratedClassifierCV(base_estimator=SVC(C=1.0, cache_size=200, class_weight=None, coef0=0.0,\n",
       "  decision_function_shape='ovr', degree=3, gamma='auto_deprecated',\n",
       "  kernel='rbf', max_iter=-1, probability=False, random_state=None,\n",
       "  shrinking=True, tol=0.001, verbose=False),\n",
       "            cv='warn', method='sigmoid')"
      ]
     },
     "execution_count": 150,
     "metadata": {},
     "output_type": "execute_result"
    }
   ],
   "source": [
    "# Get probas for SVC predictions\n",
    "from sklearn.calibration import CalibratedClassifierCV\n",
    "from sklearn.model_selection import train_test_split\n",
    "\n",
    "X_train, X_test, y_train, y_test = train_test_split(X, y, test_size=0.5, random_state=42)\n",
    "\n",
    "svm = SVC()\n",
    "clf = CalibratedClassifierCV(svm)\n",
    "vectorizer = CountVectorizer(analyzer=lambda x: x, binary=True)\n",
    "Xtrainvecs = vectorizer.fit_transform(X_train)\n",
    "clf.fit(Xtrainvecs, y_train)"
   ]
  },
  {
   "cell_type": "code",
   "execution_count": 151,
   "metadata": {},
   "outputs": [],
   "source": [
    "Xtestvecs = vectorizer.transform(X_test)\n",
    "y_probas = clf.predict_proba(Xtestvecs)"
   ]
  },
  {
   "cell_type": "code",
   "execution_count": 152,
   "metadata": {},
   "outputs": [
    {
     "data": {
      "image/png": "[encoded data removed]",
      "text/plain": [
       "<Figure size 504x432 with 1 Axes>"
      ]
     },
     "metadata": {
      "needs_background": "light"
     },
     "output_type": "display_data"
    }
   ],
   "source": [
    "# ROC CURVE PLOT\n",
    "import scikitplot as skplt\n",
    "# y_probas = cross_val_predict(svc_pipe, X, y, cv=10, method='predict_proba')\n",
    "skplt.metrics.plot_roc(y_test, y_probas, title=\"ROC - Linear SVC with Word Counts\",\n",
    "                      plot_micro=False, plot_macro=False,\n",
    "                      figsize=(7,6), text_fontsize=12, title_fontsize=14)\n",
    "plt.show()"
   ]
  },
  {
   "cell_type": "code",
   "execution_count": 153,
   "metadata": {},
   "outputs": [],
   "source": [
    "# Save all results from this model to the evaluation results dataframe\n",
    "eval_df.loc[len(eval_df)] = [\"Linear SVC with Word Counts\", \"SVC-wc\",\n",
    "                             accuracy, auc, alex_prec, noalex_prec, \n",
    "                             alex_recall, noalex_recall, alex_f1, noalex_f1]"
   ]
  },
  {
   "cell_type": "code",
   "execution_count": 154,
   "metadata": {},
   "outputs": [
    {
     "data": {
      "text/html": [
       "<div>\n",
       "<style scoped>\n",
       "    .dataframe tbody tr th:only-of-type {\n",
       "        vertical-align: middle;\n",
       "    }\n",
       "\n",
       "    .dataframe tbody tr th {\n",
       "        vertical-align: top;\n",
       "    }\n",
       "\n",
       "    .dataframe thead th {\n",
       "        text-align: right;\n",
       "    }\n",
       "</style>\n",
       "<table border=\"1\" class=\"dataframe\">\n",
       "  <thead>\n",
       "    <tr style=\"text-align: right;\">\n",
       "      <th></th>\n",
       "      <th>ModelName</th>\n",
       "      <th>ShortName</th>\n",
       "      <th>Accuracy</th>\n",
       "      <th>AUC</th>\n",
       "      <th>AlexPrecision</th>\n",
       "      <th>NoAlexPrecision</th>\n",
       "      <th>AlexRecall</th>\n",
       "      <th>NoAlexRecall</th>\n",
       "      <th>AlexF1</th>\n",
       "      <th>NoAlexF1</th>\n",
       "    </tr>\n",
       "  </thead>\n",
       "  <tbody>\n",
       "    <tr>\n",
       "      <th>0</th>\n",
       "      <td>Multinomial Naive Bayes with WC Vectors</td>\n",
       "      <td>MultiNB</td>\n",
       "      <td>0.523214</td>\n",
       "      <td>0.551913</td>\n",
       "      <td>0.598611</td>\n",
       "      <td>0.510275</td>\n",
       "      <td>0.403571</td>\n",
       "      <td>0.642857</td>\n",
       "      <td>0.439290</td>\n",
       "      <td>0.558076</td>\n",
       "    </tr>\n",
       "    <tr>\n",
       "      <th>1</th>\n",
       "      <td>Bernoulli Naive Bayes with Word Counts</td>\n",
       "      <td>BernoulliNB</td>\n",
       "      <td>0.576786</td>\n",
       "      <td>0.545536</td>\n",
       "      <td>0.549647</td>\n",
       "      <td>0.546667</td>\n",
       "      <td>0.960714</td>\n",
       "      <td>0.192857</td>\n",
       "      <td>0.696675</td>\n",
       "      <td>0.273205</td>\n",
       "    </tr>\n",
       "    <tr>\n",
       "      <th>2</th>\n",
       "      <td>Multinomial Naive Bayes with TF/IDF</td>\n",
       "      <td>MultiNB-Tfidf</td>\n",
       "      <td>0.483036</td>\n",
       "      <td>0.512149</td>\n",
       "      <td>0.407619</td>\n",
       "      <td>0.489555</td>\n",
       "      <td>0.360714</td>\n",
       "      <td>0.605357</td>\n",
       "      <td>0.371859</td>\n",
       "      <td>0.527836</td>\n",
       "    </tr>\n",
       "    <tr>\n",
       "      <th>3</th>\n",
       "      <td>Bernoulli Naive Bayes with TF/IDF</td>\n",
       "      <td>BernoulliNBT-fidf</td>\n",
       "      <td>0.576786</td>\n",
       "      <td>0.545536</td>\n",
       "      <td>0.549647</td>\n",
       "      <td>0.546667</td>\n",
       "      <td>0.960714</td>\n",
       "      <td>0.192857</td>\n",
       "      <td>0.696675</td>\n",
       "      <td>0.273205</td>\n",
       "    </tr>\n",
       "    <tr>\n",
       "      <th>4</th>\n",
       "      <td>Linear SVC with Word Counts</td>\n",
       "      <td>SVC-wc</td>\n",
       "      <td>0.527679</td>\n",
       "      <td>0.514031</td>\n",
       "      <td>0.528932</td>\n",
       "      <td>0.516786</td>\n",
       "      <td>0.550000</td>\n",
       "      <td>0.505357</td>\n",
       "      <td>0.530000</td>\n",
       "      <td>0.499938</td>\n",
       "    </tr>\n",
       "  </tbody>\n",
       "</table>\n",
       "</div>"
      ],
      "text/plain": [
       "                                 ModelName          ShortName  Accuracy  \\\n",
       "0  Multinomial Naive Bayes with WC Vectors            MultiNB  0.523214   \n",
       "1   Bernoulli Naive Bayes with Word Counts        BernoulliNB  0.576786   \n",
       "2      Multinomial Naive Bayes with TF/IDF      MultiNB-Tfidf  0.483036   \n",
       "3        Bernoulli Naive Bayes with TF/IDF  BernoulliNBT-fidf  0.576786   \n",
       "4              Linear SVC with Word Counts             SVC-wc  0.527679   \n",
       "\n",
       "        AUC  AlexPrecision  NoAlexPrecision  AlexRecall  NoAlexRecall  \\\n",
       "0  0.551913       0.598611         0.510275    0.403571      0.642857   \n",
       "1  0.545536       0.549647         0.546667    0.960714      0.192857   \n",
       "2  0.512149       0.407619         0.489555    0.360714      0.605357   \n",
       "3  0.545536       0.549647         0.546667    0.960714      0.192857   \n",
       "4  0.514031       0.528932         0.516786    0.550000      0.505357   \n",
       "\n",
       "     AlexF1  NoAlexF1  \n",
       "0  0.439290  0.558076  \n",
       "1  0.696675  0.273205  \n",
       "2  0.371859  0.527836  \n",
       "3  0.696675  0.273205  \n",
       "4  0.530000  0.499938  "
      ]
     },
     "execution_count": 154,
     "metadata": {},
     "output_type": "execute_result"
    }
   ],
   "source": [
    "eval_df"
   ]
  },
  {
   "cell_type": "markdown",
   "metadata": {},
   "source": [
    "## Classifier with TF/IDF and Linear Support Vector Machine\n",
    "C-Support Vector Classification (SVM) with TF/IDF for each document. \n",
    "- X: Vector with term frequency.\n",
    "- y: Alexithymia label."
   ]
  },
  {
   "cell_type": "code",
   "execution_count": 155,
   "metadata": {},
   "outputs": [],
   "source": [
    "from sklearn.pipeline import Pipeline\n",
    "from sklearn.svm import SVC\n",
    "from sklearn.feature_extraction.text import TfidfVectorizer\n",
    "from sklearn.model_selection import cross_val_score\n",
    "from sklearn.model_selection import cross_validate"
   ]
  },
  {
   "cell_type": "code",
   "execution_count": 156,
   "metadata": {},
   "outputs": [],
   "source": [
    "svc_tfidf_pipe = Pipeline([(\"tfidf_vectorizer\", TfidfVectorizer(analyzer=lambda x: x)), (\"linear svc tfidf\", SVC(kernel=\"linear\"))])"
   ]
  },
  {
   "cell_type": "code",
   "execution_count": 157,
   "metadata": {},
   "outputs": [],
   "source": [
    "scores = cross_validate(svc_tfidf_pipe, X, y, cv=10,\n",
    "                        scoring=('accuracy'),\n",
    "                        return_train_score=True)"
   ]
  },
  {
   "cell_type": "code",
   "execution_count": 158,
   "metadata": {},
   "outputs": [
    {
     "data": {
      "text/plain": [
       "0.4794642857142858"
      ]
     },
     "execution_count": 158,
     "metadata": {},
     "output_type": "execute_result"
    }
   ],
   "source": [
    "accuracy = scores['test_score'].mean()\n",
    "accuracy"
   ]
  },
  {
   "cell_type": "code",
   "execution_count": 159,
   "metadata": {},
   "outputs": [],
   "source": [
    "scores = cross_validate(svc_tfidf_pipe, X, y, cv=10,\n",
    "                        scoring=('roc_auc'),\n",
    "                        return_train_score=True)"
   ]
  },
  {
   "cell_type": "code",
   "execution_count": 160,
   "metadata": {},
   "outputs": [
    {
     "data": {
      "text/plain": [
       "0.4899234693877551"
      ]
     },
     "execution_count": 160,
     "metadata": {},
     "output_type": "execute_result"
    }
   ],
   "source": [
    "auc = scores['test_score'].mean()\n",
    "auc"
   ]
  },
  {
   "cell_type": "code",
   "execution_count": 161,
   "metadata": {},
   "outputs": [],
   "source": [
    "scores = cross_validate(svc_tfidf_pipe, X, y, cv=10,\n",
    "                        scoring=alex_precision_scorer, \n",
    "                        return_train_score=True)"
   ]
  },
  {
   "cell_type": "code",
   "execution_count": 162,
   "metadata": {},
   "outputs": [
    {
     "data": {
      "text/plain": [
       "0.4517094017094017"
      ]
     },
     "execution_count": 162,
     "metadata": {},
     "output_type": "execute_result"
    }
   ],
   "source": [
    "alex_prec = scores['test_score'].mean()\n",
    "alex_prec"
   ]
  },
  {
   "cell_type": "code",
   "execution_count": 163,
   "metadata": {},
   "outputs": [],
   "source": [
    "scores = cross_validate(svc_tfidf_pipe, X, y, cv=10,\n",
    "                        scoring=noalex_precision_scorer, \n",
    "                        return_train_score=True)"
   ]
  },
  {
   "cell_type": "code",
   "execution_count": 164,
   "metadata": {},
   "outputs": [
    {
     "data": {
      "text/plain": [
       "0.4504828504828505"
      ]
     },
     "execution_count": 164,
     "metadata": {},
     "output_type": "execute_result"
    }
   ],
   "source": [
    "noalex_prec = scores['test_score'].mean()\n",
    "noalex_prec"
   ]
  },
  {
   "cell_type": "code",
   "execution_count": 165,
   "metadata": {},
   "outputs": [],
   "source": [
    "scores = cross_validate(svc_tfidf_pipe, X, y, cv=10,\n",
    "                        scoring=alex_recall_scorer, \n",
    "                        return_train_score=True)"
   ]
  },
  {
   "cell_type": "code",
   "execution_count": 166,
   "metadata": {},
   "outputs": [
    {
     "data": {
      "text/plain": [
       "0.4428571428571428"
      ]
     },
     "execution_count": 166,
     "metadata": {},
     "output_type": "execute_result"
    }
   ],
   "source": [
    "alex_recall = scores['test_score'].mean()\n",
    "alex_recall"
   ]
  },
  {
   "cell_type": "code",
   "execution_count": 167,
   "metadata": {},
   "outputs": [],
   "source": [
    "scores = cross_validate(svc_tfidf_pipe, X, y, cv=10,\n",
    "                        scoring=noalex_recall_scorer, \n",
    "                        return_train_score=True)"
   ]
  },
  {
   "cell_type": "code",
   "execution_count": 168,
   "metadata": {},
   "outputs": [
    {
     "data": {
      "text/plain": [
       "0.5160714285714285"
      ]
     },
     "execution_count": 168,
     "metadata": {},
     "output_type": "execute_result"
    }
   ],
   "source": [
    "noalex_recall = scores['test_score'].mean()\n",
    "noalex_recall"
   ]
  },
  {
   "cell_type": "code",
   "execution_count": 169,
   "metadata": {},
   "outputs": [],
   "source": [
    "scores = cross_validate(svc_tfidf_pipe, X, y, cv=10,\n",
    "                        scoring=alex_f1_scorer, \n",
    "                        return_train_score=True)"
   ]
  },
  {
   "cell_type": "code",
   "execution_count": 170,
   "metadata": {},
   "outputs": [
    {
     "data": {
      "text/plain": [
       "0.43358262652380297"
      ]
     },
     "execution_count": 170,
     "metadata": {},
     "output_type": "execute_result"
    }
   ],
   "source": [
    "alex_f1 = scores['test_score'].mean()\n",
    "alex_f1"
   ]
  },
  {
   "cell_type": "code",
   "execution_count": 171,
   "metadata": {},
   "outputs": [],
   "source": [
    "scores = cross_validate(svc_tfidf_pipe, X, y, cv=10,\n",
    "                        scoring=noalex_f1_scorer, \n",
    "                        return_train_score=True)"
   ]
  },
  {
   "cell_type": "code",
   "execution_count": 172,
   "metadata": {},
   "outputs": [
    {
     "data": {
      "text/plain": [
       "0.4662343023333735"
      ]
     },
     "execution_count": 172,
     "metadata": {},
     "output_type": "execute_result"
    }
   ],
   "source": [
    "noalex_f1 = scores['test_score'].mean()\n",
    "noalex_f1"
   ]
  },
  {
   "cell_type": "code",
   "execution_count": 173,
   "metadata": {},
   "outputs": [
    {
     "name": "stdout",
     "output_type": "stream",
     "text": [
      "Confusion matrix, without normalization\n",
      "[[34 42]\n",
      " [37 39]]\n"
     ]
    },
    {
     "data": {
      "text/plain": [
       "<matplotlib.axes._subplots.AxesSubplot at 0x2565a6d3128>"
      ]
     },
     "execution_count": 173,
     "metadata": {},
     "output_type": "execute_result"
    },
    {
     "data": {
      "image/png": "[encoded data removed]",
      "text/plain": [
       "<Figure size 432x288 with 2 Axes>"
      ]
     },
     "metadata": {
      "needs_background": "light"
     },
     "output_type": "display_data"
    }
   ],
   "source": [
    "# CONFUSION MATRIX PLOT\n",
    "from sklearn.model_selection import cross_val_predict\n",
    "from sklearn.metrics import confusion_matrix\n",
    "np.set_printoptions(precision=2)\n",
    "y_pred = cross_val_predict(svc_tfidf_pipe, X, y, cv=10)\n",
    "plot_confusion_matrix(y, y_pred, classes=['Alex', 'NoAlex'],\n",
    "                      title='Confusion Matrix')"
   ]
  },
  {
   "cell_type": "code",
   "execution_count": 174,
   "metadata": {},
   "outputs": [
    {
     "name": "stderr",
     "output_type": "stream",
     "text": [
      "C:\\Users\\array\\Anaconda3\\lib\\site-packages\\sklearn\\model_selection\\_split.py:2053: FutureWarning: You should specify a value for 'cv' instead of relying on the default value. The default value will change from 3 to 5 in version 0.22.\n",
      "  warnings.warn(CV_WARNING, FutureWarning)\n",
      "C:\\Users\\array\\Anaconda3\\lib\\site-packages\\sklearn\\svm\\base.py:196: FutureWarning: The default value of gamma will change from 'auto' to 'scale' in version 0.22 to account better for unscaled features. Set gamma explicitly to 'auto' or 'scale' to avoid this warning.\n",
      "  \"avoid this warning.\", FutureWarning)\n",
      "C:\\Users\\array\\Anaconda3\\lib\\site-packages\\sklearn\\svm\\base.py:196: FutureWarning: The default value of gamma will change from 'auto' to 'scale' in version 0.22 to account better for unscaled features. Set gamma explicitly to 'auto' or 'scale' to avoid this warning.\n",
      "  \"avoid this warning.\", FutureWarning)\n",
      "C:\\Users\\array\\Anaconda3\\lib\\site-packages\\sklearn\\svm\\base.py:196: FutureWarning: The default value of gamma will change from 'auto' to 'scale' in version 0.22 to account better for unscaled features. Set gamma explicitly to 'auto' or 'scale' to avoid this warning.\n",
      "  \"avoid this warning.\", FutureWarning)\n"
     ]
    },
    {
     "data": {
      "text/plain": [
       "CalibratedClassifierCV(base_estimator=SVC(C=1.0, cache_size=200, class_weight=None, coef0=0.0,\n",
       "  decision_function_shape='ovr', degree=3, gamma='auto_deprecated',\n",
       "  kernel='rbf', max_iter=-1, probability=False, random_state=None,\n",
       "  shrinking=True, tol=0.001, verbose=False),\n",
       "            cv='warn', method='sigmoid')"
      ]
     },
     "execution_count": 174,
     "metadata": {},
     "output_type": "execute_result"
    }
   ],
   "source": [
    "# Get probas for SVC predictions\n",
    "from sklearn.calibration import CalibratedClassifierCV\n",
    "from sklearn.model_selection import train_test_split\n",
    "\n",
    "X_train, X_test, y_train, y_test = train_test_split(X, y, test_size=0.5, random_state=42)\n",
    "\n",
    "svm = SVC()\n",
    "clf = CalibratedClassifierCV(svm)\n",
    "vectorizer = TfidfVectorizer(analyzer=lambda x: x, binary=True)\n",
    "Xtrainvecs = vectorizer.fit_transform(X_train)\n",
    "clf.fit(Xtrainvecs, y_train)"
   ]
  },
  {
   "cell_type": "code",
   "execution_count": 175,
   "metadata": {},
   "outputs": [],
   "source": [
    "Xtestvecs = vectorizer.transform(X_test)\n",
    "y_probas = clf.predict_proba(Xtestvecs)"
   ]
  },
  {
   "cell_type": "code",
   "execution_count": 176,
   "metadata": {},
   "outputs": [
    {
     "data": {
      "image/png": "[encoded data removed]",
      "text/plain": [
       "<Figure size 504x432 with 1 Axes>"
      ]
     },
     "metadata": {
      "needs_background": "light"
     },
     "output_type": "display_data"
    }
   ],
   "source": [
    "# ROC CURVE PLOT\n",
    "import scikitplot as skplt\n",
    "# y_probas = cross_val_predict(svc_pipe, X, y, cv=10, method='predict_proba')\n",
    "skplt.metrics.plot_roc(y_test, y_probas, title=\"ROC - Linear SVC with TF/IDF\",\n",
    "                      plot_micro=False, plot_macro=False,\n",
    "                      figsize=(7,6), text_fontsize=12, title_fontsize=14)\n",
    "plt.show()"
   ]
  },
  {
   "cell_type": "code",
   "execution_count": 177,
   "metadata": {},
   "outputs": [],
   "source": [
    "# Save all results from this model to the evaluation results dataframe\n",
    "eval_df.loc[len(eval_df)] = [\"Linear SVC with TF/IDF\", \"SVC-wc-Tfidf\",\n",
    "                             accuracy, auc, alex_prec, noalex_prec, \n",
    "                             alex_recall, noalex_recall, alex_f1, noalex_f1]"
   ]
  },
  {
   "cell_type": "code",
   "execution_count": 178,
   "metadata": {},
   "outputs": [
    {
     "data": {
      "text/html": [
       "<div>\n",
       "<style scoped>\n",
       "    .dataframe tbody tr th:only-of-type {\n",
       "        vertical-align: middle;\n",
       "    }\n",
       "\n",
       "    .dataframe tbody tr th {\n",
       "        vertical-align: top;\n",
       "    }\n",
       "\n",
       "    .dataframe thead th {\n",
       "        text-align: right;\n",
       "    }\n",
       "</style>\n",
       "<table border=\"1\" class=\"dataframe\">\n",
       "  <thead>\n",
       "    <tr style=\"text-align: right;\">\n",
       "      <th></th>\n",
       "      <th>ModelName</th>\n",
       "      <th>ShortName</th>\n",
       "      <th>Accuracy</th>\n",
       "      <th>AUC</th>\n",
       "      <th>AlexPrecision</th>\n",
       "      <th>NoAlexPrecision</th>\n",
       "      <th>AlexRecall</th>\n",
       "      <th>NoAlexRecall</th>\n",
       "      <th>AlexF1</th>\n",
       "      <th>NoAlexF1</th>\n",
       "    </tr>\n",
       "  </thead>\n",
       "  <tbody>\n",
       "    <tr>\n",
       "      <th>0</th>\n",
       "      <td>Multinomial Naive Bayes with WC Vectors</td>\n",
       "      <td>MultiNB</td>\n",
       "      <td>0.523214</td>\n",
       "      <td>0.551913</td>\n",
       "      <td>0.598611</td>\n",
       "      <td>0.510275</td>\n",
       "      <td>0.403571</td>\n",
       "      <td>0.642857</td>\n",
       "      <td>0.439290</td>\n",
       "      <td>0.558076</td>\n",
       "    </tr>\n",
       "    <tr>\n",
       "      <th>1</th>\n",
       "      <td>Bernoulli Naive Bayes with Word Counts</td>\n",
       "      <td>BernoulliNB</td>\n",
       "      <td>0.576786</td>\n",
       "      <td>0.545536</td>\n",
       "      <td>0.549647</td>\n",
       "      <td>0.546667</td>\n",
       "      <td>0.960714</td>\n",
       "      <td>0.192857</td>\n",
       "      <td>0.696675</td>\n",
       "      <td>0.273205</td>\n",
       "    </tr>\n",
       "    <tr>\n",
       "      <th>2</th>\n",
       "      <td>Multinomial Naive Bayes with TF/IDF</td>\n",
       "      <td>MultiNB-Tfidf</td>\n",
       "      <td>0.483036</td>\n",
       "      <td>0.512149</td>\n",
       "      <td>0.407619</td>\n",
       "      <td>0.489555</td>\n",
       "      <td>0.360714</td>\n",
       "      <td>0.605357</td>\n",
       "      <td>0.371859</td>\n",
       "      <td>0.527836</td>\n",
       "    </tr>\n",
       "    <tr>\n",
       "      <th>3</th>\n",
       "      <td>Bernoulli Naive Bayes with TF/IDF</td>\n",
       "      <td>BernoulliNBT-fidf</td>\n",
       "      <td>0.576786</td>\n",
       "      <td>0.545536</td>\n",
       "      <td>0.549647</td>\n",
       "      <td>0.546667</td>\n",
       "      <td>0.960714</td>\n",
       "      <td>0.192857</td>\n",
       "      <td>0.696675</td>\n",
       "      <td>0.273205</td>\n",
       "    </tr>\n",
       "    <tr>\n",
       "      <th>4</th>\n",
       "      <td>Linear SVC with Word Counts</td>\n",
       "      <td>SVC-wc</td>\n",
       "      <td>0.527679</td>\n",
       "      <td>0.514031</td>\n",
       "      <td>0.528932</td>\n",
       "      <td>0.516786</td>\n",
       "      <td>0.550000</td>\n",
       "      <td>0.505357</td>\n",
       "      <td>0.530000</td>\n",
       "      <td>0.499938</td>\n",
       "    </tr>\n",
       "    <tr>\n",
       "      <th>5</th>\n",
       "      <td>Linear SVC with TF/IDF</td>\n",
       "      <td>SVC-wc-Tfidf</td>\n",
       "      <td>0.479464</td>\n",
       "      <td>0.489923</td>\n",
       "      <td>0.451709</td>\n",
       "      <td>0.450483</td>\n",
       "      <td>0.442857</td>\n",
       "      <td>0.516071</td>\n",
       "      <td>0.433583</td>\n",
       "      <td>0.466234</td>\n",
       "    </tr>\n",
       "  </tbody>\n",
       "</table>\n",
       "</div>"
      ],
      "text/plain": [
       "                                 ModelName          ShortName  Accuracy  \\\n",
       "0  Multinomial Naive Bayes with WC Vectors            MultiNB  0.523214   \n",
       "1   Bernoulli Naive Bayes with Word Counts        BernoulliNB  0.576786   \n",
       "2      Multinomial Naive Bayes with TF/IDF      MultiNB-Tfidf  0.483036   \n",
       "3        Bernoulli Naive Bayes with TF/IDF  BernoulliNBT-fidf  0.576786   \n",
       "4              Linear SVC with Word Counts             SVC-wc  0.527679   \n",
       "5                   Linear SVC with TF/IDF       SVC-wc-Tfidf  0.479464   \n",
       "\n",
       "        AUC  AlexPrecision  NoAlexPrecision  AlexRecall  NoAlexRecall  \\\n",
       "0  0.551913       0.598611         0.510275    0.403571      0.642857   \n",
       "1  0.545536       0.549647         0.546667    0.960714      0.192857   \n",
       "2  0.512149       0.407619         0.489555    0.360714      0.605357   \n",
       "3  0.545536       0.549647         0.546667    0.960714      0.192857   \n",
       "4  0.514031       0.528932         0.516786    0.550000      0.505357   \n",
       "5  0.489923       0.451709         0.450483    0.442857      0.516071   \n",
       "\n",
       "     AlexF1  NoAlexF1  \n",
       "0  0.439290  0.558076  \n",
       "1  0.696675  0.273205  \n",
       "2  0.371859  0.527836  \n",
       "3  0.696675  0.273205  \n",
       "4  0.530000  0.499938  \n",
       "5  0.433583  0.466234  "
      ]
     },
     "execution_count": 178,
     "metadata": {},
     "output_type": "execute_result"
    }
   ],
   "source": [
    "eval_df"
   ]
  },
  {
   "cell_type": "markdown",
   "metadata": {},
   "source": [
    "# Classifiers using Pre-trained Spanish Word Embeddings"
   ]
  },
  {
   "cell_type": "markdown",
   "metadata": {},
   "source": [
    "## Vectorizers for documents (narratives)\n",
    "Using existing word embeddings for Spanish we obtain a vector for each word. \n",
    "We also need to build a single vector representing the entire document, and for that we calculate the mean of all the word vectors in the document. "
   ]
  },
  {
   "cell_type": "code",
   "execution_count": 179,
   "metadata": {},
   "outputs": [],
   "source": [
    "def get_mean_vector(word2vec_model, words):\n",
    "    # remove out-of-vocabulary words\n",
    "    words = [word for word in words if word in word2vec_model.vocab]\n",
    "    if len(words) >= 1:\n",
    "        return np.mean(word2vec_model[words], axis=0)\n",
    "    else:\n",
    "        return []"
   ]
  },
  {
   "cell_type": "code",
   "execution_count": 180,
   "metadata": {},
   "outputs": [
    {
     "data": {
      "text/plain": [
       "1943871"
      ]
     },
     "execution_count": 180,
     "metadata": {},
     "output_type": "execute_result"
    }
   ],
   "source": [
    "len(word_vectors.index2word)"
   ]
  },
  {
   "cell_type": "code",
   "execution_count": 181,
   "metadata": {},
   "outputs": [],
   "source": [
    "class MeanEmbeddingVectorizer(object):\n",
    "    def __init__(self, word2vec):\n",
    "        self.word2vec = word2vec\n",
    "        if len(word2vec.index2word)>0:\n",
    "            self.dim=len(word2vec.index2word)\n",
    "        else:\n",
    "            self.dim=0\n",
    "            \n",
    "    def fit(self, X, y):\n",
    "        return self \n",
    "\n",
    "    def transform(self, X):\n",
    "        return np.array([\n",
    "            np.mean([self.word2vec[w] for w in words if w in self.word2vec.vocab] \n",
    "                    or [np.zeros(self.dim)], axis=0)\n",
    "            for words in X\n",
    "        ])"
   ]
  },
  {
   "cell_type": "code",
   "execution_count": 182,
   "metadata": {},
   "outputs": [
    {
     "data": {
      "text/plain": [
       "<gensim.models.keyedvectors.Word2VecKeyedVectors at 0x256377c9ef0>"
      ]
     },
     "execution_count": 182,
     "metadata": {},
     "output_type": "execute_result"
    }
   ],
   "source": [
    "word_vectors"
   ]
  },
  {
   "cell_type": "code",
   "execution_count": 183,
   "metadata": {},
   "outputs": [],
   "source": [
    "from sklearn.ensemble import ExtraTreesClassifier"
   ]
  },
  {
   "cell_type": "code",
   "execution_count": 184,
   "metadata": {},
   "outputs": [],
   "source": [
    "etree_w2v = Pipeline([(\"w2v vectorizer\", MeanEmbeddingVectorizer(word_vectors)), \n",
    "                        (\"extra trees\", ExtraTreesClassifier(n_estimators=200))])"
   ]
  },
  {
   "cell_type": "code",
   "execution_count": 185,
   "metadata": {},
   "outputs": [],
   "source": [
    "scores = cross_validate(etree_w2v, X, y, cv=10,\n",
    "                        scoring=('accuracy'),\n",
    "                        return_train_score=True)"
   ]
  },
  {
   "cell_type": "code",
   "execution_count": 186,
   "metadata": {},
   "outputs": [
    {
     "data": {
      "text/plain": [
       "0.4946428571428571"
      ]
     },
     "execution_count": 186,
     "metadata": {},
     "output_type": "execute_result"
    }
   ],
   "source": [
    "accuracy = scores['test_score'].mean()\n",
    "accuracy"
   ]
  },
  {
   "cell_type": "code",
   "execution_count": 187,
   "metadata": {},
   "outputs": [],
   "source": [
    "scores = cross_validate(etree_w2v, X, y, cv=10,\n",
    "                        scoring=('roc_auc'),\n",
    "                        return_train_score=True)"
   ]
  },
  {
   "cell_type": "code",
   "execution_count": 188,
   "metadata": {},
   "outputs": [
    {
     "data": {
      "text/plain": [
       "0.4821428571428571"
      ]
     },
     "execution_count": 188,
     "metadata": {},
     "output_type": "execute_result"
    }
   ],
   "source": [
    "auc = scores['test_score'].mean()\n",
    "auc"
   ]
  },
  {
   "cell_type": "code",
   "execution_count": 189,
   "metadata": {},
   "outputs": [
    {
     "name": "stderr",
     "output_type": "stream",
     "text": [
      "C:\\Users\\array\\Anaconda3\\lib\\site-packages\\sklearn\\metrics\\classification.py:1143: UndefinedMetricWarning: Precision is ill-defined and being set to 0.0 due to no predicted samples.\n",
      "  'precision', 'predicted', average, warn_for)\n"
     ]
    }
   ],
   "source": [
    "scores = cross_validate(etree_w2v, X, y, cv=10,\n",
    "                        scoring=alex_precision_scorer, \n",
    "                        return_train_score=True)"
   ]
  },
  {
   "cell_type": "code",
   "execution_count": 190,
   "metadata": {},
   "outputs": [
    {
     "data": {
      "text/plain": [
       "0.4459307359307359"
      ]
     },
     "execution_count": 190,
     "metadata": {},
     "output_type": "execute_result"
    }
   ],
   "source": [
    "alex_prec = scores['test_score'].mean()\n",
    "alex_prec"
   ]
  },
  {
   "cell_type": "code",
   "execution_count": 191,
   "metadata": {},
   "outputs": [],
   "source": [
    "scores = cross_validate(etree_w2v, X, y, cv=10,\n",
    "                        scoring=noalex_precision_scorer, \n",
    "                        return_train_score=True)"
   ]
  },
  {
   "cell_type": "code",
   "execution_count": 192,
   "metadata": {},
   "outputs": [
    {
     "data": {
      "text/plain": [
       "0.4999819624819624"
      ]
     },
     "execution_count": 192,
     "metadata": {},
     "output_type": "execute_result"
    }
   ],
   "source": [
    "noalex_prec = scores['test_score'].mean()\n",
    "noalex_prec"
   ]
  },
  {
   "cell_type": "code",
   "execution_count": 193,
   "metadata": {},
   "outputs": [],
   "source": [
    "scores = cross_validate(etree_w2v, X, y, cv=10,\n",
    "                        scoring=alex_recall_scorer, \n",
    "                        return_train_score=True)"
   ]
  },
  {
   "cell_type": "code",
   "execution_count": 194,
   "metadata": {},
   "outputs": [
    {
     "data": {
      "text/plain": [
       "0.4875"
      ]
     },
     "execution_count": 194,
     "metadata": {},
     "output_type": "execute_result"
    }
   ],
   "source": [
    "alex_recall = scores['test_score'].mean()\n",
    "alex_recall"
   ]
  },
  {
   "cell_type": "code",
   "execution_count": 195,
   "metadata": {},
   "outputs": [],
   "source": [
    "scores = cross_validate(etree_w2v, X, y, cv=10,\n",
    "                        scoring=noalex_recall_scorer, \n",
    "                        return_train_score=True)"
   ]
  },
  {
   "cell_type": "code",
   "execution_count": 196,
   "metadata": {},
   "outputs": [
    {
     "data": {
      "text/plain": [
       "0.4607142857142857"
      ]
     },
     "execution_count": 196,
     "metadata": {},
     "output_type": "execute_result"
    }
   ],
   "source": [
    "noalex_recall = scores['test_score'].mean()\n",
    "noalex_recall"
   ]
  },
  {
   "cell_type": "code",
   "execution_count": 197,
   "metadata": {},
   "outputs": [],
   "source": [
    "scores = cross_validate(etree_w2v, X, y, cv=10,\n",
    "                        scoring=alex_f1_scorer, \n",
    "                        return_train_score=True)"
   ]
  },
  {
   "cell_type": "code",
   "execution_count": 198,
   "metadata": {},
   "outputs": [
    {
     "data": {
      "text/plain": [
       "0.45229736637631374"
      ]
     },
     "execution_count": 198,
     "metadata": {},
     "output_type": "execute_result"
    }
   ],
   "source": [
    "alex_f1 = scores['test_score'].mean()\n",
    "alex_f1"
   ]
  },
  {
   "cell_type": "code",
   "execution_count": 199,
   "metadata": {},
   "outputs": [],
   "source": [
    "scores = cross_validate(etree_w2v, X, y, cv=10,\n",
    "                        scoring=noalex_f1_scorer, \n",
    "                        return_train_score=True)"
   ]
  },
  {
   "cell_type": "code",
   "execution_count": 200,
   "metadata": {},
   "outputs": [
    {
     "data": {
      "text/plain": [
       "0.4388009049773755"
      ]
     },
     "execution_count": 200,
     "metadata": {},
     "output_type": "execute_result"
    }
   ],
   "source": [
    "noalex_f1 = scores['test_score'].mean()\n",
    "noalex_f1"
   ]
  },
  {
   "cell_type": "code",
   "execution_count": 201,
   "metadata": {},
   "outputs": [
    {
     "name": "stdout",
     "output_type": "stream",
     "text": [
      "Confusion matrix, without normalization\n",
      "[[41 35]\n",
      " [38 38]]\n"
     ]
    },
    {
     "data": {
      "text/plain": [
       "<matplotlib.axes._subplots.AxesSubplot at 0x25609442438>"
      ]
     },
     "execution_count": 201,
     "metadata": {},
     "output_type": "execute_result"
    },
    {
     "data": {
      "image/png": "[encoded data removed]",
      "text/plain": [
       "<Figure size 432x288 with 2 Axes>"
      ]
     },
     "metadata": {
      "needs_background": "light"
     },
     "output_type": "display_data"
    }
   ],
   "source": [
    "# CONFUSION MATRIX PLOT\n",
    "from sklearn.model_selection import cross_val_predict\n",
    "from sklearn.metrics import confusion_matrix\n",
    "np.set_printoptions(precision=2)\n",
    "y_pred = cross_val_predict(etree_w2v, X, y, cv=10)\n",
    "plot_confusion_matrix(y, y_pred, classes=['Alex', 'NoAlex'],\n",
    "                      title='Confusion Matrix')"
   ]
  },
  {
   "cell_type": "code",
   "execution_count": 202,
   "metadata": {},
   "outputs": [
    {
     "data": {
      "image/png": "[encoded data removed]",
      "text/plain": [
       "<Figure size 504x432 with 1 Axes>"
      ]
     },
     "metadata": {
      "needs_background": "light"
     },
     "output_type": "display_data"
    }
   ],
   "source": [
    "# ROC CURVE PLOT\n",
    "import scikitplot as skplt\n",
    "y_probas = cross_val_predict(etree_w2v, X, y, cv=10, method='predict_proba')\n",
    "skplt.metrics.plot_roc(y, y_probas, title=\"ROC - Extra Trees with Mean Doc Embeddings\",\n",
    "                      plot_micro=False, plot_macro=False,\n",
    "                      figsize=(7,6), text_fontsize=12, title_fontsize=14)\n",
    "plt.show()"
   ]
  },
  {
   "cell_type": "code",
   "execution_count": 203,
   "metadata": {},
   "outputs": [],
   "source": [
    "# Save all results from this model to the evaluation results dataframe\n",
    "eval_df.loc[len(eval_df)] = [\"Extra Trees with Doc Mean Vectors\", \"Etree-W2V-Mean\",\n",
    "                             accuracy, auc, alex_prec, noalex_prec, \n",
    "                             alex_recall, noalex_recall, alex_f1, noalex_f1]"
   ]
  },
  {
   "cell_type": "code",
   "execution_count": 204,
   "metadata": {},
   "outputs": [
    {
     "data": {
      "text/html": [
       "<div>\n",
       "<style scoped>\n",
       "    .dataframe tbody tr th:only-of-type {\n",
       "        vertical-align: middle;\n",
       "    }\n",
       "\n",
       "    .dataframe tbody tr th {\n",
       "        vertical-align: top;\n",
       "    }\n",
       "\n",
       "    .dataframe thead th {\n",
       "        text-align: right;\n",
       "    }\n",
       "</style>\n",
       "<table border=\"1\" class=\"dataframe\">\n",
       "  <thead>\n",
       "    <tr style=\"text-align: right;\">\n",
       "      <th></th>\n",
       "      <th>ModelName</th>\n",
       "      <th>ShortName</th>\n",
       "      <th>Accuracy</th>\n",
       "      <th>AUC</th>\n",
       "      <th>AlexPrecision</th>\n",
       "      <th>NoAlexPrecision</th>\n",
       "      <th>AlexRecall</th>\n",
       "      <th>NoAlexRecall</th>\n",
       "      <th>AlexF1</th>\n",
       "      <th>NoAlexF1</th>\n",
       "    </tr>\n",
       "  </thead>\n",
       "  <tbody>\n",
       "    <tr>\n",
       "      <th>0</th>\n",
       "      <td>Multinomial Naive Bayes with WC Vectors</td>\n",
       "      <td>MultiNB</td>\n",
       "      <td>0.523214</td>\n",
       "      <td>0.551913</td>\n",
       "      <td>0.598611</td>\n",
       "      <td>0.510275</td>\n",
       "      <td>0.403571</td>\n",
       "      <td>0.642857</td>\n",
       "      <td>0.439290</td>\n",
       "      <td>0.558076</td>\n",
       "    </tr>\n",
       "    <tr>\n",
       "      <th>1</th>\n",
       "      <td>Bernoulli Naive Bayes with Word Counts</td>\n",
       "      <td>BernoulliNB</td>\n",
       "      <td>0.576786</td>\n",
       "      <td>0.545536</td>\n",
       "      <td>0.549647</td>\n",
       "      <td>0.546667</td>\n",
       "      <td>0.960714</td>\n",
       "      <td>0.192857</td>\n",
       "      <td>0.696675</td>\n",
       "      <td>0.273205</td>\n",
       "    </tr>\n",
       "    <tr>\n",
       "      <th>2</th>\n",
       "      <td>Multinomial Naive Bayes with TF/IDF</td>\n",
       "      <td>MultiNB-Tfidf</td>\n",
       "      <td>0.483036</td>\n",
       "      <td>0.512149</td>\n",
       "      <td>0.407619</td>\n",
       "      <td>0.489555</td>\n",
       "      <td>0.360714</td>\n",
       "      <td>0.605357</td>\n",
       "      <td>0.371859</td>\n",
       "      <td>0.527836</td>\n",
       "    </tr>\n",
       "    <tr>\n",
       "      <th>3</th>\n",
       "      <td>Bernoulli Naive Bayes with TF/IDF</td>\n",
       "      <td>BernoulliNBT-fidf</td>\n",
       "      <td>0.576786</td>\n",
       "      <td>0.545536</td>\n",
       "      <td>0.549647</td>\n",
       "      <td>0.546667</td>\n",
       "      <td>0.960714</td>\n",
       "      <td>0.192857</td>\n",
       "      <td>0.696675</td>\n",
       "      <td>0.273205</td>\n",
       "    </tr>\n",
       "    <tr>\n",
       "      <th>4</th>\n",
       "      <td>Linear SVC with Word Counts</td>\n",
       "      <td>SVC-wc</td>\n",
       "      <td>0.527679</td>\n",
       "      <td>0.514031</td>\n",
       "      <td>0.528932</td>\n",
       "      <td>0.516786</td>\n",
       "      <td>0.550000</td>\n",
       "      <td>0.505357</td>\n",
       "      <td>0.530000</td>\n",
       "      <td>0.499938</td>\n",
       "    </tr>\n",
       "    <tr>\n",
       "      <th>5</th>\n",
       "      <td>Linear SVC with TF/IDF</td>\n",
       "      <td>SVC-wc-Tfidf</td>\n",
       "      <td>0.479464</td>\n",
       "      <td>0.489923</td>\n",
       "      <td>0.451709</td>\n",
       "      <td>0.450483</td>\n",
       "      <td>0.442857</td>\n",
       "      <td>0.516071</td>\n",
       "      <td>0.433583</td>\n",
       "      <td>0.466234</td>\n",
       "    </tr>\n",
       "    <tr>\n",
       "      <th>6</th>\n",
       "      <td>Extra Trees with Doc Mean Vectors</td>\n",
       "      <td>Etree-W2V-Mean</td>\n",
       "      <td>0.494643</td>\n",
       "      <td>0.482143</td>\n",
       "      <td>0.445931</td>\n",
       "      <td>0.499982</td>\n",
       "      <td>0.487500</td>\n",
       "      <td>0.460714</td>\n",
       "      <td>0.452297</td>\n",
       "      <td>0.438801</td>\n",
       "    </tr>\n",
       "  </tbody>\n",
       "</table>\n",
       "</div>"
      ],
      "text/plain": [
       "                                 ModelName          ShortName  Accuracy  \\\n",
       "0  Multinomial Naive Bayes with WC Vectors            MultiNB  0.523214   \n",
       "1   Bernoulli Naive Bayes with Word Counts        BernoulliNB  0.576786   \n",
       "2      Multinomial Naive Bayes with TF/IDF      MultiNB-Tfidf  0.483036   \n",
       "3        Bernoulli Naive Bayes with TF/IDF  BernoulliNBT-fidf  0.576786   \n",
       "4              Linear SVC with Word Counts             SVC-wc  0.527679   \n",
       "5                   Linear SVC with TF/IDF       SVC-wc-Tfidf  0.479464   \n",
       "6        Extra Trees with Doc Mean Vectors     Etree-W2V-Mean  0.494643   \n",
       "\n",
       "        AUC  AlexPrecision  NoAlexPrecision  AlexRecall  NoAlexRecall  \\\n",
       "0  0.551913       0.598611         0.510275    0.403571      0.642857   \n",
       "1  0.545536       0.549647         0.546667    0.960714      0.192857   \n",
       "2  0.512149       0.407619         0.489555    0.360714      0.605357   \n",
       "3  0.545536       0.549647         0.546667    0.960714      0.192857   \n",
       "4  0.514031       0.528932         0.516786    0.550000      0.505357   \n",
       "5  0.489923       0.451709         0.450483    0.442857      0.516071   \n",
       "6  0.482143       0.445931         0.499982    0.487500      0.460714   \n",
       "\n",
       "     AlexF1  NoAlexF1  \n",
       "0  0.439290  0.558076  \n",
       "1  0.696675  0.273205  \n",
       "2  0.371859  0.527836  \n",
       "3  0.696675  0.273205  \n",
       "4  0.530000  0.499938  \n",
       "5  0.433583  0.466234  \n",
       "6  0.452297  0.438801  "
      ]
     },
     "execution_count": 204,
     "metadata": {},
     "output_type": "execute_result"
    }
   ],
   "source": [
    "eval_df"
   ]
  },
  {
   "cell_type": "code",
   "execution_count": null,
   "metadata": {},
   "outputs": [],
   "source": []
  },
  {
   "cell_type": "code",
   "execution_count": null,
   "metadata": {},
   "outputs": [],
   "source": []
  }
 ],
 "metadata": {
  "kernelspec": {
   "display_name": "Python 3",
   "language": "python",
   "name": "python3"
  },
  "language_info": {
   "codemirror_mode": {
    "name": "ipython",
    "version": 3
   },
   "file_extension": ".py",
   "mimetype": "text/x-python",
   "name": "python",
   "nbconvert_exporter": "python",
   "pygments_lexer": "ipython3",
   "version": "3.7.3"
  }
 },
 "nbformat": 4,
 "nbformat_minor": 2
}
