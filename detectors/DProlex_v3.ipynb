{
 "cells": [
  {
   "cell_type": "markdown",
   "metadata": {},
   "source": [
    "# Prolexitim Detector (DProlex v3)\n",
    "## Binary Classifiers (Alex / NoAlex) using classical and word vector techniques\n",
    "### Dataset from Prolexitim TAS-20 Spain, Prolexitim NLP and Spanish 3Billion Word2Vec\n",
    "<hr>\n",
    "June 2019.<br> Prolexitim dataset version 1.2 (MPGS-TFM-Submission).<br> \n",
    "Raúl Arrabales Moreno (Psicobótica / Serendeepia Research)<br>\n",
    "<a target=\"_blank\" href=\"http://www.conscious-robots.com/\">http://www.conscious-robots.com/</a> <br>\n",
    "<hr>\n",
    "Spanish Word Vectors from: <a taget=\"_blank\" href=\"https://github.com/aitoralmeida/spanish_word2vec\">Spanish 3B Pre-trained Word2Vec</a>"
   ]
  },
  {
   "cell_type": "markdown",
   "metadata": {},
   "source": [
    "## Load Word Vectors and Documents (texts + labels)\n",
    "- Word Vectors are obtained from the pre-trained Spanish 3B Word2Vec.\n",
    "- Documents are obtained from the Prolexitim Pilot Study.\n",
    "    - Text are narratives from Prolexitim NLP. \n",
    "    - Labels are categorical values from Prolexitim TAS-20.\n"
   ]
  },
  {
   "cell_type": "markdown",
   "metadata": {},
   "source": [
    "### Loading the word vectors"
   ]
  },
  {
   "cell_type": "code",
   "execution_count": 1,
   "metadata": {},
   "outputs": [],
   "source": [
    "from gensim.models import KeyedVectors"
   ]
  },
  {
   "cell_type": "code",
   "execution_count": 2,
   "metadata": {},
   "outputs": [],
   "source": [
    "# My copy of Spanish 3 Billion Word2Vec\n",
    "word_vectors = KeyedVectors.load('D:\\Dropbox-Array2001\\Dropbox\\DataSets\\Spanish Word2Vec\\complete.kv', mmap='r')"
   ]
  },
  {
   "cell_type": "code",
   "execution_count": 3,
   "metadata": {},
   "outputs": [
    {
     "data": {
      "text/plain": [
       "[('chiquillo', 0.863490104675293),\n",
       " ('bebé', 0.85056471824646),\n",
       " ('crío', 0.842483401298523),\n",
       " ('muchacho', 0.7765985727310181),\n",
       " ('niñito', 0.7588649988174438),\n",
       " ('chico', 0.75837242603302),\n",
       " ('cachorro', 0.7369438409805298),\n",
       " ('muchachito', 0.7227176427841187),\n",
       " ('gatito', 0.6718686819076538),\n",
       " ('hombre', 0.6658662557601929)]"
      ]
     },
     "execution_count": 3,
     "metadata": {},
     "output_type": "execute_result"
    }
   ],
   "source": [
    "# Testing Word Vectors for Spanish\n",
    "word_vectors.most_similar(\"niño\")"
   ]
  },
  {
   "cell_type": "code",
   "execution_count": 4,
   "metadata": {},
   "outputs": [
    {
     "data": {
      "text/plain": [
       "memmap([-9.8019737e-01,  3.7916845e-01, -1.6284896e+00,  7.4026036e-01,\n",
       "         6.7275375e-01, -1.6113833e+00, -1.4873409e+00,  1.6933979e+00,\n",
       "         3.0024448e-01,  6.1126029e-01, -1.7352545e+00,  2.5489315e-01,\n",
       "        -7.4795651e-01,  1.0910559e+00, -2.1026888e+00, -4.4130564e+00,\n",
       "         4.2894289e-01,  1.0395617e+00,  1.6460708e+00,  1.0484180e+00,\n",
       "         1.4824442e+00,  1.6438122e+00, -2.7626188e+00,  9.5058024e-01,\n",
       "         8.9740849e-01,  1.6531191e+00, -1.2386736e+00,  1.6032706e+00,\n",
       "        -2.3379698e+00,  7.8928012e-01,  2.1672912e+00, -9.9437529e-01,\n",
       "        -2.5328231e+00,  3.1492624e-01,  1.5492657e-01, -8.9571148e-02,\n",
       "         3.7125247e+00, -1.0850103e+00, -1.0432119e+00, -2.8284986e+00,\n",
       "        -2.1611533e+00,  3.6355894e+00, -2.8690529e+00, -1.6870648e-01,\n",
       "        -4.2504200e-01,  2.8080521e+00,  4.1607413e+00,  2.0719736e+00,\n",
       "        -9.5222074e-01,  1.1894293e+00,  1.0287092e+00, -2.3548654e-01,\n",
       "        -1.3844434e+00,  2.4121676e-01,  9.0101380e-03,  1.0265148e-01,\n",
       "        -3.2968183e+00,  2.0752571e+00, -1.6556615e+00, -3.8786002e-02,\n",
       "        -1.4890193e+00, -3.0560464e-01,  8.5738415e-01,  1.8148477e+00,\n",
       "        -8.2843000e-01, -5.0506163e-01, -1.4600104e+00, -1.1171870e-02,\n",
       "         1.1501406e+00,  2.1369233e+00, -3.9603721e-02, -7.7532732e-01,\n",
       "         1.5903796e+00, -4.3582702e-01, -5.8871174e-01, -1.5905191e+00,\n",
       "         2.1323533e+00, -9.4035882e-01, -8.0692369e-01, -3.4532890e+00,\n",
       "        -2.2992127e-02,  2.0767543e+00, -7.1662493e-02, -3.4065189e+00,\n",
       "        -1.0739474e+00, -9.6360666e-01,  1.8696149e-01,  2.0818729e+00,\n",
       "        -3.1015275e+00, -3.1112653e-01,  1.2955816e+00,  1.8898306e+00,\n",
       "        -3.6121795e-01,  3.9690036e-01,  1.5270262e-02,  2.1567426e+00,\n",
       "         6.7757033e-02,  1.9352016e+00, -4.1454105e+00,  1.1607004e+00,\n",
       "        -9.5965230e-01, -2.3549445e+00,  9.2270344e-02, -1.4243548e+00,\n",
       "        -1.2665675e+00,  5.3080881e-01,  3.0790305e+00,  1.7315191e-01,\n",
       "         1.1744932e+00, -8.4941089e-01, -4.4501007e-01,  2.0254972e+00,\n",
       "         3.5118780e-01, -1.7853947e+00,  5.4741865e-01, -2.7639678e-01,\n",
       "         1.6867747e+00,  1.0924364e+00,  3.5136406e+00,  2.4857979e+00,\n",
       "        -3.1383290e+00, -5.0974870e-01, -9.8099750e-01, -3.1321552e-02,\n",
       "        -1.1673037e+00,  1.0789405e+00, -1.1935455e-01,  7.8409380e-01,\n",
       "        -1.1216023e+00,  1.1370583e+00,  1.9562872e-01,  9.9541974e-01,\n",
       "         1.6094133e+00,  2.0998228e+00, -6.3124341e-01,  5.5850726e-01,\n",
       "        -8.5319960e-01, -3.2088296e+00,  1.7165611e+00, -2.1328779e-01,\n",
       "         2.3587294e+00, -1.5546188e+00,  1.2687100e-01,  1.9562508e+00,\n",
       "        -8.4302372e-01, -1.6411026e+00,  2.0915873e-01,  3.2185469e+00,\n",
       "         2.5274333e-01, -3.0013316e+00, -1.0730166e+00, -9.3324967e-02,\n",
       "         2.0984223e+00, -1.7668195e+00,  2.1962972e+00,  1.0976380e+00,\n",
       "        -9.2647368e-01, -3.2476133e-01,  4.1115508e+00,  1.5275748e-01,\n",
       "         2.6085145e+00, -2.0372862e-02,  7.4710125e-01, -4.5411670e-01,\n",
       "         9.7596057e-02,  2.5161128e+00, -1.3530990e+00, -9.4512939e-01,\n",
       "        -1.8407586e-01,  8.6599660e-01, -1.7965726e+00,  1.5556636e-01,\n",
       "         2.4655361e+00,  8.1840324e-01, -4.6240622e-01, -6.5059102e-01,\n",
       "        -8.1615710e-01, -4.1748175e-01,  4.0988547e-01,  2.3356037e+00,\n",
       "        -5.0089151e-01,  1.3943664e+00,  1.1884069e+00, -4.3710402e-01,\n",
       "         2.1617076e+00,  1.9187655e+00,  6.5393937e-01, -2.4701250e+00,\n",
       "         1.5567814e+00, -1.6165422e+00,  1.4392709e+00, -9.6413320e-01,\n",
       "         7.3564565e-01,  1.0224243e+00,  1.2931311e-02, -1.1055406e+00,\n",
       "        -1.4821014e-01, -1.7847108e+00,  5.6998432e-01, -1.6059356e+00,\n",
       "        -9.6218520e-01,  1.1716418e-01,  5.2084702e-01,  1.0837722e+00,\n",
       "         7.8304090e-02,  1.5599633e+00,  1.1742407e+00,  2.9047723e+00,\n",
       "         5.2355707e-01, -1.2992711e-01,  1.9914528e+00,  7.5311387e-01,\n",
       "         1.4401117e-01, -3.2285967e+00,  1.3644392e+00,  9.5878577e-01,\n",
       "         2.6098435e+00, -1.0520420e+00,  2.7416434e+00,  7.8486991e-01,\n",
       "        -5.6260669e-01,  4.8386270e-01, -3.9561491e-02, -1.7555034e-01,\n",
       "        -1.8156540e+00, -7.0129976e-02,  2.3463640e+00,  2.0420330e+00,\n",
       "         2.3154123e+00, -1.3443410e+00, -1.5813562e+00,  1.1546469e+00,\n",
       "        -1.5704197e+00,  1.6612265e-01,  1.3259580e+00,  1.0469520e+00,\n",
       "        -1.3822209e+00, -2.0973620e+00,  2.9417458e+00, -3.1136039e-01,\n",
       "        -2.0176127e+00,  1.8515371e+00, -1.4440545e+00, -1.8402880e+00,\n",
       "        -2.3412981e+00, -4.5084736e-01, -2.5147460e+00,  3.3905809e+00,\n",
       "         5.7023352e-01,  3.1278849e-01, -5.0142175e-01, -1.6067816e+00,\n",
       "        -1.5599055e+00,  1.5711111e+00,  1.6385747e-01,  7.2384763e-01,\n",
       "         2.0016503e+00, -1.4425695e+00,  9.3982035e-01,  9.3714073e-02,\n",
       "         1.1593354e+00,  5.3733796e-01, -1.5355002e+00,  4.0261114e-01,\n",
       "        -1.2632470e-03,  1.0472178e+00,  7.0645583e-01,  3.7965667e-02,\n",
       "         8.3731341e-01,  2.5888482e-01, -8.2022274e-01, -3.7495537e+00,\n",
       "        -1.7066669e+00, -2.0209246e+00, -1.4982151e+00, -2.3343916e+00,\n",
       "         8.0437279e-01, -2.1464801e+00, -1.6018775e+00,  7.1235347e-01,\n",
       "        -1.5930090e+00,  3.5106944e-04,  3.4931355e+00,  8.9644277e-01,\n",
       "         2.4370448e-01,  3.6288047e+00,  9.9331903e-01,  7.2525972e-01,\n",
       "         1.9553095e+00,  1.2173094e-01, -2.2037309e-01,  4.1105247e+00,\n",
       "         7.5344497e-01, -3.9223105e-01, -1.7570958e+00, -3.5213611e-01,\n",
       "        -6.9875681e-01, -5.2878481e-01,  8.9208102e-01, -6.6897899e-01,\n",
       "         1.9932009e+00, -1.1865415e-01, -4.3779862e-01, -2.4143037e-01,\n",
       "        -1.8878022e+00,  1.9268537e-01,  3.5240468e-02, -4.5528588e-01,\n",
       "         1.1002216e+00, -1.2792325e+00, -1.0800636e+00,  8.5397261e-01,\n",
       "         7.0851243e-01,  2.1065834e+00, -6.5375274e-01,  1.1180370e+00,\n",
       "         1.4879224e+00,  8.5045820e-01,  1.1497388e+00, -2.3856524e-01,\n",
       "        -9.6517116e-01,  1.5112903e+00, -1.7679377e+00,  1.1639472e+00,\n",
       "        -9.2610419e-02,  1.7782736e-01, -1.1988173e+00, -4.0861908e-01,\n",
       "         1.4101517e+00, -1.3729553e-01, -5.3372633e-01, -1.3244117e+00,\n",
       "        -1.3433135e+00, -2.7928379e+00, -4.4247818e-01, -9.5421523e-01,\n",
       "         2.9210382e+00,  1.7072392e-01, -1.1061685e+00,  3.7420643e-04,\n",
       "         3.2633115e-02,  4.5106992e-01,  2.4590565e-01, -3.3659425e-01,\n",
       "        -3.7846923e-02, -1.2610713e+00, -5.1497293e-01, -3.6496311e-01,\n",
       "         2.2892258e+00, -1.3142976e-01,  1.0838083e+00, -5.7563275e-01,\n",
       "        -1.1437786e+00,  3.1401093e+00,  3.5082738e+00, -7.0919120e-01,\n",
       "         2.4267635e+00, -5.6073046e-01,  6.7863721e-01,  9.7687054e-01,\n",
       "         1.8711820e+00,  8.5127455e-01,  1.0924863e+00,  1.9482992e+00,\n",
       "         2.3596973e+00, -1.1786045e-01,  2.4539719e+00, -8.8561243e-01,\n",
       "        -7.0361704e-01,  1.4807769e+00,  3.4427774e+00,  8.4504139e-01,\n",
       "        -1.3820996e+00,  2.5367177e-01,  5.5846190e-01,  2.0964198e+00,\n",
       "        -2.5644645e-01,  1.3102604e+00,  2.9129219e+00,  1.6488185e+00,\n",
       "         5.3059870e-01,  1.4881358e+00, -6.2520319e-01,  2.9942527e+00,\n",
       "         2.3250029e+00,  6.4620948e-01,  2.9438624e+00, -1.7702686e+00,\n",
       "         1.4981197e+00, -1.5345292e+00,  3.4186728e+00, -3.2464521e+00,\n",
       "        -4.8226449e-01,  1.4224052e+00, -4.4379181e-01, -2.0269799e+00,\n",
       "         1.8622971e+00, -2.1099648e+00,  1.4057389e+00,  8.8919646e-01],\n",
       "       dtype=float32)"
      ]
     },
     "execution_count": 4,
     "metadata": {},
     "output_type": "execute_result"
    }
   ],
   "source": [
    "# Testing Word Vectors for Spanish\n",
    "word_vectors.get_vector(\"niño\")"
   ]
  },
  {
   "cell_type": "code",
   "execution_count": 6,
   "metadata": {},
   "outputs": [
    {
     "data": {
      "text/plain": [
       "[('individuo', 0.5064163208007812),\n",
       " ('hombre', 0.4954623878002167),\n",
       " ('muchacho', 0.4840112328529358),\n",
       " ('úrgalo', 0.47156092524528503),\n",
       " ('niño', 0.47056442499160767),\n",
       " ('hombredios', 0.46997901797294617),\n",
       " ('chiquillo', 0.4607599079608917),\n",
       " ('hom\\xadbre', 0.46047237515449524),\n",
       " ('ejército…', 0.45903706550598145),\n",
       " ('gyorn', 0.44549915194511414)]"
      ]
     },
     "execution_count": 6,
     "metadata": {},
     "output_type": "execute_result"
    }
   ],
   "source": [
    "# Testing Word Vectors for Spanish\n",
    "word_vectors.similar_by_vector(word_vectors.get_vector(\"niño\") - word_vectors.get_vector(\"niña\"))"
   ]
  },
  {
   "cell_type": "markdown",
   "metadata": {},
   "source": [
    "### Loading Prolexitim TAS-20 + NLP Dataset Load"
   ]
  },
  {
   "cell_type": "code",
   "execution_count": 7,
   "metadata": {},
   "outputs": [],
   "source": [
    "import pandas as pd "
   ]
  },
  {
   "cell_type": "code",
   "execution_count": 14,
   "metadata": {},
   "outputs": [],
   "source": [
    "# My copy of Prolexitim join tables with TAS-20 categorical label and narratives from Prolexitim NLP\n",
    "tasnlp_dataset_path = \"D:\\\\Dropbox-Array2001\\\\Dropbox\\\\UNI\\\\MPGS\\\\2_TFM\\\\Datos\\\\prolexitim-merged-1.3.csv\""
   ]
  },
  {
   "cell_type": "code",
   "execution_count": 29,
   "metadata": {},
   "outputs": [],
   "source": [
    "docs_df = pd.read_csv(tasnlp_dataset_path,header=0,delimiter=\"\\t\")"
   ]
  },
  {
   "cell_type": "code",
   "execution_count": 30,
   "metadata": {},
   "outputs": [
    {
     "data": {
      "text/html": [
       "<div>\n",
       "<style scoped>\n",
       "    .dataframe tbody tr th:only-of-type {\n",
       "        vertical-align: middle;\n",
       "    }\n",
       "\n",
       "    .dataframe tbody tr th {\n",
       "        vertical-align: top;\n",
       "    }\n",
       "\n",
       "    .dataframe thead th {\n",
       "        text-align: right;\n",
       "    }\n",
       "</style>\n",
       "<table border=\"1\" class=\"dataframe\">\n",
       "  <thead>\n",
       "    <tr style=\"text-align: right;\">\n",
       "      <th></th>\n",
       "      <th>Text</th>\n",
       "      <th>AlexLabel</th>\n",
       "    </tr>\n",
       "  </thead>\n",
       "  <tbody>\n",
       "    <tr>\n",
       "      <th>303</th>\n",
       "      <td>Obreros adescando tras un lardo día de arar la...</td>\n",
       "      <td>Alex</td>\n",
       "    </tr>\n",
       "    <tr>\n",
       "      <th>101</th>\n",
       "      <td>Un hombre que tuvo que matar con mucha pena a ...</td>\n",
       "      <td>NoAlex</td>\n",
       "    </tr>\n",
       "    <tr>\n",
       "      <th>256</th>\n",
       "      <td>Erase una vez una cascada encantada que llevab...</td>\n",
       "      <td>NoAlex</td>\n",
       "    </tr>\n",
       "    <tr>\n",
       "      <th>150</th>\n",
       "      <td>un niño al que sus padres de clase acomodada ...</td>\n",
       "      <td>Alex</td>\n",
       "    </tr>\n",
       "    <tr>\n",
       "      <th>151</th>\n",
       "      <td>unos tíos que se fueron de juerga y ahora está...</td>\n",
       "      <td>Alex</td>\n",
       "    </tr>\n",
       "    <tr>\n",
       "      <th>73</th>\n",
       "      <td>Esta era la historía de un señor anciano en el...</td>\n",
       "      <td>PosAlex</td>\n",
       "    </tr>\n",
       "  </tbody>\n",
       "</table>\n",
       "</div>"
      ],
      "text/plain": [
       "                                                  Text AlexLabel\n",
       "303  Obreros adescando tras un lardo día de arar la...      Alex\n",
       "101  Un hombre que tuvo que matar con mucha pena a ...    NoAlex\n",
       "256  Erase una vez una cascada encantada que llevab...    NoAlex\n",
       "150   un niño al que sus padres de clase acomodada ...      Alex\n",
       "151  unos tíos que se fueron de juerga y ahora está...      Alex\n",
       "73   Esta era la historía de un señor anciano en el...   PosAlex"
      ]
     },
     "execution_count": 30,
     "metadata": {},
     "output_type": "execute_result"
    }
   ],
   "source": [
    "# We're only intereted in the Spanish text and the corresponding Alexithymia label\n",
    "docs_df = docs_df.dropna()\n",
    "docs_df = docs_df[['Text', 'alex-a']]\n",
    "docs_df.columns = ['Text', 'AlexLabel']\n",
    "docs_df.sample(n=6)"
   ]
  },
  {
   "cell_type": "code",
   "execution_count": 31,
   "metadata": {},
   "outputs": [
    {
     "data": {
      "text/html": [
       "<div>\n",
       "<style scoped>\n",
       "    .dataframe tbody tr th:only-of-type {\n",
       "        vertical-align: middle;\n",
       "    }\n",
       "\n",
       "    .dataframe tbody tr th {\n",
       "        vertical-align: top;\n",
       "    }\n",
       "\n",
       "    .dataframe thead th {\n",
       "        text-align: right;\n",
       "    }\n",
       "</style>\n",
       "<table border=\"1\" class=\"dataframe\">\n",
       "  <thead>\n",
       "    <tr style=\"text-align: right;\">\n",
       "      <th></th>\n",
       "      <th>Text</th>\n",
       "    </tr>\n",
       "    <tr>\n",
       "      <th>AlexLabel</th>\n",
       "      <th></th>\n",
       "    </tr>\n",
       "  </thead>\n",
       "  <tbody>\n",
       "    <tr>\n",
       "      <th>Alex</th>\n",
       "      <td>31</td>\n",
       "    </tr>\n",
       "    <tr>\n",
       "      <th>NoAlex</th>\n",
       "      <td>240</td>\n",
       "    </tr>\n",
       "    <tr>\n",
       "      <th>PosAlex</th>\n",
       "      <td>45</td>\n",
       "    </tr>\n",
       "  </tbody>\n",
       "</table>\n",
       "</div>"
      ],
      "text/plain": [
       "           Text\n",
       "AlexLabel      \n",
       "Alex         31\n",
       "NoAlex      240\n",
       "PosAlex      45"
      ]
     },
     "execution_count": 31,
     "metadata": {},
     "output_type": "execute_result"
    }
   ],
   "source": [
    "# We have a very unbalance dataset\n",
    "docs_df.groupby(by='AlexLabel').count()"
   ]
  },
  {
   "cell_type": "code",
   "execution_count": 33,
   "metadata": {},
   "outputs": [],
   "source": [
    "# And we decided to consider both Possible Alexithymia and Alexithymia as the same (Positive) class\n",
    "docs_df['AlexLabel'] = docs_df['AlexLabel'].apply(lambda x: x.replace('PosAlex', 'Alex'))"
   ]
  },
  {
   "cell_type": "code",
   "execution_count": 34,
   "metadata": {},
   "outputs": [
    {
     "data": {
      "text/html": [
       "<div>\n",
       "<style scoped>\n",
       "    .dataframe tbody tr th:only-of-type {\n",
       "        vertical-align: middle;\n",
       "    }\n",
       "\n",
       "    .dataframe tbody tr th {\n",
       "        vertical-align: top;\n",
       "    }\n",
       "\n",
       "    .dataframe thead th {\n",
       "        text-align: right;\n",
       "    }\n",
       "</style>\n",
       "<table border=\"1\" class=\"dataframe\">\n",
       "  <thead>\n",
       "    <tr style=\"text-align: right;\">\n",
       "      <th></th>\n",
       "      <th>Text</th>\n",
       "    </tr>\n",
       "    <tr>\n",
       "      <th>AlexLabel</th>\n",
       "      <th></th>\n",
       "    </tr>\n",
       "  </thead>\n",
       "  <tbody>\n",
       "    <tr>\n",
       "      <th>Alex</th>\n",
       "      <td>76</td>\n",
       "    </tr>\n",
       "    <tr>\n",
       "      <th>NoAlex</th>\n",
       "      <td>240</td>\n",
       "    </tr>\n",
       "  </tbody>\n",
       "</table>\n",
       "</div>"
      ],
      "text/plain": [
       "           Text\n",
       "AlexLabel      \n",
       "Alex         76\n",
       "NoAlex      240"
      ]
     },
     "execution_count": 34,
     "metadata": {},
     "output_type": "execute_result"
    }
   ],
   "source": [
    "docs_df.groupby(by='AlexLabel').count()"
   ]
  },
  {
   "cell_type": "markdown",
   "metadata": {},
   "source": [
    "## Prepare training data set\n",
    "- X (independent variable) --> Text (narrative in Spanish)\n",
    "- y (dependent variable) --> Alexithymia label (Alex/NoAlex)"
   ]
  },
  {
   "cell_type": "code",
   "execution_count": 48,
   "metadata": {},
   "outputs": [],
   "source": [
    "import numpy as np"
   ]
  },
  {
   "cell_type": "code",
   "execution_count": 52,
   "metadata": {},
   "outputs": [],
   "source": [
    "X = docs_df['Text'].apply(lambda x: x.split())\n",
    "y = docs_df['AlexLabel']\n",
    "\n",
    "X = np.array(X)\n",
    "y = np.array(y)"
   ]
  },
  {
   "cell_type": "code",
   "execution_count": 62,
   "metadata": {},
   "outputs": [
    {
     "name": "stdout",
     "output_type": "stream",
     "text": [
      "Number of examples: 316\n"
     ]
    }
   ],
   "source": [
    "print (\"Number of examples: %s\" % len(y))"
   ]
  },
  {
   "cell_type": "markdown",
   "metadata": {},
   "source": [
    "## Evaluation Metrics definition"
   ]
  },
  {
   "cell_type": "code",
   "execution_count": 154,
   "metadata": {},
   "outputs": [],
   "source": [
    "from sklearn.metrics import precision_score, recall_score, f1_score, make_scorer\n",
    "from sklearn.metrics import roc_auc_score"
   ]
  },
  {
   "cell_type": "code",
   "execution_count": 155,
   "metadata": {},
   "outputs": [],
   "source": [
    "# Precision detecting the presencen of alexithymia\n",
    "alex_precision_scorer = make_scorer(precision_score, pos_label='Alex')\n",
    "\n",
    "# Precision detecting the absence of alexithymia\n",
    "noalex_precision_scorer = make_scorer(precision_score, pos_label='NoAlex')\n",
    "\n",
    "# sensitivity for the presence of alexithymia: recall, hit rate, or true positive rate (TPR).\n",
    "alex_recall_scorer = make_scorer(recall_score, pos_label='Alex')\n",
    "\n",
    "# sensitivity for the absence of alexithymia: recall, hit rate, or true positive rate (TPR).\n",
    "noalex_recall_scorer = make_scorer(recall_score, pos_label='NoAlex')\n",
    "\n",
    "# F1 Score the presence of alexithymia: harmonic mean of precision and sensitivity.\n",
    "alex_f1_scorer = make_scorer(f1_score, pos_label='Alex')\n",
    "\n",
    "# F1 Score the absence of alexithymia: harmonic mean of precision and sensitivity.\n",
    "noalex_f1_scorer = make_scorer(f1_score, pos_label='NoAlex')"
   ]
  },
  {
   "cell_type": "code",
   "execution_count": 156,
   "metadata": {},
   "outputs": [
    {
     "data": {
      "text/html": [
       "<div>\n",
       "<style scoped>\n",
       "    .dataframe tbody tr th:only-of-type {\n",
       "        vertical-align: middle;\n",
       "    }\n",
       "\n",
       "    .dataframe tbody tr th {\n",
       "        vertical-align: top;\n",
       "    }\n",
       "\n",
       "    .dataframe thead th {\n",
       "        text-align: right;\n",
       "    }\n",
       "</style>\n",
       "<table border=\"1\" class=\"dataframe\">\n",
       "  <thead>\n",
       "    <tr style=\"text-align: right;\">\n",
       "      <th></th>\n",
       "      <th>ModelName</th>\n",
       "      <th>Accuracy</th>\n",
       "      <th>AUC</th>\n",
       "      <th>AlexPrecision</th>\n",
       "      <th>NoAlexPrecision</th>\n",
       "      <th>AlexRecall</th>\n",
       "      <th>NoAlexRecall</th>\n",
       "      <th>AlexF1</th>\n",
       "      <th>NoAlexF1</th>\n",
       "    </tr>\n",
       "  </thead>\n",
       "  <tbody>\n",
       "  </tbody>\n",
       "</table>\n",
       "</div>"
      ],
      "text/plain": [
       "Empty DataFrame\n",
       "Columns: [ModelName, Accuracy, AUC, AlexPrecision, NoAlexPrecision, AlexRecall, NoAlexRecall, AlexF1, NoAlexF1]\n",
       "Index: []"
      ]
     },
     "execution_count": 156,
     "metadata": {},
     "output_type": "execute_result"
    }
   ],
   "source": [
    "# A dataframe to store all evaluation results\n",
    "col_names =  ['ModelName', 'Accuracy', 'AUC', 'AlexPrecision', 'NoAlexPrecision', 'AlexRecall', 'NoAlexRecall', 'AlexF1', 'NoAlexF1']\n",
    "eval_df  = pd.DataFrame(columns = col_names)\n",
    "eval_df"
   ]
  },
  {
   "cell_type": "markdown",
   "metadata": {},
   "source": [
    "## Evaluation helper functions"
   ]
  },
  {
   "cell_type": "code",
   "execution_count": 171,
   "metadata": {},
   "outputs": [],
   "source": [
    "import numpy as np\n",
    "import matplotlib.pyplot as plt\n",
    "from sklearn.utils.multiclass import unique_labels"
   ]
  },
  {
   "cell_type": "code",
   "execution_count": 179,
   "metadata": {},
   "outputs": [],
   "source": [
    "def plot_confusion_matrix(y_true, y_pred, classes,\n",
    "                          normalize=False,\n",
    "                          title=None,\n",
    "                          cmap=plt.cm.Blues):\n",
    "    \"\"\"\n",
    "    This function prints and plots the confusion matrix.\n",
    "    Normalization can be applied by setting `normalize=True`.\n",
    "    \"\"\"\n",
    "    if not title:\n",
    "        if normalize:\n",
    "            title = 'Normalized confusion matrix'\n",
    "        else:\n",
    "            title = 'Confusion matrix, without normalization'\n",
    "\n",
    "    # Compute confusion matrix\n",
    "    cm = confusion_matrix(y_true, y_pred)\n",
    "    # Only use the labels that appear in the data\n",
    "    classes = ['Alex','NoAlex']\n",
    "    if normalize:\n",
    "        cm = cm.astype('float') / cm.sum(axis=1)[:, np.newaxis]\n",
    "        print(\"Normalized confusion matrix\")\n",
    "    else:\n",
    "        print('Confusion matrix, without normalization')\n",
    "\n",
    "    print(cm)\n",
    "\n",
    "    fig, ax = plt.subplots()\n",
    "    im = ax.imshow(cm, interpolation='nearest', cmap=cmap)\n",
    "    ax.figure.colorbar(im, ax=ax)\n",
    "    # We want to show all ticks...\n",
    "    ax.set(xticks=np.arange(cm.shape[1]),\n",
    "           yticks=np.arange(cm.shape[0]),\n",
    "           # ... and label them with the respective list entries\n",
    "           xticklabels=classes, yticklabels=classes,\n",
    "           title=title,\n",
    "           ylabel='True label',\n",
    "           xlabel='Predicted label')\n",
    "\n",
    "    # Rotate the tick labels and set their alignment.\n",
    "    plt.setp(ax.get_xticklabels(), rotation=45, ha=\"right\",\n",
    "             rotation_mode=\"anchor\")\n",
    "\n",
    "    # Loop over data dimensions and create text annotations.\n",
    "    fmt = '.2f' if normalize else 'd'\n",
    "    thresh = cm.max() / 2.\n",
    "    for i in range(cm.shape[0]):\n",
    "        for j in range(cm.shape[1]):\n",
    "            ax.text(j, i, format(cm[i, j], fmt),\n",
    "                    ha=\"center\", va=\"center\",\n",
    "                    color=\"white\" if cm[i, j] > thresh else \"black\")\n",
    "    fig.tight_layout()\n",
    "    return ax"
   ]
  },
  {
   "cell_type": "markdown",
   "metadata": {},
   "source": [
    "## Classifier with Word Counts and Multinomial Naive Bayes"
   ]
  },
  {
   "cell_type": "code",
   "execution_count": 85,
   "metadata": {},
   "outputs": [],
   "source": [
    "from sklearn.pipeline import Pipeline\n",
    "from sklearn.naive_bayes import MultinomialNB\n",
    "from sklearn.feature_extraction.text import CountVectorizer\n",
    "from sklearn.model_selection import cross_val_score\n",
    "from sklearn.model_selection import cross_validate"
   ]
  },
  {
   "cell_type": "code",
   "execution_count": 66,
   "metadata": {},
   "outputs": [],
   "source": [
    "# Multinomial Naive Bayes using vectors with word counts\n",
    "multinb_pipe = Pipeline([(\"count_vectorizer\", CountVectorizer(analyzer=lambda x: x)), (\"multinomial nb\", MultinomialNB())])"
   ]
  },
  {
   "cell_type": "code",
   "execution_count": 69,
   "metadata": {},
   "outputs": [
    {
     "data": {
      "text/plain": [
       "0.7628024193548388"
      ]
     },
     "execution_count": 69,
     "metadata": {},
     "output_type": "execute_result"
    }
   ],
   "source": [
    "cross_val_score(multinb_pipe, X, y, cv=10).mean()"
   ]
  },
  {
   "cell_type": "code",
   "execution_count": 134,
   "metadata": {},
   "outputs": [],
   "source": [
    "scores = cross_validate(multinb_pipe, X, y, cv=10,\n",
    "                        scoring=('accuracy'),\n",
    "                        return_train_score=True)"
   ]
  },
  {
   "cell_type": "code",
   "execution_count": 135,
   "metadata": {},
   "outputs": [
    {
     "data": {
      "text/plain": [
       "0.7628024193548388"
      ]
     },
     "execution_count": 135,
     "metadata": {},
     "output_type": "execute_result"
    }
   ],
   "source": [
    "accuracy = scores['test_score'].mean()\n",
    "accuracy"
   ]
  },
  {
   "cell_type": "code",
   "execution_count": 136,
   "metadata": {},
   "outputs": [],
   "source": [
    "scores = cross_validate(multinb_pipe, X, y, cv=10,\n",
    "                        scoring=('roc_auc'),\n",
    "                        return_train_score=True)"
   ]
  },
  {
   "cell_type": "code",
   "execution_count": 137,
   "metadata": {},
   "outputs": [
    {
     "data": {
      "text/plain": [
       "0.5906994047619049"
      ]
     },
     "execution_count": 137,
     "metadata": {},
     "output_type": "execute_result"
    }
   ],
   "source": [
    "auc = scores['test_score'].mean()\n",
    "auc"
   ]
  },
  {
   "cell_type": "code",
   "execution_count": 138,
   "metadata": {},
   "outputs": [
    {
     "name": "stderr",
     "output_type": "stream",
     "text": [
      "C:\\Users\\array\\Anaconda3\\lib\\site-packages\\sklearn\\metrics\\classification.py:1143: UndefinedMetricWarning: Precision is ill-defined and being set to 0.0 due to no predicted samples.\n",
      "  'precision', 'predicted', average, warn_for)\n",
      "C:\\Users\\array\\Anaconda3\\lib\\site-packages\\sklearn\\metrics\\classification.py:1143: UndefinedMetricWarning: Precision is ill-defined and being set to 0.0 due to no predicted samples.\n",
      "  'precision', 'predicted', average, warn_for)\n",
      "C:\\Users\\array\\Anaconda3\\lib\\site-packages\\sklearn\\metrics\\classification.py:1143: UndefinedMetricWarning: Precision is ill-defined and being set to 0.0 due to no predicted samples.\n",
      "  'precision', 'predicted', average, warn_for)\n",
      "C:\\Users\\array\\Anaconda3\\lib\\site-packages\\sklearn\\metrics\\classification.py:1143: UndefinedMetricWarning: Precision is ill-defined and being set to 0.0 due to no predicted samples.\n",
      "  'precision', 'predicted', average, warn_for)\n",
      "C:\\Users\\array\\Anaconda3\\lib\\site-packages\\sklearn\\metrics\\classification.py:1143: UndefinedMetricWarning: Precision is ill-defined and being set to 0.0 due to no predicted samples.\n",
      "  'precision', 'predicted', average, warn_for)\n",
      "C:\\Users\\array\\Anaconda3\\lib\\site-packages\\sklearn\\metrics\\classification.py:1143: UndefinedMetricWarning: Precision is ill-defined and being set to 0.0 due to no predicted samples.\n",
      "  'precision', 'predicted', average, warn_for)\n",
      "C:\\Users\\array\\Anaconda3\\lib\\site-packages\\sklearn\\metrics\\classification.py:1143: UndefinedMetricWarning: Precision is ill-defined and being set to 0.0 due to no predicted samples.\n",
      "  'precision', 'predicted', average, warn_for)\n",
      "C:\\Users\\array\\Anaconda3\\lib\\site-packages\\sklearn\\metrics\\classification.py:1143: UndefinedMetricWarning: Precision is ill-defined and being set to 0.0 due to no predicted samples.\n",
      "  'precision', 'predicted', average, warn_for)\n",
      "C:\\Users\\array\\Anaconda3\\lib\\site-packages\\sklearn\\metrics\\classification.py:1143: UndefinedMetricWarning: Precision is ill-defined and being set to 0.0 due to no predicted samples.\n",
      "  'precision', 'predicted', average, warn_for)\n"
     ]
    }
   ],
   "source": [
    "scores = cross_validate(multinb_pipe, X, y, cv=10,\n",
    "                        scoring=alex_precision_scorer, \n",
    "                        return_train_score=True)\n",
    "# Warning messages appear due to no positive Alexithymia predicted samples"
   ]
  },
  {
   "cell_type": "code",
   "execution_count": 139,
   "metadata": {},
   "outputs": [
    {
     "data": {
      "text/plain": [
       "0.1"
      ]
     },
     "execution_count": 139,
     "metadata": {},
     "output_type": "execute_result"
    }
   ],
   "source": [
    "alex_prec = scores['test_score'].mean()\n",
    "alex_prec"
   ]
  },
  {
   "cell_type": "code",
   "execution_count": 141,
   "metadata": {},
   "outputs": [],
   "source": [
    "scores = cross_validate(multinb_pipe, X, y, cv=10,\n",
    "                        scoring=noalex_precision_scorer, \n",
    "                        return_train_score=True)"
   ]
  },
  {
   "cell_type": "code",
   "execution_count": 142,
   "metadata": {},
   "outputs": [
    {
     "data": {
      "text/plain": [
       "0.7620967741935484"
      ]
     },
     "execution_count": 142,
     "metadata": {},
     "output_type": "execute_result"
    }
   ],
   "source": [
    "noalex_prec = scores['test_score'].mean()\n",
    "noalex_prec"
   ]
  },
  {
   "cell_type": "code",
   "execution_count": 150,
   "metadata": {},
   "outputs": [],
   "source": [
    "scores = cross_validate(multinb_pipe, X, y, cv=10,\n",
    "                        scoring=alex_recall_scorer, \n",
    "                        return_train_score=True)"
   ]
  },
  {
   "cell_type": "code",
   "execution_count": 151,
   "metadata": {},
   "outputs": [
    {
     "data": {
      "text/plain": [
       "0.0125"
      ]
     },
     "execution_count": 151,
     "metadata": {},
     "output_type": "execute_result"
    }
   ],
   "source": [
    "alex_recall = scores['test_score'].mean()\n",
    "alex_recall"
   ]
  },
  {
   "cell_type": "code",
   "execution_count": 152,
   "metadata": {},
   "outputs": [],
   "source": [
    "scores = cross_validate(multinb_pipe, X, y, cv=10,\n",
    "                        scoring=noalex_recall_scorer, \n",
    "                        return_train_score=True)"
   ]
  },
  {
   "cell_type": "code",
   "execution_count": 153,
   "metadata": {},
   "outputs": [
    {
     "data": {
      "text/plain": [
       "1.0"
      ]
     },
     "execution_count": 153,
     "metadata": {},
     "output_type": "execute_result"
    }
   ],
   "source": [
    "noalex_recall = scores['test_score'].mean()\n",
    "noalex_recall"
   ]
  },
  {
   "cell_type": "code",
   "execution_count": 157,
   "metadata": {},
   "outputs": [
    {
     "name": "stderr",
     "output_type": "stream",
     "text": [
      "C:\\Users\\array\\Anaconda3\\lib\\site-packages\\sklearn\\metrics\\classification.py:1143: UndefinedMetricWarning: F-score is ill-defined and being set to 0.0 due to no predicted samples.\n",
      "  'precision', 'predicted', average, warn_for)\n",
      "C:\\Users\\array\\Anaconda3\\lib\\site-packages\\sklearn\\metrics\\classification.py:1143: UndefinedMetricWarning: F-score is ill-defined and being set to 0.0 due to no predicted samples.\n",
      "  'precision', 'predicted', average, warn_for)\n",
      "C:\\Users\\array\\Anaconda3\\lib\\site-packages\\sklearn\\metrics\\classification.py:1143: UndefinedMetricWarning: F-score is ill-defined and being set to 0.0 due to no predicted samples.\n",
      "  'precision', 'predicted', average, warn_for)\n",
      "C:\\Users\\array\\Anaconda3\\lib\\site-packages\\sklearn\\metrics\\classification.py:1143: UndefinedMetricWarning: F-score is ill-defined and being set to 0.0 due to no predicted samples.\n",
      "  'precision', 'predicted', average, warn_for)\n",
      "C:\\Users\\array\\Anaconda3\\lib\\site-packages\\sklearn\\metrics\\classification.py:1143: UndefinedMetricWarning: F-score is ill-defined and being set to 0.0 due to no predicted samples.\n",
      "  'precision', 'predicted', average, warn_for)\n",
      "C:\\Users\\array\\Anaconda3\\lib\\site-packages\\sklearn\\metrics\\classification.py:1143: UndefinedMetricWarning: F-score is ill-defined and being set to 0.0 due to no predicted samples.\n",
      "  'precision', 'predicted', average, warn_for)\n",
      "C:\\Users\\array\\Anaconda3\\lib\\site-packages\\sklearn\\metrics\\classification.py:1143: UndefinedMetricWarning: F-score is ill-defined and being set to 0.0 due to no predicted samples.\n",
      "  'precision', 'predicted', average, warn_for)\n",
      "C:\\Users\\array\\Anaconda3\\lib\\site-packages\\sklearn\\metrics\\classification.py:1143: UndefinedMetricWarning: F-score is ill-defined and being set to 0.0 due to no predicted samples.\n",
      "  'precision', 'predicted', average, warn_for)\n",
      "C:\\Users\\array\\Anaconda3\\lib\\site-packages\\sklearn\\metrics\\classification.py:1143: UndefinedMetricWarning: F-score is ill-defined and being set to 0.0 due to no predicted samples.\n",
      "  'precision', 'predicted', average, warn_for)\n"
     ]
    }
   ],
   "source": [
    "scores = cross_validate(multinb_pipe, X, y, cv=10,\n",
    "                        scoring=alex_f1_scorer, \n",
    "                        return_train_score=True)"
   ]
  },
  {
   "cell_type": "code",
   "execution_count": 158,
   "metadata": {},
   "outputs": [
    {
     "data": {
      "text/plain": [
       "0.02222222222222222"
      ]
     },
     "execution_count": 158,
     "metadata": {},
     "output_type": "execute_result"
    }
   ],
   "source": [
    "alex_f1 = scores['test_score'].mean()\n",
    "alex_f1"
   ]
  },
  {
   "cell_type": "code",
   "execution_count": 159,
   "metadata": {},
   "outputs": [],
   "source": [
    "scores = cross_validate(multinb_pipe, X, y, cv=10,\n",
    "                        scoring=noalex_f1_scorer, \n",
    "                        return_train_score=True)"
   ]
  },
  {
   "cell_type": "code",
   "execution_count": 160,
   "metadata": {},
   "outputs": [
    {
     "data": {
      "text/plain": [
       "0.864935064935065"
      ]
     },
     "execution_count": 160,
     "metadata": {},
     "output_type": "execute_result"
    }
   ],
   "source": [
    "noalex_f1 = scores['test_score'].mean()\n",
    "noalex_f1"
   ]
  },
  {
   "cell_type": "code",
   "execution_count": 162,
   "metadata": {},
   "outputs": [],
   "source": [
    "# Save all results from this model to the evaluation results dataframe\n",
    "eval_df.loc[len(eval_df)] = [\"Multinomial Naive Bayes\", \n",
    "                             accuracy, auc, alex_prec, noalex_prec, \n",
    "                             alex_recall, noalex_recall, alex_f1, noalex_f1]"
   ]
  },
  {
   "cell_type": "code",
   "execution_count": 163,
   "metadata": {},
   "outputs": [
    {
     "data": {
      "text/html": [
       "<div>\n",
       "<style scoped>\n",
       "    .dataframe tbody tr th:only-of-type {\n",
       "        vertical-align: middle;\n",
       "    }\n",
       "\n",
       "    .dataframe tbody tr th {\n",
       "        vertical-align: top;\n",
       "    }\n",
       "\n",
       "    .dataframe thead th {\n",
       "        text-align: right;\n",
       "    }\n",
       "</style>\n",
       "<table border=\"1\" class=\"dataframe\">\n",
       "  <thead>\n",
       "    <tr style=\"text-align: right;\">\n",
       "      <th></th>\n",
       "      <th>ModelName</th>\n",
       "      <th>Accuracy</th>\n",
       "      <th>AUC</th>\n",
       "      <th>AlexPrecision</th>\n",
       "      <th>NoAlexPrecision</th>\n",
       "      <th>AlexRecall</th>\n",
       "      <th>NoAlexRecall</th>\n",
       "      <th>AlexF1</th>\n",
       "      <th>NoAlexF1</th>\n",
       "    </tr>\n",
       "  </thead>\n",
       "  <tbody>\n",
       "    <tr>\n",
       "      <th>0</th>\n",
       "      <td>Multinomial Naive Bayes</td>\n",
       "      <td>0.762802</td>\n",
       "      <td>0.590699</td>\n",
       "      <td>0.1</td>\n",
       "      <td>0.762097</td>\n",
       "      <td>0.0125</td>\n",
       "      <td>1.0</td>\n",
       "      <td>0.022222</td>\n",
       "      <td>0.864935</td>\n",
       "    </tr>\n",
       "  </tbody>\n",
       "</table>\n",
       "</div>"
      ],
      "text/plain": [
       "                 ModelName  Accuracy       AUC  AlexPrecision  \\\n",
       "0  Multinomial Naive Bayes  0.762802  0.590699            0.1   \n",
       "\n",
       "   NoAlexPrecision  AlexRecall  NoAlexRecall    AlexF1  NoAlexF1  \n",
       "0         0.762097      0.0125           1.0  0.022222  0.864935  "
      ]
     },
     "execution_count": 163,
     "metadata": {},
     "output_type": "execute_result"
    }
   ],
   "source": [
    "eval_df.tail()"
   ]
  },
  {
   "cell_type": "code",
   "execution_count": 187,
   "metadata": {},
   "outputs": [
    {
     "name": "stdout",
     "output_type": "stream",
     "text": [
      "Confusion matrix, without normalization\n",
      "[[  1  75]\n",
      " [  0 240]]\n"
     ]
    },
    {
     "data": {
      "text/plain": [
       "<matplotlib.axes._subplots.AxesSubplot at 0x284c3c41a90>"
      ]
     },
     "execution_count": 187,
     "metadata": {},
     "output_type": "execute_result"
    },
    {
     "data": {
      "image/png": "[encoded data removed]",
      "text/plain": [
       "<Figure size 432x288 with 2 Axes>"
      ]
     },
     "metadata": {
      "needs_background": "light"
     },
     "output_type": "display_data"
    }
   ],
   "source": [
    "# CONFUSION MATRIX PLOT\n",
    "from sklearn.model_selection import cross_val_predict\n",
    "from sklearn.metrics import confusion_matrix\n",
    "np.set_printoptions(precision=2)\n",
    "y_pred = cross_val_predict(multinb_pipe, X, y, cv=10)\n",
    "plot_confusion_matrix(y, y_pred, classes=['Alex', 'NoAlex'],\n",
    "                      title='Confusion Matrix')"
   ]
  },
  {
   "cell_type": "code",
   "execution_count": 204,
   "metadata": {},
   "outputs": [
    {
     "data": {
      "image/png": "[encoded data removed]",
      "text/plain": [
       "<Figure size 504x432 with 1 Axes>"
      ]
     },
     "metadata": {
      "needs_background": "light"
     },
     "output_type": "display_data"
    }
   ],
   "source": [
    "# ROC CURVE PLOT\n",
    "import scikitplot as skplt\n",
    "y_probas = cross_val_predict(multinb_pipe, X, y, cv=10, method='predict_proba')\n",
    "skplt.metrics.plot_roc(y, y_probas, title=\"ROC - Multinomial Naive Bayes with Word Counts\",\n",
    "                      plot_micro=False, plot_macro=False,\n",
    "                      figsize=(7,6), text_fontsize=12, title_fontsize=14)\n",
    "plt.show()"
   ]
  },
  {
   "cell_type": "code",
   "execution_count": 186,
   "metadata": {},
   "outputs": [],
   "source": []
  },
  {
   "cell_type": "code",
   "execution_count": null,
   "metadata": {},
   "outputs": [],
   "source": []
  }
 ],
 "metadata": {
  "kernelspec": {
   "display_name": "Python 3",
   "language": "python",
   "name": "python3"
  },
  "language_info": {
   "codemirror_mode": {
    "name": "ipython",
    "version": 3
   },
   "file_extension": ".py",
   "mimetype": "text/x-python",
   "name": "python",
   "nbconvert_exporter": "python",
   "pygments_lexer": "ipython3",
   "version": "3.7.3"
  }
 },
 "nbformat": 4,
 "nbformat_minor": 2
}
