{
 "cells": [
  {
   "cell_type": "markdown",
   "metadata": {},
   "source": [
    "# Prolexitim NLP Analytics \n",
    "## TAS-20 & Text Data. Predictive Analysis\n",
    "### Single node Machine Learning - Regression\n",
    "<hr>\n",
    "<b>Dataset from Prolexitim TAS-20 Spain instrument and Prolexitim NLP.</b><br>\n",
    "<b>No Text Analytics included here. Using TAS and NLP APIs scores.</b>\n",
    "<hr>\n",
    "May 2019.<br> Prolexitim normalized dataset version 1.2 (MPGS-TFM-Submission).<br> \n",
    "Raúl Arrabales Moreno (Psicobótica / Serendeepia Research)<br>\n",
    "<a target=\"_blank\" href=\"http://www.conscious-robots.com/\">http://www.conscious-robots.com/</a> <br>\n",
    "<hr>"
   ]
  },
  {
   "cell_type": "markdown",
   "metadata": {},
   "source": [
    "## This notebook contains: \n",
    "\n",
    "- TAS-20 + NLP Dataset loading. \n",
    "- Linear Regression for TAS-20 Score based on sentiment scores.\n",
    "- One HOT Encoding for TAT cards (not used in regression). \n",
    "- Linear Regression for TAS-20 score. \n",
    "- MSE, RMSE Calculation. \n",
    "- Regression Plots. \n",
    "- 3-Degree Polynomial Regression for TAS-20 score.\n",
    "- Exploration of regression for TAS-20 subscales (F1, F2, F3)"
   ]
  },
  {
   "cell_type": "markdown",
   "metadata": {},
   "source": [
    "### Loading TAS Sentiment dataset"
   ]
  },
  {
   "cell_type": "code",
   "execution_count": 24,
   "metadata": {},
   "outputs": [],
   "source": [
    "import pandas as pd \n",
    "from scipy import stats\n",
    "import seaborn as sns\n",
    "\n",
    "# Load nomalized dataset (no text, only TAS and NLP scores)\n",
    "tasnlp_dataset_path = \"D:\\\\Dropbox-Array2001\\\\Dropbox\\\\UNI\\\\MPGS\\\\2_TFM\\\\Datos\\\\prolexitim-sentiment-n-1.2.csv\"\n",
    "\n",
    "tasnlp_df = pd.read_csv(tasnlp_dataset_path,header=0,delimiter=\"\\t\")"
   ]
  },
  {
   "cell_type": "code",
   "execution_count": 25,
   "metadata": {},
   "outputs": [
    {
     "data": {
      "text/html": [
       "<div>\n",
       "<style scoped>\n",
       "    .dataframe tbody tr th:only-of-type {\n",
       "        vertical-align: middle;\n",
       "    }\n",
       "\n",
       "    .dataframe tbody tr th {\n",
       "        vertical-align: top;\n",
       "    }\n",
       "\n",
       "    .dataframe thead th {\n",
       "        text-align: right;\n",
       "    }\n",
       "</style>\n",
       "<table border=\"1\" class=\"dataframe\">\n",
       "  <thead>\n",
       "    <tr style=\"text-align: right;\">\n",
       "      <th></th>\n",
       "      <th>code</th>\n",
       "      <th>TAS20</th>\n",
       "      <th>F1</th>\n",
       "      <th>F2</th>\n",
       "      <th>F3</th>\n",
       "      <th>alex-a</th>\n",
       "      <th>alex-b</th>\n",
       "      <th>card</th>\n",
       "      <th>G-score</th>\n",
       "      <th>G-magnitude</th>\n",
       "      <th>...</th>\n",
       "      <th>nlu-joy</th>\n",
       "      <th>nlu-anger</th>\n",
       "      <th>nlu-fear</th>\n",
       "      <th>nlu-disgust</th>\n",
       "      <th>nlu-sadness</th>\n",
       "      <th>es-len</th>\n",
       "      <th>G-score-n</th>\n",
       "      <th>Azure-TA-n</th>\n",
       "      <th>nlu-sentiment-n</th>\n",
       "      <th>mean-sentiment</th>\n",
       "    </tr>\n",
       "  </thead>\n",
       "  <tbody>\n",
       "    <tr>\n",
       "      <th>0</th>\n",
       "      <td>b7adde8a9eec8ce92b5ee0507ce054a4</td>\n",
       "      <td>39.0</td>\n",
       "      <td>12.0</td>\n",
       "      <td>14.0</td>\n",
       "      <td>13.0</td>\n",
       "      <td>NoAlex</td>\n",
       "      <td>NoAlex</td>\n",
       "      <td>13V</td>\n",
       "      <td>-0.2</td>\n",
       "      <td>0.2</td>\n",
       "      <td>...</td>\n",
       "      <td>0.317920</td>\n",
       "      <td>0.143086</td>\n",
       "      <td>0.098997</td>\n",
       "      <td>0.422023</td>\n",
       "      <td>0.173421</td>\n",
       "      <td>115</td>\n",
       "      <td>0.388889</td>\n",
       "      <td>0.62</td>\n",
       "      <td>0.179832</td>\n",
       "      <td>0.396240</td>\n",
       "    </tr>\n",
       "    <tr>\n",
       "      <th>1</th>\n",
       "      <td>b7adde8a9eec8ce92b5ee0507ce054a4</td>\n",
       "      <td>39.0</td>\n",
       "      <td>12.0</td>\n",
       "      <td>14.0</td>\n",
       "      <td>13.0</td>\n",
       "      <td>NoAlex</td>\n",
       "      <td>NoAlex</td>\n",
       "      <td>18NM</td>\n",
       "      <td>-0.5</td>\n",
       "      <td>0.5</td>\n",
       "      <td>...</td>\n",
       "      <td>0.285100</td>\n",
       "      <td>0.168727</td>\n",
       "      <td>0.109176</td>\n",
       "      <td>0.057098</td>\n",
       "      <td>0.362623</td>\n",
       "      <td>110</td>\n",
       "      <td>0.222222</td>\n",
       "      <td>0.41</td>\n",
       "      <td>0.503295</td>\n",
       "      <td>0.378506</td>\n",
       "    </tr>\n",
       "    <tr>\n",
       "      <th>2</th>\n",
       "      <td>b7adde8a9eec8ce92b5ee0507ce054a4</td>\n",
       "      <td>39.0</td>\n",
       "      <td>12.0</td>\n",
       "      <td>14.0</td>\n",
       "      <td>13.0</td>\n",
       "      <td>NoAlex</td>\n",
       "      <td>NoAlex</td>\n",
       "      <td>12VN</td>\n",
       "      <td>0.0</td>\n",
       "      <td>1.2</td>\n",
       "      <td>...</td>\n",
       "      <td>0.039779</td>\n",
       "      <td>0.205065</td>\n",
       "      <td>0.481812</td>\n",
       "      <td>0.244164</td>\n",
       "      <td>0.164005</td>\n",
       "      <td>93</td>\n",
       "      <td>0.500000</td>\n",
       "      <td>0.63</td>\n",
       "      <td>0.637584</td>\n",
       "      <td>0.589195</td>\n",
       "    </tr>\n",
       "    <tr>\n",
       "      <th>3</th>\n",
       "      <td>76ef63369f7d5b6597a543017e1ef578</td>\n",
       "      <td>63.0</td>\n",
       "      <td>23.0</td>\n",
       "      <td>21.0</td>\n",
       "      <td>19.0</td>\n",
       "      <td>Alex</td>\n",
       "      <td>Alex</td>\n",
       "      <td>12VN</td>\n",
       "      <td>0.0</td>\n",
       "      <td>0.1</td>\n",
       "      <td>...</td>\n",
       "      <td>0.208997</td>\n",
       "      <td>0.007244</td>\n",
       "      <td>0.190991</td>\n",
       "      <td>0.008434</td>\n",
       "      <td>0.698307</td>\n",
       "      <td>255</td>\n",
       "      <td>0.500000</td>\n",
       "      <td>0.89</td>\n",
       "      <td>0.324648</td>\n",
       "      <td>0.571549</td>\n",
       "    </tr>\n",
       "    <tr>\n",
       "      <th>4</th>\n",
       "      <td>76ef63369f7d5b6597a543017e1ef578</td>\n",
       "      <td>63.0</td>\n",
       "      <td>23.0</td>\n",
       "      <td>21.0</td>\n",
       "      <td>19.0</td>\n",
       "      <td>Alex</td>\n",
       "      <td>Alex</td>\n",
       "      <td>10</td>\n",
       "      <td>0.3</td>\n",
       "      <td>0.1</td>\n",
       "      <td>...</td>\n",
       "      <td>0.367801</td>\n",
       "      <td>0.063256</td>\n",
       "      <td>0.103351</td>\n",
       "      <td>0.095947</td>\n",
       "      <td>0.469062</td>\n",
       "      <td>184</td>\n",
       "      <td>0.666667</td>\n",
       "      <td>0.24</td>\n",
       "      <td>0.224342</td>\n",
       "      <td>0.377003</td>\n",
       "    </tr>\n",
       "  </tbody>\n",
       "</table>\n",
       "<p>5 rows × 23 columns</p>\n",
       "</div>"
      ],
      "text/plain": [
       "                               code  TAS20    F1    F2    F3  alex-a  alex-b  \\\n",
       "0  b7adde8a9eec8ce92b5ee0507ce054a4   39.0  12.0  14.0  13.0  NoAlex  NoAlex   \n",
       "1  b7adde8a9eec8ce92b5ee0507ce054a4   39.0  12.0  14.0  13.0  NoAlex  NoAlex   \n",
       "2  b7adde8a9eec8ce92b5ee0507ce054a4   39.0  12.0  14.0  13.0  NoAlex  NoAlex   \n",
       "3  76ef63369f7d5b6597a543017e1ef578   63.0  23.0  21.0  19.0    Alex    Alex   \n",
       "4  76ef63369f7d5b6597a543017e1ef578   63.0  23.0  21.0  19.0    Alex    Alex   \n",
       "\n",
       "   card  G-score  G-magnitude  ...   nlu-joy  nlu-anger  nlu-fear  \\\n",
       "0   13V     -0.2          0.2  ...  0.317920   0.143086  0.098997   \n",
       "1  18NM     -0.5          0.5  ...  0.285100   0.168727  0.109176   \n",
       "2  12VN      0.0          1.2  ...  0.039779   0.205065  0.481812   \n",
       "3  12VN      0.0          0.1  ...  0.208997   0.007244  0.190991   \n",
       "4    10      0.3          0.1  ...  0.367801   0.063256  0.103351   \n",
       "\n",
       "   nlu-disgust  nlu-sadness  es-len  G-score-n  Azure-TA-n  nlu-sentiment-n  \\\n",
       "0     0.422023     0.173421     115   0.388889        0.62         0.179832   \n",
       "1     0.057098     0.362623     110   0.222222        0.41         0.503295   \n",
       "2     0.244164     0.164005      93   0.500000        0.63         0.637584   \n",
       "3     0.008434     0.698307     255   0.500000        0.89         0.324648   \n",
       "4     0.095947     0.469062     184   0.666667        0.24         0.224342   \n",
       "\n",
       "   mean-sentiment  \n",
       "0        0.396240  \n",
       "1        0.378506  \n",
       "2        0.589195  \n",
       "3        0.571549  \n",
       "4        0.377003  \n",
       "\n",
       "[5 rows x 23 columns]"
      ]
     },
     "execution_count": 25,
     "metadata": {},
     "output_type": "execute_result"
    }
   ],
   "source": [
    "tasnlp_df.head()"
   ]
  },
  {
   "cell_type": "markdown",
   "metadata": {},
   "source": [
    "## Linear Regression for TAS20 score"
   ]
  },
  {
   "cell_type": "code",
   "execution_count": 26,
   "metadata": {},
   "outputs": [],
   "source": [
    "from sklearn.linear_model import LinearRegression\n",
    "from sklearn.preprocessing import PolynomialFeatures\n",
    "from sklearn.preprocessing import OneHotEncoder\n",
    "from sklearn.preprocessing import LabelEncoder\n",
    "from sklearn.model_selection import train_test_split\n",
    "import statsmodels.api as sm\n",
    "import numpy as np"
   ]
  },
  {
   "cell_type": "code",
   "execution_count": 27,
   "metadata": {},
   "outputs": [
    {
     "name": "stdout",
     "output_type": "stream",
     "text": [
      "256\n",
      "64\n"
     ]
    }
   ],
   "source": [
    "# Split train and test\n",
    "train_df, test_df = train_test_split(tasnlp_df, test_size=0.2)\n",
    "print(len(train_df))\n",
    "print(len(test_df))"
   ]
  },
  {
   "cell_type": "markdown",
   "metadata": {},
   "source": [
    "### One HOT Enconding for train/test dataframes - Categorical variables"
   ]
  },
  {
   "cell_type": "code",
   "execution_count": 5,
   "metadata": {},
   "outputs": [],
   "source": [
    "# One HOT encoding for TAT card variable with pandas\n",
    "\n",
    "# Categorical columns\n",
    "cat_columns = [\"card\"]\n",
    "\n",
    "df_processed = pd.get_dummies(train_df, prefix_sep=\"_HOT_\",\n",
    "                              columns=cat_columns)"
   ]
  },
  {
   "cell_type": "code",
   "execution_count": 6,
   "metadata": {},
   "outputs": [],
   "source": [
    "# f_processed.dtypes"
   ]
  },
  {
   "cell_type": "code",
   "execution_count": 7,
   "metadata": {},
   "outputs": [],
   "source": [
    "cat_dummies = [col for col in df_processed \n",
    "               if \"_HOT_\" in col and col.split(\"_HOT_\")[0] in cat_columns]"
   ]
  },
  {
   "cell_type": "code",
   "execution_count": 8,
   "metadata": {},
   "outputs": [
    {
     "data": {
      "text/plain": [
       "['card_HOT_1',\n",
       " 'card_HOT_10',\n",
       " 'card_HOT_11',\n",
       " 'card_HOT_12VN',\n",
       " 'card_HOT_13HM',\n",
       " 'card_HOT_13N',\n",
       " 'card_HOT_13V',\n",
       " 'card_HOT_18NM',\n",
       " 'card_HOT_3VH',\n",
       " 'card_HOT_7VH',\n",
       " 'card_HOT_9BM',\n",
       " 'card_HOT_9VH']"
      ]
     },
     "execution_count": 8,
     "metadata": {},
     "output_type": "execute_result"
    }
   ],
   "source": [
    "cat_dummies"
   ]
  },
  {
   "cell_type": "code",
   "execution_count": 9,
   "metadata": {},
   "outputs": [],
   "source": [
    "processed_columns = list(df_processed.columns[:])"
   ]
  },
  {
   "cell_type": "code",
   "execution_count": 10,
   "metadata": {},
   "outputs": [],
   "source": [
    "# processed_columns"
   ]
  },
  {
   "cell_type": "code",
   "execution_count": 11,
   "metadata": {},
   "outputs": [],
   "source": [
    "df_test_processed = pd.get_dummies(test_df, prefix_sep=\"_HOT_\", \n",
    "                                   columns=cat_columns)"
   ]
  },
  {
   "cell_type": "code",
   "execution_count": 12,
   "metadata": {},
   "outputs": [],
   "source": [
    "# df_test_processed"
   ]
  },
  {
   "cell_type": "code",
   "execution_count": 13,
   "metadata": {},
   "outputs": [],
   "source": [
    "# Remove additional columns from test set\n",
    "for col in df_test_processed.columns:\n",
    "    if (\"_HOT_\" in col) and (col.split(\"_HOT_\")[0] in cat_columns) and col not in cat_dummies:\n",
    "        print(\"Removing additional feature {}\".format(col))\n",
    "        df_test_processed.drop(col, axis=1, inplace=True)"
   ]
  },
  {
   "cell_type": "code",
   "execution_count": 14,
   "metadata": {},
   "outputs": [
    {
     "name": "stdout",
     "output_type": "stream",
     "text": [
      "Adding missing feature card_HOT_10\n",
      "Adding missing feature card_HOT_12VN\n",
      "Adding missing feature card_HOT_13N\n",
      "Adding missing feature card_HOT_13V\n",
      "Adding missing feature card_HOT_3VH\n",
      "Adding missing feature card_HOT_9BM\n"
     ]
    }
   ],
   "source": [
    "# Now we need to add the missing columns. \n",
    "# We can set all missing columns to a vector of 0s\n",
    "# since those values did not appear in the test data.\n",
    "for col in cat_dummies:\n",
    "    if col not in df_test_processed.columns:\n",
    "        print(\"Adding missing feature {}\".format(col))\n",
    "        df_test_processed[col] = 0"
   ]
  },
  {
   "cell_type": "code",
   "execution_count": 15,
   "metadata": {},
   "outputs": [],
   "source": [
    "# Rearrange column order\n",
    "df_test_processed = df_test_processed[processed_columns]"
   ]
  },
  {
   "cell_type": "markdown",
   "metadata": {},
   "source": [
    "### Linear Regression (using One HOT enconding for cards)\n",
    "\n",
    "Y = f(X1, X2, X3, X4)\n",
    "<br>  \n",
    "- Y: TAS-20\n",
    "- X1: Mean Sentiment\n",
    "- X2: Length of text\n",
    "- X3: GC Sentiment Magnitude\n",
    "- X4-16: TAT Card Used\n",
    "<br>\n",
    "\n",
    "\n",
    "Datasets split in train/test\n"
   ]
  },
  {
   "cell_type": "code",
   "execution_count": 16,
   "metadata": {},
   "outputs": [],
   "source": [
    "# Predict Y as a function of X -->  Y = f(X)\n",
    "\n",
    "Y_train = df_processed[\"TAS20\"]\n",
    "\n",
    "# list of X variables\n",
    "Xlist = [\"mean-sentiment\", \"es-len\", \"G-magnitude\"] + cat_dummies\n",
    "X_train = df_processed[Xlist]"
   ]
  },
  {
   "cell_type": "code",
   "execution_count": 17,
   "metadata": {},
   "outputs": [
    {
     "data": {
      "text/html": [
       "<div>\n",
       "<style scoped>\n",
       "    .dataframe tbody tr th:only-of-type {\n",
       "        vertical-align: middle;\n",
       "    }\n",
       "\n",
       "    .dataframe tbody tr th {\n",
       "        vertical-align: top;\n",
       "    }\n",
       "\n",
       "    .dataframe thead th {\n",
       "        text-align: right;\n",
       "    }\n",
       "</style>\n",
       "<table border=\"1\" class=\"dataframe\">\n",
       "  <thead>\n",
       "    <tr style=\"text-align: right;\">\n",
       "      <th></th>\n",
       "      <th>mean-sentiment</th>\n",
       "      <th>es-len</th>\n",
       "      <th>G-magnitude</th>\n",
       "      <th>card_HOT_1</th>\n",
       "      <th>card_HOT_10</th>\n",
       "      <th>card_HOT_11</th>\n",
       "      <th>card_HOT_12VN</th>\n",
       "      <th>card_HOT_13HM</th>\n",
       "      <th>card_HOT_13N</th>\n",
       "      <th>card_HOT_13V</th>\n",
       "      <th>card_HOT_18NM</th>\n",
       "      <th>card_HOT_3VH</th>\n",
       "      <th>card_HOT_7VH</th>\n",
       "      <th>card_HOT_9BM</th>\n",
       "      <th>card_HOT_9VH</th>\n",
       "    </tr>\n",
       "  </thead>\n",
       "  <tbody>\n",
       "    <tr>\n",
       "      <th>71</th>\n",
       "      <td>0.239452</td>\n",
       "      <td>140</td>\n",
       "      <td>0.2</td>\n",
       "      <td>1</td>\n",
       "      <td>0</td>\n",
       "      <td>0</td>\n",
       "      <td>0</td>\n",
       "      <td>0</td>\n",
       "      <td>0</td>\n",
       "      <td>0</td>\n",
       "      <td>0</td>\n",
       "      <td>0</td>\n",
       "      <td>0</td>\n",
       "      <td>0</td>\n",
       "      <td>0</td>\n",
       "    </tr>\n",
       "    <tr>\n",
       "      <th>133</th>\n",
       "      <td>0.302281</td>\n",
       "      <td>107</td>\n",
       "      <td>0.5</td>\n",
       "      <td>0</td>\n",
       "      <td>0</td>\n",
       "      <td>0</td>\n",
       "      <td>0</td>\n",
       "      <td>1</td>\n",
       "      <td>0</td>\n",
       "      <td>0</td>\n",
       "      <td>0</td>\n",
       "      <td>0</td>\n",
       "      <td>0</td>\n",
       "      <td>0</td>\n",
       "      <td>0</td>\n",
       "    </tr>\n",
       "    <tr>\n",
       "      <th>199</th>\n",
       "      <td>0.433691</td>\n",
       "      <td>130</td>\n",
       "      <td>0.4</td>\n",
       "      <td>0</td>\n",
       "      <td>0</td>\n",
       "      <td>0</td>\n",
       "      <td>0</td>\n",
       "      <td>0</td>\n",
       "      <td>0</td>\n",
       "      <td>0</td>\n",
       "      <td>0</td>\n",
       "      <td>0</td>\n",
       "      <td>0</td>\n",
       "      <td>0</td>\n",
       "      <td>1</td>\n",
       "    </tr>\n",
       "    <tr>\n",
       "      <th>282</th>\n",
       "      <td>0.699131</td>\n",
       "      <td>184</td>\n",
       "      <td>2.0</td>\n",
       "      <td>0</td>\n",
       "      <td>0</td>\n",
       "      <td>0</td>\n",
       "      <td>0</td>\n",
       "      <td>0</td>\n",
       "      <td>0</td>\n",
       "      <td>0</td>\n",
       "      <td>0</td>\n",
       "      <td>0</td>\n",
       "      <td>0</td>\n",
       "      <td>0</td>\n",
       "      <td>1</td>\n",
       "    </tr>\n",
       "    <tr>\n",
       "      <th>34</th>\n",
       "      <td>0.294055</td>\n",
       "      <td>250</td>\n",
       "      <td>0.5</td>\n",
       "      <td>0</td>\n",
       "      <td>0</td>\n",
       "      <td>0</td>\n",
       "      <td>0</td>\n",
       "      <td>1</td>\n",
       "      <td>0</td>\n",
       "      <td>0</td>\n",
       "      <td>0</td>\n",
       "      <td>0</td>\n",
       "      <td>0</td>\n",
       "      <td>0</td>\n",
       "      <td>0</td>\n",
       "    </tr>\n",
       "  </tbody>\n",
       "</table>\n",
       "</div>"
      ],
      "text/plain": [
       "     mean-sentiment  es-len  G-magnitude  card_HOT_1  card_HOT_10  \\\n",
       "71         0.239452     140          0.2           1            0   \n",
       "133        0.302281     107          0.5           0            0   \n",
       "199        0.433691     130          0.4           0            0   \n",
       "282        0.699131     184          2.0           0            0   \n",
       "34         0.294055     250          0.5           0            0   \n",
       "\n",
       "     card_HOT_11  card_HOT_12VN  card_HOT_13HM  card_HOT_13N  card_HOT_13V  \\\n",
       "71             0              0              0             0             0   \n",
       "133            0              0              1             0             0   \n",
       "199            0              0              0             0             0   \n",
       "282            0              0              0             0             0   \n",
       "34             0              0              1             0             0   \n",
       "\n",
       "     card_HOT_18NM  card_HOT_3VH  card_HOT_7VH  card_HOT_9BM  card_HOT_9VH  \n",
       "71               0             0             0             0             0  \n",
       "133              0             0             0             0             0  \n",
       "199              0             0             0             0             1  \n",
       "282              0             0             0             0             1  \n",
       "34               0             0             0             0             0  "
      ]
     },
     "execution_count": 17,
     "metadata": {},
     "output_type": "execute_result"
    }
   ],
   "source": [
    "X_train.head()"
   ]
  },
  {
   "cell_type": "code",
   "execution_count": 18,
   "metadata": {},
   "outputs": [],
   "source": [
    "# Create a train the model (OLS - Ordinary Least Squares)\n",
    "model = sm.OLS(Y_train, X_train).fit()"
   ]
  },
  {
   "cell_type": "code",
   "execution_count": 19,
   "metadata": {},
   "outputs": [],
   "source": [
    "# Testing the model\n",
    "X_test = df_test_processed[Xlist]\n",
    "predictions = model.predict(X_test)"
   ]
  },
  {
   "cell_type": "code",
   "execution_count": 20,
   "metadata": {},
   "outputs": [
    {
     "data": {
      "text/html": [
       "<table class=\"simpletable\">\n",
       "<caption>OLS Regression Results</caption>\n",
       "<tr>\n",
       "  <th>Dep. Variable:</th>          <td>TAS20</td>      <th>  R-squared:         </th> <td>   0.043</td>\n",
       "</tr>\n",
       "<tr>\n",
       "  <th>Model:</th>                   <td>OLS</td>       <th>  Adj. R-squared:    </th> <td>  -0.013</td>\n",
       "</tr>\n",
       "<tr>\n",
       "  <th>Method:</th>             <td>Least Squares</td>  <th>  F-statistic:       </th> <td>  0.7681</td>\n",
       "</tr>\n",
       "<tr>\n",
       "  <th>Date:</th>             <td>Fri, 24 May 2019</td> <th>  Prob (F-statistic):</th>  <td> 0.703</td> \n",
       "</tr>\n",
       "<tr>\n",
       "  <th>Time:</th>                 <td>23:35:54</td>     <th>  Log-Likelihood:    </th> <td> -946.63</td>\n",
       "</tr>\n",
       "<tr>\n",
       "  <th>No. Observations:</th>      <td>   256</td>      <th>  AIC:               </th> <td>   1923.</td>\n",
       "</tr>\n",
       "<tr>\n",
       "  <th>Df Residuals:</th>          <td>   241</td>      <th>  BIC:               </th> <td>   1976.</td>\n",
       "</tr>\n",
       "<tr>\n",
       "  <th>Df Model:</th>              <td>    14</td>      <th>                     </th>     <td> </td>   \n",
       "</tr>\n",
       "<tr>\n",
       "  <th>Covariance Type:</th>      <td>nonrobust</td>    <th>                     </th>     <td> </td>   \n",
       "</tr>\n",
       "</table>\n",
       "<table class=\"simpletable\">\n",
       "<tr>\n",
       "         <td></td>           <th>coef</th>     <th>std err</th>      <th>t</th>      <th>P>|t|</th>  <th>[0.025</th>    <th>0.975]</th>  \n",
       "</tr>\n",
       "<tr>\n",
       "  <th>mean-sentiment</th> <td>   -0.6125</td> <td>    3.735</td> <td>   -0.164</td> <td> 0.870</td> <td>   -7.971</td> <td>    6.746</td>\n",
       "</tr>\n",
       "<tr>\n",
       "  <th>es-len</th>         <td>   -0.0023</td> <td>    0.006</td> <td>   -0.401</td> <td> 0.689</td> <td>   -0.013</td> <td>    0.009</td>\n",
       "</tr>\n",
       "<tr>\n",
       "  <th>G-magnitude</th>    <td>   -1.4273</td> <td>    1.272</td> <td>   -1.122</td> <td> 0.263</td> <td>   -3.932</td> <td>    1.078</td>\n",
       "</tr>\n",
       "<tr>\n",
       "  <th>card_HOT_1</th>     <td>   48.2095</td> <td>    2.249</td> <td>   21.431</td> <td> 0.000</td> <td>   43.778</td> <td>   52.641</td>\n",
       "</tr>\n",
       "<tr>\n",
       "  <th>card_HOT_10</th>    <td>   43.7377</td> <td>    4.820</td> <td>    9.074</td> <td> 0.000</td> <td>   34.243</td> <td>   53.233</td>\n",
       "</tr>\n",
       "<tr>\n",
       "  <th>card_HOT_11</th>    <td>   47.3193</td> <td>    2.748</td> <td>   17.218</td> <td> 0.000</td> <td>   41.906</td> <td>   52.733</td>\n",
       "</tr>\n",
       "<tr>\n",
       "  <th>card_HOT_12VN</th>  <td>   46.2495</td> <td>    3.969</td> <td>   11.654</td> <td> 0.000</td> <td>   38.432</td> <td>   54.067</td>\n",
       "</tr>\n",
       "<tr>\n",
       "  <th>card_HOT_13HM</th>  <td>   47.5491</td> <td>    2.066</td> <td>   23.020</td> <td> 0.000</td> <td>   43.480</td> <td>   51.618</td>\n",
       "</tr>\n",
       "<tr>\n",
       "  <th>card_HOT_13N</th>   <td>   43.1115</td> <td>    4.771</td> <td>    9.037</td> <td> 0.000</td> <td>   33.714</td> <td>   52.509</td>\n",
       "</tr>\n",
       "<tr>\n",
       "  <th>card_HOT_13V</th>   <td>   43.3446</td> <td>    4.415</td> <td>    9.817</td> <td> 0.000</td> <td>   34.647</td> <td>   52.042</td>\n",
       "</tr>\n",
       "<tr>\n",
       "  <th>card_HOT_18NM</th>  <td>   30.6478</td> <td>   10.148</td> <td>    3.020</td> <td> 0.003</td> <td>   10.658</td> <td>   50.638</td>\n",
       "</tr>\n",
       "<tr>\n",
       "  <th>card_HOT_3VH</th>   <td>   43.8054</td> <td>    3.948</td> <td>   11.095</td> <td> 0.000</td> <td>   36.028</td> <td>   51.583</td>\n",
       "</tr>\n",
       "<tr>\n",
       "  <th>card_HOT_7VH</th>   <td>   45.9565</td> <td>    5.055</td> <td>    9.092</td> <td> 0.000</td> <td>   35.999</td> <td>   55.914</td>\n",
       "</tr>\n",
       "<tr>\n",
       "  <th>card_HOT_9BM</th>   <td>   36.5517</td> <td>   10.329</td> <td>    3.539</td> <td> 0.000</td> <td>   16.205</td> <td>   56.898</td>\n",
       "</tr>\n",
       "<tr>\n",
       "  <th>card_HOT_9VH</th>   <td>   47.2008</td> <td>    2.652</td> <td>   17.796</td> <td> 0.000</td> <td>   41.976</td> <td>   52.425</td>\n",
       "</tr>\n",
       "</table>\n",
       "<table class=\"simpletable\">\n",
       "<tr>\n",
       "  <th>Omnibus:</th>       <td>17.389</td> <th>  Durbin-Watson:     </th> <td>   1.830</td>\n",
       "</tr>\n",
       "<tr>\n",
       "  <th>Prob(Omnibus):</th> <td> 0.000</td> <th>  Jarque-Bera (JB):  </th> <td>  19.272</td>\n",
       "</tr>\n",
       "<tr>\n",
       "  <th>Skew:</th>          <td> 0.669</td> <th>  Prob(JB):          </th> <td>6.53e-05</td>\n",
       "</tr>\n",
       "<tr>\n",
       "  <th>Kurtosis:</th>      <td> 3.126</td> <th>  Cond. No.          </th> <td>4.18e+03</td>\n",
       "</tr>\n",
       "</table><br/><br/>Warnings:<br/>[1] Standard Errors assume that the covariance matrix of the errors is correctly specified.<br/>[2] The condition number is large, 4.18e+03. This might indicate that there are<br/>strong multicollinearity or other numerical problems."
      ],
      "text/plain": [
       "<class 'statsmodels.iolib.summary.Summary'>\n",
       "\"\"\"\n",
       "                            OLS Regression Results                            \n",
       "==============================================================================\n",
       "Dep. Variable:                  TAS20   R-squared:                       0.043\n",
       "Model:                            OLS   Adj. R-squared:                 -0.013\n",
       "Method:                 Least Squares   F-statistic:                    0.7681\n",
       "Date:                Fri, 24 May 2019   Prob (F-statistic):              0.703\n",
       "Time:                        23:35:54   Log-Likelihood:                -946.63\n",
       "No. Observations:                 256   AIC:                             1923.\n",
       "Df Residuals:                     241   BIC:                             1976.\n",
       "Df Model:                          14                                         \n",
       "Covariance Type:            nonrobust                                         \n",
       "==================================================================================\n",
       "                     coef    std err          t      P>|t|      [0.025      0.975]\n",
       "----------------------------------------------------------------------------------\n",
       "mean-sentiment    -0.6125      3.735     -0.164      0.870      -7.971       6.746\n",
       "es-len            -0.0023      0.006     -0.401      0.689      -0.013       0.009\n",
       "G-magnitude       -1.4273      1.272     -1.122      0.263      -3.932       1.078\n",
       "card_HOT_1        48.2095      2.249     21.431      0.000      43.778      52.641\n",
       "card_HOT_10       43.7377      4.820      9.074      0.000      34.243      53.233\n",
       "card_HOT_11       47.3193      2.748     17.218      0.000      41.906      52.733\n",
       "card_HOT_12VN     46.2495      3.969     11.654      0.000      38.432      54.067\n",
       "card_HOT_13HM     47.5491      2.066     23.020      0.000      43.480      51.618\n",
       "card_HOT_13N      43.1115      4.771      9.037      0.000      33.714      52.509\n",
       "card_HOT_13V      43.3446      4.415      9.817      0.000      34.647      52.042\n",
       "card_HOT_18NM     30.6478     10.148      3.020      0.003      10.658      50.638\n",
       "card_HOT_3VH      43.8054      3.948     11.095      0.000      36.028      51.583\n",
       "card_HOT_7VH      45.9565      5.055      9.092      0.000      35.999      55.914\n",
       "card_HOT_9BM      36.5517     10.329      3.539      0.000      16.205      56.898\n",
       "card_HOT_9VH      47.2008      2.652     17.796      0.000      41.976      52.425\n",
       "==============================================================================\n",
       "Omnibus:                       17.389   Durbin-Watson:                   1.830\n",
       "Prob(Omnibus):                  0.000   Jarque-Bera (JB):               19.272\n",
       "Skew:                           0.669   Prob(JB):                     6.53e-05\n",
       "Kurtosis:                       3.126   Cond. No.                     4.18e+03\n",
       "==============================================================================\n",
       "\n",
       "Warnings:\n",
       "[1] Standard Errors assume that the covariance matrix of the errors is correctly specified.\n",
       "[2] The condition number is large, 4.18e+03. This might indicate that there are\n",
       "strong multicollinearity or other numerical problems.\n",
       "\"\"\""
      ]
     },
     "execution_count": 20,
     "metadata": {},
     "output_type": "execute_result"
    }
   ],
   "source": [
    "model.summary()"
   ]
  },
  {
   "cell_type": "code",
   "execution_count": 21,
   "metadata": {},
   "outputs": [
    {
     "data": {
      "text/plain": [
       "code                object\n",
       "TAS20              float64\n",
       "F1                 float64\n",
       "F2                 float64\n",
       "F3                 float64\n",
       "alex-a              object\n",
       "alex-b              object\n",
       "card                object\n",
       "G-score            float64\n",
       "G-magnitude        float64\n",
       "Azure-TA           float64\n",
       "nlu-sentiment      float64\n",
       "nlu-label           object\n",
       "nlu-joy            float64\n",
       "nlu-anger          float64\n",
       "nlu-fear           float64\n",
       "nlu-disgust        float64\n",
       "nlu-sadness        float64\n",
       "es-len               int64\n",
       "G-score-n          float64\n",
       "Azure-TA-n         float64\n",
       "nlu-sentiment-n    float64\n",
       "mean-sentiment     float64\n",
       "dtype: object"
      ]
     },
     "execution_count": 21,
     "metadata": {},
     "output_type": "execute_result"
    }
   ],
   "source": [
    "tasnlp_df.dtypes"
   ]
  },
  {
   "cell_type": "code",
   "execution_count": 22,
   "metadata": {},
   "outputs": [],
   "source": [
    "for index, row in X_train.iterrows():\n",
    "    TAS20P = row[\"mean-sentiment\"]*(-2.3872) + row[\"es-len\"]*(-0.0424) + row[\"G-magnitude\"]*(-0.2938) + row[\"card_HOT_1\"]*50.5118\n",
    "    # print(\"TAS-20 Prediction: \" + str(TAS20P) +\". Real TAS-20: \" + str(row[\"TAS20\"]))\n",
    "    tasnlp_df.at[index, \"TAS20-P1\"] = TAS20P"
   ]
  },
  {
   "cell_type": "code",
   "execution_count": 23,
   "metadata": {},
   "outputs": [
    {
     "ename": "KeyError",
     "evalue": "'TAS20'",
     "output_type": "error",
     "traceback": [
      "\u001b[1;31m---------------------------------------------------------------------------\u001b[0m",
      "\u001b[1;31mKeyError\u001b[0m                                  Traceback (most recent call last)",
      "\u001b[1;32m<ipython-input-23-dac3eef9e3e4>\u001b[0m in \u001b[0;36m<module>\u001b[1;34m\u001b[0m\n\u001b[0;32m      2\u001b[0m \u001b[1;33m\u001b[0m\u001b[0m\n\u001b[0;32m      3\u001b[0m \u001b[1;33m\u001b[0m\u001b[0m\n\u001b[1;32m----> 4\u001b[1;33m \u001b[0mmean_squared_error\u001b[0m\u001b[1;33m(\u001b[0m\u001b[0mY_train\u001b[0m\u001b[1;33m[\u001b[0m\u001b[1;34m\"TAS20\"\u001b[0m\u001b[1;33m]\u001b[0m\u001b[1;33m,\u001b[0m \u001b[0mX_train\u001b[0m\u001b[1;33m[\u001b[0m\u001b[1;34m\"TAS20-P1\"\u001b[0m\u001b[1;33m]\u001b[0m\u001b[1;33m)\u001b[0m\u001b[1;33m\u001b[0m\u001b[1;33m\u001b[0m\u001b[0m\n\u001b[0m",
      "\u001b[1;32m~\\Anaconda3\\lib\\site-packages\\pandas\\core\\series.py\u001b[0m in \u001b[0;36m__getitem__\u001b[1;34m(self, key)\u001b[0m\n\u001b[0;32m    866\u001b[0m         \u001b[0mkey\u001b[0m \u001b[1;33m=\u001b[0m \u001b[0mcom\u001b[0m\u001b[1;33m.\u001b[0m\u001b[0mapply_if_callable\u001b[0m\u001b[1;33m(\u001b[0m\u001b[0mkey\u001b[0m\u001b[1;33m,\u001b[0m \u001b[0mself\u001b[0m\u001b[1;33m)\u001b[0m\u001b[1;33m\u001b[0m\u001b[1;33m\u001b[0m\u001b[0m\n\u001b[0;32m    867\u001b[0m         \u001b[1;32mtry\u001b[0m\u001b[1;33m:\u001b[0m\u001b[1;33m\u001b[0m\u001b[1;33m\u001b[0m\u001b[0m\n\u001b[1;32m--> 868\u001b[1;33m             \u001b[0mresult\u001b[0m \u001b[1;33m=\u001b[0m \u001b[0mself\u001b[0m\u001b[1;33m.\u001b[0m\u001b[0mindex\u001b[0m\u001b[1;33m.\u001b[0m\u001b[0mget_value\u001b[0m\u001b[1;33m(\u001b[0m\u001b[0mself\u001b[0m\u001b[1;33m,\u001b[0m \u001b[0mkey\u001b[0m\u001b[1;33m)\u001b[0m\u001b[1;33m\u001b[0m\u001b[1;33m\u001b[0m\u001b[0m\n\u001b[0m\u001b[0;32m    869\u001b[0m \u001b[1;33m\u001b[0m\u001b[0m\n\u001b[0;32m    870\u001b[0m             \u001b[1;32mif\u001b[0m \u001b[1;32mnot\u001b[0m \u001b[0mis_scalar\u001b[0m\u001b[1;33m(\u001b[0m\u001b[0mresult\u001b[0m\u001b[1;33m)\u001b[0m\u001b[1;33m:\u001b[0m\u001b[1;33m\u001b[0m\u001b[1;33m\u001b[0m\u001b[0m\n",
      "\u001b[1;32m~\\Anaconda3\\lib\\site-packages\\pandas\\core\\indexes\\base.py\u001b[0m in \u001b[0;36mget_value\u001b[1;34m(self, series, key)\u001b[0m\n\u001b[0;32m   4373\u001b[0m         \u001b[1;32mtry\u001b[0m\u001b[1;33m:\u001b[0m\u001b[1;33m\u001b[0m\u001b[1;33m\u001b[0m\u001b[0m\n\u001b[0;32m   4374\u001b[0m             return self._engine.get_value(s, k,\n\u001b[1;32m-> 4375\u001b[1;33m                                           tz=getattr(series.dtype, 'tz', None))\n\u001b[0m\u001b[0;32m   4376\u001b[0m         \u001b[1;32mexcept\u001b[0m \u001b[0mKeyError\u001b[0m \u001b[1;32mas\u001b[0m \u001b[0me1\u001b[0m\u001b[1;33m:\u001b[0m\u001b[1;33m\u001b[0m\u001b[1;33m\u001b[0m\u001b[0m\n\u001b[0;32m   4377\u001b[0m             \u001b[1;32mif\u001b[0m \u001b[0mlen\u001b[0m\u001b[1;33m(\u001b[0m\u001b[0mself\u001b[0m\u001b[1;33m)\u001b[0m \u001b[1;33m>\u001b[0m \u001b[1;36m0\u001b[0m \u001b[1;32mand\u001b[0m \u001b[1;33m(\u001b[0m\u001b[0mself\u001b[0m\u001b[1;33m.\u001b[0m\u001b[0mholds_integer\u001b[0m\u001b[1;33m(\u001b[0m\u001b[1;33m)\u001b[0m \u001b[1;32mor\u001b[0m \u001b[0mself\u001b[0m\u001b[1;33m.\u001b[0m\u001b[0mis_boolean\u001b[0m\u001b[1;33m(\u001b[0m\u001b[1;33m)\u001b[0m\u001b[1;33m)\u001b[0m\u001b[1;33m:\u001b[0m\u001b[1;33m\u001b[0m\u001b[1;33m\u001b[0m\u001b[0m\n",
      "\u001b[1;32mpandas/_libs/index.pyx\u001b[0m in \u001b[0;36mpandas._libs.index.IndexEngine.get_value\u001b[1;34m()\u001b[0m\n",
      "\u001b[1;32mpandas/_libs/index.pyx\u001b[0m in \u001b[0;36mpandas._libs.index.IndexEngine.get_value\u001b[1;34m()\u001b[0m\n",
      "\u001b[1;32mpandas/_libs/index.pyx\u001b[0m in \u001b[0;36mpandas._libs.index.IndexEngine.get_loc\u001b[1;34m()\u001b[0m\n",
      "\u001b[1;32mpandas/_libs/index_class_helper.pxi\u001b[0m in \u001b[0;36mpandas._libs.index.Int64Engine._check_type\u001b[1;34m()\u001b[0m\n",
      "\u001b[1;31mKeyError\u001b[0m: 'TAS20'"
     ]
    }
   ],
   "source": [
    "from sklearn.metrics import mean_squared_error\n",
    "\n",
    "\n",
    "mean_squared_error(Y_train[\"TAS20\"], X_train[\"TAS20-P1\"])"
   ]
  },
  {
   "cell_type": "markdown",
   "metadata": {},
   "source": [
    "### Linear Regression for TAS-20\n",
    "\n",
    "Y = f(X1, X2, X3)\n",
    "<br>  \n",
    "- Y: TAS-20\n",
    "- X1: Mean Sentiment\n",
    "- X2: Length of text\n",
    "- X3: GC Sentiment Magnitude\n",
    "<br>\n"
   ]
  },
  {
   "cell_type": "code",
   "execution_count": null,
   "metadata": {},
   "outputs": [],
   "source": [
    "X = tasnlp_df[[\"mean-sentiment\", \"es-len\", \"G-magnitude\"]]\n",
    "y = tasnlp_df[\"TAS20\"]\n",
    "X_train, X_test, y_train, y_test = train_test_split(X, y, test_size=0.33, random_state=42)"
   ]
  },
  {
   "cell_type": "code",
   "execution_count": null,
   "metadata": {},
   "outputs": [],
   "source": [
    "# Create a train the model (OLS - Ordinary Least Squares)\n",
    "model = sm.OLS(y_train, X_train).fit()"
   ]
  },
  {
   "cell_type": "code",
   "execution_count": null,
   "metadata": {},
   "outputs": [],
   "source": [
    "# Testing the model\n",
    "predictions = model.predict(X_test)"
   ]
  },
  {
   "cell_type": "code",
   "execution_count": null,
   "metadata": {},
   "outputs": [],
   "source": [
    "model.summary()"
   ]
  },
  {
   "cell_type": "code",
   "execution_count": null,
   "metadata": {},
   "outputs": [],
   "source": [
    "for index, row in tasnlp_df.iterrows():\n",
    "    TAS20P = row[\"mean-sentiment\"]*64.8164 + row[\"es-len\"]*0.0459 + row[\"G-magnitude\"]*0.7479\n",
    "    # print(\"TAS-20 Prediction: \" + str(TAS20P) +\". Real TAS-20: \" + str(row[\"TAS20\"]))\n",
    "    tasnlp_df.at[index, \"TAS20-P\"] = TAS20P"
   ]
  },
  {
   "cell_type": "markdown",
   "metadata": {},
   "source": [
    "### Calculate MSE, RMSE"
   ]
  },
  {
   "cell_type": "code",
   "execution_count": null,
   "metadata": {},
   "outputs": [],
   "source": [
    "# Add predictions to the original dataframe\n",
    "# tasnlp_df.insert(loc=len(tasnlp_df.columns), column='TAS20-P', value=0.0)"
   ]
  },
  {
   "cell_type": "code",
   "execution_count": null,
   "metadata": {},
   "outputs": [],
   "source": [
    "for index, row in tasnlp_df.iterrows():\n",
    "    TAS20P = row[\"mean-sentiment\"]*64.8381 + row[\"es-len\"]*0.0424 + row[\"G-magnitude\"]*2.0374\n",
    "    # print(\"TAS-20 Prediction: \" + str(TAS20P) +\". Real TAS-20: \" + str(row[\"TAS20\"]))\n",
    "    tasnlp_df.at[index, \"TAS20-P\"] = TAS20P"
   ]
  },
  {
   "cell_type": "code",
   "execution_count": null,
   "metadata": {},
   "outputs": [],
   "source": [
    "tasnlp_df[[\"TAS20\", \"TAS20-P\"]].head()"
   ]
  },
  {
   "cell_type": "code",
   "execution_count": null,
   "metadata": {},
   "outputs": [],
   "source": [
    "tasnlp_df['TAS20'] = tasnlp_df['TAS20'].astype(int)"
   ]
  },
  {
   "cell_type": "code",
   "execution_count": null,
   "metadata": {},
   "outputs": [],
   "source": [
    "tasnlp_df[[\"TAS20\", \"TAS20-P\"]].head()"
   ]
  },
  {
   "cell_type": "markdown",
   "metadata": {},
   "source": [
    "### Visualize TAS-20 score predictions "
   ]
  },
  {
   "cell_type": "code",
   "execution_count": null,
   "metadata": {},
   "outputs": [],
   "source": [
    "# This visualization with all occurrences, not very informative. \n",
    "\n",
    "import matplotlib.pylab as pylab\n",
    "params = {'legend.fontsize': 'x-large',\n",
    "          'figure.figsize': (15, 5),\n",
    "         'axes.labelsize': 'x-large',\n",
    "         'axes.titlesize':'x-large',\n",
    "         'xtick.labelsize':'x-large',\n",
    "         'ytick.labelsize':'x-large'}\n",
    "pylab.rcParams.update(params)\n",
    "\n",
    "import matplotlib.pyplot as plt\n",
    "plt.rcParams[\"figure.figsize\"] = (16,8)\n",
    "fig = plt.Figure()\n",
    "ax = fig.add_subplot(111)\n",
    "# ax.set_title('My Title', fontdict={'fontsize': 18, 'fontweight': 50})\n",
    "tasnlp_df[0:100].plot( y=['TAS20', 'TAS20-P'])\n",
    "plt.draw()"
   ]
  },
  {
   "cell_type": "code",
   "execution_count": null,
   "metadata": {},
   "outputs": [],
   "source": [
    "tasnlp_df.boxplot(column=['TAS20', 'TAS20-P'])"
   ]
  },
  {
   "cell_type": "code",
   "execution_count": null,
   "metadata": {},
   "outputs": [],
   "source": [
    "tasnlp_df.boxplot(by=\"TAS20\", column=\"TAS20-P\", figsize=[16,8], fontsize=18)"
   ]
  },
  {
   "cell_type": "code",
   "execution_count": null,
   "metadata": {},
   "outputs": [],
   "source": [
    "# Let's aggregate by TAS-20 score\n",
    "\n",
    "TASpredictions = tasnlp_df.groupby('TAS20')"
   ]
  },
  {
   "cell_type": "code",
   "execution_count": null,
   "metadata": {},
   "outputs": [],
   "source": [
    "# Visualize aggregated predictions\n",
    "\n",
    "print(TASpredictions)"
   ]
  },
  {
   "cell_type": "code",
   "execution_count": null,
   "metadata": {},
   "outputs": [],
   "source": [
    "def rmse(predictions, targets):\n",
    "    return np.sqrt(((predictions - targets) ** 2).mean())"
   ]
  },
  {
   "cell_type": "code",
   "execution_count": null,
   "metadata": {},
   "outputs": [],
   "source": [
    "def rme(predictions, targets):\n",
    "    return ((predictions - targets) ** 2).mean()"
   ]
  },
  {
   "cell_type": "code",
   "execution_count": null,
   "metadata": {},
   "outputs": [],
   "source": [
    "print(\"RMSE = \" + str( rmse(tasnlp_df[\"TAS20-P\"], tasnlp_df[\"TAS20\"]) ))\n",
    "print(\"RME = \" + str( rme(tasnlp_df[\"TAS20-P\"], tasnlp_df[\"TAS20\"]) ))"
   ]
  },
  {
   "cell_type": "code",
   "execution_count": null,
   "metadata": {},
   "outputs": [],
   "source": [
    "from sklearn.metrics import mean_squared_error\n",
    "mean_squared_error(tasnlp_df[\"TAS20\"], tasnlp_df[\"TAS20-P\"])"
   ]
  },
  {
   "cell_type": "markdown",
   "metadata": {},
   "source": [
    "### Regression Plots"
   ]
  },
  {
   "cell_type": "code",
   "execution_count": null,
   "metadata": {},
   "outputs": [],
   "source": [
    "%matplotlib inline\n",
    "import matplotlib.pyplot as plt"
   ]
  },
  {
   "cell_type": "code",
   "execution_count": null,
   "metadata": {},
   "outputs": [],
   "source": [
    "fig = plt.figure(figsize=(12,8))\n",
    "fig = sm.graphics.plot_regress_exog(model, \"mean-sentiment\", fig=fig)"
   ]
  },
  {
   "cell_type": "code",
   "execution_count": null,
   "metadata": {},
   "outputs": [],
   "source": [
    "fig, ax = plt.subplots(figsize=(12, 8))\n",
    "fig = sm.graphics.plot_fit(model, \"mean-sentiment\", ax=ax)"
   ]
  },
  {
   "cell_type": "code",
   "execution_count": null,
   "metadata": {},
   "outputs": [],
   "source": [
    "fig, ax = plt.subplots(figsize=(12, 8))\n",
    "fig = sm.graphics.plot_fit(model, \"G-magnitude\", ax=ax)"
   ]
  },
  {
   "cell_type": "code",
   "execution_count": null,
   "metadata": {},
   "outputs": [],
   "source": [
    "fig, ax = plt.subplots(figsize=(12, 8))\n",
    "fig = sm.graphics.plot_fit(model, \"es-len\", ax=ax)"
   ]
  },
  {
   "cell_type": "markdown",
   "metadata": {},
   "source": [
    "### Partial Regression Plots"
   ]
  },
  {
   "cell_type": "code",
   "execution_count": null,
   "metadata": {},
   "outputs": [],
   "source": [
    "fig = plt.figure(figsize=(12,8))\n",
    "fig = sm.graphics.plot_partregress_grid(model, fig=fig)"
   ]
  },
  {
   "cell_type": "markdown",
   "metadata": {},
   "source": [
    "### Influence Plot"
   ]
  },
  {
   "cell_type": "code",
   "execution_count": null,
   "metadata": {},
   "outputs": [],
   "source": [
    "fig, ax = plt.subplots(figsize=(8,6))\n",
    "fig = sm.graphics.influence_plot(model, ax=ax)"
   ]
  },
  {
   "cell_type": "markdown",
   "metadata": {},
   "source": [
    "## Polynomial Regression for TAS20 score"
   ]
  },
  {
   "cell_type": "code",
   "execution_count": null,
   "metadata": {},
   "outputs": [],
   "source": [
    "import seaborn as sns\n",
    "sns.set_style('whitegrid')"
   ]
  },
  {
   "cell_type": "code",
   "execution_count": 31,
   "metadata": {},
   "outputs": [],
   "source": [
    "%matplotlib inline\n",
    "import matplotlib.pyplot as plt\n",
    "\n",
    "from sklearn.linear_model import LinearRegression\n",
    "from sklearn.metrics import r2_score\n",
    "from sklearn.metrics import mean_squared_error"
   ]
  },
  {
   "cell_type": "code",
   "execution_count": 32,
   "metadata": {},
   "outputs": [],
   "source": [
    "X = tasnlp_df[\"mean-sentiment\"]\n",
    "y = tasnlp_df[\"TAS20\"]"
   ]
  },
  {
   "cell_type": "code",
   "execution_count": 33,
   "metadata": {},
   "outputs": [
    {
     "data": {
      "text/plain": [
       "<matplotlib.collections.PathCollection at 0x217c6b0db38>"
      ]
     },
     "execution_count": 33,
     "metadata": {},
     "output_type": "execute_result"
    },
    {
     "data": {
      "image/png": "[encoded data removed]",
      "text/plain": [
       "<Figure size 720x576 with 1 Axes>"
      ]
     },
     "metadata": {
      "needs_background": "light"
     },
     "output_type": "display_data"
    }
   ],
   "source": [
    "plt.figure(figsize=(10,8))\n",
    "plt.scatter(y, X)"
   ]
  },
  {
   "cell_type": "code",
   "execution_count": 34,
   "metadata": {},
   "outputs": [
    {
     "name": "stdout",
     "output_type": "stream",
     "text": [
      "0.0013254127234648694\n",
      "100.40415854418099\n"
     ]
    },
    {
     "data": {
      "image/png": "[encoded data removed]",
      "text/plain": [
       "<Figure size 720x576 with 1 Axes>"
      ]
     },
     "metadata": {
      "needs_background": "light"
     },
     "output_type": "display_data"
    }
   ],
   "source": [
    "from sklearn.metrics import mean_squared_error\n",
    "\n",
    "lin_reg = LinearRegression()\n",
    "lin_reg.fit(X.values.reshape(-1, 1), y)\n",
    "model_pred = lin_reg.predict(X.values.reshape(-1,1))\n",
    "plt.figure(figsize=(10,8));\n",
    "plt.scatter(X, y);\n",
    "plt.plot(X, model_pred, color='r');\n",
    "print(r2_score(y, model_pred))\n",
    "print(mean_squared_error(y, model_pred))"
   ]
  },
  {
   "cell_type": "code",
   "execution_count": 36,
   "metadata": {},
   "outputs": [],
   "source": [
    "# Really bad results, let's go polynomial\n",
    "from sklearn.preprocessing import PolynomialFeatures\n",
    "\n",
    "# Degree 2, parabolic function\n",
    "poly_reg = PolynomialFeatures(degree=2)\n",
    "X_poly = poly_reg.fit_transform(X.values.reshape(-1, 1))"
   ]
  },
  {
   "cell_type": "code",
   "execution_count": 38,
   "metadata": {},
   "outputs": [
    {
     "name": "stdout",
     "output_type": "stream",
     "text": [
      "0.0037532304494486413\n",
      "100.16007203293732\n"
     ]
    },
    {
     "data": {
      "image/png": "[encoded data removed]",
      "text/plain": [
       "<Figure size 720x576 with 1 Axes>"
      ]
     },
     "metadata": {
      "needs_background": "light"
     },
     "output_type": "display_data"
    }
   ],
   "source": [
    "lin_reg_2 = LinearRegression()\n",
    "lin_reg_2.fit(X_poly, y.values.reshape(-1, 1))\n",
    "y_pred = lin_reg_2.predict(X_poly)\n",
    "plt.figure(figsize=(10,8));\n",
    "plt.scatter(X, y);\n",
    "plt.plot(X, y_pred, color='r');\n",
    "print(r2_score(y, y_pred))\n",
    "print(mean_squared_error(y, y_pred))"
   ]
  },
  {
   "cell_type": "code",
   "execution_count": 40,
   "metadata": {},
   "outputs": [],
   "source": [
    "# Degree 3, \n",
    "poly_reg = PolynomialFeatures(degree=3)\n",
    "X_poly = poly_reg.fit_transform(X.values.reshape(-1, 1))"
   ]
  },
  {
   "cell_type": "code",
   "execution_count": 41,
   "metadata": {},
   "outputs": [
    {
     "name": "stdout",
     "output_type": "stream",
     "text": [
      "0.014048403473460591\n",
      "99.1250219798849\n"
     ]
    },
    {
     "data": {
      "image/png": "[encoded data removed]",
      "text/plain": [
       "<Figure size 720x576 with 1 Axes>"
      ]
     },
     "metadata": {
      "needs_background": "light"
     },
     "output_type": "display_data"
    }
   ],
   "source": [
    "lin_reg_2 = LinearRegression()\n",
    "lin_reg_2.fit(X_poly, y.values.reshape(-1, 1))\n",
    "y_pred = lin_reg_2.predict(X_poly)\n",
    "plt.figure(figsize=(10,8));\n",
    "plt.scatter(X, y);\n",
    "plt.plot(X, y_pred, color='r');\n",
    "print(r2_score(y, y_pred))\n",
    "print(mean_squared_error(y, y_pred))"
   ]
  },
  {
   "cell_type": "code",
   "execution_count": 43,
   "metadata": {},
   "outputs": [],
   "source": [
    "X = tasnlp_df[[\"mean-sentiment\", \"es-len\"]]\n",
    "y = tasnlp_df[\"TAS20\"]"
   ]
  },
  {
   "cell_type": "code",
   "execution_count": 47,
   "metadata": {},
   "outputs": [
    {
     "name": "stdout",
     "output_type": "stream",
     "text": [
      "0.0134372552299451\n",
      "99.18646524270314\n"
     ]
    }
   ],
   "source": [
    "lin_reg = LinearRegression()\n",
    "lin_reg.fit(X, y)\n",
    "\n",
    "model_pred = lin_reg.predict(X)\n",
    "\n",
    "print(r2_score(y, model_pred))\n",
    "print(mean_squared_error(y, model_pred))"
   ]
  },
  {
   "cell_type": "code",
   "execution_count": 48,
   "metadata": {},
   "outputs": [],
   "source": [
    "X = tasnlp_df[[\"mean-sentiment\", \"es-len\", \"G-magnitude\"]]\n",
    "y = tasnlp_df[\"TAS20\"]"
   ]
  },
  {
   "cell_type": "code",
   "execution_count": 49,
   "metadata": {},
   "outputs": [
    {
     "name": "stdout",
     "output_type": "stream",
     "text": [
      "0.015879808794987738\n",
      "98.94089722833522\n"
     ]
    }
   ],
   "source": [
    "lin_reg = LinearRegression()\n",
    "lin_reg.fit(X, y)\n",
    "\n",
    "model_pred = lin_reg.predict(X)\n",
    "\n",
    "print(r2_score(y, model_pred))\n",
    "print(mean_squared_error(y, model_pred))"
   ]
  },
  {
   "cell_type": "code",
   "execution_count": 50,
   "metadata": {},
   "outputs": [],
   "source": [
    "X = tasnlp_df[[\"mean-sentiment\", \"es-len\", \"G-magnitude\", \"nlu-fear\", \"nlu-joy\", \"nlu-disgust\", \"nlu-anger\", \"nlu-sadness\"]]\n",
    "y = tasnlp_df[\"TAS20\"]"
   ]
  },
  {
   "cell_type": "code",
   "execution_count": 51,
   "metadata": {},
   "outputs": [
    {
     "name": "stdout",
     "output_type": "stream",
     "text": [
      "0.023782399041220037\n",
      "98.14639125601823\n"
     ]
    }
   ],
   "source": [
    "lin_reg = LinearRegression()\n",
    "lin_reg.fit(X, y)\n",
    "\n",
    "model_pred = lin_reg.predict(X)\n",
    "\n",
    "print(r2_score(y, model_pred))\n",
    "print(mean_squared_error(y, model_pred))"
   ]
  },
  {
   "cell_type": "code",
   "execution_count": 52,
   "metadata": {},
   "outputs": [],
   "source": [
    "X = tasnlp_df[[\"mean-sentiment\", \"es-len\", \"G-magnitude\", \"nlu-fear\", \"nlu-joy\", \"nlu-disgust\", \"nlu-anger\", \"nlu-sadness\"]]\n",
    "y = tasnlp_df[\"TAS20\"]"
   ]
  },
  {
   "cell_type": "code",
   "execution_count": 58,
   "metadata": {},
   "outputs": [],
   "source": [
    "# Degree 3, \n",
    "poly = PolynomialFeatures(degree=3)\n",
    "X_poly = poly.fit_transform(X)"
   ]
  },
  {
   "cell_type": "code",
   "execution_count": 59,
   "metadata": {},
   "outputs": [
    {
     "name": "stdout",
     "output_type": "stream",
     "text": [
      "0.41119715769521625\n",
      "59.19671400796737\n"
     ]
    }
   ],
   "source": [
    "lin_reg_2 = LinearRegression()\n",
    "lin_reg_2.fit(X_poly, y)\n",
    "y_pred = lin_reg_2.predict(X_poly)\n",
    "\n",
    "print(r2_score(y, y_pred))\n",
    "print(mean_squared_error(y, y_pred))"
   ]
  },
  {
   "cell_type": "code",
   "execution_count": 82,
   "metadata": {},
   "outputs": [],
   "source": [
    "X = tasnlp_df[[\"mean-sentiment\", \"es-len\", \"G-magnitude\", \"nlu-fear\", \"nlu-joy\", \"nlu-disgust\", \"nlu-anger\", \"nlu-sadness\"]]\n",
    "y = tasnlp_df[\"TAS20\"]"
   ]
  },
  {
   "cell_type": "code",
   "execution_count": 101,
   "metadata": {},
   "outputs": [],
   "source": [
    "poly = PolynomialFeatures(degree=4)\n",
    "X_poly = poly.fit_transform(X)"
   ]
  },
  {
   "cell_type": "code",
   "execution_count": 102,
   "metadata": {},
   "outputs": [
    {
     "name": "stdout",
     "output_type": "stream",
     "text": [
      "0.9942689334212975\n",
      "0.5761866024492794\n"
     ]
    }
   ],
   "source": [
    "lin_reg_2 = LinearRegression()\n",
    "lin_reg_2.fit(X_poly, y)\n",
    "y_pred = lin_reg_2.predict(X_poly)\n",
    "\n",
    "print(r2_score(y, y_pred))\n",
    "print(mean_squared_error(y, y_pred))"
   ]
  },
  {
   "cell_type": "code",
   "execution_count": 112,
   "metadata": {},
   "outputs": [],
   "source": [
    "results = pd.DataFrame({'TAS20':y,'P-TAS20':y_pred})"
   ]
  },
  {
   "cell_type": "code",
   "execution_count": 114,
   "metadata": {},
   "outputs": [
    {
     "data": {
      "text/html": [
       "<div>\n",
       "<style scoped>\n",
       "    .dataframe tbody tr th:only-of-type {\n",
       "        vertical-align: middle;\n",
       "    }\n",
       "\n",
       "    .dataframe tbody tr th {\n",
       "        vertical-align: top;\n",
       "    }\n",
       "\n",
       "    .dataframe thead th {\n",
       "        text-align: right;\n",
       "    }\n",
       "</style>\n",
       "<table border=\"1\" class=\"dataframe\">\n",
       "  <thead>\n",
       "    <tr style=\"text-align: right;\">\n",
       "      <th></th>\n",
       "      <th>TAS20</th>\n",
       "      <th>P-TAS20</th>\n",
       "    </tr>\n",
       "  </thead>\n",
       "  <tbody>\n",
       "    <tr>\n",
       "      <th>0</th>\n",
       "      <td>39.0</td>\n",
       "      <td>39.287178</td>\n",
       "    </tr>\n",
       "    <tr>\n",
       "      <th>1</th>\n",
       "      <td>39.0</td>\n",
       "      <td>39.220022</td>\n",
       "    </tr>\n",
       "    <tr>\n",
       "      <th>2</th>\n",
       "      <td>39.0</td>\n",
       "      <td>38.785001</td>\n",
       "    </tr>\n",
       "    <tr>\n",
       "      <th>3</th>\n",
       "      <td>63.0</td>\n",
       "      <td>63.097653</td>\n",
       "    </tr>\n",
       "    <tr>\n",
       "      <th>4</th>\n",
       "      <td>63.0</td>\n",
       "      <td>62.918395</td>\n",
       "    </tr>\n",
       "  </tbody>\n",
       "</table>\n",
       "</div>"
      ],
      "text/plain": [
       "   TAS20    P-TAS20\n",
       "0   39.0  39.287178\n",
       "1   39.0  39.220022\n",
       "2   39.0  38.785001\n",
       "3   63.0  63.097653\n",
       "4   63.0  62.918395"
      ]
     },
     "execution_count": 114,
     "metadata": {},
     "output_type": "execute_result"
    }
   ],
   "source": [
    "results.head()"
   ]
  },
  {
   "cell_type": "code",
   "execution_count": 122,
   "metadata": {},
   "outputs": [
    {
     "data": {
      "text/plain": [
       "<matplotlib.axes._subplots.AxesSubplot at 0x217cdaa0ef0>"
      ]
     },
     "execution_count": 122,
     "metadata": {},
     "output_type": "execute_result"
    },
    {
     "data": {
      "image/png": "[encoded data removed]",
      "text/plain": [
       "<Figure size 1008x720 with 1 Axes>"
      ]
     },
     "metadata": {
      "needs_background": "light"
     },
     "output_type": "display_data"
    }
   ],
   "source": [
    "results.boxplot(by=\"TAS20\", column=\"P-TAS20\", figsize=[14,10], fontsize=10)"
   ]
  },
  {
   "cell_type": "code",
   "execution_count": null,
   "metadata": {},
   "outputs": [],
   "source": [
    "lin"
   ]
  }
 ],
 "metadata": {
  "kernelspec": {
   "display_name": "Python 3",
   "language": "python",
   "name": "python3"
  },
  "language_info": {
   "codemirror_mode": {
    "name": "ipython",
    "version": 3
   },
   "file_extension": ".py",
   "mimetype": "text/x-python",
   "name": "python",
   "nbconvert_exporter": "python",
   "pygments_lexer": "ipython3",
   "version": "3.7.3"
  }
 },
 "nbformat": 4,
 "nbformat_minor": 2
}
