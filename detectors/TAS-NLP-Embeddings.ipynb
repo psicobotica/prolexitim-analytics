{
 "cells": [
  {
   "cell_type": "markdown",
   "metadata": {},
   "source": [
    "# Prolexitim NLP Analytics \n",
    "## TAS-20 & Text Data. Predictive Analysis with Embeddings\n",
    "### Deep Learning - Classification - Word Embeddings (Word2Vec, Doc2Vec)\n",
    "<hr>\n",
    "<b>Dataset from Prolexitim TAS-20 Spain instrument and Prolexitim NLP.</b><br>\n",
    "<b>Text Analytics uing Prolexitim NLP texts.</b>\n",
    "<hr>\n",
    "May 2019.<br> Prolexitim normalized dataset version 1.3 (MPGS-TFM-Submission).<br> \n",
    "Raúl Arrabales Moreno (Psicobótica / Serendeepia Research)<br>\n",
    "<a target=\"_blank\" href=\"http://www.conscious-robots.com/\">http://www.conscious-robots.com/</a> <br>\n",
    "<hr>"
   ]
  },
  {
   "cell_type": "markdown",
   "metadata": {},
   "source": [
    "## This notebook contains: \n",
    "\n",
    "- TAS-20 + NLP Merged Dataset loading.\n",
    "- Prolexitim NLP Spanish Text Corpus creation and exploration with ntlk\n",
    "- Word Vectors generation (Word2Vec) using gensim and nltk\n",
    "- Doc Vectors generation (Doc2Vec) using gensim and nltk\n",
    "- Aleithymia prediction using Doc2Vec as features for a Logistic Regression Classifier. "
   ]
  },
  {
   "cell_type": "markdown",
   "metadata": {},
   "source": [
    "### TAS-20 + NLP Dataset Load"
   ]
  },
  {
   "cell_type": "code",
   "execution_count": 1,
   "metadata": {},
   "outputs": [],
   "source": [
    "import pandas as pd \n",
    "\n",
    "# Load dataset (with text, in English and Spanish)\n",
    "tasnlp_dataset_path = \"D:\\\\Dropbox-Array2001\\\\Dropbox\\\\UNI\\\\MPGS\\\\2_TFM\\\\Datos\\\\prolexitim-merged-1.3.csv\"\n",
    "\n",
    "tasnlp_df = pd.read_csv(tasnlp_dataset_path,header=0,delimiter=\"\\t\")"
   ]
  },
  {
   "cell_type": "code",
   "execution_count": 2,
   "metadata": {},
   "outputs": [
    {
     "data": {
      "text/html": [
       "<div>\n",
       "<style scoped>\n",
       "    .dataframe tbody tr th:only-of-type {\n",
       "        vertical-align: middle;\n",
       "    }\n",
       "\n",
       "    .dataframe tbody tr th {\n",
       "        vertical-align: top;\n",
       "    }\n",
       "\n",
       "    .dataframe thead th {\n",
       "        text-align: right;\n",
       "    }\n",
       "</style>\n",
       "<table border=\"1\" class=\"dataframe\">\n",
       "  <thead>\n",
       "    <tr style=\"text-align: right;\">\n",
       "      <th></th>\n",
       "      <th>RowId</th>\n",
       "      <th>code</th>\n",
       "      <th>card</th>\n",
       "      <th>hum</th>\n",
       "      <th>mode</th>\n",
       "      <th>time</th>\n",
       "      <th>G-score</th>\n",
       "      <th>G-magnitude</th>\n",
       "      <th>Azure-TA</th>\n",
       "      <th>Text</th>\n",
       "      <th>...</th>\n",
       "      <th>SClass</th>\n",
       "      <th>Siblings</th>\n",
       "      <th>SibPos</th>\n",
       "      <th>Origin</th>\n",
       "      <th>Resid</th>\n",
       "      <th>Rtime</th>\n",
       "      <th>Ethnic</th>\n",
       "      <th>Job</th>\n",
       "      <th>alex-a</th>\n",
       "      <th>alex-b</th>\n",
       "    </tr>\n",
       "  </thead>\n",
       "  <tbody>\n",
       "    <tr>\n",
       "      <th>0</th>\n",
       "      <td>1</td>\n",
       "      <td>b7adde8a9eec8ce92b5ee0507ce054a4</td>\n",
       "      <td>13V</td>\n",
       "      <td>1</td>\n",
       "      <td>T</td>\n",
       "      <td>200000</td>\n",
       "      <td>-0.2</td>\n",
       "      <td>0.2</td>\n",
       "      <td>0.62</td>\n",
       "      <td>Era un niño pensando en el granero pensando a ...</td>\n",
       "      <td>...</td>\n",
       "      <td>2.0</td>\n",
       "      <td>5.0</td>\n",
       "      <td>3.0</td>\n",
       "      <td>ES</td>\n",
       "      <td>ES</td>\n",
       "      <td>-1.0</td>\n",
       "      <td>Iberic</td>\n",
       "      <td>Manager</td>\n",
       "      <td>NoAlex</td>\n",
       "      <td>NoAlex</td>\n",
       "    </tr>\n",
       "    <tr>\n",
       "      <th>1</th>\n",
       "      <td>2</td>\n",
       "      <td>b7adde8a9eec8ce92b5ee0507ce054a4</td>\n",
       "      <td>18NM</td>\n",
       "      <td>2</td>\n",
       "      <td>T</td>\n",
       "      <td>200000</td>\n",
       "      <td>-0.5</td>\n",
       "      <td>0.5</td>\n",
       "      <td>0.41</td>\n",
       "      <td>Una madre que está consolando a su hijo, despu...</td>\n",
       "      <td>...</td>\n",
       "      <td>2.0</td>\n",
       "      <td>5.0</td>\n",
       "      <td>3.0</td>\n",
       "      <td>ES</td>\n",
       "      <td>ES</td>\n",
       "      <td>-1.0</td>\n",
       "      <td>Iberic</td>\n",
       "      <td>Manager</td>\n",
       "      <td>NoAlex</td>\n",
       "      <td>NoAlex</td>\n",
       "    </tr>\n",
       "    <tr>\n",
       "      <th>2</th>\n",
       "      <td>3</td>\n",
       "      <td>b7adde8a9eec8ce92b5ee0507ce054a4</td>\n",
       "      <td>12VN</td>\n",
       "      <td>0</td>\n",
       "      <td>T</td>\n",
       "      <td>200000</td>\n",
       "      <td>0.0</td>\n",
       "      <td>1.2</td>\n",
       "      <td>0.63</td>\n",
       "      <td>Un pantanal con una barca abandonada. A ver qu...</td>\n",
       "      <td>...</td>\n",
       "      <td>2.0</td>\n",
       "      <td>5.0</td>\n",
       "      <td>3.0</td>\n",
       "      <td>ES</td>\n",
       "      <td>ES</td>\n",
       "      <td>-1.0</td>\n",
       "      <td>Iberic</td>\n",
       "      <td>Manager</td>\n",
       "      <td>NoAlex</td>\n",
       "      <td>NoAlex</td>\n",
       "    </tr>\n",
       "    <tr>\n",
       "      <th>3</th>\n",
       "      <td>4</td>\n",
       "      <td>76ef63369f7d5b6597a543017e1ef578</td>\n",
       "      <td>12VN</td>\n",
       "      <td>0</td>\n",
       "      <td>T</td>\n",
       "      <td>200000</td>\n",
       "      <td>0.0</td>\n",
       "      <td>0.1</td>\n",
       "      <td>0.89</td>\n",
       "      <td>Era un paraje muy bonito, con una barca, un po...</td>\n",
       "      <td>...</td>\n",
       "      <td>2.0</td>\n",
       "      <td>3.0</td>\n",
       "      <td>3.0</td>\n",
       "      <td>ES</td>\n",
       "      <td>ES</td>\n",
       "      <td>-1.0</td>\n",
       "      <td>Iberic</td>\n",
       "      <td>Retired</td>\n",
       "      <td>Alex</td>\n",
       "      <td>Alex</td>\n",
       "    </tr>\n",
       "    <tr>\n",
       "      <th>4</th>\n",
       "      <td>5</td>\n",
       "      <td>76ef63369f7d5b6597a543017e1ef578</td>\n",
       "      <td>10</td>\n",
       "      <td>2</td>\n",
       "      <td>T</td>\n",
       "      <td>200000</td>\n",
       "      <td>0.3</td>\n",
       "      <td>0.1</td>\n",
       "      <td>0.24</td>\n",
       "      <td>Era una vez un matrimonio, que se quería muchí...</td>\n",
       "      <td>...</td>\n",
       "      <td>2.0</td>\n",
       "      <td>3.0</td>\n",
       "      <td>3.0</td>\n",
       "      <td>ES</td>\n",
       "      <td>ES</td>\n",
       "      <td>-1.0</td>\n",
       "      <td>Iberic</td>\n",
       "      <td>Retired</td>\n",
       "      <td>Alex</td>\n",
       "      <td>Alex</td>\n",
       "    </tr>\n",
       "  </tbody>\n",
       "</table>\n",
       "<p>5 rows × 41 columns</p>\n",
       "</div>"
      ],
      "text/plain": [
       "   RowId                              code  card  hum mode    time  G-score  \\\n",
       "0      1  b7adde8a9eec8ce92b5ee0507ce054a4   13V    1    T  200000     -0.2   \n",
       "1      2  b7adde8a9eec8ce92b5ee0507ce054a4  18NM    2    T  200000     -0.5   \n",
       "2      3  b7adde8a9eec8ce92b5ee0507ce054a4  12VN    0    T  200000      0.0   \n",
       "3      4  76ef63369f7d5b6597a543017e1ef578  12VN    0    T  200000      0.0   \n",
       "4      5  76ef63369f7d5b6597a543017e1ef578    10    2    T  200000      0.3   \n",
       "\n",
       "   G-magnitude  Azure-TA                                               Text  \\\n",
       "0          0.2      0.62  Era un niño pensando en el granero pensando a ...   \n",
       "1          0.5      0.41  Una madre que está consolando a su hijo, despu...   \n",
       "2          1.2      0.63  Un pantanal con una barca abandonada. A ver qu...   \n",
       "3          0.1      0.89  Era un paraje muy bonito, con una barca, un po...   \n",
       "4          0.1      0.24  Era una vez un matrimonio, que se quería muchí...   \n",
       "\n",
       "   ... SClass  Siblings SibPos  Origin  Resid  Rtime  Ethnic      Job  alex-a  \\\n",
       "0  ...    2.0       5.0    3.0      ES     ES   -1.0  Iberic  Manager  NoAlex   \n",
       "1  ...    2.0       5.0    3.0      ES     ES   -1.0  Iberic  Manager  NoAlex   \n",
       "2  ...    2.0       5.0    3.0      ES     ES   -1.0  Iberic  Manager  NoAlex   \n",
       "3  ...    2.0       3.0    3.0      ES     ES   -1.0  Iberic  Retired    Alex   \n",
       "4  ...    2.0       3.0    3.0      ES     ES   -1.0  Iberic  Retired    Alex   \n",
       "\n",
       "   alex-b  \n",
       "0  NoAlex  \n",
       "1  NoAlex  \n",
       "2  NoAlex  \n",
       "3    Alex  \n",
       "4    Alex  \n",
       "\n",
       "[5 rows x 41 columns]"
      ]
     },
     "execution_count": 2,
     "metadata": {},
     "output_type": "execute_result"
    }
   ],
   "source": [
    "tasnlp_df.head()"
   ]
  },
  {
   "cell_type": "code",
   "execution_count": 3,
   "metadata": {},
   "outputs": [
    {
     "data": {
      "text/plain": [
       "RowId              int64\n",
       "code              object\n",
       "card              object\n",
       "hum                int64\n",
       "mode              object\n",
       "time               int64\n",
       "G-score          float64\n",
       "G-magnitude      float64\n",
       "Azure-TA         float64\n",
       "Text              object\n",
       "Text-EN           object\n",
       "nlu-sentiment    float64\n",
       "nlu-label         object\n",
       "nlu-joy          float64\n",
       "nlu-anger        float64\n",
       "nlu-disgust      float64\n",
       "nlu-sadness      float64\n",
       "nlu-fear         float64\n",
       "es-len             int64\n",
       "en-len             int64\n",
       "NLP              float64\n",
       "TAS20            float64\n",
       "F1               float64\n",
       "F2               float64\n",
       "F3               float64\n",
       "Tas20Time        float64\n",
       "Sex              float64\n",
       "Gender           float64\n",
       "Age              float64\n",
       "Dhand            float64\n",
       "Studies          float64\n",
       "SClass           float64\n",
       "Siblings         float64\n",
       "SibPos           float64\n",
       "Origin            object\n",
       "Resid             object\n",
       "Rtime            float64\n",
       "Ethnic            object\n",
       "Job               object\n",
       "alex-a            object\n",
       "alex-b            object\n",
       "dtype: object"
      ]
     },
     "execution_count": 3,
     "metadata": {},
     "output_type": "execute_result"
    }
   ],
   "source": [
    "tasnlp_df.dtypes"
   ]
  },
  {
   "cell_type": "markdown",
   "metadata": {},
   "source": [
    "## Prolexitim NLP Spanish Text Corpus creation and exploration with ntlk"
   ]
  },
  {
   "cell_type": "code",
   "execution_count": 36,
   "metadata": {},
   "outputs": [],
   "source": [
    "import nltk"
   ]
  },
  {
   "cell_type": "code",
   "execution_count": null,
   "metadata": {},
   "outputs": [],
   "source": [
    "# Get all text documents in a nltk corpus\n",
    "tas_corpus = []\n",
    "\n",
    "# Use Spanish tokenizer\n",
    "tokenizer = nltk.data.load('tokenizers/punkt/spanish.pickle')\n",
    "\n",
    "# For all narratives in Spanish in the dataset\n",
    "for index, row in tasnlp_df.iterrows():  \n",
    "    # tokenize the sentences into words \n",
    "    # tokens = nltk.word_tokenize(row[\"Text\"]): \n",
    "    tokens = tokenizer.tokenize(row[\"Text\"])\n",
    "    text = nltk.Text(tokens)\n",
    "    tas_corpus.append(text)"
   ]
  },
  {
   "cell_type": "code",
   "execution_count": null,
   "metadata": {},
   "outputs": [],
   "source": [
    "# Check corpus: \n",
    "print(tas_corpus.raw().strip())"
   ]
  },
  {
   "cell_type": "code",
   "execution_count": null,
   "metadata": {},
   "outputs": [],
   "source": [
    "print(tas_corpus.paras())"
   ]
  },
  {
   "cell_type": "code",
   "execution_count": null,
   "metadata": {},
   "outputs": [],
   "source": [
    "print(tas_corpus.paras(tas_corpus.fileids()[0]))"
   ]
  },
  {
   "cell_type": "code",
   "execution_count": null,
   "metadata": {},
   "outputs": [],
   "source": [
    "print(tas_corpus.sents())"
   ]
  },
  {
   "cell_type": "code",
   "execution_count": null,
   "metadata": {},
   "outputs": [],
   "source": [
    "print(tas_corpus.words())"
   ]
  },
  {
   "cell_type": "markdown",
   "metadata": {},
   "source": [
    "## Word Vectors generation using Word2Vec and nltk"
   ]
  },
  {
   "cell_type": "code",
   "execution_count": 14,
   "metadata": {},
   "outputs": [],
   "source": [
    "from nltk.tokenize import sent_tokenize, word_tokenize \n",
    "import warnings"
   ]
  },
  {
   "cell_type": "code",
   "execution_count": 15,
   "metadata": {},
   "outputs": [
    {
     "name": "stderr",
     "output_type": "stream",
     "text": [
      "[nltk_data] Downloading package punkt to\n",
      "[nltk_data]     C:\\Users\\array\\AppData\\Roaming\\nltk_data...\n",
      "[nltk_data]   Unzipping tokenizers\\punkt.zip.\n"
     ]
    },
    {
     "data": {
      "text/plain": [
       "True"
      ]
     },
     "execution_count": 15,
     "metadata": {},
     "output_type": "execute_result"
    }
   ],
   "source": [
    "nltk.download('punkt')"
   ]
  },
  {
   "cell_type": "code",
   "execution_count": 5,
   "metadata": {},
   "outputs": [],
   "source": [
    "warnings.filterwarnings(action = 'ignore') "
   ]
  },
  {
   "cell_type": "code",
   "execution_count": 7,
   "metadata": {},
   "outputs": [
    {
     "name": "stdout",
     "output_type": "stream",
     "text": [
      "Collecting gensim\n",
      "  Downloading https://files.pythonhosted.org/packages/81/80/858ef502e80baa6384b75fd5c89f01074b791a13b830487f9e25bdce50ec/gensim-3.7.3.tar.gz (23.4MB)\n",
      "Requirement already satisfied: numpy>=1.11.3 in c:\\users\\array\\anaconda3\\lib\\site-packages (from gensim) (1.16.2)\n",
      "Requirement already satisfied: scipy>=0.18.1 in c:\\users\\array\\anaconda3\\lib\\site-packages (from gensim) (1.2.1)\n",
      "Requirement already satisfied: six>=1.5.0 in c:\\users\\array\\anaconda3\\lib\\site-packages (from gensim) (1.12.0)\n",
      "Collecting smart_open>=1.7.0 (from gensim)\n",
      "  Downloading https://files.pythonhosted.org/packages/bf/ba/7eaf3c0dbe601c43d88e449dcd7b61d385fe07c0167163f63f58ece7c1b5/smart_open-1.8.3.tar.gz (60kB)\n",
      "Requirement already satisfied: boto>=2.32 in c:\\users\\array\\anaconda3\\lib\\site-packages (from smart_open>=1.7.0->gensim) (2.49.0)\n",
      "Requirement already satisfied: requests in c:\\users\\array\\anaconda3\\lib\\site-packages (from smart_open>=1.7.0->gensim) (2.21.0)\n",
      "Collecting boto3 (from smart_open>=1.7.0->gensim)\n",
      "  Downloading https://files.pythonhosted.org/packages/20/9c/7111470f07700a6b06305943fc7521e49d9669dbda0c1862c4658130f235/boto3-1.9.146-py2.py3-none-any.whl (128kB)\n",
      "Requirement already satisfied: idna<2.9,>=2.5 in c:\\users\\array\\anaconda3\\lib\\site-packages (from requests->smart_open>=1.7.0->gensim) (2.8)\n",
      "Requirement already satisfied: certifi>=2017.4.17 in c:\\users\\array\\anaconda3\\lib\\site-packages (from requests->smart_open>=1.7.0->gensim) (2019.3.9)\n",
      "Requirement already satisfied: chardet<3.1.0,>=3.0.2 in c:\\users\\array\\anaconda3\\lib\\site-packages (from requests->smart_open>=1.7.0->gensim) (3.0.4)\n",
      "Requirement already satisfied: urllib3<1.25,>=1.21.1 in c:\\users\\array\\anaconda3\\lib\\site-packages (from requests->smart_open>=1.7.0->gensim) (1.24.1)\n",
      "Collecting botocore<1.13.0,>=1.12.146 (from boto3->smart_open>=1.7.0->gensim)\n",
      "  Downloading https://files.pythonhosted.org/packages/f5/4e/73751a9041fe4d6bb4f9635d74de21d6267d27067593cea370e9d0d7a043/botocore-1.12.146-py2.py3-none-any.whl (5.4MB)\n",
      "Collecting s3transfer<0.3.0,>=0.2.0 (from boto3->smart_open>=1.7.0->gensim)\n",
      "  Downloading https://files.pythonhosted.org/packages/d7/de/5737f602e22073ecbded7a0c590707085e154e32b68d86545dcc31004c02/s3transfer-0.2.0-py2.py3-none-any.whl (69kB)\n",
      "Collecting jmespath<1.0.0,>=0.7.1 (from boto3->smart_open>=1.7.0->gensim)\n",
      "  Downloading https://files.pythonhosted.org/packages/83/94/7179c3832a6d45b266ddb2aac329e101367fbdb11f425f13771d27f225bb/jmespath-0.9.4-py2.py3-none-any.whl\n",
      "Requirement already satisfied: docutils>=0.10 in c:\\users\\array\\anaconda3\\lib\\site-packages (from botocore<1.13.0,>=1.12.146->boto3->smart_open>=1.7.0->gensim) (0.14)\n",
      "Requirement already satisfied: python-dateutil<3.0.0,>=2.1; python_version >= \"2.7\" in c:\\users\\array\\anaconda3\\lib\\site-packages (from botocore<1.13.0,>=1.12.146->boto3->smart_open>=1.7.0->gensim) (2.8.0)\n",
      "Building wheels for collected packages: gensim, smart-open\n",
      "  Building wheel for gensim (setup.py): started\n",
      "  Building wheel for gensim (setup.py): finished with status 'done'\n",
      "  Stored in directory: C:\\Users\\array\\AppData\\Local\\pip\\Cache\\wheels\\73\\6b\\89\\bb14fd56b74774a39a771a12f525a6a14c2c2692d3084ad048\n",
      "  Building wheel for smart-open (setup.py): started\n",
      "  Building wheel for smart-open (setup.py): finished with status 'done'\n",
      "  Stored in directory: C:\\Users\\array\\AppData\\Local\\pip\\Cache\\wheels\\b8\\cb\\43\\c0ba52baf2b0e371ec1d5b2d4685d6d24617b1391f3eeacda5\n",
      "Successfully built gensim smart-open\n",
      "Installing collected packages: jmespath, botocore, s3transfer, boto3, smart-open, gensim\n",
      "Successfully installed boto3-1.9.146 botocore-1.12.146 gensim-3.7.3 jmespath-0.9.4 s3transfer-0.2.0 smart-open-1.8.3\n"
     ]
    }
   ],
   "source": [
    "!pip install gensim"
   ]
  },
  {
   "cell_type": "code",
   "execution_count": 8,
   "metadata": {},
   "outputs": [],
   "source": [
    "import gensim \n",
    "from gensim.models import Word2Vec "
   ]
  },
  {
   "cell_type": "markdown",
   "metadata": {},
   "source": [
    "### Build CBOW model (Continuous Bag of Words)"
   ]
  },
  {
   "cell_type": "code",
   "execution_count": 17,
   "metadata": {},
   "outputs": [],
   "source": [
    "data = [] \n",
    "temp = [] \n",
    "\n",
    "# For all narratives in the dataset\n",
    "for index, row in tasnlp_df.iterrows():\n",
    "    # print(row[\"Text\"])\n",
    "    \n",
    "    # tokenize the sentences into words \n",
    "    for j in word_tokenize(row[\"Text\"]): \n",
    "        temp.append(j.lower()) \n",
    "        # print(j.lower())\n",
    "        \n",
    "    data.append(temp) "
   ]
  },
  {
   "cell_type": "code",
   "execution_count": 20,
   "metadata": {},
   "outputs": [
    {
     "data": {
      "text/plain": [
       "334"
      ]
     },
     "execution_count": 20,
     "metadata": {},
     "output_type": "execute_result"
    }
   ],
   "source": [
    "len(data)"
   ]
  },
  {
   "cell_type": "markdown",
   "metadata": {},
   "source": [
    "### Building CBOW and Skip Gram Word2Vec models\n",
    "\n",
    "With 100 features"
   ]
  },
  {
   "cell_type": "code",
   "execution_count": 34,
   "metadata": {},
   "outputs": [],
   "source": [
    "# Create CBOW model with 100 features\n",
    "model_CBOW = gensim.models.Word2Vec(data, min_count = 1, size = 100, window = 5) "
   ]
  },
  {
   "cell_type": "code",
   "execution_count": 35,
   "metadata": {},
   "outputs": [],
   "source": [
    "# Create Skip Gram model with 100 features\n",
    "model_SGram = gensim.models.Word2Vec(data, min_count = 1, size = 100, window = 5, sg = 1) "
   ]
  },
  {
   "cell_type": "code",
   "execution_count": 43,
   "metadata": {},
   "outputs": [
    {
     "name": "stdout",
     "output_type": "stream",
     "text": [
      "Cosine similarity between 'violín' and 'instrumento' - CBOW :  0.37614313\n",
      "Cosine similarity between 'violín' and 'instrumento' - Skip Gram :  0.32931256\n",
      "Cosine similarity between 'niño' and 'señor' - CBOW :  0.20347899\n",
      "Cosine similarity between 'niño' and 'señor' - Skip Gram :  0.1893035\n",
      "Cosine similarity between 'niño' and 'matrimonio' - CBOW :  0.20347899\n",
      "Cosine similarity between 'niño' and 'matrimonio' - Skip Gram :  0.1893035\n",
      "Cosine similarity between 'niño' and 'toros' - CBOW :  0.20347899\n",
      "Cosine similarity between 'niño' and 'toros' - Skip Gram :  0.1893035\n"
     ]
    }
   ],
   "source": [
    "# Check Cosine similarities \n",
    "\n",
    "print(\"Cosine similarity between 'violín' and 'instrumento' - CBOW : \", \n",
    "      model_CBOW.similarity('violín', 'instrumento')) \n",
    "      \n",
    "print(\"Cosine similarity between 'violín' and 'instrumento' - Skip Gram : \", \n",
    "      model_SGram.similarity('violín', 'instrumento')) \n",
    "\n",
    "print(\"Cosine similarity between 'niño' and 'señor' - CBOW : \", \n",
    "      model_CBOW.similarity('niño', 'señor'))\n",
    "\n",
    "print(\"Cosine similarity between 'niño' and 'señor' - Skip Gram : \", \n",
    "      model_SGram.similarity('niño', 'señor')) \n",
    "\n",
    "print(\"Cosine similarity between 'niño' and 'matrimonio' - CBOW : \", \n",
    "      model_CBOW.similarity('niño', 'señor'))\n",
    "\n",
    "print(\"Cosine similarity between 'niño' and 'matrimonio' - Skip Gram : \", \n",
    "      model_SGram.similarity('niño', 'señor')) \n",
    "\n",
    "print(\"Cosine similarity between 'niño' and 'toros' - CBOW : \", \n",
    "      model_CBOW.similarity('niño', 'señor'))\n",
    "\n",
    "print(\"Cosine similarity between 'niño' and 'toros' - Skip Gram : \", \n",
    "      model_SGram.similarity('niño', 'señor'))"
   ]
  },
  {
   "cell_type": "markdown",
   "metadata": {},
   "source": [
    "### Save Word2Vec models to disk\n"
   ]
  },
  {
   "cell_type": "code",
   "execution_count": null,
   "metadata": {},
   "outputs": [],
   "source": [
    "models_path = \"D:\\\\Dropbox-Array2001\\\\Dropbox\\\\UNI\\\\MPGS\\\\2_TFM\\\\Datos\\\\\""
   ]
  },
  {
   "cell_type": "code",
   "execution_count": 42,
   "metadata": {},
   "outputs": [],
   "source": [
    "model_SGram.wv.save_word2vec_format( models_path + \"Word2Vec_SGram_1-3.bin\", binary=True)\n",
    "model_SGram.save( models_path + \"Word2Vec_SGram_1-3.model\")\n",
    "model_CBOW.wv.save_word2vec_format( models_path + \"Word2Vec_CBOW_1-3.bin\", binary=True)\n",
    "model_CBOW.save( models_path + \"Word2Vec_CBOW_1-3.model\")"
   ]
  },
  {
   "cell_type": "markdown",
   "metadata": {},
   "source": [
    "## Training a Doc2Vec model\n",
    "\n",
    "inspired from: https://towardsdatascience.com/implementing-multi-class-text-classification-with-doc2vec-df7c3812824d "
   ]
  },
  {
   "cell_type": "code",
   "execution_count": 52,
   "metadata": {},
   "outputs": [],
   "source": [
    "from gensim.models.doc2vec import Doc2Vec, TaggedDocument"
   ]
  },
  {
   "cell_type": "code",
   "execution_count": 55,
   "metadata": {},
   "outputs": [],
   "source": [
    "import nltk\n",
    "from nltk.corpus import stopwords"
   ]
  },
  {
   "cell_type": "code",
   "execution_count": 46,
   "metadata": {},
   "outputs": [
    {
     "name": "stdout",
     "output_type": "stream",
     "text": [
      "8\n"
     ]
    }
   ],
   "source": [
    "import multiprocessing\n",
    "cores = multiprocessing.cpu_count()\n",
    "print(cores)"
   ]
  },
  {
   "cell_type": "code",
   "execution_count": 49,
   "metadata": {},
   "outputs": [
    {
     "data": {
      "text/plain": [
       "Text      318\n",
       "alex-a    318\n",
       "dtype: int64"
      ]
     },
     "execution_count": 49,
     "metadata": {},
     "output_type": "execute_result"
    }
   ],
   "source": [
    "docs = tasnlp_df[['Text','alex-a']]\n",
    "docs = docs.dropna()\n",
    "docs.count()"
   ]
  },
  {
   "cell_type": "code",
   "execution_count": 106,
   "metadata": {},
   "outputs": [
    {
     "name": "stdout",
     "output_type": "stream",
     "text": [
      "Training with 286 exemplars, and testing with 32 exemplars.\n"
     ]
    }
   ],
   "source": [
    "# Train/test partition sizes\n",
    "\n",
    "test_size = int(round(docs.count()[0]/10))\n",
    "train_size = docs.count()[0] - train_size\n",
    "print(f'Training with {train_size} exemplars, and testing with {test_size} exemplars.')"
   ]
  },
  {
   "cell_type": "code",
   "execution_count": 107,
   "metadata": {},
   "outputs": [
    {
     "data": {
      "text/html": [
       "<div>\n",
       "<style scoped>\n",
       "    .dataframe tbody tr th:only-of-type {\n",
       "        vertical-align: middle;\n",
       "    }\n",
       "\n",
       "    .dataframe tbody tr th {\n",
       "        vertical-align: top;\n",
       "    }\n",
       "\n",
       "    .dataframe thead th {\n",
       "        text-align: right;\n",
       "    }\n",
       "</style>\n",
       "<table border=\"1\" class=\"dataframe\">\n",
       "  <thead>\n",
       "    <tr style=\"text-align: right;\">\n",
       "      <th></th>\n",
       "      <th>Text</th>\n",
       "    </tr>\n",
       "    <tr>\n",
       "      <th>alex-a</th>\n",
       "      <th></th>\n",
       "    </tr>\n",
       "  </thead>\n",
       "  <tbody>\n",
       "    <tr>\n",
       "      <th>Alex</th>\n",
       "      <td>76</td>\n",
       "    </tr>\n",
       "    <tr>\n",
       "      <th>NoAlex</th>\n",
       "      <td>242</td>\n",
       "    </tr>\n",
       "  </tbody>\n",
       "</table>\n",
       "</div>"
      ],
      "text/plain": [
       "        Text\n",
       "alex-a      \n",
       "Alex      76\n",
       "NoAlex   242"
      ]
     },
     "execution_count": 107,
     "metadata": {},
     "output_type": "execute_result"
    }
   ],
   "source": [
    "# Join alexithymia and possible alexithymia as one positive class\n",
    "\n",
    "docs['alex-a'] = docs['alex-a'].apply(lambda x: x.replace('PosAlex', 'Alex'))\n",
    "docs.groupby('alex-a').count()"
   ]
  },
  {
   "cell_type": "code",
   "execution_count": 93,
   "metadata": {},
   "outputs": [],
   "source": [
    "# Shuffle dataset\n",
    "import sklearn.utils\n",
    "docs = sklearn.utils.shuffle(docs)\n",
    "# docs"
   ]
  },
  {
   "cell_type": "code",
   "execution_count": 71,
   "metadata": {},
   "outputs": [],
   "source": [
    "def tokenize_text(text):\n",
    "    tokens = []\n",
    "    for sent in nltk.sent_tokenize(text):\n",
    "        for word in nltk.word_tokenize(sent):\n",
    "            if len(word) < 2:\n",
    "                continue\n",
    "            tokens.append(word.lower())\n",
    "    return tokens"
   ]
  },
  {
   "cell_type": "code",
   "execution_count": 108,
   "metadata": {},
   "outputs": [],
   "source": [
    "train_documents = []\n",
    "test_documents = []\n",
    "\n",
    "# Associating the tags(labels) with numbers\n",
    "tags_index = {'Alex': 1 , 'NoAlex': 0}\n",
    "\n",
    "for index,row in docs.head(n=train_size).iterrows():\n",
    "    train_documents.append(\n",
    "        TaggedDocument(words=tokenize_text(row['Text']), tags=[tags_index.get(row['alex-a'], 8)] ))\n",
    "\n",
    "for index,row in docs.tail(n=test_size).iterrows():\n",
    "    test_documents.append(\n",
    "        TaggedDocument(words=tokenize_text(row['Text']), tags=[tags_index.get(row['alex-a'], 8)] ))\n"
   ]
  },
  {
   "cell_type": "code",
   "execution_count": 110,
   "metadata": {},
   "outputs": [
    {
     "name": "stdout",
     "output_type": "stream",
     "text": [
      "286\n",
      "32\n",
      "TaggedDocument(['un', 'bonito', 'lugar', 'escondido', 'en', 'el', 'bosque', 'pero', 'de', 'difícil', 'acceso', 'por', 'sus', 'piedras', 'mojadas', 'resbaladizas', 'por', 'su', 'impresionante', 'cascada'], [0])\n"
     ]
    }
   ],
   "source": [
    "print(str(len(train_documents)))\n",
    "print(str(len(test_documents)))\n",
    "print(train_documents[0])"
   ]
  },
  {
   "cell_type": "code",
   "execution_count": 116,
   "metadata": {},
   "outputs": [],
   "source": [
    "model_dbow = Doc2Vec(dm=1, vector_size=200, negative=5, hs=0, min_count=2, sample = 0, workers=cores, alpha=0.025, min_alpha=0.001)\n"
   ]
  },
  {
   "cell_type": "code",
   "execution_count": 117,
   "metadata": {},
   "outputs": [
    {
     "name": "stderr",
     "output_type": "stream",
     "text": [
      "100%|████████████████████████████████████████████████████████████████████████████████████████| 286/286 [00:00<?, ?it/s]\n"
     ]
    }
   ],
   "source": [
    "from tqdm import tqdm\n",
    "tqdm.pandas(desc=\"progress-bar\") \n",
    "\n",
    "model_dbow.build_vocab([x for x in tqdm(train_documents)])\n",
    "model_dbow.train(train_documents, total_examples=len(train_documents), epochs=30)"
   ]
  },
  {
   "cell_type": "code",
   "execution_count": 118,
   "metadata": {},
   "outputs": [],
   "source": [
    "def vector_for_learning(model, input_docs):\n",
    "    sents = input_docs\n",
    "    targets, feature_vectors = zip(*[(doc.tags[0], model.infer_vector(doc.words, steps=20)) for doc in sents])\n",
    "    return targets, feature_vectors"
   ]
  },
  {
   "cell_type": "code",
   "execution_count": 120,
   "metadata": {},
   "outputs": [],
   "source": [
    "model_dbow.save( models_path + \"Doc2Vec_DBoW_1-3.d2v\")"
   ]
  },
  {
   "cell_type": "code",
   "execution_count": 121,
   "metadata": {},
   "outputs": [],
   "source": [
    "def vector_for_learning(model, input_docs):\n",
    "    sents = input_docs\n",
    "    targets, feature_vectors = zip(*[(doc.tags[0], model.infer_vector(doc.words, steps=20)) for doc in sents])\n",
    "    return targets, feature_vectors"
   ]
  },
  {
   "cell_type": "code",
   "execution_count": 124,
   "metadata": {},
   "outputs": [],
   "source": [
    "y_train, X_train = vector_for_learning(model_dbow, train_documents)\n",
    "y_test, X_test = vector_for_learning(model_dbow, test_documents)"
   ]
  },
  {
   "cell_type": "code",
   "execution_count": 126,
   "metadata": {},
   "outputs": [],
   "source": [
    "from sklearn.linear_model import LogisticRegression\n",
    "\n",
    "logreg = LogisticRegression(n_jobs=1, C=1e5)\n",
    "logreg.fit(X_train, y_train)\n",
    "y_pred = logreg.predict(X_test)"
   ]
  },
  {
   "cell_type": "code",
   "execution_count": 130,
   "metadata": {},
   "outputs": [
    {
     "name": "stdout",
     "output_type": "stream",
     "text": [
      "Testing accuracy 0.71875\n",
      "Area Under the Curve (ROC) 0.5705128205128205\n",
      "Testing F1 score: 0.7268099547511312\n"
     ]
    }
   ],
   "source": [
    "from sklearn.metrics import accuracy_score, f1_score, roc_auc_score\n",
    "\n",
    "print('Testing accuracy %s' % accuracy_score(y_test, y_pred))\n",
    "print('Area Under the Curve (ROC) %s' % roc_auc_score(y_test, y_pred))\n",
    "print('Testing F1 score: {}'.format(f1_score(y_test, y_pred, average='weighted')))"
   ]
  },
  {
   "cell_type": "code",
   "execution_count": 132,
   "metadata": {},
   "outputs": [],
   "source": [
    "import sklearn.metrics as metrics\n",
    "# calculate the fpr and tpr for all thresholds of the classification\n",
    "probs = logreg.predict_proba(X_test)\n",
    "preds = probs[:,1]\n",
    "fpr, tpr, threshold = metrics.roc_curve(y_test, y_pred)\n",
    "roc_auc = metrics.auc(fpr, tpr)"
   ]
  },
  {
   "cell_type": "code",
   "execution_count": 133,
   "metadata": {},
   "outputs": [
    {
     "data": {
      "image/png": "[encoded data removed]",
      "text/plain": [
       "<Figure size 432x288 with 1 Axes>"
      ]
     },
     "metadata": {
      "needs_background": "light"
     },
     "output_type": "display_data"
    }
   ],
   "source": [
    "import matplotlib.pyplot as plt\n",
    "plt.title('Receiver Operating Characteristic')\n",
    "plt.plot(fpr, tpr, 'b', label = 'AUC = %0.2f' % roc_auc)\n",
    "plt.legend(loc = 'lower right')\n",
    "plt.plot([0, 1], [0, 1],'r--')\n",
    "plt.xlim([0, 1])\n",
    "plt.ylim([0, 1])\n",
    "plt.ylabel('True Positive Rate')\n",
    "plt.xlabel('False Positive Rate')\n",
    "plt.show()"
   ]
  },
  {
   "cell_type": "code",
   "execution_count": null,
   "metadata": {},
   "outputs": [],
   "source": []
  }
 ],
 "metadata": {
  "kernelspec": {
   "display_name": "Python 3",
   "language": "python",
   "name": "python3"
  },
  "language_info": {
   "codemirror_mode": {
    "name": "ipython",
    "version": 3
   },
   "file_extension": ".py",
   "mimetype": "text/x-python",
   "name": "python",
   "nbconvert_exporter": "python",
   "pygments_lexer": "ipython3",
   "version": "3.7.3"
  }
 },
 "nbformat": 4,
 "nbformat_minor": 2
}
