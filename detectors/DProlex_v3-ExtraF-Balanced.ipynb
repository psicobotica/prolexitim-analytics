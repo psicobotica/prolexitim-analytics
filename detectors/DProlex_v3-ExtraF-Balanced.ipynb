{
 "cells": [
  {
   "cell_type": "markdown",
   "metadata": {},
   "source": [
    "# Prolexitim Detector (DProlex v3)\n",
    "## Binary Classifiers (Alex / NoAlex) using classical and word vector techniques\n",
    "### Dataset from Prolexitim TAS-20 Spain, Prolexitim NLP and Spanish 3Billion Word2Vec\n",
    "<hr>\n",
    "June 2019.<br> Prolexitim dataset version 1.2 (MPGS-TFM-Submission).<br> \n",
    "Raúl Arrabales Moreno (Psicobótica / Serendeepia Research)<br>\n",
    "<a target=\"_blank\" href=\"http://www.conscious-robots.com/\">http://www.conscious-robots.com/</a> <br>\n",
    "<hr>\n",
    "Spanish Word Vectors from: <a taget=\"_blank\" href=\"https://github.com/aitoralmeida/spanish_word2vec\">Spanish 3B Pre-trained Word2Vec</a>\n",
    "\n",
    "**Version ExtraF** (Extra-Features): Using both text and other document features, such as length, sex of author, TAT Card, etc. "
   ]
  },
  {
   "cell_type": "markdown",
   "metadata": {},
   "source": [
    "## Load Word Vectors and Documents (texts + labels)\n",
    "- Word Vectors are obtained from the pre-trained Spanish 3B Word2Vec.\n",
    "- Documents are obtained from the Prolexitim Pilot Study.\n",
    "    - Text are narratives from Prolexitim NLP. \n",
    "    - Labels are categorical values from Prolexitim TAS-20.\n"
   ]
  },
  {
   "cell_type": "markdown",
   "metadata": {},
   "source": [
    "### Loading the word vectors"
   ]
  },
  {
   "cell_type": "code",
   "execution_count": 2,
   "metadata": {},
   "outputs": [],
   "source": [
    "from gensim.models import KeyedVectors"
   ]
  },
  {
   "cell_type": "code",
   "execution_count": 3,
   "metadata": {},
   "outputs": [],
   "source": [
    "# My copy of Spanish 3 Billion Word2Vec\n",
    "word_vectors = KeyedVectors.load('D:\\Dropbox-Array2001\\Dropbox\\DataSets\\Spanish Word2Vec\\complete.kv', mmap='r')"
   ]
  },
  {
   "cell_type": "code",
   "execution_count": 4,
   "metadata": {},
   "outputs": [
    {
     "data": {
      "text/plain": [
       "[('chiquillo', 0.863490104675293),\n",
       " ('bebé', 0.85056471824646),\n",
       " ('crío', 0.842483401298523),\n",
       " ('muchacho', 0.7765985727310181),\n",
       " ('niñito', 0.7588649988174438),\n",
       " ('chico', 0.75837242603302),\n",
       " ('cachorro', 0.7369438409805298),\n",
       " ('muchachito', 0.7227176427841187),\n",
       " ('gatito', 0.6718686819076538),\n",
       " ('hombre', 0.6658662557601929)]"
      ]
     },
     "execution_count": 4,
     "metadata": {},
     "output_type": "execute_result"
    }
   ],
   "source": [
    "# Testing Word Vectors for Spanish\n",
    "word_vectors.most_similar(\"niño\")"
   ]
  },
  {
   "cell_type": "code",
   "execution_count": 5,
   "metadata": {},
   "outputs": [],
   "source": [
    "# Testing Word Vectors for Spanish\n",
    "# word_vectors.get_vector(\"niño\")"
   ]
  },
  {
   "cell_type": "code",
   "execution_count": 6,
   "metadata": {},
   "outputs": [],
   "source": [
    "# Testing Word Vectors for Spanish\n",
    "# word_vectors.similar_by_vector(word_vectors.get_vector(\"niño\") - word_vectors.get_vector(\"niña\"))"
   ]
  },
  {
   "cell_type": "markdown",
   "metadata": {},
   "source": [
    "### Loading Prolexitim TAS-20 + NLP Dataset Load"
   ]
  },
  {
   "cell_type": "code",
   "execution_count": 7,
   "metadata": {},
   "outputs": [],
   "source": [
    "import pandas as pd "
   ]
  },
  {
   "cell_type": "code",
   "execution_count": 8,
   "metadata": {},
   "outputs": [],
   "source": [
    "# My copy of Prolexitim join tables with TAS-20 categorical label and narratives from Prolexitim NLP\n",
    "tasnlp_dataset_path = \"D:\\\\Dropbox-Array2001\\\\Dropbox\\\\UNI\\\\MPGS\\\\2_TFM\\\\Datos\\\\prolexitim-merged-1.3.csv\""
   ]
  },
  {
   "cell_type": "code",
   "execution_count": 9,
   "metadata": {},
   "outputs": [],
   "source": [
    "data_df = pd.read_csv(tasnlp_dataset_path,header=0,delimiter=\"\\t\")"
   ]
  },
  {
   "cell_type": "code",
   "execution_count": 10,
   "metadata": {},
   "outputs": [
    {
     "data": {
      "text/html": [
       "<div>\n",
       "<style scoped>\n",
       "    .dataframe tbody tr th:only-of-type {\n",
       "        vertical-align: middle;\n",
       "    }\n",
       "\n",
       "    .dataframe tbody tr th {\n",
       "        vertical-align: top;\n",
       "    }\n",
       "\n",
       "    .dataframe thead th {\n",
       "        text-align: right;\n",
       "    }\n",
       "</style>\n",
       "<table border=\"1\" class=\"dataframe\">\n",
       "  <thead>\n",
       "    <tr style=\"text-align: right;\">\n",
       "      <th></th>\n",
       "      <th>RowId</th>\n",
       "      <th>code</th>\n",
       "      <th>card</th>\n",
       "      <th>hum</th>\n",
       "      <th>mode</th>\n",
       "      <th>time</th>\n",
       "      <th>G-score</th>\n",
       "      <th>G-magnitude</th>\n",
       "      <th>Azure-TA</th>\n",
       "      <th>Text</th>\n",
       "      <th>...</th>\n",
       "      <th>SClass</th>\n",
       "      <th>Siblings</th>\n",
       "      <th>SibPos</th>\n",
       "      <th>Origin</th>\n",
       "      <th>Resid</th>\n",
       "      <th>Rtime</th>\n",
       "      <th>Ethnic</th>\n",
       "      <th>Job</th>\n",
       "      <th>alex-a</th>\n",
       "      <th>alex-b</th>\n",
       "    </tr>\n",
       "  </thead>\n",
       "  <tbody>\n",
       "    <tr>\n",
       "      <th>0</th>\n",
       "      <td>1</td>\n",
       "      <td>b7adde8a9eec8ce92b5ee0507ce054a4</td>\n",
       "      <td>13V</td>\n",
       "      <td>1</td>\n",
       "      <td>T</td>\n",
       "      <td>200000</td>\n",
       "      <td>-0.2</td>\n",
       "      <td>0.2</td>\n",
       "      <td>0.62</td>\n",
       "      <td>Era un niño pensando en el granero pensando a ...</td>\n",
       "      <td>...</td>\n",
       "      <td>2.0</td>\n",
       "      <td>5.0</td>\n",
       "      <td>3.0</td>\n",
       "      <td>ES</td>\n",
       "      <td>ES</td>\n",
       "      <td>-1.0</td>\n",
       "      <td>Iberic</td>\n",
       "      <td>Manager</td>\n",
       "      <td>NoAlex</td>\n",
       "      <td>NoAlex</td>\n",
       "    </tr>\n",
       "    <tr>\n",
       "      <th>1</th>\n",
       "      <td>2</td>\n",
       "      <td>b7adde8a9eec8ce92b5ee0507ce054a4</td>\n",
       "      <td>18NM</td>\n",
       "      <td>2</td>\n",
       "      <td>T</td>\n",
       "      <td>200000</td>\n",
       "      <td>-0.5</td>\n",
       "      <td>0.5</td>\n",
       "      <td>0.41</td>\n",
       "      <td>Una madre que está consolando a su hijo, despu...</td>\n",
       "      <td>...</td>\n",
       "      <td>2.0</td>\n",
       "      <td>5.0</td>\n",
       "      <td>3.0</td>\n",
       "      <td>ES</td>\n",
       "      <td>ES</td>\n",
       "      <td>-1.0</td>\n",
       "      <td>Iberic</td>\n",
       "      <td>Manager</td>\n",
       "      <td>NoAlex</td>\n",
       "      <td>NoAlex</td>\n",
       "    </tr>\n",
       "  </tbody>\n",
       "</table>\n",
       "<p>2 rows × 41 columns</p>\n",
       "</div>"
      ],
      "text/plain": [
       "   RowId                              code  card  hum mode    time  G-score  \\\n",
       "0      1  b7adde8a9eec8ce92b5ee0507ce054a4   13V    1    T  200000     -0.2   \n",
       "1      2  b7adde8a9eec8ce92b5ee0507ce054a4  18NM    2    T  200000     -0.5   \n",
       "\n",
       "   G-magnitude  Azure-TA                                               Text  \\\n",
       "0          0.2      0.62  Era un niño pensando en el granero pensando a ...   \n",
       "1          0.5      0.41  Una madre que está consolando a su hijo, despu...   \n",
       "\n",
       "   ... SClass  Siblings SibPos  Origin  Resid  Rtime  Ethnic      Job  alex-a  \\\n",
       "0  ...    2.0       5.0    3.0      ES     ES   -1.0  Iberic  Manager  NoAlex   \n",
       "1  ...    2.0       5.0    3.0      ES     ES   -1.0  Iberic  Manager  NoAlex   \n",
       "\n",
       "   alex-b  \n",
       "0  NoAlex  \n",
       "1  NoAlex  \n",
       "\n",
       "[2 rows x 41 columns]"
      ]
     },
     "execution_count": 10,
     "metadata": {},
     "output_type": "execute_result"
    }
   ],
   "source": [
    "data_df.head(n=2)"
   ]
  },
  {
   "cell_type": "code",
   "execution_count": 11,
   "metadata": {},
   "outputs": [],
   "source": [
    "data_df = data_df.dropna()"
   ]
  },
  {
   "cell_type": "markdown",
   "metadata": {},
   "source": [
    "### Retrieving non-text features"
   ]
  },
  {
   "cell_type": "code",
   "execution_count": 12,
   "metadata": {},
   "outputs": [],
   "source": [
    "# data_df.dtypes"
   ]
  },
  {
   "cell_type": "code",
   "execution_count": 13,
   "metadata": {},
   "outputs": [],
   "source": [
    "# data_df.groupby('Sex').describe()"
   ]
  },
  {
   "cell_type": "code",
   "execution_count": 14,
   "metadata": {},
   "outputs": [],
   "source": [
    "# Sex is represented by a float but is a categorical\n",
    "map_dict = {1.0: \"male\", 2.0: \"female\"}\n",
    "data_df['Sex'] = data_df['Sex'].map(map_dict)"
   ]
  },
  {
   "cell_type": "code",
   "execution_count": 15,
   "metadata": {},
   "outputs": [],
   "source": [
    "# data_df.groupby('Sex').describe()"
   ]
  },
  {
   "cell_type": "code",
   "execution_count": 16,
   "metadata": {},
   "outputs": [],
   "source": [
    "# data_df.groupby('card').count()"
   ]
  },
  {
   "cell_type": "code",
   "execution_count": 17,
   "metadata": {},
   "outputs": [],
   "source": [
    "# Only these four TAT cards have enough representation\n",
    "data_df = data_df[(data_df['card'] == '1') | \n",
    "                  (data_df['card'] == '11') |\n",
    "                  (data_df['card'] == '13HM') |\n",
    "                  (data_df['card'] == '9VH')]"
   ]
  },
  {
   "cell_type": "code",
   "execution_count": 18,
   "metadata": {},
   "outputs": [
    {
     "data": {
      "text/html": [
       "<div>\n",
       "<style scoped>\n",
       "    .dataframe tbody tr th:only-of-type {\n",
       "        vertical-align: middle;\n",
       "    }\n",
       "\n",
       "    .dataframe tbody tr th {\n",
       "        vertical-align: top;\n",
       "    }\n",
       "\n",
       "    .dataframe thead th {\n",
       "        text-align: right;\n",
       "    }\n",
       "</style>\n",
       "<table border=\"1\" class=\"dataframe\">\n",
       "  <thead>\n",
       "    <tr style=\"text-align: right;\">\n",
       "      <th></th>\n",
       "      <th>RowId</th>\n",
       "      <th>code</th>\n",
       "      <th>hum</th>\n",
       "      <th>mode</th>\n",
       "      <th>time</th>\n",
       "      <th>G-score</th>\n",
       "      <th>G-magnitude</th>\n",
       "      <th>Azure-TA</th>\n",
       "      <th>Text</th>\n",
       "      <th>Text-EN</th>\n",
       "      <th>...</th>\n",
       "      <th>SClass</th>\n",
       "      <th>Siblings</th>\n",
       "      <th>SibPos</th>\n",
       "      <th>Origin</th>\n",
       "      <th>Resid</th>\n",
       "      <th>Rtime</th>\n",
       "      <th>Ethnic</th>\n",
       "      <th>Job</th>\n",
       "      <th>alex-a</th>\n",
       "      <th>alex-b</th>\n",
       "    </tr>\n",
       "    <tr>\n",
       "      <th>card</th>\n",
       "      <th></th>\n",
       "      <th></th>\n",
       "      <th></th>\n",
       "      <th></th>\n",
       "      <th></th>\n",
       "      <th></th>\n",
       "      <th></th>\n",
       "      <th></th>\n",
       "      <th></th>\n",
       "      <th></th>\n",
       "      <th></th>\n",
       "      <th></th>\n",
       "      <th></th>\n",
       "      <th></th>\n",
       "      <th></th>\n",
       "      <th></th>\n",
       "      <th></th>\n",
       "      <th></th>\n",
       "      <th></th>\n",
       "      <th></th>\n",
       "      <th></th>\n",
       "    </tr>\n",
       "  </thead>\n",
       "  <tbody>\n",
       "    <tr>\n",
       "      <th>1</th>\n",
       "      <td>67</td>\n",
       "      <td>67</td>\n",
       "      <td>67</td>\n",
       "      <td>67</td>\n",
       "      <td>67</td>\n",
       "      <td>67</td>\n",
       "      <td>67</td>\n",
       "      <td>67</td>\n",
       "      <td>67</td>\n",
       "      <td>67</td>\n",
       "      <td>...</td>\n",
       "      <td>67</td>\n",
       "      <td>67</td>\n",
       "      <td>67</td>\n",
       "      <td>67</td>\n",
       "      <td>67</td>\n",
       "      <td>67</td>\n",
       "      <td>67</td>\n",
       "      <td>67</td>\n",
       "      <td>67</td>\n",
       "      <td>67</td>\n",
       "    </tr>\n",
       "    <tr>\n",
       "      <th>11</th>\n",
       "      <td>70</td>\n",
       "      <td>70</td>\n",
       "      <td>70</td>\n",
       "      <td>70</td>\n",
       "      <td>70</td>\n",
       "      <td>70</td>\n",
       "      <td>70</td>\n",
       "      <td>70</td>\n",
       "      <td>70</td>\n",
       "      <td>70</td>\n",
       "      <td>...</td>\n",
       "      <td>70</td>\n",
       "      <td>70</td>\n",
       "      <td>70</td>\n",
       "      <td>70</td>\n",
       "      <td>70</td>\n",
       "      <td>70</td>\n",
       "      <td>70</td>\n",
       "      <td>70</td>\n",
       "      <td>70</td>\n",
       "      <td>70</td>\n",
       "    </tr>\n",
       "    <tr>\n",
       "      <th>13HM</th>\n",
       "      <td>65</td>\n",
       "      <td>65</td>\n",
       "      <td>65</td>\n",
       "      <td>65</td>\n",
       "      <td>65</td>\n",
       "      <td>65</td>\n",
       "      <td>65</td>\n",
       "      <td>65</td>\n",
       "      <td>65</td>\n",
       "      <td>65</td>\n",
       "      <td>...</td>\n",
       "      <td>65</td>\n",
       "      <td>65</td>\n",
       "      <td>65</td>\n",
       "      <td>65</td>\n",
       "      <td>65</td>\n",
       "      <td>65</td>\n",
       "      <td>65</td>\n",
       "      <td>65</td>\n",
       "      <td>65</td>\n",
       "      <td>65</td>\n",
       "    </tr>\n",
       "    <tr>\n",
       "      <th>9VH</th>\n",
       "      <td>69</td>\n",
       "      <td>69</td>\n",
       "      <td>69</td>\n",
       "      <td>69</td>\n",
       "      <td>69</td>\n",
       "      <td>69</td>\n",
       "      <td>69</td>\n",
       "      <td>69</td>\n",
       "      <td>69</td>\n",
       "      <td>69</td>\n",
       "      <td>...</td>\n",
       "      <td>69</td>\n",
       "      <td>69</td>\n",
       "      <td>69</td>\n",
       "      <td>69</td>\n",
       "      <td>69</td>\n",
       "      <td>69</td>\n",
       "      <td>69</td>\n",
       "      <td>69</td>\n",
       "      <td>69</td>\n",
       "      <td>69</td>\n",
       "    </tr>\n",
       "  </tbody>\n",
       "</table>\n",
       "<p>4 rows × 40 columns</p>\n",
       "</div>"
      ],
      "text/plain": [
       "      RowId  code  hum  mode  time  G-score  G-magnitude  Azure-TA  Text  \\\n",
       "card                                                                       \n",
       "1        67    67   67    67    67       67           67        67    67   \n",
       "11       70    70   70    70    70       70           70        70    70   \n",
       "13HM     65    65   65    65    65       65           65        65    65   \n",
       "9VH      69    69   69    69    69       69           69        69    69   \n",
       "\n",
       "      Text-EN  ...  SClass  Siblings  SibPos  Origin  Resid  Rtime  Ethnic  \\\n",
       "card           ...                                                           \n",
       "1          67  ...      67        67      67      67     67     67      67   \n",
       "11         70  ...      70        70      70      70     70     70      70   \n",
       "13HM       65  ...      65        65      65      65     65     65      65   \n",
       "9VH        69  ...      69        69      69      69     69     69      69   \n",
       "\n",
       "      Job  alex-a  alex-b  \n",
       "card                       \n",
       "1      67      67      67  \n",
       "11     70      70      70  \n",
       "13HM   65      65      65  \n",
       "9VH    69      69      69  \n",
       "\n",
       "[4 rows x 40 columns]"
      ]
     },
     "execution_count": 18,
     "metadata": {},
     "output_type": "execute_result"
    }
   ],
   "source": [
    "data_df.groupby('card').count()"
   ]
  },
  {
   "cell_type": "code",
   "execution_count": 19,
   "metadata": {},
   "outputs": [
    {
     "data": {
      "text/html": [
       "<div>\n",
       "<style scoped>\n",
       "    .dataframe tbody tr th:only-of-type {\n",
       "        vertical-align: middle;\n",
       "    }\n",
       "\n",
       "    .dataframe tbody tr th {\n",
       "        vertical-align: top;\n",
       "    }\n",
       "\n",
       "    .dataframe thead th {\n",
       "        text-align: right;\n",
       "    }\n",
       "</style>\n",
       "<table border=\"1\" class=\"dataframe\">\n",
       "  <thead>\n",
       "    <tr style=\"text-align: right;\">\n",
       "      <th></th>\n",
       "      <th>RowId</th>\n",
       "      <th>code</th>\n",
       "      <th>card</th>\n",
       "      <th>hum</th>\n",
       "      <th>mode</th>\n",
       "      <th>time</th>\n",
       "      <th>G-score</th>\n",
       "      <th>G-magnitude</th>\n",
       "      <th>Azure-TA</th>\n",
       "      <th>Text</th>\n",
       "      <th>...</th>\n",
       "      <th>SClass</th>\n",
       "      <th>Siblings</th>\n",
       "      <th>SibPos</th>\n",
       "      <th>Origin</th>\n",
       "      <th>Resid</th>\n",
       "      <th>Rtime</th>\n",
       "      <th>Ethnic</th>\n",
       "      <th>Job</th>\n",
       "      <th>alex-a</th>\n",
       "      <th>alex-b</th>\n",
       "    </tr>\n",
       "    <tr>\n",
       "      <th>Age</th>\n",
       "      <th></th>\n",
       "      <th></th>\n",
       "      <th></th>\n",
       "      <th></th>\n",
       "      <th></th>\n",
       "      <th></th>\n",
       "      <th></th>\n",
       "      <th></th>\n",
       "      <th></th>\n",
       "      <th></th>\n",
       "      <th></th>\n",
       "      <th></th>\n",
       "      <th></th>\n",
       "      <th></th>\n",
       "      <th></th>\n",
       "      <th></th>\n",
       "      <th></th>\n",
       "      <th></th>\n",
       "      <th></th>\n",
       "      <th></th>\n",
       "      <th></th>\n",
       "    </tr>\n",
       "  </thead>\n",
       "  <tbody>\n",
       "    <tr>\n",
       "      <th>13.0</th>\n",
       "      <td>1</td>\n",
       "      <td>1</td>\n",
       "      <td>1</td>\n",
       "      <td>1</td>\n",
       "      <td>1</td>\n",
       "      <td>1</td>\n",
       "      <td>1</td>\n",
       "      <td>1</td>\n",
       "      <td>1</td>\n",
       "      <td>1</td>\n",
       "      <td>...</td>\n",
       "      <td>1</td>\n",
       "      <td>1</td>\n",
       "      <td>1</td>\n",
       "      <td>1</td>\n",
       "      <td>1</td>\n",
       "      <td>1</td>\n",
       "      <td>1</td>\n",
       "      <td>1</td>\n",
       "      <td>1</td>\n",
       "      <td>1</td>\n",
       "    </tr>\n",
       "    <tr>\n",
       "      <th>18.0</th>\n",
       "      <td>8</td>\n",
       "      <td>8</td>\n",
       "      <td>8</td>\n",
       "      <td>8</td>\n",
       "      <td>8</td>\n",
       "      <td>8</td>\n",
       "      <td>8</td>\n",
       "      <td>8</td>\n",
       "      <td>8</td>\n",
       "      <td>8</td>\n",
       "      <td>...</td>\n",
       "      <td>8</td>\n",
       "      <td>8</td>\n",
       "      <td>8</td>\n",
       "      <td>8</td>\n",
       "      <td>8</td>\n",
       "      <td>8</td>\n",
       "      <td>8</td>\n",
       "      <td>8</td>\n",
       "      <td>8</td>\n",
       "      <td>8</td>\n",
       "    </tr>\n",
       "    <tr>\n",
       "      <th>21.0</th>\n",
       "      <td>8</td>\n",
       "      <td>8</td>\n",
       "      <td>8</td>\n",
       "      <td>8</td>\n",
       "      <td>8</td>\n",
       "      <td>8</td>\n",
       "      <td>8</td>\n",
       "      <td>8</td>\n",
       "      <td>8</td>\n",
       "      <td>8</td>\n",
       "      <td>...</td>\n",
       "      <td>8</td>\n",
       "      <td>8</td>\n",
       "      <td>8</td>\n",
       "      <td>8</td>\n",
       "      <td>8</td>\n",
       "      <td>8</td>\n",
       "      <td>8</td>\n",
       "      <td>8</td>\n",
       "      <td>8</td>\n",
       "      <td>8</td>\n",
       "    </tr>\n",
       "    <tr>\n",
       "      <th>22.0</th>\n",
       "      <td>13</td>\n",
       "      <td>13</td>\n",
       "      <td>13</td>\n",
       "      <td>13</td>\n",
       "      <td>13</td>\n",
       "      <td>13</td>\n",
       "      <td>13</td>\n",
       "      <td>13</td>\n",
       "      <td>13</td>\n",
       "      <td>13</td>\n",
       "      <td>...</td>\n",
       "      <td>13</td>\n",
       "      <td>13</td>\n",
       "      <td>13</td>\n",
       "      <td>13</td>\n",
       "      <td>13</td>\n",
       "      <td>13</td>\n",
       "      <td>13</td>\n",
       "      <td>13</td>\n",
       "      <td>13</td>\n",
       "      <td>13</td>\n",
       "    </tr>\n",
       "    <tr>\n",
       "      <th>23.0</th>\n",
       "      <td>16</td>\n",
       "      <td>16</td>\n",
       "      <td>16</td>\n",
       "      <td>16</td>\n",
       "      <td>16</td>\n",
       "      <td>16</td>\n",
       "      <td>16</td>\n",
       "      <td>16</td>\n",
       "      <td>16</td>\n",
       "      <td>16</td>\n",
       "      <td>...</td>\n",
       "      <td>16</td>\n",
       "      <td>16</td>\n",
       "      <td>16</td>\n",
       "      <td>16</td>\n",
       "      <td>16</td>\n",
       "      <td>16</td>\n",
       "      <td>16</td>\n",
       "      <td>16</td>\n",
       "      <td>16</td>\n",
       "      <td>16</td>\n",
       "    </tr>\n",
       "    <tr>\n",
       "      <th>24.0</th>\n",
       "      <td>17</td>\n",
       "      <td>17</td>\n",
       "      <td>17</td>\n",
       "      <td>17</td>\n",
       "      <td>17</td>\n",
       "      <td>17</td>\n",
       "      <td>17</td>\n",
       "      <td>17</td>\n",
       "      <td>17</td>\n",
       "      <td>17</td>\n",
       "      <td>...</td>\n",
       "      <td>17</td>\n",
       "      <td>17</td>\n",
       "      <td>17</td>\n",
       "      <td>17</td>\n",
       "      <td>17</td>\n",
       "      <td>17</td>\n",
       "      <td>17</td>\n",
       "      <td>17</td>\n",
       "      <td>17</td>\n",
       "      <td>17</td>\n",
       "    </tr>\n",
       "    <tr>\n",
       "      <th>25.0</th>\n",
       "      <td>16</td>\n",
       "      <td>16</td>\n",
       "      <td>16</td>\n",
       "      <td>16</td>\n",
       "      <td>16</td>\n",
       "      <td>16</td>\n",
       "      <td>16</td>\n",
       "      <td>16</td>\n",
       "      <td>16</td>\n",
       "      <td>16</td>\n",
       "      <td>...</td>\n",
       "      <td>16</td>\n",
       "      <td>16</td>\n",
       "      <td>16</td>\n",
       "      <td>16</td>\n",
       "      <td>16</td>\n",
       "      <td>16</td>\n",
       "      <td>16</td>\n",
       "      <td>16</td>\n",
       "      <td>16</td>\n",
       "      <td>16</td>\n",
       "    </tr>\n",
       "    <tr>\n",
       "      <th>26.0</th>\n",
       "      <td>7</td>\n",
       "      <td>7</td>\n",
       "      <td>7</td>\n",
       "      <td>7</td>\n",
       "      <td>7</td>\n",
       "      <td>7</td>\n",
       "      <td>7</td>\n",
       "      <td>7</td>\n",
       "      <td>7</td>\n",
       "      <td>7</td>\n",
       "      <td>...</td>\n",
       "      <td>7</td>\n",
       "      <td>7</td>\n",
       "      <td>7</td>\n",
       "      <td>7</td>\n",
       "      <td>7</td>\n",
       "      <td>7</td>\n",
       "      <td>7</td>\n",
       "      <td>7</td>\n",
       "      <td>7</td>\n",
       "      <td>7</td>\n",
       "    </tr>\n",
       "    <tr>\n",
       "      <th>27.0</th>\n",
       "      <td>12</td>\n",
       "      <td>12</td>\n",
       "      <td>12</td>\n",
       "      <td>12</td>\n",
       "      <td>12</td>\n",
       "      <td>12</td>\n",
       "      <td>12</td>\n",
       "      <td>12</td>\n",
       "      <td>12</td>\n",
       "      <td>12</td>\n",
       "      <td>...</td>\n",
       "      <td>12</td>\n",
       "      <td>12</td>\n",
       "      <td>12</td>\n",
       "      <td>12</td>\n",
       "      <td>12</td>\n",
       "      <td>12</td>\n",
       "      <td>12</td>\n",
       "      <td>12</td>\n",
       "      <td>12</td>\n",
       "      <td>12</td>\n",
       "    </tr>\n",
       "    <tr>\n",
       "      <th>28.0</th>\n",
       "      <td>12</td>\n",
       "      <td>12</td>\n",
       "      <td>12</td>\n",
       "      <td>12</td>\n",
       "      <td>12</td>\n",
       "      <td>12</td>\n",
       "      <td>12</td>\n",
       "      <td>12</td>\n",
       "      <td>12</td>\n",
       "      <td>12</td>\n",
       "      <td>...</td>\n",
       "      <td>12</td>\n",
       "      <td>12</td>\n",
       "      <td>12</td>\n",
       "      <td>12</td>\n",
       "      <td>12</td>\n",
       "      <td>12</td>\n",
       "      <td>12</td>\n",
       "      <td>12</td>\n",
       "      <td>12</td>\n",
       "      <td>12</td>\n",
       "    </tr>\n",
       "    <tr>\n",
       "      <th>29.0</th>\n",
       "      <td>6</td>\n",
       "      <td>6</td>\n",
       "      <td>6</td>\n",
       "      <td>6</td>\n",
       "      <td>6</td>\n",
       "      <td>6</td>\n",
       "      <td>6</td>\n",
       "      <td>6</td>\n",
       "      <td>6</td>\n",
       "      <td>6</td>\n",
       "      <td>...</td>\n",
       "      <td>6</td>\n",
       "      <td>6</td>\n",
       "      <td>6</td>\n",
       "      <td>6</td>\n",
       "      <td>6</td>\n",
       "      <td>6</td>\n",
       "      <td>6</td>\n",
       "      <td>6</td>\n",
       "      <td>6</td>\n",
       "      <td>6</td>\n",
       "    </tr>\n",
       "    <tr>\n",
       "      <th>33.0</th>\n",
       "      <td>6</td>\n",
       "      <td>6</td>\n",
       "      <td>6</td>\n",
       "      <td>6</td>\n",
       "      <td>6</td>\n",
       "      <td>6</td>\n",
       "      <td>6</td>\n",
       "      <td>6</td>\n",
       "      <td>6</td>\n",
       "      <td>6</td>\n",
       "      <td>...</td>\n",
       "      <td>6</td>\n",
       "      <td>6</td>\n",
       "      <td>6</td>\n",
       "      <td>6</td>\n",
       "      <td>6</td>\n",
       "      <td>6</td>\n",
       "      <td>6</td>\n",
       "      <td>6</td>\n",
       "      <td>6</td>\n",
       "      <td>6</td>\n",
       "    </tr>\n",
       "    <tr>\n",
       "      <th>34.0</th>\n",
       "      <td>4</td>\n",
       "      <td>4</td>\n",
       "      <td>4</td>\n",
       "      <td>4</td>\n",
       "      <td>4</td>\n",
       "      <td>4</td>\n",
       "      <td>4</td>\n",
       "      <td>4</td>\n",
       "      <td>4</td>\n",
       "      <td>4</td>\n",
       "      <td>...</td>\n",
       "      <td>4</td>\n",
       "      <td>4</td>\n",
       "      <td>4</td>\n",
       "      <td>4</td>\n",
       "      <td>4</td>\n",
       "      <td>4</td>\n",
       "      <td>4</td>\n",
       "      <td>4</td>\n",
       "      <td>4</td>\n",
       "      <td>4</td>\n",
       "    </tr>\n",
       "    <tr>\n",
       "      <th>35.0</th>\n",
       "      <td>2</td>\n",
       "      <td>2</td>\n",
       "      <td>2</td>\n",
       "      <td>2</td>\n",
       "      <td>2</td>\n",
       "      <td>2</td>\n",
       "      <td>2</td>\n",
       "      <td>2</td>\n",
       "      <td>2</td>\n",
       "      <td>2</td>\n",
       "      <td>...</td>\n",
       "      <td>2</td>\n",
       "      <td>2</td>\n",
       "      <td>2</td>\n",
       "      <td>2</td>\n",
       "      <td>2</td>\n",
       "      <td>2</td>\n",
       "      <td>2</td>\n",
       "      <td>2</td>\n",
       "      <td>2</td>\n",
       "      <td>2</td>\n",
       "    </tr>\n",
       "    <tr>\n",
       "      <th>36.0</th>\n",
       "      <td>12</td>\n",
       "      <td>12</td>\n",
       "      <td>12</td>\n",
       "      <td>12</td>\n",
       "      <td>12</td>\n",
       "      <td>12</td>\n",
       "      <td>12</td>\n",
       "      <td>12</td>\n",
       "      <td>12</td>\n",
       "      <td>12</td>\n",
       "      <td>...</td>\n",
       "      <td>12</td>\n",
       "      <td>12</td>\n",
       "      <td>12</td>\n",
       "      <td>12</td>\n",
       "      <td>12</td>\n",
       "      <td>12</td>\n",
       "      <td>12</td>\n",
       "      <td>12</td>\n",
       "      <td>12</td>\n",
       "      <td>12</td>\n",
       "    </tr>\n",
       "    <tr>\n",
       "      <th>37.0</th>\n",
       "      <td>18</td>\n",
       "      <td>18</td>\n",
       "      <td>18</td>\n",
       "      <td>18</td>\n",
       "      <td>18</td>\n",
       "      <td>18</td>\n",
       "      <td>18</td>\n",
       "      <td>18</td>\n",
       "      <td>18</td>\n",
       "      <td>18</td>\n",
       "      <td>...</td>\n",
       "      <td>18</td>\n",
       "      <td>18</td>\n",
       "      <td>18</td>\n",
       "      <td>18</td>\n",
       "      <td>18</td>\n",
       "      <td>18</td>\n",
       "      <td>18</td>\n",
       "      <td>18</td>\n",
       "      <td>18</td>\n",
       "      <td>18</td>\n",
       "    </tr>\n",
       "    <tr>\n",
       "      <th>38.0</th>\n",
       "      <td>8</td>\n",
       "      <td>8</td>\n",
       "      <td>8</td>\n",
       "      <td>8</td>\n",
       "      <td>8</td>\n",
       "      <td>8</td>\n",
       "      <td>8</td>\n",
       "      <td>8</td>\n",
       "      <td>8</td>\n",
       "      <td>8</td>\n",
       "      <td>...</td>\n",
       "      <td>8</td>\n",
       "      <td>8</td>\n",
       "      <td>8</td>\n",
       "      <td>8</td>\n",
       "      <td>8</td>\n",
       "      <td>8</td>\n",
       "      <td>8</td>\n",
       "      <td>8</td>\n",
       "      <td>8</td>\n",
       "      <td>8</td>\n",
       "    </tr>\n",
       "    <tr>\n",
       "      <th>39.0</th>\n",
       "      <td>4</td>\n",
       "      <td>4</td>\n",
       "      <td>4</td>\n",
       "      <td>4</td>\n",
       "      <td>4</td>\n",
       "      <td>4</td>\n",
       "      <td>4</td>\n",
       "      <td>4</td>\n",
       "      <td>4</td>\n",
       "      <td>4</td>\n",
       "      <td>...</td>\n",
       "      <td>4</td>\n",
       "      <td>4</td>\n",
       "      <td>4</td>\n",
       "      <td>4</td>\n",
       "      <td>4</td>\n",
       "      <td>4</td>\n",
       "      <td>4</td>\n",
       "      <td>4</td>\n",
       "      <td>4</td>\n",
       "      <td>4</td>\n",
       "    </tr>\n",
       "    <tr>\n",
       "      <th>40.0</th>\n",
       "      <td>4</td>\n",
       "      <td>4</td>\n",
       "      <td>4</td>\n",
       "      <td>4</td>\n",
       "      <td>4</td>\n",
       "      <td>4</td>\n",
       "      <td>4</td>\n",
       "      <td>4</td>\n",
       "      <td>4</td>\n",
       "      <td>4</td>\n",
       "      <td>...</td>\n",
       "      <td>4</td>\n",
       "      <td>4</td>\n",
       "      <td>4</td>\n",
       "      <td>4</td>\n",
       "      <td>4</td>\n",
       "      <td>4</td>\n",
       "      <td>4</td>\n",
       "      <td>4</td>\n",
       "      <td>4</td>\n",
       "      <td>4</td>\n",
       "    </tr>\n",
       "    <tr>\n",
       "      <th>41.0</th>\n",
       "      <td>4</td>\n",
       "      <td>4</td>\n",
       "      <td>4</td>\n",
       "      <td>4</td>\n",
       "      <td>4</td>\n",
       "      <td>4</td>\n",
       "      <td>4</td>\n",
       "      <td>4</td>\n",
       "      <td>4</td>\n",
       "      <td>4</td>\n",
       "      <td>...</td>\n",
       "      <td>4</td>\n",
       "      <td>4</td>\n",
       "      <td>4</td>\n",
       "      <td>4</td>\n",
       "      <td>4</td>\n",
       "      <td>4</td>\n",
       "      <td>4</td>\n",
       "      <td>4</td>\n",
       "      <td>4</td>\n",
       "      <td>4</td>\n",
       "    </tr>\n",
       "    <tr>\n",
       "      <th>42.0</th>\n",
       "      <td>12</td>\n",
       "      <td>12</td>\n",
       "      <td>12</td>\n",
       "      <td>12</td>\n",
       "      <td>12</td>\n",
       "      <td>12</td>\n",
       "      <td>12</td>\n",
       "      <td>12</td>\n",
       "      <td>12</td>\n",
       "      <td>12</td>\n",
       "      <td>...</td>\n",
       "      <td>12</td>\n",
       "      <td>12</td>\n",
       "      <td>12</td>\n",
       "      <td>12</td>\n",
       "      <td>12</td>\n",
       "      <td>12</td>\n",
       "      <td>12</td>\n",
       "      <td>12</td>\n",
       "      <td>12</td>\n",
       "      <td>12</td>\n",
       "    </tr>\n",
       "    <tr>\n",
       "      <th>43.0</th>\n",
       "      <td>20</td>\n",
       "      <td>20</td>\n",
       "      <td>20</td>\n",
       "      <td>20</td>\n",
       "      <td>20</td>\n",
       "      <td>20</td>\n",
       "      <td>20</td>\n",
       "      <td>20</td>\n",
       "      <td>20</td>\n",
       "      <td>20</td>\n",
       "      <td>...</td>\n",
       "      <td>20</td>\n",
       "      <td>20</td>\n",
       "      <td>20</td>\n",
       "      <td>20</td>\n",
       "      <td>20</td>\n",
       "      <td>20</td>\n",
       "      <td>20</td>\n",
       "      <td>20</td>\n",
       "      <td>20</td>\n",
       "      <td>20</td>\n",
       "    </tr>\n",
       "    <tr>\n",
       "      <th>45.0</th>\n",
       "      <td>6</td>\n",
       "      <td>6</td>\n",
       "      <td>6</td>\n",
       "      <td>6</td>\n",
       "      <td>6</td>\n",
       "      <td>6</td>\n",
       "      <td>6</td>\n",
       "      <td>6</td>\n",
       "      <td>6</td>\n",
       "      <td>6</td>\n",
       "      <td>...</td>\n",
       "      <td>6</td>\n",
       "      <td>6</td>\n",
       "      <td>6</td>\n",
       "      <td>6</td>\n",
       "      <td>6</td>\n",
       "      <td>6</td>\n",
       "      <td>6</td>\n",
       "      <td>6</td>\n",
       "      <td>6</td>\n",
       "      <td>6</td>\n",
       "    </tr>\n",
       "    <tr>\n",
       "      <th>49.0</th>\n",
       "      <td>4</td>\n",
       "      <td>4</td>\n",
       "      <td>4</td>\n",
       "      <td>4</td>\n",
       "      <td>4</td>\n",
       "      <td>4</td>\n",
       "      <td>4</td>\n",
       "      <td>4</td>\n",
       "      <td>4</td>\n",
       "      <td>4</td>\n",
       "      <td>...</td>\n",
       "      <td>4</td>\n",
       "      <td>4</td>\n",
       "      <td>4</td>\n",
       "      <td>4</td>\n",
       "      <td>4</td>\n",
       "      <td>4</td>\n",
       "      <td>4</td>\n",
       "      <td>4</td>\n",
       "      <td>4</td>\n",
       "      <td>4</td>\n",
       "    </tr>\n",
       "    <tr>\n",
       "      <th>50.0</th>\n",
       "      <td>2</td>\n",
       "      <td>2</td>\n",
       "      <td>2</td>\n",
       "      <td>2</td>\n",
       "      <td>2</td>\n",
       "      <td>2</td>\n",
       "      <td>2</td>\n",
       "      <td>2</td>\n",
       "      <td>2</td>\n",
       "      <td>2</td>\n",
       "      <td>...</td>\n",
       "      <td>2</td>\n",
       "      <td>2</td>\n",
       "      <td>2</td>\n",
       "      <td>2</td>\n",
       "      <td>2</td>\n",
       "      <td>2</td>\n",
       "      <td>2</td>\n",
       "      <td>2</td>\n",
       "      <td>2</td>\n",
       "      <td>2</td>\n",
       "    </tr>\n",
       "    <tr>\n",
       "      <th>52.0</th>\n",
       "      <td>4</td>\n",
       "      <td>4</td>\n",
       "      <td>4</td>\n",
       "      <td>4</td>\n",
       "      <td>4</td>\n",
       "      <td>4</td>\n",
       "      <td>4</td>\n",
       "      <td>4</td>\n",
       "      <td>4</td>\n",
       "      <td>4</td>\n",
       "      <td>...</td>\n",
       "      <td>4</td>\n",
       "      <td>4</td>\n",
       "      <td>4</td>\n",
       "      <td>4</td>\n",
       "      <td>4</td>\n",
       "      <td>4</td>\n",
       "      <td>4</td>\n",
       "      <td>4</td>\n",
       "      <td>4</td>\n",
       "      <td>4</td>\n",
       "    </tr>\n",
       "    <tr>\n",
       "      <th>53.0</th>\n",
       "      <td>12</td>\n",
       "      <td>12</td>\n",
       "      <td>12</td>\n",
       "      <td>12</td>\n",
       "      <td>12</td>\n",
       "      <td>12</td>\n",
       "      <td>12</td>\n",
       "      <td>12</td>\n",
       "      <td>12</td>\n",
       "      <td>12</td>\n",
       "      <td>...</td>\n",
       "      <td>12</td>\n",
       "      <td>12</td>\n",
       "      <td>12</td>\n",
       "      <td>12</td>\n",
       "      <td>12</td>\n",
       "      <td>12</td>\n",
       "      <td>12</td>\n",
       "      <td>12</td>\n",
       "      <td>12</td>\n",
       "      <td>12</td>\n",
       "    </tr>\n",
       "    <tr>\n",
       "      <th>55.0</th>\n",
       "      <td>12</td>\n",
       "      <td>12</td>\n",
       "      <td>12</td>\n",
       "      <td>12</td>\n",
       "      <td>12</td>\n",
       "      <td>12</td>\n",
       "      <td>12</td>\n",
       "      <td>12</td>\n",
       "      <td>12</td>\n",
       "      <td>12</td>\n",
       "      <td>...</td>\n",
       "      <td>12</td>\n",
       "      <td>12</td>\n",
       "      <td>12</td>\n",
       "      <td>12</td>\n",
       "      <td>12</td>\n",
       "      <td>12</td>\n",
       "      <td>12</td>\n",
       "      <td>12</td>\n",
       "      <td>12</td>\n",
       "      <td>12</td>\n",
       "    </tr>\n",
       "    <tr>\n",
       "      <th>56.0</th>\n",
       "      <td>8</td>\n",
       "      <td>8</td>\n",
       "      <td>8</td>\n",
       "      <td>8</td>\n",
       "      <td>8</td>\n",
       "      <td>8</td>\n",
       "      <td>8</td>\n",
       "      <td>8</td>\n",
       "      <td>8</td>\n",
       "      <td>8</td>\n",
       "      <td>...</td>\n",
       "      <td>8</td>\n",
       "      <td>8</td>\n",
       "      <td>8</td>\n",
       "      <td>8</td>\n",
       "      <td>8</td>\n",
       "      <td>8</td>\n",
       "      <td>8</td>\n",
       "      <td>8</td>\n",
       "      <td>8</td>\n",
       "      <td>8</td>\n",
       "    </tr>\n",
       "    <tr>\n",
       "      <th>58.0</th>\n",
       "      <td>4</td>\n",
       "      <td>4</td>\n",
       "      <td>4</td>\n",
       "      <td>4</td>\n",
       "      <td>4</td>\n",
       "      <td>4</td>\n",
       "      <td>4</td>\n",
       "      <td>4</td>\n",
       "      <td>4</td>\n",
       "      <td>4</td>\n",
       "      <td>...</td>\n",
       "      <td>4</td>\n",
       "      <td>4</td>\n",
       "      <td>4</td>\n",
       "      <td>4</td>\n",
       "      <td>4</td>\n",
       "      <td>4</td>\n",
       "      <td>4</td>\n",
       "      <td>4</td>\n",
       "      <td>4</td>\n",
       "      <td>4</td>\n",
       "    </tr>\n",
       "    <tr>\n",
       "      <th>61.0</th>\n",
       "      <td>4</td>\n",
       "      <td>4</td>\n",
       "      <td>4</td>\n",
       "      <td>4</td>\n",
       "      <td>4</td>\n",
       "      <td>4</td>\n",
       "      <td>4</td>\n",
       "      <td>4</td>\n",
       "      <td>4</td>\n",
       "      <td>4</td>\n",
       "      <td>...</td>\n",
       "      <td>4</td>\n",
       "      <td>4</td>\n",
       "      <td>4</td>\n",
       "      <td>4</td>\n",
       "      <td>4</td>\n",
       "      <td>4</td>\n",
       "      <td>4</td>\n",
       "      <td>4</td>\n",
       "      <td>4</td>\n",
       "      <td>4</td>\n",
       "    </tr>\n",
       "    <tr>\n",
       "      <th>66.0</th>\n",
       "      <td>4</td>\n",
       "      <td>4</td>\n",
       "      <td>4</td>\n",
       "      <td>4</td>\n",
       "      <td>4</td>\n",
       "      <td>4</td>\n",
       "      <td>4</td>\n",
       "      <td>4</td>\n",
       "      <td>4</td>\n",
       "      <td>4</td>\n",
       "      <td>...</td>\n",
       "      <td>4</td>\n",
       "      <td>4</td>\n",
       "      <td>4</td>\n",
       "      <td>4</td>\n",
       "      <td>4</td>\n",
       "      <td>4</td>\n",
       "      <td>4</td>\n",
       "      <td>4</td>\n",
       "      <td>4</td>\n",
       "      <td>4</td>\n",
       "    </tr>\n",
       "    <tr>\n",
       "      <th>81.0</th>\n",
       "      <td>1</td>\n",
       "      <td>1</td>\n",
       "      <td>1</td>\n",
       "      <td>1</td>\n",
       "      <td>1</td>\n",
       "      <td>1</td>\n",
       "      <td>1</td>\n",
       "      <td>1</td>\n",
       "      <td>1</td>\n",
       "      <td>1</td>\n",
       "      <td>...</td>\n",
       "      <td>1</td>\n",
       "      <td>1</td>\n",
       "      <td>1</td>\n",
       "      <td>1</td>\n",
       "      <td>1</td>\n",
       "      <td>1</td>\n",
       "      <td>1</td>\n",
       "      <td>1</td>\n",
       "      <td>1</td>\n",
       "      <td>1</td>\n",
       "    </tr>\n",
       "  </tbody>\n",
       "</table>\n",
       "<p>33 rows × 40 columns</p>\n",
       "</div>"
      ],
      "text/plain": [
       "      RowId  code  card  hum  mode  time  G-score  G-magnitude  Azure-TA  \\\n",
       "Age                                                                        \n",
       "13.0      1     1     1    1     1     1        1            1         1   \n",
       "18.0      8     8     8    8     8     8        8            8         8   \n",
       "21.0      8     8     8    8     8     8        8            8         8   \n",
       "22.0     13    13    13   13    13    13       13           13        13   \n",
       "23.0     16    16    16   16    16    16       16           16        16   \n",
       "24.0     17    17    17   17    17    17       17           17        17   \n",
       "25.0     16    16    16   16    16    16       16           16        16   \n",
       "26.0      7     7     7    7     7     7        7            7         7   \n",
       "27.0     12    12    12   12    12    12       12           12        12   \n",
       "28.0     12    12    12   12    12    12       12           12        12   \n",
       "29.0      6     6     6    6     6     6        6            6         6   \n",
       "33.0      6     6     6    6     6     6        6            6         6   \n",
       "34.0      4     4     4    4     4     4        4            4         4   \n",
       "35.0      2     2     2    2     2     2        2            2         2   \n",
       "36.0     12    12    12   12    12    12       12           12        12   \n",
       "37.0     18    18    18   18    18    18       18           18        18   \n",
       "38.0      8     8     8    8     8     8        8            8         8   \n",
       "39.0      4     4     4    4     4     4        4            4         4   \n",
       "40.0      4     4     4    4     4     4        4            4         4   \n",
       "41.0      4     4     4    4     4     4        4            4         4   \n",
       "42.0     12    12    12   12    12    12       12           12        12   \n",
       "43.0     20    20    20   20    20    20       20           20        20   \n",
       "45.0      6     6     6    6     6     6        6            6         6   \n",
       "49.0      4     4     4    4     4     4        4            4         4   \n",
       "50.0      2     2     2    2     2     2        2            2         2   \n",
       "52.0      4     4     4    4     4     4        4            4         4   \n",
       "53.0     12    12    12   12    12    12       12           12        12   \n",
       "55.0     12    12    12   12    12    12       12           12        12   \n",
       "56.0      8     8     8    8     8     8        8            8         8   \n",
       "58.0      4     4     4    4     4     4        4            4         4   \n",
       "61.0      4     4     4    4     4     4        4            4         4   \n",
       "66.0      4     4     4    4     4     4        4            4         4   \n",
       "81.0      1     1     1    1     1     1        1            1         1   \n",
       "\n",
       "      Text  ...  SClass  Siblings  SibPos  Origin  Resid  Rtime  Ethnic  Job  \\\n",
       "Age         ...                                                                \n",
       "13.0     1  ...       1         1       1       1      1      1       1    1   \n",
       "18.0     8  ...       8         8       8       8      8      8       8    8   \n",
       "21.0     8  ...       8         8       8       8      8      8       8    8   \n",
       "22.0    13  ...      13        13      13      13     13     13      13   13   \n",
       "23.0    16  ...      16        16      16      16     16     16      16   16   \n",
       "24.0    17  ...      17        17      17      17     17     17      17   17   \n",
       "25.0    16  ...      16        16      16      16     16     16      16   16   \n",
       "26.0     7  ...       7         7       7       7      7      7       7    7   \n",
       "27.0    12  ...      12        12      12      12     12     12      12   12   \n",
       "28.0    12  ...      12        12      12      12     12     12      12   12   \n",
       "29.0     6  ...       6         6       6       6      6      6       6    6   \n",
       "33.0     6  ...       6         6       6       6      6      6       6    6   \n",
       "34.0     4  ...       4         4       4       4      4      4       4    4   \n",
       "35.0     2  ...       2         2       2       2      2      2       2    2   \n",
       "36.0    12  ...      12        12      12      12     12     12      12   12   \n",
       "37.0    18  ...      18        18      18      18     18     18      18   18   \n",
       "38.0     8  ...       8         8       8       8      8      8       8    8   \n",
       "39.0     4  ...       4         4       4       4      4      4       4    4   \n",
       "40.0     4  ...       4         4       4       4      4      4       4    4   \n",
       "41.0     4  ...       4         4       4       4      4      4       4    4   \n",
       "42.0    12  ...      12        12      12      12     12     12      12   12   \n",
       "43.0    20  ...      20        20      20      20     20     20      20   20   \n",
       "45.0     6  ...       6         6       6       6      6      6       6    6   \n",
       "49.0     4  ...       4         4       4       4      4      4       4    4   \n",
       "50.0     2  ...       2         2       2       2      2      2       2    2   \n",
       "52.0     4  ...       4         4       4       4      4      4       4    4   \n",
       "53.0    12  ...      12        12      12      12     12     12      12   12   \n",
       "55.0    12  ...      12        12      12      12     12     12      12   12   \n",
       "56.0     8  ...       8         8       8       8      8      8       8    8   \n",
       "58.0     4  ...       4         4       4       4      4      4       4    4   \n",
       "61.0     4  ...       4         4       4       4      4      4       4    4   \n",
       "66.0     4  ...       4         4       4       4      4      4       4    4   \n",
       "81.0     1  ...       1         1       1       1      1      1       1    1   \n",
       "\n",
       "      alex-a  alex-b  \n",
       "Age                   \n",
       "13.0       1       1  \n",
       "18.0       8       8  \n",
       "21.0       8       8  \n",
       "22.0      13      13  \n",
       "23.0      16      16  \n",
       "24.0      17      17  \n",
       "25.0      16      16  \n",
       "26.0       7       7  \n",
       "27.0      12      12  \n",
       "28.0      12      12  \n",
       "29.0       6       6  \n",
       "33.0       6       6  \n",
       "34.0       4       4  \n",
       "35.0       2       2  \n",
       "36.0      12      12  \n",
       "37.0      18      18  \n",
       "38.0       8       8  \n",
       "39.0       4       4  \n",
       "40.0       4       4  \n",
       "41.0       4       4  \n",
       "42.0      12      12  \n",
       "43.0      20      20  \n",
       "45.0       6       6  \n",
       "49.0       4       4  \n",
       "50.0       2       2  \n",
       "52.0       4       4  \n",
       "53.0      12      12  \n",
       "55.0      12      12  \n",
       "56.0       8       8  \n",
       "58.0       4       4  \n",
       "61.0       4       4  \n",
       "66.0       4       4  \n",
       "81.0       1       1  \n",
       "\n",
       "[33 rows x 40 columns]"
      ]
     },
     "execution_count": 19,
     "metadata": {},
     "output_type": "execute_result"
    }
   ],
   "source": [
    "data_df.groupby('Age').count()"
   ]
  },
  {
   "cell_type": "markdown",
   "metadata": {},
   "source": [
    "### Check text (lenguage) features and label"
   ]
  },
  {
   "cell_type": "code",
   "execution_count": 20,
   "metadata": {
    "scrolled": true
   },
   "outputs": [
    {
     "data": {
      "text/html": [
       "<div>\n",
       "<style scoped>\n",
       "    .dataframe tbody tr th:only-of-type {\n",
       "        vertical-align: middle;\n",
       "    }\n",
       "\n",
       "    .dataframe tbody tr th {\n",
       "        vertical-align: top;\n",
       "    }\n",
       "\n",
       "    .dataframe thead th {\n",
       "        text-align: right;\n",
       "    }\n",
       "</style>\n",
       "<table border=\"1\" class=\"dataframe\">\n",
       "  <thead>\n",
       "    <tr style=\"text-align: right;\">\n",
       "      <th></th>\n",
       "      <th>Text</th>\n",
       "      <th>alex-a</th>\n",
       "    </tr>\n",
       "  </thead>\n",
       "  <tbody>\n",
       "    <tr>\n",
       "      <th>76</th>\n",
       "      <td>En su viaje en elefante tenía que cruzar una g...</td>\n",
       "      <td>Alex</td>\n",
       "    </tr>\n",
       "    <tr>\n",
       "      <th>156</th>\n",
       "      <td>Una selva llena de playas e insectos de todos ...</td>\n",
       "      <td>NoAlex</td>\n",
       "    </tr>\n",
       "    <tr>\n",
       "      <th>332</th>\n",
       "      <td>Hay unos toros que están enfadados y se prepar...</td>\n",
       "      <td>PosAlex</td>\n",
       "    </tr>\n",
       "    <tr>\n",
       "      <th>89</th>\n",
       "      <td>Érase una vez una pareja. Ambos se encontraban...</td>\n",
       "      <td>NoAlex</td>\n",
       "    </tr>\n",
       "    <tr>\n",
       "      <th>277</th>\n",
       "      <td>Dentro de aquella habitación los sentimientos ...</td>\n",
       "      <td>NoAlex</td>\n",
       "    </tr>\n",
       "    <tr>\n",
       "      <th>42</th>\n",
       "      <td>Son vaqueros que estaban ahí sacando las vacas...</td>\n",
       "      <td>NoAlex</td>\n",
       "    </tr>\n",
       "  </tbody>\n",
       "</table>\n",
       "</div>"
      ],
      "text/plain": [
       "                                                  Text   alex-a\n",
       "76   En su viaje en elefante tenía que cruzar una g...     Alex\n",
       "156  Una selva llena de playas e insectos de todos ...   NoAlex\n",
       "332  Hay unos toros que están enfadados y se prepar...  PosAlex\n",
       "89   Érase una vez una pareja. Ambos se encontraban...   NoAlex\n",
       "277  Dentro de aquella habitación los sentimientos ...   NoAlex\n",
       "42   Son vaqueros que estaban ahí sacando las vacas...   NoAlex"
      ]
     },
     "execution_count": 20,
     "metadata": {},
     "output_type": "execute_result"
    }
   ],
   "source": [
    "data_df[['Text','alex-a']].sample(n=6)"
   ]
  },
  {
   "cell_type": "code",
   "execution_count": 21,
   "metadata": {},
   "outputs": [
    {
     "data": {
      "text/html": [
       "<div>\n",
       "<style scoped>\n",
       "    .dataframe tbody tr th:only-of-type {\n",
       "        vertical-align: middle;\n",
       "    }\n",
       "\n",
       "    .dataframe tbody tr th {\n",
       "        vertical-align: top;\n",
       "    }\n",
       "\n",
       "    .dataframe thead th {\n",
       "        text-align: right;\n",
       "    }\n",
       "</style>\n",
       "<table border=\"1\" class=\"dataframe\">\n",
       "  <thead>\n",
       "    <tr style=\"text-align: right;\">\n",
       "      <th></th>\n",
       "      <th>RowId</th>\n",
       "      <th>code</th>\n",
       "      <th>card</th>\n",
       "      <th>hum</th>\n",
       "      <th>mode</th>\n",
       "      <th>time</th>\n",
       "      <th>G-score</th>\n",
       "      <th>G-magnitude</th>\n",
       "      <th>Azure-TA</th>\n",
       "      <th>Text</th>\n",
       "      <th>...</th>\n",
       "      <th>Studies</th>\n",
       "      <th>SClass</th>\n",
       "      <th>Siblings</th>\n",
       "      <th>SibPos</th>\n",
       "      <th>Origin</th>\n",
       "      <th>Resid</th>\n",
       "      <th>Rtime</th>\n",
       "      <th>Ethnic</th>\n",
       "      <th>Job</th>\n",
       "      <th>alex-b</th>\n",
       "    </tr>\n",
       "    <tr>\n",
       "      <th>alex-a</th>\n",
       "      <th></th>\n",
       "      <th></th>\n",
       "      <th></th>\n",
       "      <th></th>\n",
       "      <th></th>\n",
       "      <th></th>\n",
       "      <th></th>\n",
       "      <th></th>\n",
       "      <th></th>\n",
       "      <th></th>\n",
       "      <th></th>\n",
       "      <th></th>\n",
       "      <th></th>\n",
       "      <th></th>\n",
       "      <th></th>\n",
       "      <th></th>\n",
       "      <th></th>\n",
       "      <th></th>\n",
       "      <th></th>\n",
       "      <th></th>\n",
       "      <th></th>\n",
       "    </tr>\n",
       "  </thead>\n",
       "  <tbody>\n",
       "    <tr>\n",
       "      <th>Alex</th>\n",
       "      <td>29</td>\n",
       "      <td>29</td>\n",
       "      <td>29</td>\n",
       "      <td>29</td>\n",
       "      <td>29</td>\n",
       "      <td>29</td>\n",
       "      <td>29</td>\n",
       "      <td>29</td>\n",
       "      <td>29</td>\n",
       "      <td>29</td>\n",
       "      <td>...</td>\n",
       "      <td>29</td>\n",
       "      <td>29</td>\n",
       "      <td>29</td>\n",
       "      <td>29</td>\n",
       "      <td>29</td>\n",
       "      <td>29</td>\n",
       "      <td>29</td>\n",
       "      <td>29</td>\n",
       "      <td>29</td>\n",
       "      <td>29</td>\n",
       "    </tr>\n",
       "    <tr>\n",
       "      <th>NoAlex</th>\n",
       "      <td>202</td>\n",
       "      <td>202</td>\n",
       "      <td>202</td>\n",
       "      <td>202</td>\n",
       "      <td>202</td>\n",
       "      <td>202</td>\n",
       "      <td>202</td>\n",
       "      <td>202</td>\n",
       "      <td>202</td>\n",
       "      <td>202</td>\n",
       "      <td>...</td>\n",
       "      <td>202</td>\n",
       "      <td>202</td>\n",
       "      <td>202</td>\n",
       "      <td>202</td>\n",
       "      <td>202</td>\n",
       "      <td>202</td>\n",
       "      <td>202</td>\n",
       "      <td>202</td>\n",
       "      <td>202</td>\n",
       "      <td>202</td>\n",
       "    </tr>\n",
       "    <tr>\n",
       "      <th>PosAlex</th>\n",
       "      <td>40</td>\n",
       "      <td>40</td>\n",
       "      <td>40</td>\n",
       "      <td>40</td>\n",
       "      <td>40</td>\n",
       "      <td>40</td>\n",
       "      <td>40</td>\n",
       "      <td>40</td>\n",
       "      <td>40</td>\n",
       "      <td>40</td>\n",
       "      <td>...</td>\n",
       "      <td>40</td>\n",
       "      <td>40</td>\n",
       "      <td>40</td>\n",
       "      <td>40</td>\n",
       "      <td>40</td>\n",
       "      <td>40</td>\n",
       "      <td>40</td>\n",
       "      <td>40</td>\n",
       "      <td>40</td>\n",
       "      <td>40</td>\n",
       "    </tr>\n",
       "  </tbody>\n",
       "</table>\n",
       "<p>3 rows × 40 columns</p>\n",
       "</div>"
      ],
      "text/plain": [
       "         RowId  code  card  hum  mode  time  G-score  G-magnitude  Azure-TA  \\\n",
       "alex-a                                                                        \n",
       "Alex        29    29    29   29    29    29       29           29        29   \n",
       "NoAlex     202   202   202  202   202   202      202          202       202   \n",
       "PosAlex     40    40    40   40    40    40       40           40        40   \n",
       "\n",
       "         Text  ...  Studies  SClass  Siblings  SibPos  Origin  Resid  Rtime  \\\n",
       "alex-a         ...                                                            \n",
       "Alex       29  ...       29      29        29      29      29     29     29   \n",
       "NoAlex    202  ...      202     202       202     202     202    202    202   \n",
       "PosAlex    40  ...       40      40        40      40      40     40     40   \n",
       "\n",
       "         Ethnic  Job  alex-b  \n",
       "alex-a                        \n",
       "Alex         29   29      29  \n",
       "NoAlex      202  202     202  \n",
       "PosAlex      40   40      40  \n",
       "\n",
       "[3 rows x 40 columns]"
      ]
     },
     "execution_count": 21,
     "metadata": {},
     "output_type": "execute_result"
    }
   ],
   "source": [
    "# We have a very unbalance dataset\n",
    "data_df.groupby(by='alex-a').count()"
   ]
  },
  {
   "cell_type": "code",
   "execution_count": 22,
   "metadata": {},
   "outputs": [],
   "source": [
    "# And we decided to consider both Possible Alexithymia and Alexithymia as the same (Positive) class\n",
    "data_df['alex-a'] = data_df['alex-a'].apply(lambda x: x.replace('PosAlex', 'Alex'))"
   ]
  },
  {
   "cell_type": "code",
   "execution_count": 23,
   "metadata": {},
   "outputs": [
    {
     "data": {
      "text/html": [
       "<div>\n",
       "<style scoped>\n",
       "    .dataframe tbody tr th:only-of-type {\n",
       "        vertical-align: middle;\n",
       "    }\n",
       "\n",
       "    .dataframe tbody tr th {\n",
       "        vertical-align: top;\n",
       "    }\n",
       "\n",
       "    .dataframe thead th {\n",
       "        text-align: right;\n",
       "    }\n",
       "</style>\n",
       "<table border=\"1\" class=\"dataframe\">\n",
       "  <thead>\n",
       "    <tr style=\"text-align: right;\">\n",
       "      <th></th>\n",
       "      <th>RowId</th>\n",
       "      <th>code</th>\n",
       "      <th>card</th>\n",
       "      <th>hum</th>\n",
       "      <th>mode</th>\n",
       "      <th>time</th>\n",
       "      <th>G-score</th>\n",
       "      <th>G-magnitude</th>\n",
       "      <th>Azure-TA</th>\n",
       "      <th>Text</th>\n",
       "      <th>...</th>\n",
       "      <th>Studies</th>\n",
       "      <th>SClass</th>\n",
       "      <th>Siblings</th>\n",
       "      <th>SibPos</th>\n",
       "      <th>Origin</th>\n",
       "      <th>Resid</th>\n",
       "      <th>Rtime</th>\n",
       "      <th>Ethnic</th>\n",
       "      <th>Job</th>\n",
       "      <th>alex-b</th>\n",
       "    </tr>\n",
       "    <tr>\n",
       "      <th>alex-a</th>\n",
       "      <th></th>\n",
       "      <th></th>\n",
       "      <th></th>\n",
       "      <th></th>\n",
       "      <th></th>\n",
       "      <th></th>\n",
       "      <th></th>\n",
       "      <th></th>\n",
       "      <th></th>\n",
       "      <th></th>\n",
       "      <th></th>\n",
       "      <th></th>\n",
       "      <th></th>\n",
       "      <th></th>\n",
       "      <th></th>\n",
       "      <th></th>\n",
       "      <th></th>\n",
       "      <th></th>\n",
       "      <th></th>\n",
       "      <th></th>\n",
       "      <th></th>\n",
       "    </tr>\n",
       "  </thead>\n",
       "  <tbody>\n",
       "    <tr>\n",
       "      <th>Alex</th>\n",
       "      <td>69</td>\n",
       "      <td>69</td>\n",
       "      <td>69</td>\n",
       "      <td>69</td>\n",
       "      <td>69</td>\n",
       "      <td>69</td>\n",
       "      <td>69</td>\n",
       "      <td>69</td>\n",
       "      <td>69</td>\n",
       "      <td>69</td>\n",
       "      <td>...</td>\n",
       "      <td>69</td>\n",
       "      <td>69</td>\n",
       "      <td>69</td>\n",
       "      <td>69</td>\n",
       "      <td>69</td>\n",
       "      <td>69</td>\n",
       "      <td>69</td>\n",
       "      <td>69</td>\n",
       "      <td>69</td>\n",
       "      <td>69</td>\n",
       "    </tr>\n",
       "    <tr>\n",
       "      <th>NoAlex</th>\n",
       "      <td>202</td>\n",
       "      <td>202</td>\n",
       "      <td>202</td>\n",
       "      <td>202</td>\n",
       "      <td>202</td>\n",
       "      <td>202</td>\n",
       "      <td>202</td>\n",
       "      <td>202</td>\n",
       "      <td>202</td>\n",
       "      <td>202</td>\n",
       "      <td>...</td>\n",
       "      <td>202</td>\n",
       "      <td>202</td>\n",
       "      <td>202</td>\n",
       "      <td>202</td>\n",
       "      <td>202</td>\n",
       "      <td>202</td>\n",
       "      <td>202</td>\n",
       "      <td>202</td>\n",
       "      <td>202</td>\n",
       "      <td>202</td>\n",
       "    </tr>\n",
       "  </tbody>\n",
       "</table>\n",
       "<p>2 rows × 40 columns</p>\n",
       "</div>"
      ],
      "text/plain": [
       "        RowId  code  card  hum  mode  time  G-score  G-magnitude  Azure-TA  \\\n",
       "alex-a                                                                       \n",
       "Alex       69    69    69   69    69    69       69           69        69   \n",
       "NoAlex    202   202   202  202   202   202      202          202       202   \n",
       "\n",
       "        Text  ...  Studies  SClass  Siblings  SibPos  Origin  Resid  Rtime  \\\n",
       "alex-a        ...                                                            \n",
       "Alex      69  ...       69      69        69      69      69     69     69   \n",
       "NoAlex   202  ...      202     202       202     202     202    202    202   \n",
       "\n",
       "        Ethnic  Job  alex-b  \n",
       "alex-a                       \n",
       "Alex        69   69      69  \n",
       "NoAlex     202  202     202  \n",
       "\n",
       "[2 rows x 40 columns]"
      ]
     },
     "execution_count": 23,
     "metadata": {},
     "output_type": "execute_result"
    }
   ],
   "source": [
    "data_df.groupby(by='alex-a').count()"
   ]
  },
  {
   "cell_type": "markdown",
   "metadata": {},
   "source": [
    "## Balancing training set"
   ]
  },
  {
   "cell_type": "code",
   "execution_count": 24,
   "metadata": {},
   "outputs": [],
   "source": [
    "grouped = data_df.groupby(by='alex-a')"
   ]
  },
  {
   "cell_type": "code",
   "execution_count": 25,
   "metadata": {},
   "outputs": [],
   "source": [
    "balanced_df = pd.DataFrame(grouped.apply(lambda x: x.sample(grouped.size().min()).reset_index(drop=True)))"
   ]
  },
  {
   "cell_type": "code",
   "execution_count": 26,
   "metadata": {},
   "outputs": [
    {
     "data": {
      "text/html": [
       "<div>\n",
       "<style scoped>\n",
       "    .dataframe tbody tr th:only-of-type {\n",
       "        vertical-align: middle;\n",
       "    }\n",
       "\n",
       "    .dataframe tbody tr th {\n",
       "        vertical-align: top;\n",
       "    }\n",
       "\n",
       "    .dataframe thead th {\n",
       "        text-align: right;\n",
       "    }\n",
       "</style>\n",
       "<table border=\"1\" class=\"dataframe\">\n",
       "  <thead>\n",
       "    <tr style=\"text-align: right;\">\n",
       "      <th></th>\n",
       "      <th>RowId</th>\n",
       "      <th>code</th>\n",
       "      <th>card</th>\n",
       "      <th>hum</th>\n",
       "      <th>mode</th>\n",
       "      <th>time</th>\n",
       "      <th>G-score</th>\n",
       "      <th>G-magnitude</th>\n",
       "      <th>Azure-TA</th>\n",
       "      <th>Text</th>\n",
       "      <th>...</th>\n",
       "      <th>Studies</th>\n",
       "      <th>SClass</th>\n",
       "      <th>Siblings</th>\n",
       "      <th>SibPos</th>\n",
       "      <th>Origin</th>\n",
       "      <th>Resid</th>\n",
       "      <th>Rtime</th>\n",
       "      <th>Ethnic</th>\n",
       "      <th>Job</th>\n",
       "      <th>alex-b</th>\n",
       "    </tr>\n",
       "    <tr>\n",
       "      <th>alex-a</th>\n",
       "      <th></th>\n",
       "      <th></th>\n",
       "      <th></th>\n",
       "      <th></th>\n",
       "      <th></th>\n",
       "      <th></th>\n",
       "      <th></th>\n",
       "      <th></th>\n",
       "      <th></th>\n",
       "      <th></th>\n",
       "      <th></th>\n",
       "      <th></th>\n",
       "      <th></th>\n",
       "      <th></th>\n",
       "      <th></th>\n",
       "      <th></th>\n",
       "      <th></th>\n",
       "      <th></th>\n",
       "      <th></th>\n",
       "      <th></th>\n",
       "      <th></th>\n",
       "    </tr>\n",
       "  </thead>\n",
       "  <tbody>\n",
       "    <tr>\n",
       "      <th>Alex</th>\n",
       "      <td>69</td>\n",
       "      <td>69</td>\n",
       "      <td>69</td>\n",
       "      <td>69</td>\n",
       "      <td>69</td>\n",
       "      <td>69</td>\n",
       "      <td>69</td>\n",
       "      <td>69</td>\n",
       "      <td>69</td>\n",
       "      <td>69</td>\n",
       "      <td>...</td>\n",
       "      <td>69</td>\n",
       "      <td>69</td>\n",
       "      <td>69</td>\n",
       "      <td>69</td>\n",
       "      <td>69</td>\n",
       "      <td>69</td>\n",
       "      <td>69</td>\n",
       "      <td>69</td>\n",
       "      <td>69</td>\n",
       "      <td>69</td>\n",
       "    </tr>\n",
       "    <tr>\n",
       "      <th>NoAlex</th>\n",
       "      <td>69</td>\n",
       "      <td>69</td>\n",
       "      <td>69</td>\n",
       "      <td>69</td>\n",
       "      <td>69</td>\n",
       "      <td>69</td>\n",
       "      <td>69</td>\n",
       "      <td>69</td>\n",
       "      <td>69</td>\n",
       "      <td>69</td>\n",
       "      <td>...</td>\n",
       "      <td>69</td>\n",
       "      <td>69</td>\n",
       "      <td>69</td>\n",
       "      <td>69</td>\n",
       "      <td>69</td>\n",
       "      <td>69</td>\n",
       "      <td>69</td>\n",
       "      <td>69</td>\n",
       "      <td>69</td>\n",
       "      <td>69</td>\n",
       "    </tr>\n",
       "  </tbody>\n",
       "</table>\n",
       "<p>2 rows × 40 columns</p>\n",
       "</div>"
      ],
      "text/plain": [
       "        RowId  code  card  hum  mode  time  G-score  G-magnitude  Azure-TA  \\\n",
       "alex-a                                                                       \n",
       "Alex       69    69    69   69    69    69       69           69        69   \n",
       "NoAlex     69    69    69   69    69    69       69           69        69   \n",
       "\n",
       "        Text  ...  Studies  SClass  Siblings  SibPos  Origin  Resid  Rtime  \\\n",
       "alex-a        ...                                                            \n",
       "Alex      69  ...       69      69        69      69      69     69     69   \n",
       "NoAlex    69  ...       69      69        69      69      69     69     69   \n",
       "\n",
       "        Ethnic  Job  alex-b  \n",
       "alex-a                       \n",
       "Alex        69   69      69  \n",
       "NoAlex      69   69      69  \n",
       "\n",
       "[2 rows x 40 columns]"
      ]
     },
     "execution_count": 26,
     "metadata": {},
     "output_type": "execute_result"
    }
   ],
   "source": [
    "balanced_df = balanced_df.rename_axis(['AlexGroup', 'NoAlexGroup'])\n",
    "balanced_df.groupby(by='alex-a').count()"
   ]
  },
  {
   "cell_type": "code",
   "execution_count": 28,
   "metadata": {},
   "outputs": [
    {
     "data": {
      "text/html": [
       "<div>\n",
       "<style scoped>\n",
       "    .dataframe tbody tr th:only-of-type {\n",
       "        vertical-align: middle;\n",
       "    }\n",
       "\n",
       "    .dataframe tbody tr th {\n",
       "        vertical-align: top;\n",
       "    }\n",
       "\n",
       "    .dataframe thead th {\n",
       "        text-align: right;\n",
       "    }\n",
       "</style>\n",
       "<table border=\"1\" class=\"dataframe\">\n",
       "  <thead>\n",
       "    <tr style=\"text-align: right;\">\n",
       "      <th></th>\n",
       "      <th>RowId</th>\n",
       "      <th>code</th>\n",
       "      <th>card</th>\n",
       "      <th>hum</th>\n",
       "      <th>mode</th>\n",
       "      <th>time</th>\n",
       "      <th>G-score</th>\n",
       "      <th>G-magnitude</th>\n",
       "      <th>Azure-TA</th>\n",
       "      <th>Text</th>\n",
       "      <th>...</th>\n",
       "      <th>SClass</th>\n",
       "      <th>Siblings</th>\n",
       "      <th>SibPos</th>\n",
       "      <th>Origin</th>\n",
       "      <th>Resid</th>\n",
       "      <th>Rtime</th>\n",
       "      <th>Ethnic</th>\n",
       "      <th>Job</th>\n",
       "      <th>alex-a</th>\n",
       "      <th>alex-b</th>\n",
       "    </tr>\n",
       "  </thead>\n",
       "  <tbody>\n",
       "    <tr>\n",
       "      <th>0</th>\n",
       "      <td>241</td>\n",
       "      <td>a1daf288ddb3e28c7dfe08f82a467713</td>\n",
       "      <td>11</td>\n",
       "      <td>0</td>\n",
       "      <td>W</td>\n",
       "      <td>263396</td>\n",
       "      <td>0.6</td>\n",
       "      <td>0.6</td>\n",
       "      <td>0.51</td>\n",
       "      <td>Un acantilado rocoso y solitario</td>\n",
       "      <td>...</td>\n",
       "      <td>3.0</td>\n",
       "      <td>3.0</td>\n",
       "      <td>3.0</td>\n",
       "      <td>ES</td>\n",
       "      <td>ES</td>\n",
       "      <td>-1.0</td>\n",
       "      <td>Iberic</td>\n",
       "      <td>Psychologist</td>\n",
       "      <td>Alex</td>\n",
       "      <td>PosAlex</td>\n",
       "    </tr>\n",
       "    <tr>\n",
       "      <th>1</th>\n",
       "      <td>203</td>\n",
       "      <td>72496029e8050915ade415e8153de2ab</td>\n",
       "      <td>1</td>\n",
       "      <td>1</td>\n",
       "      <td>W</td>\n",
       "      <td>941488</td>\n",
       "      <td>-0.4</td>\n",
       "      <td>1.4</td>\n",
       "      <td>0.40</td>\n",
       "      <td>Un niño aburrido pensando como iba a aprender ...</td>\n",
       "      <td>...</td>\n",
       "      <td>2.0</td>\n",
       "      <td>2.0</td>\n",
       "      <td>2.0</td>\n",
       "      <td>ES</td>\n",
       "      <td>ES</td>\n",
       "      <td>-1.0</td>\n",
       "      <td>Iberic</td>\n",
       "      <td>Sales Rep.</td>\n",
       "      <td>NoAlex</td>\n",
       "      <td>PosAlex</td>\n",
       "    </tr>\n",
       "    <tr>\n",
       "      <th>2</th>\n",
       "      <td>308</td>\n",
       "      <td>21f81d0e1462187617f7f93d3e34a90d</td>\n",
       "      <td>9VH</td>\n",
       "      <td>4</td>\n",
       "      <td>W</td>\n",
       "      <td>1156305</td>\n",
       "      <td>0.6</td>\n",
       "      <td>0.6</td>\n",
       "      <td>0.74</td>\n",
       "      <td>una tarde de septiembre en un pueblo de la Man...</td>\n",
       "      <td>...</td>\n",
       "      <td>2.0</td>\n",
       "      <td>4.0</td>\n",
       "      <td>3.0</td>\n",
       "      <td>ES</td>\n",
       "      <td>ES</td>\n",
       "      <td>-1.0</td>\n",
       "      <td>Iberic</td>\n",
       "      <td>Marketing</td>\n",
       "      <td>NoAlex</td>\n",
       "      <td>PosAlex</td>\n",
       "    </tr>\n",
       "    <tr>\n",
       "      <th>3</th>\n",
       "      <td>76</td>\n",
       "      <td>f218eb77c97d846957ea8dc03ad38075</td>\n",
       "      <td>9VH</td>\n",
       "      <td>4</td>\n",
       "      <td>W</td>\n",
       "      <td>263616</td>\n",
       "      <td>0.0</td>\n",
       "      <td>0.0</td>\n",
       "      <td>0.50</td>\n",
       "      <td>Estaba tumbado con sus amigos, viajando en un ...</td>\n",
       "      <td>...</td>\n",
       "      <td>2.0</td>\n",
       "      <td>1.0</td>\n",
       "      <td>1.0</td>\n",
       "      <td>ES</td>\n",
       "      <td>ES</td>\n",
       "      <td>-1.0</td>\n",
       "      <td>Iberic</td>\n",
       "      <td>Entrepreneur</td>\n",
       "      <td>Alex</td>\n",
       "      <td>Alex</td>\n",
       "    </tr>\n",
       "    <tr>\n",
       "      <th>4</th>\n",
       "      <td>333</td>\n",
       "      <td>608af5455da8c250a87f81a5ed5c1942</td>\n",
       "      <td>11</td>\n",
       "      <td>0</td>\n",
       "      <td>W</td>\n",
       "      <td>220357</td>\n",
       "      <td>-0.1</td>\n",
       "      <td>0.8</td>\n",
       "      <td>0.23</td>\n",
       "      <td>Hay unos toros que están enfadados y se prepar...</td>\n",
       "      <td>...</td>\n",
       "      <td>2.0</td>\n",
       "      <td>5.0</td>\n",
       "      <td>5.0</td>\n",
       "      <td>ES</td>\n",
       "      <td>ES</td>\n",
       "      <td>-1.0</td>\n",
       "      <td>Iberic</td>\n",
       "      <td>Psychology</td>\n",
       "      <td>Alex</td>\n",
       "      <td>PosAlex</td>\n",
       "    </tr>\n",
       "  </tbody>\n",
       "</table>\n",
       "<p>5 rows × 41 columns</p>\n",
       "</div>"
      ],
      "text/plain": [
       "   RowId                              code card  hum mode     time  G-score  \\\n",
       "0    241  a1daf288ddb3e28c7dfe08f82a467713   11    0    W   263396      0.6   \n",
       "1    203  72496029e8050915ade415e8153de2ab    1    1    W   941488     -0.4   \n",
       "2    308  21f81d0e1462187617f7f93d3e34a90d  9VH    4    W  1156305      0.6   \n",
       "3     76  f218eb77c97d846957ea8dc03ad38075  9VH    4    W   263616      0.0   \n",
       "4    333  608af5455da8c250a87f81a5ed5c1942   11    0    W   220357     -0.1   \n",
       "\n",
       "   G-magnitude  Azure-TA                                               Text  \\\n",
       "0          0.6      0.51                   Un acantilado rocoso y solitario   \n",
       "1          1.4      0.40  Un niño aburrido pensando como iba a aprender ...   \n",
       "2          0.6      0.74  una tarde de septiembre en un pueblo de la Man...   \n",
       "3          0.0      0.50  Estaba tumbado con sus amigos, viajando en un ...   \n",
       "4          0.8      0.23  Hay unos toros que están enfadados y se prepar...   \n",
       "\n",
       "   ... SClass  Siblings SibPos  Origin  Resid  Rtime  Ethnic           Job  \\\n",
       "0  ...    3.0       3.0    3.0      ES     ES   -1.0  Iberic  Psychologist   \n",
       "1  ...    2.0       2.0    2.0      ES     ES   -1.0  Iberic    Sales Rep.   \n",
       "2  ...    2.0       4.0    3.0      ES     ES   -1.0  Iberic     Marketing   \n",
       "3  ...    2.0       1.0    1.0      ES     ES   -1.0  Iberic  Entrepreneur   \n",
       "4  ...    2.0       5.0    5.0      ES     ES   -1.0  Iberic    Psychology   \n",
       "\n",
       "   alex-a   alex-b  \n",
       "0    Alex  PosAlex  \n",
       "1  NoAlex  PosAlex  \n",
       "2  NoAlex  PosAlex  \n",
       "3    Alex     Alex  \n",
       "4    Alex  PosAlex  \n",
       "\n",
       "[5 rows x 41 columns]"
      ]
     },
     "execution_count": 28,
     "metadata": {},
     "output_type": "execute_result"
    }
   ],
   "source": [
    "balanced_df = balanced_df.sample(frac=1).reset_index(drop=True)\n",
    "balanced_df.head()"
   ]
  },
  {
   "cell_type": "code",
   "execution_count": 29,
   "metadata": {},
   "outputs": [],
   "source": [
    "data_df = balanced_df"
   ]
  },
  {
   "cell_type": "markdown",
   "metadata": {},
   "source": [
    "## Prepare training data set\n",
    "- X (independent variable) --> Text (narrative in Spanish), Card (stimuli), Demographics\n",
    "- y (dependent variable) --> Alexithymia label (Alex/NoAlex)"
   ]
  },
  {
   "cell_type": "code",
   "execution_count": 30,
   "metadata": {},
   "outputs": [],
   "source": [
    "import numpy as np"
   ]
  },
  {
   "cell_type": "code",
   "execution_count": 31,
   "metadata": {},
   "outputs": [],
   "source": [
    "# Remove the label (y) from X df\n",
    "X = data_df.drop('alex-a', axis=1)"
   ]
  },
  {
   "cell_type": "code",
   "execution_count": 32,
   "metadata": {},
   "outputs": [],
   "source": [
    "# Our target is alex-a (as numpy array)\n",
    "y = data_df['alex-a'].values"
   ]
  },
  {
   "cell_type": "code",
   "execution_count": 33,
   "metadata": {},
   "outputs": [
    {
     "name": "stdout",
     "output_type": "stream",
     "text": [
      "Number of examples: 138\n"
     ]
    }
   ],
   "source": [
    "print (\"Number of examples: %s\" % len(y))"
   ]
  },
  {
   "cell_type": "markdown",
   "metadata": {},
   "source": [
    "## Evaluation Metrics definition"
   ]
  },
  {
   "cell_type": "code",
   "execution_count": 34,
   "metadata": {},
   "outputs": [],
   "source": [
    "from sklearn.metrics import precision_score, recall_score, f1_score, make_scorer\n",
    "from sklearn.metrics import roc_auc_score"
   ]
  },
  {
   "cell_type": "code",
   "execution_count": 35,
   "metadata": {},
   "outputs": [],
   "source": [
    "# Precision detecting the presencen of alexithymia\n",
    "alex_precision_scorer = make_scorer(precision_score, pos_label='Alex')\n",
    "\n",
    "# Precision detecting the absence of alexithymia\n",
    "noalex_precision_scorer = make_scorer(precision_score, pos_label='NoAlex')\n",
    "\n",
    "# sensitivity for the presence of alexithymia: recall, hit rate, or true positive rate (TPR).\n",
    "alex_recall_scorer = make_scorer(recall_score, pos_label='Alex')\n",
    "\n",
    "# sensitivity for the absence of alexithymia: recall, hit rate, or true positive rate (TPR).\n",
    "noalex_recall_scorer = make_scorer(recall_score, pos_label='NoAlex')\n",
    "\n",
    "# F1 Score the presence of alexithymia: harmonic mean of precision and sensitivity.\n",
    "alex_f1_scorer = make_scorer(f1_score, pos_label='Alex')\n",
    "\n",
    "# F1 Score the absence of alexithymia: harmonic mean of precision and sensitivity.\n",
    "noalex_f1_scorer = make_scorer(f1_score, pos_label='NoAlex')"
   ]
  },
  {
   "cell_type": "code",
   "execution_count": 36,
   "metadata": {},
   "outputs": [
    {
     "data": {
      "text/html": [
       "<div>\n",
       "<style scoped>\n",
       "    .dataframe tbody tr th:only-of-type {\n",
       "        vertical-align: middle;\n",
       "    }\n",
       "\n",
       "    .dataframe tbody tr th {\n",
       "        vertical-align: top;\n",
       "    }\n",
       "\n",
       "    .dataframe thead th {\n",
       "        text-align: right;\n",
       "    }\n",
       "</style>\n",
       "<table border=\"1\" class=\"dataframe\">\n",
       "  <thead>\n",
       "    <tr style=\"text-align: right;\">\n",
       "      <th></th>\n",
       "      <th>ModelName</th>\n",
       "      <th>ShortName</th>\n",
       "      <th>Accuracy</th>\n",
       "      <th>AUC</th>\n",
       "      <th>AlexPrecision</th>\n",
       "      <th>NoAlexPrecision</th>\n",
       "      <th>AlexRecall</th>\n",
       "      <th>NoAlexRecall</th>\n",
       "      <th>AlexF1</th>\n",
       "      <th>NoAlexF1</th>\n",
       "    </tr>\n",
       "  </thead>\n",
       "  <tbody>\n",
       "  </tbody>\n",
       "</table>\n",
       "</div>"
      ],
      "text/plain": [
       "Empty DataFrame\n",
       "Columns: [ModelName, ShortName, Accuracy, AUC, AlexPrecision, NoAlexPrecision, AlexRecall, NoAlexRecall, AlexF1, NoAlexF1]\n",
       "Index: []"
      ]
     },
     "execution_count": 36,
     "metadata": {},
     "output_type": "execute_result"
    }
   ],
   "source": [
    "# A dataframe to store all evaluation results\n",
    "col_names =  ['ModelName', 'ShortName', 'Accuracy', 'AUC', 'AlexPrecision', 'NoAlexPrecision', 'AlexRecall', 'NoAlexRecall', 'AlexF1', 'NoAlexF1']\n",
    "eval_df  = pd.DataFrame(columns = col_names)\n",
    "eval_df"
   ]
  },
  {
   "cell_type": "markdown",
   "metadata": {},
   "source": [
    "## Evaluation helper functions"
   ]
  },
  {
   "cell_type": "code",
   "execution_count": 37,
   "metadata": {},
   "outputs": [],
   "source": [
    "import numpy as np\n",
    "import matplotlib.pyplot as plt\n",
    "from sklearn.utils.multiclass import unique_labels"
   ]
  },
  {
   "cell_type": "code",
   "execution_count": 38,
   "metadata": {},
   "outputs": [],
   "source": [
    "def plot_confusion_matrix(y_true, y_pred, classes,\n",
    "                          normalize=False,\n",
    "                          title=None,\n",
    "                          cmap=plt.cm.Blues):\n",
    "    \"\"\"\n",
    "    This function prints and plots the confusion matrix.\n",
    "    Normalization can be applied by setting `normalize=True`.\n",
    "    \"\"\"\n",
    "    if not title:\n",
    "        if normalize:\n",
    "            title = 'Normalized confusion matrix'\n",
    "        else:\n",
    "            title = 'Confusion matrix, without normalization'\n",
    "\n",
    "    # Compute confusion matrix\n",
    "    cm = confusion_matrix(y_true, y_pred)\n",
    "    # Only use the labels that appear in the data\n",
    "    classes = ['Alex','NoAlex']\n",
    "    if normalize:\n",
    "        cm = cm.astype('float') / cm.sum(axis=1)[:, np.newaxis]\n",
    "        print(\"Normalized confusion matrix\")\n",
    "    else:\n",
    "        print('Confusion matrix, without normalization')\n",
    "\n",
    "    print(cm)\n",
    "\n",
    "    fig, ax = plt.subplots()\n",
    "    im = ax.imshow(cm, interpolation='nearest', cmap=cmap)\n",
    "    ax.figure.colorbar(im, ax=ax)\n",
    "    # We want to show all ticks...\n",
    "    ax.set(xticks=np.arange(cm.shape[1]),\n",
    "           yticks=np.arange(cm.shape[0]),\n",
    "           # ... and label them with the respective list entries\n",
    "           xticklabels=classes, yticklabels=classes,\n",
    "           title=title,\n",
    "           ylabel='True label',\n",
    "           xlabel='Predicted label')\n",
    "\n",
    "    # Rotate the tick labels and set their alignment.\n",
    "    plt.setp(ax.get_xticklabels(), rotation=45, ha=\"right\",\n",
    "             rotation_mode=\"anchor\")\n",
    "\n",
    "    # Loop over data dimensions and create text annotations.\n",
    "    fmt = '.2f' if normalize else 'd'\n",
    "    thresh = cm.max() / 2.\n",
    "    for i in range(cm.shape[0]):\n",
    "        for j in range(cm.shape[1]):\n",
    "            ax.text(j, i, format(cm[i, j], fmt),\n",
    "                    ha=\"center\", va=\"center\",\n",
    "                    color=\"white\" if cm[i, j] > thresh else \"black\")\n",
    "    fig.tight_layout()\n",
    "    return ax"
   ]
  },
  {
   "cell_type": "markdown",
   "metadata": {},
   "source": [
    "## Feature Vector Preprocessing Classes"
   ]
  },
  {
   "cell_type": "code",
   "execution_count": 39,
   "metadata": {},
   "outputs": [],
   "source": [
    "from sklearn.base import BaseEstimator, TransformerMixin"
   ]
  },
  {
   "cell_type": "code",
   "execution_count": 40,
   "metadata": {},
   "outputs": [],
   "source": [
    "# Custom Transformer that extracts columns passed as argument to its constructor \n",
    "class FeatureSelector( BaseEstimator, TransformerMixin ):\n",
    "\n",
    "    # Class Constructor \n",
    "    def __init__( self, feature_names ):\n",
    "        self._feature_names = feature_names \n",
    "    \n",
    "    # Return self nothing else to do here    \n",
    "    def fit( self, X, y = None ):\n",
    "        return self \n",
    "    \n",
    "    # Method that describes what we need this transformer to do\n",
    "    def transform( self, X, y = None ):\n",
    "        return X[self._feature_names].values "
   ]
  },
  {
   "cell_type": "code",
   "execution_count": 41,
   "metadata": {},
   "outputs": [],
   "source": [
    "# Custom transformer that gets the TAT card used to generate the text\n",
    "class CardTransformer( BaseEstimator, TransformerMixin ):\n",
    "\n",
    "    # Return self nothing else to do here\n",
    "    def fit( self, X, y = None  ):\n",
    "        return self\n",
    "    \n",
    "    # Transformer method we wrote for this transformer \n",
    "    def transform(self, X , y = None ):\n",
    "        # Convert the column to binary for one-hot-encoding later\n",
    "        # X.loc[:,'card'] = X['card'].apply( self.create_binary )\n",
    "        \n",
    "        #returns numpy array\n",
    "        return X.values"
   ]
  },
  {
   "cell_type": "code",
   "execution_count": 42,
   "metadata": {},
   "outputs": [],
   "source": [
    "# Custom transformer that gets the Sex of the participant\n",
    "class DemoCategoricalTransformer( BaseEstimator, TransformerMixin ):\n",
    "\n",
    "    # Return self nothing else to do here\n",
    "    def fit( self, X, y = None  ):\n",
    "        return self\n",
    "    \n",
    "    # Transformer method we wrote for this transformer \n",
    "    def transform(self, X , y = None ):\n",
    "        # Convert the column to binary for one-hot-encoding later\n",
    "        # X.loc[:,'Sex'] = X['Sex'].apply( self.create_binary )\n",
    "        \n",
    "        #returns numpy array\n",
    "        return X"
   ]
  },
  {
   "cell_type": "code",
   "execution_count": 43,
   "metadata": {},
   "outputs": [],
   "source": [
    "# Custom transformer that gets the Sex of the participant\n",
    "class DemoNumericalTransformer( BaseEstimator, TransformerMixin ):\n",
    "\n",
    "    # Return self nothing else to do here\n",
    "    def fit( self, X, y = None  ):\n",
    "        return self\n",
    "    \n",
    "    # Transformer method we wrote for this transformer \n",
    "    def transform(self, X , y = None ):\n",
    "        return X.values "
   ]
  },
  {
   "cell_type": "code",
   "execution_count": 44,
   "metadata": {},
   "outputs": [],
   "source": [
    "# Custom transformer to extract ad hoc features from text\n",
    "class TextStats(BaseEstimator, TransformerMixin):\n",
    "\n",
    "    def fit(self, x, y=None):\n",
    "        return self\n",
    "\n",
    "    def transform(self, X , y = None):\n",
    "        return [{'length': len(text),\n",
    "                 'num_sentences': text.count('.')}\n",
    "                for text in X]"
   ]
  },
  {
   "cell_type": "code",
   "execution_count": 45,
   "metadata": {},
   "outputs": [],
   "source": [
    "# Custom transformer to build a mean doc vector from word vectors\n",
    "class MeanEmbeddingVectorizer(object):\n",
    "    def __init__(self, word2vec):\n",
    "        self.word2vec = word2vec\n",
    "        if len(word2vec.index2word)>0:\n",
    "            self.dim=len(word2vec.index2word)\n",
    "        else:\n",
    "            self.dim=0\n",
    "            \n",
    "    def fit(self, X, y):\n",
    "        return self \n",
    "\n",
    "    def transform(self, X):\n",
    "        return np.array([\n",
    "            np.mean([self.word2vec[w] for w in words if w in self.word2vec.vocab] \n",
    "                    or [np.zeros(self.dim)], axis=0)\n",
    "            for words in X\n",
    "        ])"
   ]
  },
  {
   "cell_type": "markdown",
   "metadata": {},
   "source": [
    "### Sets of feaures"
   ]
  },
  {
   "cell_type": "code",
   "execution_count": 46,
   "metadata": {},
   "outputs": [],
   "source": [
    "# TAT Card features \n",
    "card_features = ['card']\n",
    "\n",
    "# TEXT features \n",
    "text_features = ['Text']\n",
    "\n",
    "# Demographics categrorical features\n",
    "demographic_cat_features = ['Sex']\n",
    "\n",
    "# Demographics numerical features\n",
    "demographic_num_features = ['Age','es-len']"
   ]
  },
  {
   "cell_type": "markdown",
   "metadata": {},
   "source": [
    "### Pre-processing pipelines (to be executed in parallel)"
   ]
  },
  {
   "cell_type": "code",
   "execution_count": 47,
   "metadata": {},
   "outputs": [],
   "source": [
    "from sklearn.pipeline import Pipeline\n",
    "from sklearn.pipeline import FeatureUnion\n",
    "from sklearn.preprocessing import OneHotEncoder\n",
    "from sklearn.preprocessing import StandardScaler\n",
    "from sklearn.preprocessing import MinMaxScaler\n",
    "from sklearn.feature_extraction import DictVectorizer\n",
    "from sklearn.feature_extraction.text import CountVectorizer\n",
    "from sklearn.feature_extraction.text import TfidfVectorizer\n",
    "from sklearn.feature_extraction.text import TfidfTransformer"
   ]
  },
  {
   "cell_type": "code",
   "execution_count": 48,
   "metadata": {},
   "outputs": [],
   "source": [
    "# Defining the steps in the TAT Card categorical pipeline \n",
    "card_pipeline = Pipeline( steps = [('categorical_selector', FeatureSelector(card_features)),\n",
    "                                   #('card_transformer', CardTransformer()), \n",
    "                                   ('one_hot_encoder', OneHotEncoder(sparse=False))])"
   ]
  },
  {
   "cell_type": "code",
   "execution_count": 49,
   "metadata": {},
   "outputs": [],
   "source": [
    "# Defining the steps in the demographics categorical pipeline \n",
    "demo_cat_pipeline = Pipeline( steps = [('demo_categorical_selector', FeatureSelector(demographic_cat_features)),\n",
    "                                       ('demo_cat_transformer', DemoCategoricalTransformer()), \n",
    "                                       ('one_hot_encoder', OneHotEncoder(sparse=False))])"
   ]
  },
  {
   "cell_type": "code",
   "execution_count": 50,
   "metadata": {},
   "outputs": [],
   "source": [
    "# Defining the steps in the demographics numerical pipeline \n",
    "demo_num_pipeline = Pipeline( steps = [('demo_numerical_selector', FeatureSelector(demographic_num_features)),\n",
    "                                       ('scaler', MinMaxScaler())])"
   ]
  },
  {
   "cell_type": "code",
   "execution_count": 51,
   "metadata": {},
   "outputs": [],
   "source": [
    "# Defining the steps in the ad hoc text feature extraction pipeline \n",
    "text_adhoc_pipeline = Pipeline( steps = [('text_selector', FeatureSelector(text_features)),\n",
    "                                         ('text_stats', TextStats()), \n",
    "                                         ('vect', DictVectorizer())])"
   ]
  },
  {
   "cell_type": "code",
   "execution_count": 52,
   "metadata": {},
   "outputs": [],
   "source": [
    "# Defining the steps in the text WC feature extraction pipeline \n",
    "text_wc_pipeline = Pipeline( steps = [('text_selector', FeatureSelector(text_features)),\n",
    "                                      ('count_vectorizer', CountVectorizer(analyzer=lambda x: x))])"
   ]
  },
  {
   "cell_type": "code",
   "execution_count": 53,
   "metadata": {},
   "outputs": [],
   "source": [
    "# Defining the steps in the text TF/IDF feature extraction pipeline \n",
    "text_tfidf_pipeline = Pipeline( steps = [('text_selector', FeatureSelector(text_features)),\n",
    "                                         ('tfidf_vectorizer', TfidfVectorizer(analyzer=lambda x: x))])"
   ]
  },
  {
   "cell_type": "code",
   "execution_count": 54,
   "metadata": {},
   "outputs": [],
   "source": [
    "# Defining the steps in the text TF/IDF feature extraction pipeline \n",
    "text_wc_tfidf_pipeline = Pipeline( steps = [('text_selector', FeatureSelector(text_features)),\n",
    "                                            ('count_vectorizer', CountVectorizer(analyzer=lambda x: x)),\n",
    "                                            ('tfidf_transformer', TfidfTransformer())])"
   ]
  },
  {
   "cell_type": "code",
   "execution_count": 55,
   "metadata": {},
   "outputs": [],
   "source": [
    "# Defining the steps in the text Word2Vec feature extraction pipeline \n",
    "text_doc2vec_pipeline = Pipeline( steps = [('text_selector', FeatureSelector(text_features)),\n",
    "                                           ('mean_w2v_vectorizer', MeanEmbeddingVectorizer(word_vectors))]) "
   ]
  },
  {
   "cell_type": "code",
   "execution_count": 56,
   "metadata": {},
   "outputs": [],
   "source": [
    "# FULL PRE-PROCESSING PIPELINES\n",
    "\n",
    "# Classical Machine Learning - NLP approach\n",
    "prepro_ml_pipeline = FeatureUnion(transformer_list=[\n",
    "    ('card_pipeline', card_pipeline), \n",
    "    ('demo_cat_pipeline', demo_cat_pipeline),\n",
    "    ('demo_num_pipeline', demo_num_pipeline),\n",
    "    ('text_wc_tfidf_pipeline', text_wc_tfidf_pipeline)],\n",
    "        \n",
    "    # weight components in FeatureUnion\n",
    "    transformer_weights={\n",
    "        'card_pipeline': 1.0,\n",
    "        'demo_cat_pipeline': 1.0,\n",
    "        'demo_num_pipeline': 1.0,\n",
    "        'text_wc_tfidf_pipeline': 1.0\n",
    "        })\n",
    "\n",
    "# Using pre-trained word embeddings\n",
    "prepro_dl_pipeline = FeatureUnion(transformer_list=[\n",
    "    ('card_pipeline', card_pipeline), \n",
    "    ('demo_cat_pipeline', demo_cat_pipeline),\n",
    "    ('demo_num_pipeline', demo_num_pipeline),\n",
    "    ('text_doc2vec_pipeline', text_doc2vec_pipeline)],\n",
    "                                 \n",
    "    # weight components in FeatureUnion\n",
    "    transformer_weights={\n",
    "        'card_pipeline': 1.0,\n",
    "        'demo_cat_pipeline': 1.0,\n",
    "        'demo_num_pipeline': 1.0,\n",
    "        'text_doc2vec_pipeline': 1.0\n",
    "        })"
   ]
  },
  {
   "cell_type": "code",
   "execution_count": 57,
   "metadata": {},
   "outputs": [],
   "source": [
    "\n",
    "prepro_test5_pipeline = FeatureUnion(transformer_list=[\n",
    "    ('card_pipeline', card_pipeline), \n",
    "    ('demo_cat_pipeline', demo_cat_pipeline),\n",
    "    ('demo_num_pipeline', demo_num_pipeline),\n",
    "    ('text_tfidf_pipeline', text_tfidf_pipeline)])"
   ]
  },
  {
   "cell_type": "markdown",
   "metadata": {},
   "source": [
    "## Classifier with TF/IDF and Multinomial Naive Bayes\n",
    "Multinomial Naive Bayes works with ocurrence counts, therefore we use here a feature vector with word counts for each document. \n",
    "- X: Vectors with word counts, TF/IDF, demographics, and card.\n",
    "- y: Alexithymia label."
   ]
  },
  {
   "cell_type": "code",
   "execution_count": 58,
   "metadata": {},
   "outputs": [],
   "source": [
    "from sklearn.naive_bayes import MultinomialNB\n",
    "from sklearn.model_selection import cross_val_score\n",
    "from sklearn.model_selection import cross_validate"
   ]
  },
  {
   "cell_type": "code",
   "execution_count": 59,
   "metadata": {},
   "outputs": [],
   "source": [
    "# Multinomial Naive Bayes using TF/IDF\n",
    "multi_nb_pipe = Pipeline( steps = [('prepro_ml_pipeline', prepro_ml_pipeline),\n",
    "                                   ('multinomial_nb', MultinomialNB())])"
   ]
  },
  {
   "cell_type": "code",
   "execution_count": 60,
   "metadata": {},
   "outputs": [],
   "source": [
    "from sklearn.model_selection import train_test_split\n",
    "\n",
    "X_train, X_test, y_train, y_test = train_test_split( X, y, test_size = 0.2, random_state = 42)"
   ]
  },
  {
   "cell_type": "code",
   "execution_count": 61,
   "metadata": {},
   "outputs": [
    {
     "data": {
      "text/plain": [
       "Pipeline(memory=None,\n",
       "     steps=[('prepro_ml_pipeline', FeatureUnion(n_jobs=None,\n",
       "       transformer_list=[('card_pipeline', Pipeline(memory=None,\n",
       "     steps=[('categorical_selector', FeatureSelector(feature_names=None)), ('one_hot_encoder', OneHotEncoder(categorical_features=None, categories=None,\n",
       "       dtype=<class 'numpy...f_pipeline': 1.0})), ('multinomial_nb', MultinomialNB(alpha=1.0, class_prior=None, fit_prior=True))])"
      ]
     },
     "execution_count": 61,
     "metadata": {},
     "output_type": "execute_result"
    }
   ],
   "source": [
    "multi_nb_pipe.fit( X_train, y_train )"
   ]
  },
  {
   "cell_type": "code",
   "execution_count": 62,
   "metadata": {},
   "outputs": [],
   "source": [
    "y_pred = multi_nb_pipe.predict( X_test ) \n",
    "y_probas = multi_nb_pipe.predict_proba( X_test ) "
   ]
  },
  {
   "cell_type": "code",
   "execution_count": 63,
   "metadata": {},
   "outputs": [
    {
     "name": "stdout",
     "output_type": "stream",
     "text": [
      "Confusion matrix, without normalization\n",
      "[[15  1]\n",
      " [ 4  8]]\n"
     ]
    },
    {
     "data": {
      "text/plain": [
       "<matplotlib.axes._subplots.AxesSubplot at 0x1a23364c9b0>"
      ]
     },
     "execution_count": 63,
     "metadata": {},
     "output_type": "execute_result"
    },
    {
     "data": {
      "image/png": "[encoded data removed]",
      "text/plain": [
       "<Figure size 432x288 with 2 Axes>"
      ]
     },
     "metadata": {
      "needs_background": "light"
     },
     "output_type": "display_data"
    }
   ],
   "source": [
    "from sklearn.metrics import confusion_matrix\n",
    "plot_confusion_matrix(y_test, y_pred, classes=['Alex', 'NoAlex'],\n",
    "                      title='Confusion Matrix')"
   ]
  },
  {
   "cell_type": "code",
   "execution_count": 64,
   "metadata": {},
   "outputs": [
    {
     "name": "stdout",
     "output_type": "stream",
     "text": [
      "              precision    recall  f1-score   support\n",
      "\n",
      "        Alex       0.94      0.79      0.86        19\n",
      "      NoAlex       0.67      0.89      0.76         9\n",
      "\n",
      "   micro avg       0.82      0.82      0.82        28\n",
      "   macro avg       0.80      0.84      0.81        28\n",
      "weighted avg       0.85      0.82      0.83        28\n",
      "\n"
     ]
    }
   ],
   "source": [
    "from sklearn.metrics import classification_report\n",
    "print(classification_report(y_pred, y_test))"
   ]
  },
  {
   "cell_type": "code",
   "execution_count": 65,
   "metadata": {},
   "outputs": [
    {
     "data": {
      "image/png": "[encoded data removed]",
      "text/plain": [
       "<Figure size 504x432 with 1 Axes>"
      ]
     },
     "metadata": {
      "needs_background": "light"
     },
     "output_type": "display_data"
    }
   ],
   "source": [
    "# ROC CURVE PLOT\n",
    "import scikitplot as skplt\n",
    "skplt.metrics.plot_roc(y_test, y_probas, title=\"ROC - Multinomial Naive Bayes with Word Counts\",\n",
    "                      plot_micro=False, plot_macro=False,\n",
    "                      figsize=(7,6), text_fontsize=12, title_fontsize=14)\n",
    "plt.show()"
   ]
  },
  {
   "cell_type": "markdown",
   "metadata": {},
   "source": [
    "## Classifier with Word Counts and Multivariate Bernoulli Naive Bayes\n",
    "Multivariate Bernoulli works with discrete data (boolean flags), therefore we use here a feature vector with word counts for each document. \n",
    "- X: Vector with word counts.\n",
    "- y: Alexithymia label."
   ]
  },
  {
   "cell_type": "code",
   "execution_count": 66,
   "metadata": {},
   "outputs": [],
   "source": [
    "from sklearn.naive_bayes import BernoulliNB"
   ]
  },
  {
   "cell_type": "code",
   "execution_count": 67,
   "metadata": {},
   "outputs": [],
   "source": [
    "# Bernoulli Naive Bayes using TF/IDF\n",
    "bern_nb_pipe = Pipeline( steps = [('prepro_ml_pipeline', prepro_ml_pipeline),\n",
    "                                   ('multinomial_nb', MultinomialNB())])"
   ]
  },
  {
   "cell_type": "code",
   "execution_count": 68,
   "metadata": {},
   "outputs": [
    {
     "data": {
      "text/plain": [
       "Pipeline(memory=None,\n",
       "     steps=[('prepro_ml_pipeline', FeatureUnion(n_jobs=None,\n",
       "       transformer_list=[('card_pipeline', Pipeline(memory=None,\n",
       "     steps=[('categorical_selector', FeatureSelector(feature_names=None)), ('one_hot_encoder', OneHotEncoder(categorical_features=None, categories=None,\n",
       "       dtype=<class 'numpy...f_pipeline': 1.0})), ('multinomial_nb', MultinomialNB(alpha=1.0, class_prior=None, fit_prior=True))])"
      ]
     },
     "execution_count": 68,
     "metadata": {},
     "output_type": "execute_result"
    }
   ],
   "source": [
    "bern_nb_pipe.fit( X_train, y_train )"
   ]
  },
  {
   "cell_type": "code",
   "execution_count": 69,
   "metadata": {},
   "outputs": [],
   "source": [
    "y_pred = bern_nb_pipe.predict( X_test ) \n",
    "y_probas = bern_nb_pipe.predict_proba( X_test ) "
   ]
  },
  {
   "cell_type": "code",
   "execution_count": 70,
   "metadata": {},
   "outputs": [
    {
     "name": "stdout",
     "output_type": "stream",
     "text": [
      "Confusion matrix, without normalization\n",
      "[[15  1]\n",
      " [ 4  8]]\n"
     ]
    },
    {
     "data": {
      "text/plain": [
       "<matplotlib.axes._subplots.AxesSubplot at 0x1a235756208>"
      ]
     },
     "execution_count": 70,
     "metadata": {},
     "output_type": "execute_result"
    },
    {
     "data": {
      "image/png": "[encoded data removed]",
      "text/plain": [
       "<Figure size 432x288 with 2 Axes>"
      ]
     },
     "metadata": {
      "needs_background": "light"
     },
     "output_type": "display_data"
    }
   ],
   "source": [
    "from sklearn.metrics import confusion_matrix\n",
    "plot_confusion_matrix(y_test, y_pred, classes=['Alex', 'NoAlex'],\n",
    "                      title='Confusion Matrix')"
   ]
  },
  {
   "cell_type": "code",
   "execution_count": 71,
   "metadata": {},
   "outputs": [
    {
     "name": "stdout",
     "output_type": "stream",
     "text": [
      "              precision    recall  f1-score   support\n",
      "\n",
      "        Alex       0.94      0.79      0.86        19\n",
      "      NoAlex       0.67      0.89      0.76         9\n",
      "\n",
      "   micro avg       0.82      0.82      0.82        28\n",
      "   macro avg       0.80      0.84      0.81        28\n",
      "weighted avg       0.85      0.82      0.83        28\n",
      "\n"
     ]
    }
   ],
   "source": [
    "from sklearn.metrics import classification_report\n",
    "print(classification_report(y_pred, y_test))"
   ]
  },
  {
   "cell_type": "code",
   "execution_count": 72,
   "metadata": {},
   "outputs": [
    {
     "data": {
      "image/png": "[encoded data removed]",
      "text/plain": [
       "<Figure size 504x432 with 1 Axes>"
      ]
     },
     "metadata": {
      "needs_background": "light"
     },
     "output_type": "display_data"
    }
   ],
   "source": [
    "# ROC CURVE PLOT\n",
    "import scikitplot as skplt\n",
    "skplt.metrics.plot_roc(y_test, y_probas, title=\"ROC - Bernoulli Naive Bayes with Word Counts\",\n",
    "                      plot_micro=False, plot_macro=False,\n",
    "                      figsize=(7,6), text_fontsize=12, title_fontsize=14)\n",
    "plt.show()"
   ]
  },
  {
   "cell_type": "code",
   "execution_count": null,
   "metadata": {},
   "outputs": [],
   "source": []
  },
  {
   "cell_type": "markdown",
   "metadata": {},
   "source": [
    "## Classifier with Doc2Vec and Multinomial Naive Bayes\n",
    "Multinomial Naive Bayes works with ocurrence counts, therefore we use here a feature vector with Term Frequency (TF/IDF) for each document. \n",
    "- X: Vector with term frequency and inverse document frequency.\n",
    "- y: Alexithymia label."
   ]
  },
  {
   "cell_type": "code",
   "execution_count": 73,
   "metadata": {},
   "outputs": [],
   "source": [
    "# Multinomial Naive Bayes using Doc2Vec\n",
    "multi_nb_d2v_pipe = Pipeline( steps = [('prepro_dl_pipeline', prepro_dl_pipeline),\n",
    "                                       ('multinomial_nb', MultinomialNB())])"
   ]
  },
  {
   "cell_type": "code",
   "execution_count": 74,
   "metadata": {},
   "outputs": [
    {
     "data": {
      "text/plain": [
       "Pipeline(memory=None,\n",
       "     steps=[('prepro_dl_pipeline', FeatureUnion(n_jobs=None,\n",
       "       transformer_list=[('card_pipeline', Pipeline(memory=None,\n",
       "     steps=[('categorical_selector', FeatureSelector(feature_names=None)), ('one_hot_encoder', OneHotEncoder(categorical_features=None, categories=None,\n",
       "       dtype=<class 'numpy...c_pipeline': 1.0})), ('multinomial_nb', MultinomialNB(alpha=1.0, class_prior=None, fit_prior=True))])"
      ]
     },
     "execution_count": 74,
     "metadata": {},
     "output_type": "execute_result"
    }
   ],
   "source": [
    "multi_nb_d2v_pipe.fit( X_train, y_train )"
   ]
  },
  {
   "cell_type": "code",
   "execution_count": 75,
   "metadata": {},
   "outputs": [],
   "source": [
    "y_pred = multi_nb_d2v_pipe.predict( X_test ) \n",
    "y_probas = multi_nb_d2v_pipe.predict_proba( X_test )"
   ]
  },
  {
   "cell_type": "code",
   "execution_count": 76,
   "metadata": {},
   "outputs": [
    {
     "name": "stdout",
     "output_type": "stream",
     "text": [
      "Confusion matrix, without normalization\n",
      "[[15  1]\n",
      " [ 4  8]]\n"
     ]
    },
    {
     "data": {
      "text/plain": [
       "<matplotlib.axes._subplots.AxesSubplot at 0x1a235b0b4e0>"
      ]
     },
     "execution_count": 76,
     "metadata": {},
     "output_type": "execute_result"
    },
    {
     "data": {
      "image/png": "[encoded data removed]",
      "text/plain": [
       "<Figure size 432x288 with 2 Axes>"
      ]
     },
     "metadata": {
      "needs_background": "light"
     },
     "output_type": "display_data"
    }
   ],
   "source": [
    "from sklearn.metrics import confusion_matrix\n",
    "plot_confusion_matrix(y_test, y_pred, classes=['Alex', 'NoAlex'],\n",
    "                      title='Confusion Matrix')"
   ]
  },
  {
   "cell_type": "code",
   "execution_count": 77,
   "metadata": {},
   "outputs": [
    {
     "name": "stdout",
     "output_type": "stream",
     "text": [
      "              precision    recall  f1-score   support\n",
      "\n",
      "        Alex       0.94      0.79      0.86        19\n",
      "      NoAlex       0.67      0.89      0.76         9\n",
      "\n",
      "   micro avg       0.82      0.82      0.82        28\n",
      "   macro avg       0.80      0.84      0.81        28\n",
      "weighted avg       0.85      0.82      0.83        28\n",
      "\n"
     ]
    }
   ],
   "source": [
    "print(classification_report(y_pred, y_test))"
   ]
  },
  {
   "cell_type": "code",
   "execution_count": 78,
   "metadata": {},
   "outputs": [
    {
     "data": {
      "image/png": "[encoded data removed]",
      "text/plain": [
       "<Figure size 504x432 with 1 Axes>"
      ]
     },
     "metadata": {
      "needs_background": "light"
     },
     "output_type": "display_data"
    }
   ],
   "source": [
    "# ROC CURVE PLOT\n",
    "import scikitplot as skplt\n",
    "skplt.metrics.plot_roc(y_test, y_probas, title=\"ROC - Bernoulli Naive Bayes with Word Counts\",\n",
    "                      plot_micro=False, plot_macro=False,\n",
    "                      figsize=(7,6), text_fontsize=12, title_fontsize=14)\n",
    "plt.show()"
   ]
  },
  {
   "cell_type": "code",
   "execution_count": null,
   "metadata": {},
   "outputs": [],
   "source": []
  },
  {
   "cell_type": "markdown",
   "metadata": {},
   "source": [
    "## Classifier with Word Counts and Linear Support Vector Machine\n",
    "C-Support Vector Classification (SVM) with word counts for each document. \n",
    "- X: Vector with word counts.\n",
    "- y: Alexithymia label."
   ]
  },
  {
   "cell_type": "code",
   "execution_count": 79,
   "metadata": {},
   "outputs": [],
   "source": [
    "from sklearn.svm import SVC"
   ]
  },
  {
   "cell_type": "code",
   "execution_count": 80,
   "metadata": {},
   "outputs": [],
   "source": [
    "# Multinomial Naive Bayes using Doc2Vec\n",
    "svc_d2v_pipe = Pipeline( steps = [('prepro_dl_pipeline', prepro_dl_pipeline),\n",
    "                                  ('linear svc', SVC(kernel=\"linear\"))])"
   ]
  },
  {
   "cell_type": "code",
   "execution_count": 81,
   "metadata": {},
   "outputs": [
    {
     "data": {
      "text/plain": [
       "Pipeline(memory=None,\n",
       "     steps=[('prepro_dl_pipeline', FeatureUnion(n_jobs=None,\n",
       "       transformer_list=[('card_pipeline', Pipeline(memory=None,\n",
       "     steps=[('categorical_selector', FeatureSelector(feature_names=None)), ('one_hot_encoder', OneHotEncoder(categorical_features=None, categories=None,\n",
       "       dtype=<class 'numpy...r', max_iter=-1, probability=False, random_state=None,\n",
       "  shrinking=True, tol=0.001, verbose=False))])"
      ]
     },
     "execution_count": 81,
     "metadata": {},
     "output_type": "execute_result"
    }
   ],
   "source": [
    "svc_d2v_pipe.fit( X_train, y_train )"
   ]
  },
  {
   "cell_type": "code",
   "execution_count": 82,
   "metadata": {},
   "outputs": [],
   "source": [
    "y_pred = svc_d2v_pipe.predict( X_test ) "
   ]
  },
  {
   "cell_type": "code",
   "execution_count": 83,
   "metadata": {},
   "outputs": [
    {
     "name": "stdout",
     "output_type": "stream",
     "text": [
      "Confusion matrix, without normalization\n",
      "[[15  1]\n",
      " [ 4  8]]\n"
     ]
    },
    {
     "data": {
      "text/plain": [
       "<matplotlib.axes._subplots.AxesSubplot at 0x1a23634dd68>"
      ]
     },
     "execution_count": 83,
     "metadata": {},
     "output_type": "execute_result"
    },
    {
     "data": {
      "image/png": "[encoded data removed]",
      "text/plain": [
       "<Figure size 432x288 with 2 Axes>"
      ]
     },
     "metadata": {
      "needs_background": "light"
     },
     "output_type": "display_data"
    }
   ],
   "source": [
    "from sklearn.metrics import confusion_matrix\n",
    "plot_confusion_matrix(y_test, y_pred, classes=['Alex', 'NoAlex'],\n",
    "                      title='Confusion Matrix')"
   ]
  },
  {
   "cell_type": "code",
   "execution_count": 84,
   "metadata": {},
   "outputs": [
    {
     "name": "stdout",
     "output_type": "stream",
     "text": [
      "              precision    recall  f1-score   support\n",
      "\n",
      "        Alex       0.94      0.79      0.86        19\n",
      "      NoAlex       0.67      0.89      0.76         9\n",
      "\n",
      "   micro avg       0.82      0.82      0.82        28\n",
      "   macro avg       0.80      0.84      0.81        28\n",
      "weighted avg       0.85      0.82      0.83        28\n",
      "\n"
     ]
    }
   ],
   "source": [
    "print(classification_report(y_pred, y_test))"
   ]
  },
  {
   "cell_type": "code",
   "execution_count": 85,
   "metadata": {},
   "outputs": [
    {
     "name": "stderr",
     "output_type": "stream",
     "text": [
      "C:\\Users\\array\\Anaconda3\\lib\\site-packages\\sklearn\\model_selection\\_split.py:2053: FutureWarning: You should specify a value for 'cv' instead of relying on the default value. The default value will change from 3 to 5 in version 0.22.\n",
      "  warnings.warn(CV_WARNING, FutureWarning)\n",
      "C:\\Users\\array\\Anaconda3\\lib\\site-packages\\sklearn\\svm\\base.py:196: FutureWarning: The default value of gamma will change from 'auto' to 'scale' in version 0.22 to account better for unscaled features. Set gamma explicitly to 'auto' or 'scale' to avoid this warning.\n",
      "  \"avoid this warning.\", FutureWarning)\n",
      "C:\\Users\\array\\Anaconda3\\lib\\site-packages\\sklearn\\svm\\base.py:196: FutureWarning: The default value of gamma will change from 'auto' to 'scale' in version 0.22 to account better for unscaled features. Set gamma explicitly to 'auto' or 'scale' to avoid this warning.\n",
      "  \"avoid this warning.\", FutureWarning)\n",
      "C:\\Users\\array\\Anaconda3\\lib\\site-packages\\sklearn\\svm\\base.py:196: FutureWarning: The default value of gamma will change from 'auto' to 'scale' in version 0.22 to account better for unscaled features. Set gamma explicitly to 'auto' or 'scale' to avoid this warning.\n",
      "  \"avoid this warning.\", FutureWarning)\n"
     ]
    },
    {
     "data": {
      "text/plain": [
       "CalibratedClassifierCV(base_estimator=SVC(C=1.0, cache_size=200, class_weight=None, coef0=0.0,\n",
       "  decision_function_shape='ovr', degree=3, gamma='auto_deprecated',\n",
       "  kernel='rbf', max_iter=-1, probability=False, random_state=None,\n",
       "  shrinking=True, tol=0.001, verbose=False),\n",
       "            cv='warn', method='sigmoid')"
      ]
     },
     "execution_count": 85,
     "metadata": {},
     "output_type": "execute_result"
    }
   ],
   "source": [
    "# Get probas for SVC predictions\n",
    "from sklearn.calibration import CalibratedClassifierCV\n",
    "\n",
    "svm = SVC()\n",
    "clf = CalibratedClassifierCV(svm)\n",
    "Xtrainvecs = prepro_dl_pipeline.fit_transform(X_train)\n",
    "clf.fit(Xtrainvecs, y_train)"
   ]
  },
  {
   "cell_type": "code",
   "execution_count": 86,
   "metadata": {},
   "outputs": [],
   "source": [
    "Xtestvecs = prepro_dl_pipeline.transform(X_test)\n",
    "y_probas = clf.predict_proba(Xtestvecs)"
   ]
  },
  {
   "cell_type": "code",
   "execution_count": 87,
   "metadata": {},
   "outputs": [
    {
     "data": {
      "image/png": "[encoded data removed]",
      "text/plain": [
       "<Figure size 504x432 with 1 Axes>"
      ]
     },
     "metadata": {
      "needs_background": "light"
     },
     "output_type": "display_data"
    }
   ],
   "source": [
    "# ROC CURVE PLOT\n",
    "import scikitplot as skplt\n",
    "skplt.metrics.plot_roc(y_test, y_probas, title=\"ROC - Support Vector Machine with Doc2Vec\",\n",
    "                      plot_micro=False, plot_macro=False,\n",
    "                      figsize=(7,6), text_fontsize=12, title_fontsize=14)\n",
    "plt.show()"
   ]
  },
  {
   "cell_type": "code",
   "execution_count": 88,
   "metadata": {},
   "outputs": [
    {
     "ename": "TypeError",
     "evalue": "unsupported operand type(s) for -: 'str' and 'str'",
     "output_type": "error",
     "traceback": [
      "\u001b[1;31m---------------------------------------------------------------------------\u001b[0m",
      "\u001b[1;31mTypeError\u001b[0m                                 Traceback (most recent call last)",
      "\u001b[1;32m<ipython-input-88-4c24dd43241d>\u001b[0m in \u001b[0;36m<module>\u001b[1;34m\u001b[0m\n\u001b[0;32m      1\u001b[0m \u001b[1;32mfrom\u001b[0m \u001b[0msklearn\u001b[0m\u001b[1;33m.\u001b[0m\u001b[0mmetrics\u001b[0m \u001b[1;32mimport\u001b[0m \u001b[0mroc_auc_score\u001b[0m\u001b[1;33m\u001b[0m\u001b[1;33m\u001b[0m\u001b[0m\n\u001b[1;32m----> 2\u001b[1;33m \u001b[0mroc_auc_score\u001b[0m\u001b[1;33m(\u001b[0m\u001b[0my_test\u001b[0m\u001b[1;33m,\u001b[0m \u001b[0my_pred\u001b[0m\u001b[1;33m)\u001b[0m\u001b[1;33m\u001b[0m\u001b[1;33m\u001b[0m\u001b[0m\n\u001b[0m",
      "\u001b[1;32m~\\Anaconda3\\lib\\site-packages\\sklearn\\metrics\\ranking.py\u001b[0m in \u001b[0;36mroc_auc_score\u001b[1;34m(y_true, y_score, average, sample_weight, max_fpr)\u001b[0m\n\u001b[0;32m    354\u001b[0m     return _average_binary_score(\n\u001b[0;32m    355\u001b[0m         \u001b[0m_binary_roc_auc_score\u001b[0m\u001b[1;33m,\u001b[0m \u001b[0my_true\u001b[0m\u001b[1;33m,\u001b[0m \u001b[0my_score\u001b[0m\u001b[1;33m,\u001b[0m \u001b[0maverage\u001b[0m\u001b[1;33m,\u001b[0m\u001b[1;33m\u001b[0m\u001b[1;33m\u001b[0m\u001b[0m\n\u001b[1;32m--> 356\u001b[1;33m         sample_weight=sample_weight)\n\u001b[0m\u001b[0;32m    357\u001b[0m \u001b[1;33m\u001b[0m\u001b[0m\n\u001b[0;32m    358\u001b[0m \u001b[1;33m\u001b[0m\u001b[0m\n",
      "\u001b[1;32m~\\Anaconda3\\lib\\site-packages\\sklearn\\metrics\\base.py\u001b[0m in \u001b[0;36m_average_binary_score\u001b[1;34m(binary_metric, y_true, y_score, average, sample_weight)\u001b[0m\n\u001b[0;32m     75\u001b[0m \u001b[1;33m\u001b[0m\u001b[0m\n\u001b[0;32m     76\u001b[0m     \u001b[1;32mif\u001b[0m \u001b[0my_type\u001b[0m \u001b[1;33m==\u001b[0m \u001b[1;34m\"binary\"\u001b[0m\u001b[1;33m:\u001b[0m\u001b[1;33m\u001b[0m\u001b[1;33m\u001b[0m\u001b[0m\n\u001b[1;32m---> 77\u001b[1;33m         \u001b[1;32mreturn\u001b[0m \u001b[0mbinary_metric\u001b[0m\u001b[1;33m(\u001b[0m\u001b[0my_true\u001b[0m\u001b[1;33m,\u001b[0m \u001b[0my_score\u001b[0m\u001b[1;33m,\u001b[0m \u001b[0msample_weight\u001b[0m\u001b[1;33m=\u001b[0m\u001b[0msample_weight\u001b[0m\u001b[1;33m)\u001b[0m\u001b[1;33m\u001b[0m\u001b[1;33m\u001b[0m\u001b[0m\n\u001b[0m\u001b[0;32m     78\u001b[0m \u001b[1;33m\u001b[0m\u001b[0m\n\u001b[0;32m     79\u001b[0m     \u001b[0mcheck_consistent_length\u001b[0m\u001b[1;33m(\u001b[0m\u001b[0my_true\u001b[0m\u001b[1;33m,\u001b[0m \u001b[0my_score\u001b[0m\u001b[1;33m,\u001b[0m \u001b[0msample_weight\u001b[0m\u001b[1;33m)\u001b[0m\u001b[1;33m\u001b[0m\u001b[1;33m\u001b[0m\u001b[0m\n",
      "\u001b[1;32m~\\Anaconda3\\lib\\site-packages\\sklearn\\metrics\\ranking.py\u001b[0m in \u001b[0;36m_binary_roc_auc_score\u001b[1;34m(y_true, y_score, sample_weight)\u001b[0m\n\u001b[0;32m    326\u001b[0m \u001b[1;33m\u001b[0m\u001b[0m\n\u001b[0;32m    327\u001b[0m         fpr, tpr, _ = roc_curve(y_true, y_score,\n\u001b[1;32m--> 328\u001b[1;33m                                 sample_weight=sample_weight)\n\u001b[0m\u001b[0;32m    329\u001b[0m         \u001b[1;32mif\u001b[0m \u001b[0mmax_fpr\u001b[0m \u001b[1;32mis\u001b[0m \u001b[1;32mNone\u001b[0m \u001b[1;32mor\u001b[0m \u001b[0mmax_fpr\u001b[0m \u001b[1;33m==\u001b[0m \u001b[1;36m1\u001b[0m\u001b[1;33m:\u001b[0m\u001b[1;33m\u001b[0m\u001b[1;33m\u001b[0m\u001b[0m\n\u001b[0;32m    330\u001b[0m             \u001b[1;32mreturn\u001b[0m \u001b[0mauc\u001b[0m\u001b[1;33m(\u001b[0m\u001b[0mfpr\u001b[0m\u001b[1;33m,\u001b[0m \u001b[0mtpr\u001b[0m\u001b[1;33m)\u001b[0m\u001b[1;33m\u001b[0m\u001b[1;33m\u001b[0m\u001b[0m\n",
      "\u001b[1;32m~\\Anaconda3\\lib\\site-packages\\sklearn\\metrics\\ranking.py\u001b[0m in \u001b[0;36mroc_curve\u001b[1;34m(y_true, y_score, pos_label, sample_weight, drop_intermediate)\u001b[0m\n\u001b[0;32m    616\u001b[0m     \"\"\"\n\u001b[0;32m    617\u001b[0m     fps, tps, thresholds = _binary_clf_curve(\n\u001b[1;32m--> 618\u001b[1;33m         y_true, y_score, pos_label=pos_label, sample_weight=sample_weight)\n\u001b[0m\u001b[0;32m    619\u001b[0m \u001b[1;33m\u001b[0m\u001b[0m\n\u001b[0;32m    620\u001b[0m     \u001b[1;31m# Attempt to drop thresholds corresponding to points in between and\u001b[0m\u001b[1;33m\u001b[0m\u001b[1;33m\u001b[0m\u001b[1;33m\u001b[0m\u001b[0m\n",
      "\u001b[1;32m~\\Anaconda3\\lib\\site-packages\\sklearn\\metrics\\ranking.py\u001b[0m in \u001b[0;36m_binary_clf_curve\u001b[1;34m(y_true, y_score, pos_label, sample_weight)\u001b[0m\n\u001b[0;32m    433\u001b[0m     \u001b[1;31m# the indices associated with the distinct values. We also\u001b[0m\u001b[1;33m\u001b[0m\u001b[1;33m\u001b[0m\u001b[1;33m\u001b[0m\u001b[0m\n\u001b[0;32m    434\u001b[0m     \u001b[1;31m# concatenate a value for the end of the curve.\u001b[0m\u001b[1;33m\u001b[0m\u001b[1;33m\u001b[0m\u001b[1;33m\u001b[0m\u001b[0m\n\u001b[1;32m--> 435\u001b[1;33m     \u001b[0mdistinct_value_indices\u001b[0m \u001b[1;33m=\u001b[0m \u001b[0mnp\u001b[0m\u001b[1;33m.\u001b[0m\u001b[0mwhere\u001b[0m\u001b[1;33m(\u001b[0m\u001b[0mnp\u001b[0m\u001b[1;33m.\u001b[0m\u001b[0mdiff\u001b[0m\u001b[1;33m(\u001b[0m\u001b[0my_score\u001b[0m\u001b[1;33m)\u001b[0m\u001b[1;33m)\u001b[0m\u001b[1;33m[\u001b[0m\u001b[1;36m0\u001b[0m\u001b[1;33m]\u001b[0m\u001b[1;33m\u001b[0m\u001b[1;33m\u001b[0m\u001b[0m\n\u001b[0m\u001b[0;32m    436\u001b[0m     \u001b[0mthreshold_idxs\u001b[0m \u001b[1;33m=\u001b[0m \u001b[0mnp\u001b[0m\u001b[1;33m.\u001b[0m\u001b[0mr_\u001b[0m\u001b[1;33m[\u001b[0m\u001b[0mdistinct_value_indices\u001b[0m\u001b[1;33m,\u001b[0m \u001b[0my_true\u001b[0m\u001b[1;33m.\u001b[0m\u001b[0msize\u001b[0m \u001b[1;33m-\u001b[0m \u001b[1;36m1\u001b[0m\u001b[1;33m]\u001b[0m\u001b[1;33m\u001b[0m\u001b[1;33m\u001b[0m\u001b[0m\n\u001b[0;32m    437\u001b[0m \u001b[1;33m\u001b[0m\u001b[0m\n",
      "\u001b[1;32m~\\Anaconda3\\lib\\site-packages\\numpy\\lib\\function_base.py\u001b[0m in \u001b[0;36mdiff\u001b[1;34m(a, n, axis, prepend, append)\u001b[0m\n\u001b[0;32m   1271\u001b[0m     \u001b[0mop\u001b[0m \u001b[1;33m=\u001b[0m \u001b[0mnot_equal\u001b[0m \u001b[1;32mif\u001b[0m \u001b[0ma\u001b[0m\u001b[1;33m.\u001b[0m\u001b[0mdtype\u001b[0m \u001b[1;33m==\u001b[0m \u001b[0mnp\u001b[0m\u001b[1;33m.\u001b[0m\u001b[0mbool_\u001b[0m \u001b[1;32melse\u001b[0m \u001b[0msubtract\u001b[0m\u001b[1;33m\u001b[0m\u001b[1;33m\u001b[0m\u001b[0m\n\u001b[0;32m   1272\u001b[0m     \u001b[1;32mfor\u001b[0m \u001b[0m_\u001b[0m \u001b[1;32min\u001b[0m \u001b[0mrange\u001b[0m\u001b[1;33m(\u001b[0m\u001b[0mn\u001b[0m\u001b[1;33m)\u001b[0m\u001b[1;33m:\u001b[0m\u001b[1;33m\u001b[0m\u001b[1;33m\u001b[0m\u001b[0m\n\u001b[1;32m-> 1273\u001b[1;33m         \u001b[0ma\u001b[0m \u001b[1;33m=\u001b[0m \u001b[0mop\u001b[0m\u001b[1;33m(\u001b[0m\u001b[0ma\u001b[0m\u001b[1;33m[\u001b[0m\u001b[0mslice1\u001b[0m\u001b[1;33m]\u001b[0m\u001b[1;33m,\u001b[0m \u001b[0ma\u001b[0m\u001b[1;33m[\u001b[0m\u001b[0mslice2\u001b[0m\u001b[1;33m]\u001b[0m\u001b[1;33m)\u001b[0m\u001b[1;33m\u001b[0m\u001b[1;33m\u001b[0m\u001b[0m\n\u001b[0m\u001b[0;32m   1274\u001b[0m \u001b[1;33m\u001b[0m\u001b[0m\n\u001b[0;32m   1275\u001b[0m     \u001b[1;32mreturn\u001b[0m \u001b[0ma\u001b[0m\u001b[1;33m\u001b[0m\u001b[1;33m\u001b[0m\u001b[0m\n",
      "\u001b[1;31mTypeError\u001b[0m: unsupported operand type(s) for -: 'str' and 'str'"
     ]
    }
   ],
   "source": [
    "from sklearn.metrics import roc_auc_score\n",
    "roc_auc_score(y_test, y_pred)"
   ]
  },
  {
   "cell_type": "code",
   "execution_count": null,
   "metadata": {},
   "outputs": [],
   "source": []
  },
  {
   "cell_type": "code",
   "execution_count": 89,
   "metadata": {},
   "outputs": [],
   "source": [
    "from sklearn.ensemble import ExtraTreesClassifier"
   ]
  },
  {
   "cell_type": "code",
   "execution_count": 90,
   "metadata": {},
   "outputs": [],
   "source": [
    "etree_d2v_pipe = Pipeline( steps = [('prepro_dl_pipeline', prepro_dl_pipeline),\n",
    "                                    (\"extra trees\", ExtraTreesClassifier(n_estimators=200))])\n"
   ]
  },
  {
   "cell_type": "code",
   "execution_count": 91,
   "metadata": {},
   "outputs": [
    {
     "data": {
      "text/plain": [
       "Pipeline(memory=None,\n",
       "     steps=[('prepro_dl_pipeline', FeatureUnion(n_jobs=None,\n",
       "       transformer_list=[('card_pipeline', Pipeline(memory=None,\n",
       "     steps=[('categorical_selector', FeatureSelector(feature_names=None)), ('one_hot_encoder', OneHotEncoder(categorical_features=None, categories=None,\n",
       "       dtype=<class 'numpy...tors=200, n_jobs=None,\n",
       "           oob_score=False, random_state=None, verbose=0, warm_start=False))])"
      ]
     },
     "execution_count": 91,
     "metadata": {},
     "output_type": "execute_result"
    }
   ],
   "source": [
    "etree_d2v_pipe.fit( X_train, y_train )"
   ]
  },
  {
   "cell_type": "code",
   "execution_count": 92,
   "metadata": {},
   "outputs": [],
   "source": [
    "y_pred = etree_d2v_pipe.predict( X_test ) "
   ]
  },
  {
   "cell_type": "code",
   "execution_count": 93,
   "metadata": {},
   "outputs": [
    {
     "name": "stdout",
     "output_type": "stream",
     "text": [
      "Confusion matrix, without normalization\n",
      "[[9 7]\n",
      " [4 8]]\n"
     ]
    },
    {
     "data": {
      "text/plain": [
       "<matplotlib.axes._subplots.AxesSubplot at 0x1a236c69fd0>"
      ]
     },
     "execution_count": 93,
     "metadata": {},
     "output_type": "execute_result"
    },
    {
     "data": {
      "image/png": "[encoded data removed]",
      "text/plain": [
       "<Figure size 432x288 with 2 Axes>"
      ]
     },
     "metadata": {
      "needs_background": "light"
     },
     "output_type": "display_data"
    }
   ],
   "source": [
    "from sklearn.metrics import confusion_matrix\n",
    "plot_confusion_matrix(y_test, y_pred, classes=['Alex', 'NoAlex'],\n",
    "                      title='Confusion Matrix')"
   ]
  },
  {
   "cell_type": "code",
   "execution_count": 94,
   "metadata": {},
   "outputs": [
    {
     "name": "stdout",
     "output_type": "stream",
     "text": [
      "              precision    recall  f1-score   support\n",
      "\n",
      "        Alex       0.56      0.69      0.62        13\n",
      "      NoAlex       0.67      0.53      0.59        15\n",
      "\n",
      "   micro avg       0.61      0.61      0.61        28\n",
      "   macro avg       0.61      0.61      0.61        28\n",
      "weighted avg       0.62      0.61      0.61        28\n",
      "\n"
     ]
    }
   ],
   "source": [
    "print(classification_report(y_pred, y_test))"
   ]
  },
  {
   "cell_type": "code",
   "execution_count": 95,
   "metadata": {},
   "outputs": [
    {
     "data": {
      "image/png": "[encoded data removed]",
      "text/plain": [
       "<Figure size 504x432 with 1 Axes>"
      ]
     },
     "metadata": {
      "needs_background": "light"
     },
     "output_type": "display_data"
    }
   ],
   "source": [
    "# ROC CURVE PLOT\n",
    "y_probas = etree_d2v_pipe.predict_proba( X_test )\n",
    "skplt.metrics.plot_roc(y_test, y_probas, title=\"ROC - Extra Trees with Mean Doc Embeddings\",\n",
    "                      plot_micro=False, plot_macro=False,\n",
    "                      figsize=(7,6), text_fontsize=12, title_fontsize=14)\n",
    "plt.show()"
   ]
  },
  {
   "cell_type": "code",
   "execution_count": null,
   "metadata": {},
   "outputs": [],
   "source": []
  }
 ],
 "metadata": {
  "kernelspec": {
   "display_name": "Python 3",
   "language": "python",
   "name": "python3"
  },
  "language_info": {
   "codemirror_mode": {
    "name": "ipython",
    "version": 3
   },
   "file_extension": ".py",
   "mimetype": "text/x-python",
   "name": "python",
   "nbconvert_exporter": "python",
   "pygments_lexer": "ipython3",
   "version": "3.7.3"
  }
 },
 "nbformat": 4,
 "nbformat_minor": 2
}
