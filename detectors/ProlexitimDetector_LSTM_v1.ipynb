{
  "nbformat": 4,
  "nbformat_minor": 0,
  "metadata": {
    "colab": {
      "name": "ProlexitimDetector-LSTM-v1.ipynb",
      "version": "0.3.2",
      "provenance": []
    },
    "kernelspec": {
      "name": "python3",
      "display_name": "Python 3"
    },
    "accelerator": "GPU"
  },
  "cells": [
    {
      "cell_type": "code",
      "metadata": {
        "id": "0ufuuEwohSFL",
        "colab_type": "code",
        "colab": {
          "base_uri": "https://localhost:8080/",
          "height": 120
        },
        "outputId": "064575cf-4bc8-4aae-d20d-b9ee96c01c1b"
      },
      "source": [
        "from google.colab import drive\n",
        "drive.mount('/content/gdrive')"
      ],
      "execution_count": 2,
      "outputs": [
        {
          "output_type": "stream",
          "text": [
            "Go to this URL in a browser: https://accounts.google.com/o/oauth2/auth?client_id=947318989803-6bn6qk8qdgf4n4g3pfee6491hc0brc4i.apps.googleusercontent.com&redirect_uri=urn%3Aietf%3Awg%3Aoauth%3A2.0%3Aoob&scope=email%20https%3A%2F%2Fwww.googleapis.com%2Fauth%2Fdocs.test%20https%3A%2F%2Fwww.googleapis.com%2Fauth%2Fdrive%20https%3A%2F%2Fwww.googleapis.com%2Fauth%2Fdrive.photos.readonly%20https%3A%2F%2Fwww.googleapis.com%2Fauth%2Fpeopleapi.readonly&response_type=code\n",
            "\n",
            "Enter your authorization code:\n",
            "··········\n",
            "Mounted at /content/gdrive\n"
          ],
          "name": "stdout"
        }
      ]
    },
    {
      "cell_type": "code",
      "metadata": {
        "id": "c2q-ib7fhcto",
        "colab_type": "code",
        "colab": {}
      },
      "source": [
        "dataset_path = \"/content/gdrive/My Drive/datasets/tas-nlp/\""
      ],
      "execution_count": 0,
      "outputs": []
    },
    {
      "cell_type": "code",
      "metadata": {
        "id": "YLQe6X8Jfbsg",
        "colab_type": "code",
        "outputId": "45805e99-23d2-4c8a-8d38-d38d53ce4835",
        "colab": {
          "base_uri": "https://localhost:8080/",
          "height": 67
        }
      },
      "source": [
        "import re\n",
        "\n",
        "import numpy as np\n",
        "import pandas as pd\n",
        "from sklearn.model_selection import train_test_split\n",
        "\n",
        "# TensorFlow and tf.keras\n",
        "import tensorflow as tf\n",
        "from tensorflow import keras\n",
        "\n",
        "from keras.preprocessing.text import Tokenizer\n",
        "from keras.preprocessing.sequence import pad_sequences\n",
        "from keras.models import Sequential\n",
        "from keras.layers import Dense, Embedding, LSTM, SpatialDropout1D\n",
        "from sklearn.model_selection import train_test_split\n",
        "from keras.utils.np_utils import to_categorical\n",
        "\n",
        "print('Keras       ', keras.__version__)\n",
        "print('TensorFlow  ', tf.__version__)"
      ],
      "execution_count": 4,
      "outputs": [
        {
          "output_type": "stream",
          "text": [
            "Keras        2.2.4-tf\n",
            "TensorFlow   1.13.1\n"
          ],
          "name": "stdout"
        },
        {
          "output_type": "stream",
          "text": [
            "Using TensorFlow backend.\n"
          ],
          "name": "stderr"
        }
      ]
    },
    {
      "cell_type": "code",
      "metadata": {
        "id": "j3SsAI1bfs-i",
        "colab_type": "code",
        "outputId": "2279ec40-a4b2-4130-be8e-9227f811e4a7",
        "colab": {
          "base_uri": "https://localhost:8080/",
          "height": 33
        }
      },
      "source": [
        "\n",
        "from tensorflow.python.client import device_lib\n",
        "\n",
        "def get_available_gpus():\n",
        "    local_device_protos = device_lib.list_local_devices()\n",
        "    return [x.name for x in local_device_protos if x.device_type == 'GPU']\n",
        "\n",
        "get_available_gpus()"
      ],
      "execution_count": 5,
      "outputs": [
        {
          "output_type": "execute_result",
          "data": {
            "text/plain": [
              "['/device:GPU:0']"
            ]
          },
          "metadata": {
            "tags": []
          },
          "execution_count": 5
        }
      ]
    },
    {
      "cell_type": "code",
      "metadata": {
        "id": "wqpul9DRlEzM",
        "colab_type": "code",
        "colab": {}
      },
      "source": [
        "# drive.mount(\"/content/gdrive\", force_remount=True)"
      ],
      "execution_count": 0,
      "outputs": []
    },
    {
      "cell_type": "code",
      "metadata": {
        "id": "OKI4Lf4am2Bb",
        "colab_type": "code",
        "colab": {
          "base_uri": "https://localhost:8080/",
          "height": 33
        },
        "outputId": "491e6117-6cf3-4ee9-faba-fd5d19217110"
      },
      "source": [
        "! ls -la /content/gdrive/'My Drive'/datasets/tas-nlp/prolexitim-merged-1.3.csv\n",
        "      "
      ],
      "execution_count": 7,
      "outputs": [
        {
          "output_type": "stream",
          "text": [
            "-rw------- 1 root root 209682 May 13 09:39 '/content/gdrive/My Drive/datasets/tas-nlp/prolexitim-merged-1.3.csv'\n"
          ],
          "name": "stdout"
        }
      ]
    },
    {
      "cell_type": "code",
      "metadata": {
        "id": "2KaO7RIQfxFy",
        "colab_type": "code",
        "colab": {}
      },
      "source": [
        "tasnlp_df = pd.read_csv(dataset_path + \"prolexitim-merged-1.3.csv\", header=0, delimiter=\"\\t\")"
      ],
      "execution_count": 0,
      "outputs": []
    },
    {
      "cell_type": "code",
      "metadata": {
        "id": "2FM9tTSIkbSc",
        "colab_type": "code",
        "colab": {}
      },
      "source": [
        "# tasnlp_df.head()"
      ],
      "execution_count": 0,
      "outputs": []
    },
    {
      "cell_type": "code",
      "metadata": {
        "id": "PyoplxtmoTEj",
        "colab_type": "code",
        "colab": {}
      },
      "source": [
        "# We only need text and label\n",
        "data = tasnlp_df[['Text','alex-a']]"
      ],
      "execution_count": 0,
      "outputs": []
    },
    {
      "cell_type": "code",
      "metadata": {
        "id": "t-OPWEquo1Cy",
        "colab_type": "code",
        "colab": {
          "base_uri": "https://localhost:8080/",
          "height": 196
        },
        "outputId": "70c5dbfe-bed6-4799-e1f8-4bfd236f71ec"
      },
      "source": [
        "data.head()"
      ],
      "execution_count": 38,
      "outputs": [
        {
          "output_type": "execute_result",
          "data": {
            "text/html": [
              "<div>\n",
              "<style scoped>\n",
              "    .dataframe tbody tr th:only-of-type {\n",
              "        vertical-align: middle;\n",
              "    }\n",
              "\n",
              "    .dataframe tbody tr th {\n",
              "        vertical-align: top;\n",
              "    }\n",
              "\n",
              "    .dataframe thead th {\n",
              "        text-align: right;\n",
              "    }\n",
              "</style>\n",
              "<table border=\"1\" class=\"dataframe\">\n",
              "  <thead>\n",
              "    <tr style=\"text-align: right;\">\n",
              "      <th></th>\n",
              "      <th>Text</th>\n",
              "      <th>alex-a</th>\n",
              "    </tr>\n",
              "  </thead>\n",
              "  <tbody>\n",
              "    <tr>\n",
              "      <th>0</th>\n",
              "      <td>Era un niño pensando en el granero pensando a ...</td>\n",
              "      <td>NoAlex</td>\n",
              "    </tr>\n",
              "    <tr>\n",
              "      <th>1</th>\n",
              "      <td>Una madre que está consolando a su hijo, despu...</td>\n",
              "      <td>NoAlex</td>\n",
              "    </tr>\n",
              "    <tr>\n",
              "      <th>2</th>\n",
              "      <td>Un pantanal con una barca abandonada. A ver qu...</td>\n",
              "      <td>NoAlex</td>\n",
              "    </tr>\n",
              "    <tr>\n",
              "      <th>3</th>\n",
              "      <td>Era un paraje muy bonito, con una barca, un po...</td>\n",
              "      <td>Alex</td>\n",
              "    </tr>\n",
              "    <tr>\n",
              "      <th>4</th>\n",
              "      <td>Era una vez un matrimonio, que se quería muchí...</td>\n",
              "      <td>Alex</td>\n",
              "    </tr>\n",
              "  </tbody>\n",
              "</table>\n",
              "</div>"
            ],
            "text/plain": [
              "                                                Text  alex-a\n",
              "0  Era un niño pensando en el granero pensando a ...  NoAlex\n",
              "1  Una madre que está consolando a su hijo, despu...  NoAlex\n",
              "2  Un pantanal con una barca abandonada. A ver qu...  NoAlex\n",
              "3  Era un paraje muy bonito, con una barca, un po...    Alex\n",
              "4  Era una vez un matrimonio, que se quería muchí...    Alex"
            ]
          },
          "metadata": {
            "tags": []
          },
          "execution_count": 38
        }
      ]
    },
    {
      "cell_type": "code",
      "metadata": {
        "id": "ol5kMIP-qKgj",
        "colab_type": "code",
        "colab": {
          "base_uri": "https://localhost:8080/",
          "height": 117
        },
        "outputId": "0b40450c-831f-49fe-d9fd-fc6bbeabc9c7"
      },
      "source": [
        "print(data.dtypes)\n",
        "print(data.count())"
      ],
      "execution_count": 39,
      "outputs": [
        {
          "output_type": "stream",
          "text": [
            "Text      object\n",
            "alex-a    object\n",
            "dtype: object\n",
            "Text      334\n",
            "alex-a    318\n",
            "dtype: int64\n"
          ],
          "name": "stdout"
        }
      ]
    },
    {
      "cell_type": "code",
      "metadata": {
        "id": "_45D3_b9q9M1",
        "colab_type": "code",
        "colab": {}
      },
      "source": [
        "data = data.dropna()"
      ],
      "execution_count": 0,
      "outputs": []
    },
    {
      "cell_type": "code",
      "metadata": {
        "id": "FYCGPHxjrEzk",
        "colab_type": "code",
        "colab": {
          "base_uri": "https://localhost:8080/",
          "height": 67
        },
        "outputId": "c89b8065-94fd-4662-a2d9-edf4a230b150"
      },
      "source": [
        "data.count()"
      ],
      "execution_count": 41,
      "outputs": [
        {
          "output_type": "execute_result",
          "data": {
            "text/plain": [
              "Text      318\n",
              "alex-a    318\n",
              "dtype: int64"
            ]
          },
          "metadata": {
            "tags": []
          },
          "execution_count": 41
        }
      ]
    },
    {
      "cell_type": "code",
      "metadata": {
        "id": "8r-vMhPGZlsf",
        "colab_type": "code",
        "colab": {
          "base_uri": "https://localhost:8080/",
          "height": 166
        },
        "outputId": "444833a6-94af-446b-df6d-497267beb0c0"
      },
      "source": [
        "data.groupby('alex-a').count()"
      ],
      "execution_count": 42,
      "outputs": [
        {
          "output_type": "execute_result",
          "data": {
            "text/html": [
              "<div>\n",
              "<style scoped>\n",
              "    .dataframe tbody tr th:only-of-type {\n",
              "        vertical-align: middle;\n",
              "    }\n",
              "\n",
              "    .dataframe tbody tr th {\n",
              "        vertical-align: top;\n",
              "    }\n",
              "\n",
              "    .dataframe thead th {\n",
              "        text-align: right;\n",
              "    }\n",
              "</style>\n",
              "<table border=\"1\" class=\"dataframe\">\n",
              "  <thead>\n",
              "    <tr style=\"text-align: right;\">\n",
              "      <th></th>\n",
              "      <th>Text</th>\n",
              "    </tr>\n",
              "    <tr>\n",
              "      <th>alex-a</th>\n",
              "      <th></th>\n",
              "    </tr>\n",
              "  </thead>\n",
              "  <tbody>\n",
              "    <tr>\n",
              "      <th>Alex</th>\n",
              "      <td>31</td>\n",
              "    </tr>\n",
              "    <tr>\n",
              "      <th>NoAlex</th>\n",
              "      <td>242</td>\n",
              "    </tr>\n",
              "    <tr>\n",
              "      <th>PosAlex</th>\n",
              "      <td>45</td>\n",
              "    </tr>\n",
              "  </tbody>\n",
              "</table>\n",
              "</div>"
            ],
            "text/plain": [
              "         Text\n",
              "alex-a       \n",
              "Alex       31\n",
              "NoAlex    242\n",
              "PosAlex    45"
            ]
          },
          "metadata": {
            "tags": []
          },
          "execution_count": 42
        }
      ]
    },
    {
      "cell_type": "code",
      "metadata": {
        "id": "Q13Jz2fMpxkU",
        "colab_type": "code",
        "colab": {}
      },
      "source": [
        "# Join alexithymia and possible alexithymia as one positive class\n",
        "data['alex-a'] = data['alex-a'].apply(lambda x: x.replace('PosAlex', 'Alex'))"
      ],
      "execution_count": 0,
      "outputs": []
    },
    {
      "cell_type": "code",
      "metadata": {
        "id": "KSesjH48Z-pO",
        "colab_type": "code",
        "colab": {
          "base_uri": "https://localhost:8080/",
          "height": 137
        },
        "outputId": "b0e28849-a8c3-4ec0-db24-32f3a1b5d928"
      },
      "source": [
        "data.groupby('alex-a').count()"
      ],
      "execution_count": 44,
      "outputs": [
        {
          "output_type": "execute_result",
          "data": {
            "text/html": [
              "<div>\n",
              "<style scoped>\n",
              "    .dataframe tbody tr th:only-of-type {\n",
              "        vertical-align: middle;\n",
              "    }\n",
              "\n",
              "    .dataframe tbody tr th {\n",
              "        vertical-align: top;\n",
              "    }\n",
              "\n",
              "    .dataframe thead th {\n",
              "        text-align: right;\n",
              "    }\n",
              "</style>\n",
              "<table border=\"1\" class=\"dataframe\">\n",
              "  <thead>\n",
              "    <tr style=\"text-align: right;\">\n",
              "      <th></th>\n",
              "      <th>Text</th>\n",
              "    </tr>\n",
              "    <tr>\n",
              "      <th>alex-a</th>\n",
              "      <th></th>\n",
              "    </tr>\n",
              "  </thead>\n",
              "  <tbody>\n",
              "    <tr>\n",
              "      <th>Alex</th>\n",
              "      <td>76</td>\n",
              "    </tr>\n",
              "    <tr>\n",
              "      <th>NoAlex</th>\n",
              "      <td>242</td>\n",
              "    </tr>\n",
              "  </tbody>\n",
              "</table>\n",
              "</div>"
            ],
            "text/plain": [
              "        Text\n",
              "alex-a      \n",
              "Alex      76\n",
              "NoAlex   242"
            ]
          },
          "metadata": {
            "tags": []
          },
          "execution_count": 44
        }
      ]
    },
    {
      "cell_type": "code",
      "metadata": {
        "id": "0CcfODD0bRr5",
        "colab_type": "code",
        "colab": {}
      },
      "source": [
        "# Cleanining text\n",
        "\n",
        "import unicodedata\n",
        "def strip_accents(s):\n",
        "   return ''.join(c for c in unicodedata.normalize('NFD', s)\n",
        "                  if unicodedata.category(c) != 'Mn')\n",
        "\n",
        "def remove_accents(input_str):\n",
        "    nfkd_form = unicodedata.normalize('NFKD', input_str)\n",
        "    return u\"\".join([c for c in nfkd_form if not unicodedata.combining(c)])\n",
        "                    "
      ],
      "execution_count": 0,
      "outputs": []
    },
    {
      "cell_type": "code",
      "metadata": {
        "id": "3cbIoWA9aDGI",
        "colab_type": "code",
        "colab": {}
      },
      "source": [
        "# Cleanining text\n",
        "\n",
        "data['Text'] = data['Text'].apply(lambda x: remove_accents(x))\n",
        "data['Text'] = data['Text'].apply(lambda x: x.lower())\n",
        "data['Text'] = data['Text'].apply((lambda x: re.sub('[^ña-zA-z0-9\\s]', '', x)))"
      ],
      "execution_count": 0,
      "outputs": []
    },
    {
      "cell_type": "code",
      "metadata": {
        "id": "LmOc2z-maNt1",
        "colab_type": "code",
        "colab": {
          "base_uri": "https://localhost:8080/",
          "height": 166
        },
        "outputId": "e4a279b7-8be9-4467-d232-97a7cbca7913"
      },
      "source": [
        "data.tail(n=4)"
      ],
      "execution_count": 51,
      "outputs": [
        {
          "output_type": "execute_result",
          "data": {
            "text/html": [
              "<div>\n",
              "<style scoped>\n",
              "    .dataframe tbody tr th:only-of-type {\n",
              "        vertical-align: middle;\n",
              "    }\n",
              "\n",
              "    .dataframe tbody tr th {\n",
              "        vertical-align: top;\n",
              "    }\n",
              "\n",
              "    .dataframe thead th {\n",
              "        text-align: right;\n",
              "    }\n",
              "</style>\n",
              "<table border=\"1\" class=\"dataframe\">\n",
              "  <thead>\n",
              "    <tr style=\"text-align: right;\">\n",
              "      <th></th>\n",
              "      <th>Text</th>\n",
              "      <th>alex-a</th>\n",
              "    </tr>\n",
              "  </thead>\n",
              "  <tbody>\n",
              "    <tr>\n",
              "      <th>330</th>\n",
              "      <td>el nino estaba sangrando por la boca porque se...</td>\n",
              "      <td>Alex</td>\n",
              "    </tr>\n",
              "    <tr>\n",
              "      <th>331</th>\n",
              "      <td>se habian pasado todo el dia corriendo y jugan...</td>\n",
              "      <td>Alex</td>\n",
              "    </tr>\n",
              "    <tr>\n",
              "      <th>332</th>\n",
              "      <td>hay unos toros que estan enfadados y se prepar...</td>\n",
              "      <td>Alex</td>\n",
              "    </tr>\n",
              "    <tr>\n",
              "      <th>333</th>\n",
              "      <td>un senor que se arrepiente de haber matado a s...</td>\n",
              "      <td>Alex</td>\n",
              "    </tr>\n",
              "  </tbody>\n",
              "</table>\n",
              "</div>"
            ],
            "text/plain": [
              "                                                  Text alex-a\n",
              "330  el nino estaba sangrando por la boca porque se...   Alex\n",
              "331  se habian pasado todo el dia corriendo y jugan...   Alex\n",
              "332  hay unos toros que estan enfadados y se prepar...   Alex\n",
              "333  un senor que se arrepiente de haber matado a s...   Alex"
            ]
          },
          "metadata": {
            "tags": []
          },
          "execution_count": 51
        }
      ]
    },
    {
      "cell_type": "code",
      "metadata": {
        "id": "jn0rmqyfo2xT",
        "colab_type": "code",
        "colab": {
          "base_uri": "https://localhost:8080/",
          "height": 50
        },
        "outputId": "a7f8984b-b48d-40be-ee16-ee1ed906b33a"
      },
      "source": [
        "nb_alex = data[data['alex-a'] == 'Alex'].size\n",
        "nb_no_alex = data[data['alex-a'] == 'NoAlex'].size\n",
        "\n",
        "\n",
        "print(f\"There are {nb_alex} positive intances of alexithymia or possible alexithymia.\")\n",
        "print(f\"There are {nb_no_alex} negative instances, no alexithymia detected\")\n"
      ],
      "execution_count": 52,
      "outputs": [
        {
          "output_type": "stream",
          "text": [
            "There are 152 positive intances of alexithymia or possible alexithymia.\n",
            "There are 484 negative instances, no alexithymia detected\n"
          ],
          "name": "stdout"
        }
      ]
    },
    {
      "cell_type": "code",
      "metadata": {
        "id": "30mwFlQxpEsM",
        "colab_type": "code",
        "colab": {}
      },
      "source": [
        "# Keras vectorization of the text corpus \n",
        "max_features = 2000\n",
        "\n",
        "tokenizer = Tokenizer(num_words=max_features, split=' ')\n",
        "tokenizer.fit_on_texts(data['Text'].values)\n",
        "\n",
        "X = tokenizer.texts_to_sequences(data['Text'].values)"
      ],
      "execution_count": 0,
      "outputs": []
    },
    {
      "cell_type": "code",
      "metadata": {
        "id": "Kb2WFuPQc6F2",
        "colab_type": "code",
        "colab": {
          "base_uri": "https://localhost:8080/",
          "height": 70
        },
        "outputId": "9a76c172-0cbf-4e80-e835-1fd325f07b33"
      },
      "source": [
        "print(f\"Text: {data['Text'][1]}. Vector: {X[1]}\") \n",
        "print(f\"Text: {data['Text'][2]}. Vector: {X[2]}\") "
      ],
      "execution_count": 61,
      "outputs": [
        {
          "output_type": "stream",
          "text": [
            "Text: una madre que esta consolando a su hijo despues de darle las notas que ha sacado no se cuantos insuficientes. Vector: [8, 160, 1, 16, 870, 5, 11, 125, 45, 2, 871, 18, 397, 1, 38, 872, 12, 10, 539, 873]\n",
            "Text: un pantanal con una barca abandonada a ver que estan haciendo los de la barca buscar setas. Vector: [4, 874, 14, 8, 161, 540, 5, 112, 1, 39, 126, 19, 2, 7, 161, 212, 875]\n"
          ],
          "name": "stdout"
        }
      ]
    },
    {
      "cell_type": "code",
      "metadata": {
        "id": "pDYSX-UZc4cm",
        "colab_type": "code",
        "colab": {}
      },
      "source": [
        "# Make sure we have the same length in all document vector\n",
        "X = pad_sequences(X)"
      ],
      "execution_count": 0,
      "outputs": []
    },
    {
      "cell_type": "code",
      "metadata": {
        "id": "ntj4AsOqrv_E",
        "colab_type": "code",
        "colab": {
          "base_uri": "https://localhost:8080/",
          "height": 518
        },
        "outputId": "5aac715d-ab24-4914-f818-f30979118f4b"
      },
      "source": [
        "print(f\"Vector Length: {len(X[1])}\")\n",
        "print(X[1])\n",
        "print(f\"Vector Length: {len(X[131])}\")\n",
        "print(X[131])\n",
        "print(f\"Vector Length: {len(X[3])}\")\n",
        "print(X[3])"
      ],
      "execution_count": 74,
      "outputs": [
        {
          "output_type": "stream",
          "text": [
            "Vector Length: 162\n",
            "[  0   0   0   0   0   0   0   0   0   0   0   0   0   0   0   0   0   0\n",
            "   0   0   0   0   0   0   0   0   0   0   0   0   0   0   0   0   0   0\n",
            "   0   0   0   0   0   0   0   0   0   0   0   0   0   0   0   0   0   0\n",
            "   0   0   0   0   0   0   0   0   0   0   0   0   0   0   0   0   0   0\n",
            "   0   0   0   0   0   0   0   0   0   0   0   0   0   0   0   0   0   0\n",
            "   0   0   0   0   0   0   0   0   0   0   0   0   0   0   0   0   0   0\n",
            "   0   0   0   0   0   0   0   0   0   0   0   0   0   0   0   0   0   0\n",
            "   0   0   0   0   0   0   0   0   0   0   0   0   0   0   0   0   8 160\n",
            "   1  16 870   5  11 125  45   2 871  18 397   1  38 872  12  10 539 873]\n",
            "Vector Length: 162\n",
            "[  0   0   0   0   0   0   0   0   0   0   0   0   0   0   0   0   0   0\n",
            "   0   0   0   0   0   0   0   0   0   0   0   0   0   0   0   0   0   0\n",
            "   0   0   0   0   0   0   0   0   0   0   0   0   0   0   0   0   0   0\n",
            "   0   0   0   0   0   0   0   0   0   0   0   0   0   0   0   0   0   0\n",
            "   0   0   0   0   0   0   0   0   0   0   0   0   0   0   0   0   0   0\n",
            "   0   0   0   0   0   0   0   0   0   0   0   0   0   0   0   0   0   0\n",
            "   0   0   0   0   0   0   0   0   0   0   0   0   0   0   0   0   0   0\n",
            "   0   0   0   0   0   0   0   0   0   0   0   0   0   0   0   0   0   0\n",
            "   0   0   0   0   0   0   0   0   4  62   2  88  82 105   2 337  23  74]\n",
            "Vector Length: 162\n",
            "[  0   0   0   0   0   0   0   0   0   0   0   0   0   0   0   0   0   0\n",
            "   0   0   0   0   0   0   0   0   0   0   0   0   0   0   0   0   0   0\n",
            "   0   0   0   0   0   0   0   0   0   0   0   0   0   0   0   0   0   0\n",
            "   0   0   0   0   0   0   0   0   0   0   0   0   0   0   0   0   0   0\n",
            "   0   0   0   0   0   0   0   0   0   0   0   0   0   0   0   0   0   0\n",
            "   0   0   0   0   0   0   0   0   0   0   0   0   0   0   0   0   0   0\n",
            "   0   0   0   0   0   0   0   0   0  35   4 541  36 398  14   8 161   4\n",
            " 162 399  14 298 876 542  25  35  68  28  12  33 213  63   1   4  34 543\n",
            "  42 877   1 400   3  23 214 543  42 299   3  10 401   5 544 878   3 398]\n"
          ],
          "name": "stdout"
        }
      ]
    },
    {
      "cell_type": "code",
      "metadata": {
        "id": "_U24pHVDrokb",
        "colab_type": "code",
        "colab": {}
      },
      "source": [
        "# One HOT encoding for alexithymia label\n",
        "# and the values in Y. \n",
        "\n",
        "Y = pd.get_dummies(data['alex-a']).values"
      ],
      "execution_count": 0,
      "outputs": []
    },
    {
      "cell_type": "code",
      "metadata": {
        "id": "DDFD7M-TYoQh",
        "colab_type": "code",
        "colab": {
          "base_uri": "https://localhost:8080/",
          "height": 50
        },
        "outputId": "0d35f1ae-dec7-47cf-da47-8b02e53fa88b"
      },
      "source": [
        "# Train / Test partitions (90/10)\n",
        "\n",
        "X_train, X_test, Y_train, Y_test = train_test_split(X,Y, test_size = 0.10, random_state = 42)\n",
        "\n",
        "print(f\"Train shape. Feature Vector:{X_train.shape}, Label:{Y_train.shape} (binary classification)\")\n",
        "print(f\"Test shape. Feature Vector: {X_test.shape}, Label:{Y_test.shape} (binary classification)\")"
      ],
      "execution_count": 112,
      "outputs": [
        {
          "output_type": "stream",
          "text": [
            "Train shape. Feature Vector:(286, 162), Label:(286, 2) (binary classification)\n",
            "Test shape. Feature Vector: (32, 162), Label:(32, 2) (binary classification)\n"
          ],
          "name": "stdout"
        }
      ]
    },
    {
      "cell_type": "code",
      "metadata": {
        "id": "u9I9nXBhsTF7",
        "colab_type": "code",
        "colab": {
          "base_uri": "https://localhost:8080/",
          "height": 284
        },
        "outputId": "f81e363e-282c-47c9-f853-0d4d5199d027"
      },
      "source": [
        "# Deep RNN Model Definition:\n",
        "# Embedding -> Dropout -> LSTM -> Dense \n",
        "\n",
        "embed_dim = 128\n",
        "lstm_out = 196\n",
        "\n",
        "model = Sequential()\n",
        "model.add(Embedding(max_fatures, embed_dim, input_length = X.shape[1]))\n",
        "model.add(SpatialDropout1D(0.4))\n",
        "model.add(LSTM(lstm_out, dropout=0.2, recurrent_dropout=0.2))\n",
        "model.add(Dense(2,activation='softmax'))\n",
        "model.compile(loss = 'categorical_crossentropy', optimizer='adam',metrics = ['accuracy'])\n",
        "print(model.summary())"
      ],
      "execution_count": 96,
      "outputs": [
        {
          "output_type": "stream",
          "text": [
            "_________________________________________________________________\n",
            "Layer (type)                 Output Shape              Param #   \n",
            "=================================================================\n",
            "embedding_2 (Embedding)      (None, 162, 128)          256000    \n",
            "_________________________________________________________________\n",
            "spatial_dropout1d_2 (Spatial (None, 162, 128)          0         \n",
            "_________________________________________________________________\n",
            "lstm_2 (LSTM)                (None, 196)               254800    \n",
            "_________________________________________________________________\n",
            "dense_2 (Dense)              (None, 2)                 394       \n",
            "=================================================================\n",
            "Total params: 511,194\n",
            "Trainable params: 511,194\n",
            "Non-trainable params: 0\n",
            "_________________________________________________________________\n",
            "None\n"
          ],
          "name": "stdout"
        }
      ]
    },
    {
      "cell_type": "code",
      "metadata": {
        "id": "mOKl__45sfUa",
        "colab_type": "code",
        "colab": {
          "base_uri": "https://localhost:8080/",
          "height": 605
        },
        "outputId": "f34dbb9b-c76b-49c6-e259-4ca5b0cc20ae"
      },
      "source": [
        "# Train the model\n",
        "batch_size = 32\n",
        "model.fit(X_train, Y_train, epochs = 15, batch_size=batch_size, verbose = 2)"
      ],
      "execution_count": 85,
      "outputs": [
        {
          "output_type": "stream",
          "text": [
            "WARNING:tensorflow:From /usr/local/lib/python3.6/dist-packages/tensorflow/python/ops/math_ops.py:3066: to_int32 (from tensorflow.python.ops.math_ops) is deprecated and will be removed in a future version.\n",
            "Instructions for updating:\n",
            "Use tf.cast instead.\n",
            "Epoch 1/15\n",
            " - 4s - loss: 0.6610 - acc: 0.7098\n",
            "Epoch 2/15\n",
            " - 2s - loss: 0.5484 - acc: 0.7622\n",
            "Epoch 3/15\n",
            " - 2s - loss: 0.5321 - acc: 0.7622\n",
            "Epoch 4/15\n",
            " - 2s - loss: 0.5023 - acc: 0.7622\n",
            "Epoch 5/15\n",
            " - 2s - loss: 0.4435 - acc: 0.7657\n",
            "Epoch 6/15\n",
            " - 2s - loss: 0.3706 - acc: 0.7867\n",
            "Epoch 7/15\n",
            " - 2s - loss: 0.2553 - acc: 0.9021\n",
            "Epoch 8/15\n",
            " - 2s - loss: 0.1375 - acc: 0.9580\n",
            "Epoch 9/15\n",
            " - 2s - loss: 0.1077 - acc: 0.9510\n",
            "Epoch 10/15\n",
            " - 2s - loss: 0.0671 - acc: 0.9895\n",
            "Epoch 11/15\n",
            " - 2s - loss: 0.0324 - acc: 1.0000\n",
            "Epoch 12/15\n",
            " - 2s - loss: 0.0265 - acc: 0.9930\n",
            "Epoch 13/15\n",
            " - 2s - loss: 0.0264 - acc: 0.9930\n",
            "Epoch 14/15\n",
            " - 2s - loss: 0.0172 - acc: 1.0000\n",
            "Epoch 15/15\n",
            " - 2s - loss: 0.0100 - acc: 0.9965\n"
          ],
          "name": "stdout"
        },
        {
          "output_type": "execute_result",
          "data": {
            "text/plain": [
              "<keras.callbacks.History at 0x7f73d0d53710>"
            ]
          },
          "metadata": {
            "tags": []
          },
          "execution_count": 85
        }
      ]
    },
    {
      "cell_type": "code",
      "metadata": {
        "id": "4anoHMhai9O4",
        "colab_type": "code",
        "colab": {
          "base_uri": "https://localhost:8080/",
          "height": 67
        },
        "outputId": "1e9f1403-e4ba-490e-809b-94d1118c49d4"
      },
      "source": [
        "print(X_test.shape)\n",
        "print(Y_test.shape)\n",
        "print(f\"Test shape. Feature Vector: {X_test.shape}, Label:{Y_test.shape} (binary classification)\")"
      ],
      "execution_count": 108,
      "outputs": [
        {
          "output_type": "stream",
          "text": [
            "(32, 162)\n",
            "(32, 2)\n",
            "Test shape. Feature Vector: (32, 162), Label:(32, 2) (binary classification)\n"
          ],
          "name": "stdout"
        }
      ]
    },
    {
      "cell_type": "code",
      "metadata": {
        "id": "_bzk9E7gsoK9",
        "colab_type": "code",
        "colab": {
          "base_uri": "https://localhost:8080/",
          "height": 67
        },
        "outputId": "b241fbf3-4ee6-47ff-8616-a7d25b6963a8"
      },
      "source": [
        "validation_size = 20\n",
        "\n",
        "X_validate = X_test[-validation_size:]\n",
        "Y_validate = Y_test[-validation_size:]\n",
        "X_test = X_test[:-validation_size]\n",
        "Y_test = Y_test[:-validation_size]\n",
        "\n",
        "score,acc = model.evaluate(X_test, Y_test, verbose = 2, batch_size = batch_size)\n",
        "\n",
        "print(model.metrics_names)\n",
        "print(\"score: %.2f\" % (score))\n",
        "print(\"acc: %.2f\" % (acc))"
      ],
      "execution_count": 113,
      "outputs": [
        {
          "output_type": "stream",
          "text": [
            "['loss', 'acc']\n",
            "score: 0.69\n",
            "acc: 0.50\n"
          ],
          "name": "stdout"
        }
      ]
    },
    {
      "cell_type": "code",
      "metadata": {
        "id": "MtscSHqVtLL2",
        "colab_type": "code",
        "colab": {
          "base_uri": "https://localhost:8080/",
          "height": 53
        },
        "outputId": "a3873248-e562-4320-c598-a5a310ee00a8"
      },
      "source": [
        "narratives = ['Este niño está triste porque no le dejan tocar la guitarra, que es lo que le gusta a él. Y se siente mal por tener que aprender a tocar el violín.', \n",
        "             'Me pongo muy nerviosos viendo esta imagen. Es una locura']\n",
        "p_narratives =[]\n",
        "\n",
        "for text in narratives:\n",
        "  p_narratives.append(remove_accents(text).lower())\n",
        "  \n",
        "\n",
        "print(p_narratives)"
      ],
      "execution_count": 157,
      "outputs": [
        {
          "output_type": "stream",
          "text": [
            "['este nino esta triste porque no le dejan tocar la guitarra, que es lo que le gusta a el. y se siente mal por tener que aprender a tocar el violin.', 'me pongo muy nerviosos viendo esta imagen. es una locura']\n"
          ],
          "name": "stdout"
        }
      ]
    },
    {
      "cell_type": "code",
      "metadata": {
        "id": "RA2cazeLldxH",
        "colab_type": "code",
        "colab": {
          "base_uri": "https://localhost:8080/",
          "height": 53
        },
        "outputId": "2e38937c-0e5a-4e1d-eaa8-4576336392f3"
      },
      "source": [
        "# vectorizing the text by the pre-fitted tokenizer instance\n",
        "\n",
        "pp_narratives = tokenizer.texts_to_sequences(p_narratives)\n",
        "\n",
        "print(pp_narratives)"
      ],
      "execution_count": 158,
      "outputs": [
        {
          "output_type": "stream",
          "text": [
            "[[97, 22, 16, 68, 28, 12, 13, 40, 7, 1119, 1, 27, 20, 1, 13, 178, 5, 6, 3, 10, 190, 169, 15, 120, 1, 93, 5, 40, 6, 21], [54, 36, 257, 16, 287, 27, 8]]\n"
          ],
          "name": "stdout"
        }
      ]
    },
    {
      "cell_type": "code",
      "metadata": {
        "id": "ZzP3ymEIs4Or",
        "colab_type": "code",
        "colab": {
          "base_uri": "https://localhost:8080/",
          "height": 418
        },
        "outputId": "fa0fd9a8-bfcc-49c7-c6d5-f7303222f4d7"
      },
      "source": [
        "# Padding the tweet to have exactly the same shape as `embedding_2` input\n",
        "\n",
        "pp_narratives = pad_sequences(pp_narratives, maxlen=162, dtype='int32', value=0)\n",
        "print(pp_narratives)\n"
      ],
      "execution_count": 159,
      "outputs": [
        {
          "output_type": "stream",
          "text": [
            "[[   0    0    0    0    0    0    0    0    0    0    0    0    0    0\n",
            "     0    0    0    0    0    0    0    0    0    0    0    0    0    0\n",
            "     0    0    0    0    0    0    0    0    0    0    0    0    0    0\n",
            "     0    0    0    0    0    0    0    0    0    0    0    0    0    0\n",
            "     0    0    0    0    0    0    0    0    0    0    0    0    0    0\n",
            "     0    0    0    0    0    0    0    0    0    0    0    0    0    0\n",
            "     0    0    0    0    0    0    0    0    0    0    0    0    0    0\n",
            "     0    0    0    0    0    0    0    0    0    0    0    0    0    0\n",
            "     0    0    0    0    0    0    0    0    0    0    0    0    0    0\n",
            "     0    0    0    0    0    0   97   22   16   68   28   12   13   40\n",
            "     7 1119    1   27   20    1   13  178    5    6    3   10  190  169\n",
            "    15  120    1   93    5   40    6   21]\n",
            " [   0    0    0    0    0    0    0    0    0    0    0    0    0    0\n",
            "     0    0    0    0    0    0    0    0    0    0    0    0    0    0\n",
            "     0    0    0    0    0    0    0    0    0    0    0    0    0    0\n",
            "     0    0    0    0    0    0    0    0    0    0    0    0    0    0\n",
            "     0    0    0    0    0    0    0    0    0    0    0    0    0    0\n",
            "     0    0    0    0    0    0    0    0    0    0    0    0    0    0\n",
            "     0    0    0    0    0    0    0    0    0    0    0    0    0    0\n",
            "     0    0    0    0    0    0    0    0    0    0    0    0    0    0\n",
            "     0    0    0    0    0    0    0    0    0    0    0    0    0    0\n",
            "     0    0    0    0    0    0    0    0    0    0    0    0    0    0\n",
            "     0    0    0    0    0    0    0    0    0    0    0    0    0    0\n",
            "     0   54   36  257   16  287   27    8]]\n"
          ],
          "name": "stdout"
        }
      ]
    },
    {
      "cell_type": "code",
      "metadata": {
        "id": "PIUSrlAQl8nF",
        "colab_type": "code",
        "colab": {
          "base_uri": "https://localhost:8080/",
          "height": 84
        },
        "outputId": "7936a6a6-d877-444c-b718-90ef6f22c967"
      },
      "source": [
        "# Testing the predictive model\n",
        "\n",
        "alex_screening = model.predict(pp_narratives, batch_size=1, verbose = 2)\n",
        "\n",
        "for prediction in alex_screening:\n",
        "  print(prediction)\n",
        "  if(np.argmax(prediction) == 0):\n",
        "      print(\"negative: No Alexithymia\")\n",
        "  elif (np.argmax(prediction) == 1):\n",
        "    print(\"positive: Possible Alexithymia\")"
      ],
      "execution_count": 160,
      "outputs": [
        {
          "output_type": "stream",
          "text": [
            "[0.5027526 0.4972474]\n",
            "negative: No Alexithymia\n",
            "[0.49610397 0.503896  ]\n",
            "positive: Possible Alexithymia\n"
          ],
          "name": "stdout"
        }
      ]
    },
    {
      "cell_type": "code",
      "metadata": {
        "id": "SiMaKzHOmKQl",
        "colab_type": "code",
        "colab": {}
      },
      "source": [
        ""
      ],
      "execution_count": 0,
      "outputs": []
    }
  ]
}