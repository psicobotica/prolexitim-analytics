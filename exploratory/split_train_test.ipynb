{
 "cells": [
  {
   "cell_type": "markdown",
   "metadata": {},
   "source": [
    "# Tuning dataset and splitting in train and test"
   ]
  },
  {
   "cell_type": "markdown",
   "metadata": {},
   "source": [
    "We are going to use the following modules:"
   ]
  },
  {
   "cell_type": "code",
   "execution_count": 1,
   "metadata": {},
   "outputs": [],
   "source": [
    "import pandas as pd"
   ]
  },
  {
   "cell_type": "markdown",
   "metadata": {},
   "source": [
    "First of all we are loading the data:"
   ]
  },
  {
   "cell_type": "code",
   "execution_count": 2,
   "metadata": {},
   "outputs": [],
   "source": [
    "data = pd.read_csv('../data/prolexitim-merged-1.3.csv', header=0,delimiter=\"\\t\")"
   ]
  },
  {
   "cell_type": "code",
   "execution_count": 3,
   "metadata": {},
   "outputs": [
    {
     "data": {
      "text/html": [
       "<div>\n",
       "<style scoped>\n",
       "    .dataframe tbody tr th:only-of-type {\n",
       "        vertical-align: middle;\n",
       "    }\n",
       "\n",
       "    .dataframe tbody tr th {\n",
       "        vertical-align: top;\n",
       "    }\n",
       "\n",
       "    .dataframe thead th {\n",
       "        text-align: right;\n",
       "    }\n",
       "</style>\n",
       "<table border=\"1\" class=\"dataframe\">\n",
       "  <thead>\n",
       "    <tr style=\"text-align: right;\">\n",
       "      <th></th>\n",
       "      <th>RowId</th>\n",
       "      <th>code</th>\n",
       "      <th>card</th>\n",
       "      <th>hum</th>\n",
       "      <th>mode</th>\n",
       "      <th>time</th>\n",
       "      <th>G-score</th>\n",
       "      <th>G-magnitude</th>\n",
       "      <th>Azure-TA</th>\n",
       "      <th>Text</th>\n",
       "      <th>...</th>\n",
       "      <th>SClass</th>\n",
       "      <th>Siblings</th>\n",
       "      <th>SibPos</th>\n",
       "      <th>Origin</th>\n",
       "      <th>Resid</th>\n",
       "      <th>Rtime</th>\n",
       "      <th>Ethnic</th>\n",
       "      <th>Job</th>\n",
       "      <th>alex-a</th>\n",
       "      <th>alex-b</th>\n",
       "    </tr>\n",
       "  </thead>\n",
       "  <tbody>\n",
       "    <tr>\n",
       "      <th>0</th>\n",
       "      <td>1</td>\n",
       "      <td>b7adde8a9eec8ce92b5ee0507ce054a4</td>\n",
       "      <td>13V</td>\n",
       "      <td>1</td>\n",
       "      <td>T</td>\n",
       "      <td>200000</td>\n",
       "      <td>-0.2</td>\n",
       "      <td>0.2</td>\n",
       "      <td>0.62</td>\n",
       "      <td>Era un niño pensando en el granero pensando a ...</td>\n",
       "      <td>...</td>\n",
       "      <td>2.0</td>\n",
       "      <td>5.0</td>\n",
       "      <td>3.0</td>\n",
       "      <td>ES</td>\n",
       "      <td>ES</td>\n",
       "      <td>-1.0</td>\n",
       "      <td>Iberic</td>\n",
       "      <td>Manager</td>\n",
       "      <td>NoAlex</td>\n",
       "      <td>NoAlex</td>\n",
       "    </tr>\n",
       "    <tr>\n",
       "      <th>1</th>\n",
       "      <td>2</td>\n",
       "      <td>b7adde8a9eec8ce92b5ee0507ce054a4</td>\n",
       "      <td>18NM</td>\n",
       "      <td>2</td>\n",
       "      <td>T</td>\n",
       "      <td>200000</td>\n",
       "      <td>-0.5</td>\n",
       "      <td>0.5</td>\n",
       "      <td>0.41</td>\n",
       "      <td>Una madre que está consolando a su hijo, despu...</td>\n",
       "      <td>...</td>\n",
       "      <td>2.0</td>\n",
       "      <td>5.0</td>\n",
       "      <td>3.0</td>\n",
       "      <td>ES</td>\n",
       "      <td>ES</td>\n",
       "      <td>-1.0</td>\n",
       "      <td>Iberic</td>\n",
       "      <td>Manager</td>\n",
       "      <td>NoAlex</td>\n",
       "      <td>NoAlex</td>\n",
       "    </tr>\n",
       "    <tr>\n",
       "      <th>2</th>\n",
       "      <td>3</td>\n",
       "      <td>b7adde8a9eec8ce92b5ee0507ce054a4</td>\n",
       "      <td>12VN</td>\n",
       "      <td>0</td>\n",
       "      <td>T</td>\n",
       "      <td>200000</td>\n",
       "      <td>0.0</td>\n",
       "      <td>1.2</td>\n",
       "      <td>0.63</td>\n",
       "      <td>Un pantanal con una barca abandonada. A ver qu...</td>\n",
       "      <td>...</td>\n",
       "      <td>2.0</td>\n",
       "      <td>5.0</td>\n",
       "      <td>3.0</td>\n",
       "      <td>ES</td>\n",
       "      <td>ES</td>\n",
       "      <td>-1.0</td>\n",
       "      <td>Iberic</td>\n",
       "      <td>Manager</td>\n",
       "      <td>NoAlex</td>\n",
       "      <td>NoAlex</td>\n",
       "    </tr>\n",
       "    <tr>\n",
       "      <th>3</th>\n",
       "      <td>4</td>\n",
       "      <td>76ef63369f7d5b6597a543017e1ef578</td>\n",
       "      <td>12VN</td>\n",
       "      <td>0</td>\n",
       "      <td>T</td>\n",
       "      <td>200000</td>\n",
       "      <td>0.0</td>\n",
       "      <td>0.1</td>\n",
       "      <td>0.89</td>\n",
       "      <td>Era un paraje muy bonito, con una barca, un po...</td>\n",
       "      <td>...</td>\n",
       "      <td>2.0</td>\n",
       "      <td>3.0</td>\n",
       "      <td>3.0</td>\n",
       "      <td>ES</td>\n",
       "      <td>ES</td>\n",
       "      <td>-1.0</td>\n",
       "      <td>Iberic</td>\n",
       "      <td>Retired</td>\n",
       "      <td>Alex</td>\n",
       "      <td>Alex</td>\n",
       "    </tr>\n",
       "    <tr>\n",
       "      <th>4</th>\n",
       "      <td>5</td>\n",
       "      <td>76ef63369f7d5b6597a543017e1ef578</td>\n",
       "      <td>10</td>\n",
       "      <td>2</td>\n",
       "      <td>T</td>\n",
       "      <td>200000</td>\n",
       "      <td>0.3</td>\n",
       "      <td>0.1</td>\n",
       "      <td>0.24</td>\n",
       "      <td>Era una vez un matrimonio, que se quería muchí...</td>\n",
       "      <td>...</td>\n",
       "      <td>2.0</td>\n",
       "      <td>3.0</td>\n",
       "      <td>3.0</td>\n",
       "      <td>ES</td>\n",
       "      <td>ES</td>\n",
       "      <td>-1.0</td>\n",
       "      <td>Iberic</td>\n",
       "      <td>Retired</td>\n",
       "      <td>Alex</td>\n",
       "      <td>Alex</td>\n",
       "    </tr>\n",
       "  </tbody>\n",
       "</table>\n",
       "<p>5 rows × 41 columns</p>\n",
       "</div>"
      ],
      "text/plain": [
       "   RowId                              code  card  hum mode    time  G-score  \\\n",
       "0      1  b7adde8a9eec8ce92b5ee0507ce054a4   13V    1    T  200000     -0.2   \n",
       "1      2  b7adde8a9eec8ce92b5ee0507ce054a4  18NM    2    T  200000     -0.5   \n",
       "2      3  b7adde8a9eec8ce92b5ee0507ce054a4  12VN    0    T  200000      0.0   \n",
       "3      4  76ef63369f7d5b6597a543017e1ef578  12VN    0    T  200000      0.0   \n",
       "4      5  76ef63369f7d5b6597a543017e1ef578    10    2    T  200000      0.3   \n",
       "\n",
       "   G-magnitude  Azure-TA                                               Text  \\\n",
       "0          0.2      0.62  Era un niño pensando en el granero pensando a ...   \n",
       "1          0.5      0.41  Una madre que está consolando a su hijo, despu...   \n",
       "2          1.2      0.63  Un pantanal con una barca abandonada. A ver qu...   \n",
       "3          0.1      0.89  Era un paraje muy bonito, con una barca, un po...   \n",
       "4          0.1      0.24  Era una vez un matrimonio, que se quería muchí...   \n",
       "\n",
       "   ... SClass  Siblings SibPos  Origin  Resid  Rtime  Ethnic      Job  alex-a  \\\n",
       "0  ...    2.0       5.0    3.0      ES     ES   -1.0  Iberic  Manager  NoAlex   \n",
       "1  ...    2.0       5.0    3.0      ES     ES   -1.0  Iberic  Manager  NoAlex   \n",
       "2  ...    2.0       5.0    3.0      ES     ES   -1.0  Iberic  Manager  NoAlex   \n",
       "3  ...    2.0       3.0    3.0      ES     ES   -1.0  Iberic  Retired    Alex   \n",
       "4  ...    2.0       3.0    3.0      ES     ES   -1.0  Iberic  Retired    Alex   \n",
       "\n",
       "   alex-b  \n",
       "0  NoAlex  \n",
       "1  NoAlex  \n",
       "2  NoAlex  \n",
       "3    Alex  \n",
       "4    Alex  \n",
       "\n",
       "[5 rows x 41 columns]"
      ]
     },
     "execution_count": 3,
     "metadata": {},
     "output_type": "execute_result"
    }
   ],
   "source": [
    "data.head()"
   ]
  },
  {
   "cell_type": "code",
   "execution_count": 6,
   "metadata": {},
   "outputs": [
    {
     "data": {
      "text/plain": [
       "Index(['RowId', 'code', 'card', 'hum', 'mode', 'time', 'G-score',\n",
       "       'G-magnitude', 'Azure-TA', 'Text', 'Text-EN', 'nlu-sentiment',\n",
       "       'nlu-label', 'nlu-joy', 'nlu-anger', 'nlu-disgust', 'nlu-sadness',\n",
       "       'nlu-fear', 'es-len', 'en-len', 'NLP', 'TAS20', 'F1', 'F2', 'F3',\n",
       "       'Tas20Time', 'Sex', 'Gender', 'Age', 'Dhand', 'Studies', 'SClass',\n",
       "       'Siblings', 'SibPos', 'Origin', 'Resid', 'Rtime', 'Ethnic', 'Job',\n",
       "       'alex-a', 'alex-b'],\n",
       "      dtype='object')"
      ]
     },
     "execution_count": 6,
     "metadata": {},
     "output_type": "execute_result"
    }
   ],
   "source": [
    "data.columns"
   ]
  },
  {
   "cell_type": "markdown",
   "metadata": {},
   "source": [
    "We erase the rows with empty fields and rename the Alex tag:"
   ]
  },
  {
   "cell_type": "code",
   "execution_count": 4,
   "metadata": {},
   "outputs": [],
   "source": [
    "data = data.dropna()\n",
    "data['AlexLabel'] = data['alex-a']"
   ]
  },
  {
   "cell_type": "markdown",
   "metadata": {},
   "source": [
    "We are going to merge texts classified as Alexithymic and possible Alexithymic:"
   ]
  },
  {
   "cell_type": "code",
   "execution_count": 5,
   "metadata": {},
   "outputs": [],
   "source": [
    "data['AlexLabel'] = data['AlexLabel'].apply(lambda x: x.replace('PosAlex', 'Alex'))"
   ]
  },
  {
   "cell_type": "markdown",
   "metadata": {},
   "source": [
    "We are going to check how many alexthymic cases there are:"
   ]
  },
  {
   "cell_type": "code",
   "execution_count": 6,
   "metadata": {},
   "outputs": [
    {
     "data": {
      "text/plain": [
       "AlexLabel\n",
       "Alex       76\n",
       "NoAlex    240\n",
       "Name: RowId, dtype: int64"
      ]
     },
     "execution_count": 6,
     "metadata": {},
     "output_type": "execute_result"
    }
   ],
   "source": [
    "data.groupby(by='AlexLabel').count()['RowId']"
   ]
  },
  {
   "cell_type": "markdown",
   "metadata": {},
   "source": [
    "By putting together possible and positive casess we got to balance a bit the dataset though it is still unbalanced (25% cases of Alexithymia)."
   ]
  },
  {
   "cell_type": "markdown",
   "metadata": {},
   "source": [
    "We generate subclasses with pairs (AlexLabel,card):"
   ]
  },
  {
   "cell_type": "code",
   "execution_count": 7,
   "metadata": {},
   "outputs": [],
   "source": [
    "data['SubClass'] = data['AlexLabel'] + '-' + data['card']"
   ]
  },
  {
   "cell_type": "markdown",
   "metadata": {},
   "source": [
    "We save this dataset:"
   ]
  },
  {
   "cell_type": "code",
   "execution_count": 8,
   "metadata": {},
   "outputs": [
    {
     "data": {
      "text/html": [
       "<div>\n",
       "<style scoped>\n",
       "    .dataframe tbody tr th:only-of-type {\n",
       "        vertical-align: middle;\n",
       "    }\n",
       "\n",
       "    .dataframe tbody tr th {\n",
       "        vertical-align: top;\n",
       "    }\n",
       "\n",
       "    .dataframe thead th {\n",
       "        text-align: right;\n",
       "    }\n",
       "</style>\n",
       "<table border=\"1\" class=\"dataframe\">\n",
       "  <thead>\n",
       "    <tr style=\"text-align: right;\">\n",
       "      <th></th>\n",
       "      <th>RowId</th>\n",
       "      <th>code</th>\n",
       "      <th>card</th>\n",
       "      <th>hum</th>\n",
       "      <th>mode</th>\n",
       "      <th>time</th>\n",
       "      <th>G-score</th>\n",
       "      <th>G-magnitude</th>\n",
       "      <th>Azure-TA</th>\n",
       "      <th>Text</th>\n",
       "      <th>...</th>\n",
       "      <th>SibPos</th>\n",
       "      <th>Origin</th>\n",
       "      <th>Resid</th>\n",
       "      <th>Rtime</th>\n",
       "      <th>Ethnic</th>\n",
       "      <th>Job</th>\n",
       "      <th>alex-a</th>\n",
       "      <th>alex-b</th>\n",
       "      <th>AlexLabel</th>\n",
       "      <th>SubClass</th>\n",
       "    </tr>\n",
       "  </thead>\n",
       "  <tbody>\n",
       "    <tr>\n",
       "      <th>0</th>\n",
       "      <td>1</td>\n",
       "      <td>b7adde8a9eec8ce92b5ee0507ce054a4</td>\n",
       "      <td>13V</td>\n",
       "      <td>1</td>\n",
       "      <td>T</td>\n",
       "      <td>200000</td>\n",
       "      <td>-0.2</td>\n",
       "      <td>0.2</td>\n",
       "      <td>0.62</td>\n",
       "      <td>Era un niño pensando en el granero pensando a ...</td>\n",
       "      <td>...</td>\n",
       "      <td>3.0</td>\n",
       "      <td>ES</td>\n",
       "      <td>ES</td>\n",
       "      <td>-1.0</td>\n",
       "      <td>Iberic</td>\n",
       "      <td>Manager</td>\n",
       "      <td>NoAlex</td>\n",
       "      <td>NoAlex</td>\n",
       "      <td>NoAlex</td>\n",
       "      <td>NoAlex-13V</td>\n",
       "    </tr>\n",
       "    <tr>\n",
       "      <th>1</th>\n",
       "      <td>2</td>\n",
       "      <td>b7adde8a9eec8ce92b5ee0507ce054a4</td>\n",
       "      <td>18NM</td>\n",
       "      <td>2</td>\n",
       "      <td>T</td>\n",
       "      <td>200000</td>\n",
       "      <td>-0.5</td>\n",
       "      <td>0.5</td>\n",
       "      <td>0.41</td>\n",
       "      <td>Una madre que está consolando a su hijo, despu...</td>\n",
       "      <td>...</td>\n",
       "      <td>3.0</td>\n",
       "      <td>ES</td>\n",
       "      <td>ES</td>\n",
       "      <td>-1.0</td>\n",
       "      <td>Iberic</td>\n",
       "      <td>Manager</td>\n",
       "      <td>NoAlex</td>\n",
       "      <td>NoAlex</td>\n",
       "      <td>NoAlex</td>\n",
       "      <td>NoAlex-18NM</td>\n",
       "    </tr>\n",
       "    <tr>\n",
       "      <th>2</th>\n",
       "      <td>3</td>\n",
       "      <td>b7adde8a9eec8ce92b5ee0507ce054a4</td>\n",
       "      <td>12VN</td>\n",
       "      <td>0</td>\n",
       "      <td>T</td>\n",
       "      <td>200000</td>\n",
       "      <td>0.0</td>\n",
       "      <td>1.2</td>\n",
       "      <td>0.63</td>\n",
       "      <td>Un pantanal con una barca abandonada. A ver qu...</td>\n",
       "      <td>...</td>\n",
       "      <td>3.0</td>\n",
       "      <td>ES</td>\n",
       "      <td>ES</td>\n",
       "      <td>-1.0</td>\n",
       "      <td>Iberic</td>\n",
       "      <td>Manager</td>\n",
       "      <td>NoAlex</td>\n",
       "      <td>NoAlex</td>\n",
       "      <td>NoAlex</td>\n",
       "      <td>NoAlex-12VN</td>\n",
       "    </tr>\n",
       "    <tr>\n",
       "      <th>3</th>\n",
       "      <td>4</td>\n",
       "      <td>76ef63369f7d5b6597a543017e1ef578</td>\n",
       "      <td>12VN</td>\n",
       "      <td>0</td>\n",
       "      <td>T</td>\n",
       "      <td>200000</td>\n",
       "      <td>0.0</td>\n",
       "      <td>0.1</td>\n",
       "      <td>0.89</td>\n",
       "      <td>Era un paraje muy bonito, con una barca, un po...</td>\n",
       "      <td>...</td>\n",
       "      <td>3.0</td>\n",
       "      <td>ES</td>\n",
       "      <td>ES</td>\n",
       "      <td>-1.0</td>\n",
       "      <td>Iberic</td>\n",
       "      <td>Retired</td>\n",
       "      <td>Alex</td>\n",
       "      <td>Alex</td>\n",
       "      <td>Alex</td>\n",
       "      <td>Alex-12VN</td>\n",
       "    </tr>\n",
       "    <tr>\n",
       "      <th>4</th>\n",
       "      <td>5</td>\n",
       "      <td>76ef63369f7d5b6597a543017e1ef578</td>\n",
       "      <td>10</td>\n",
       "      <td>2</td>\n",
       "      <td>T</td>\n",
       "      <td>200000</td>\n",
       "      <td>0.3</td>\n",
       "      <td>0.1</td>\n",
       "      <td>0.24</td>\n",
       "      <td>Era una vez un matrimonio, que se quería muchí...</td>\n",
       "      <td>...</td>\n",
       "      <td>3.0</td>\n",
       "      <td>ES</td>\n",
       "      <td>ES</td>\n",
       "      <td>-1.0</td>\n",
       "      <td>Iberic</td>\n",
       "      <td>Retired</td>\n",
       "      <td>Alex</td>\n",
       "      <td>Alex</td>\n",
       "      <td>Alex</td>\n",
       "      <td>Alex-10</td>\n",
       "    </tr>\n",
       "  </tbody>\n",
       "</table>\n",
       "<p>5 rows × 43 columns</p>\n",
       "</div>"
      ],
      "text/plain": [
       "   RowId                              code  card  hum mode    time  G-score  \\\n",
       "0      1  b7adde8a9eec8ce92b5ee0507ce054a4   13V    1    T  200000     -0.2   \n",
       "1      2  b7adde8a9eec8ce92b5ee0507ce054a4  18NM    2    T  200000     -0.5   \n",
       "2      3  b7adde8a9eec8ce92b5ee0507ce054a4  12VN    0    T  200000      0.0   \n",
       "3      4  76ef63369f7d5b6597a543017e1ef578  12VN    0    T  200000      0.0   \n",
       "4      5  76ef63369f7d5b6597a543017e1ef578    10    2    T  200000      0.3   \n",
       "\n",
       "   G-magnitude  Azure-TA                                               Text  \\\n",
       "0          0.2      0.62  Era un niño pensando en el granero pensando a ...   \n",
       "1          0.5      0.41  Una madre que está consolando a su hijo, despu...   \n",
       "2          1.2      0.63  Un pantanal con una barca abandonada. A ver qu...   \n",
       "3          0.1      0.89  Era un paraje muy bonito, con una barca, un po...   \n",
       "4          0.1      0.24  Era una vez un matrimonio, que se quería muchí...   \n",
       "\n",
       "   ... SibPos  Origin Resid  Rtime  Ethnic      Job  alex-a  alex-b  \\\n",
       "0  ...    3.0      ES    ES   -1.0  Iberic  Manager  NoAlex  NoAlex   \n",
       "1  ...    3.0      ES    ES   -1.0  Iberic  Manager  NoAlex  NoAlex   \n",
       "2  ...    3.0      ES    ES   -1.0  Iberic  Manager  NoAlex  NoAlex   \n",
       "3  ...    3.0      ES    ES   -1.0  Iberic  Retired    Alex    Alex   \n",
       "4  ...    3.0      ES    ES   -1.0  Iberic  Retired    Alex    Alex   \n",
       "\n",
       "   AlexLabel     SubClass  \n",
       "0     NoAlex   NoAlex-13V  \n",
       "1     NoAlex  NoAlex-18NM  \n",
       "2     NoAlex  NoAlex-12VN  \n",
       "3       Alex    Alex-12VN  \n",
       "4       Alex      Alex-10  \n",
       "\n",
       "[5 rows x 43 columns]"
      ]
     },
     "execution_count": 8,
     "metadata": {},
     "output_type": "execute_result"
    }
   ],
   "source": [
    "data.head()"
   ]
  },
  {
   "cell_type": "code",
   "execution_count": 9,
   "metadata": {},
   "outputs": [
    {
     "data": {
      "text/plain": [
       "(316, 43)"
      ]
     },
     "execution_count": 9,
     "metadata": {},
     "output_type": "execute_result"
    }
   ],
   "source": [
    "data.shape"
   ]
  },
  {
   "cell_type": "code",
   "execution_count": 11,
   "metadata": {},
   "outputs": [],
   "source": [
    "data.to_csv('../data/prolexitim_analytics.csv', index=False)"
   ]
  },
  {
   "cell_type": "markdown",
   "metadata": {},
   "source": [
    "### Splitting in train and test"
   ]
  },
  {
   "cell_type": "markdown",
   "metadata": {},
   "source": [
    "Since there are only 316 samples we choose a proportion of 0.9 for training and 0.1 for testing. This may change in the future when we have a bigger dataset:"
   ]
  },
  {
   "cell_type": "code",
   "execution_count": 12,
   "metadata": {},
   "outputs": [],
   "source": [
    "data_train = data.sample(frac=0.9, random_state=233)"
   ]
  },
  {
   "cell_type": "code",
   "execution_count": 13,
   "metadata": {},
   "outputs": [],
   "source": [
    "data_test = data.drop(data_train.index)"
   ]
  },
  {
   "cell_type": "markdown",
   "metadata": {},
   "source": [
    "We store the results:"
   ]
  },
  {
   "cell_type": "code",
   "execution_count": 14,
   "metadata": {},
   "outputs": [],
   "source": [
    "data_train.to_csv('../data/train.csv', index=False)"
   ]
  },
  {
   "cell_type": "code",
   "execution_count": 15,
   "metadata": {},
   "outputs": [],
   "source": [
    "data_test.to_csv('../data/test.csv', index=False)"
   ]
  },
  {
   "cell_type": "code",
   "execution_count": null,
   "metadata": {},
   "outputs": [],
   "source": []
  }
 ],
 "metadata": {
  "kernelspec": {
   "display_name": "Python 3",
   "language": "python",
   "name": "python3"
  },
  "language_info": {
   "codemirror_mode": {
    "name": "ipython",
    "version": 3
   },
   "file_extension": ".py",
   "mimetype": "text/x-python",
   "name": "python",
   "nbconvert_exporter": "python",
   "pygments_lexer": "ipython3",
   "version": "3.7.3"
  }
 },
 "nbformat": 4,
 "nbformat_minor": 2
}
