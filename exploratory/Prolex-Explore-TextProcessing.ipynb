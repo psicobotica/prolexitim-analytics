{
 "cells": [
  {
   "cell_type": "markdown",
   "metadata": {},
   "source": [
    "# Prolexitim Exploratory Analysis (Prolex-Explore)\n",
    "## Visualizing Text Feature Distribution and Discrimination\n",
    "<hr>\n",
    "t-SNE and PCA 2D/3D Visualization of alexithymia tagged narratives using: \n",
    "\n",
    "### Classical text processing and analytics with BoW models combined with Word Embeddings\n",
    "<hr>\n",
    "Dataset from Prolexitim TAS-20 Spain, Prolexitim NLP and Spanish 3Billion Word2Vec\n",
    "Sept 2019.<br> Prolexitim dataset version 1.2 (MPGS-TFM-Submission).<br> \n",
    "<a target=\"_blank\" href=\"http://www.conscious-robots.com/papers/TFM_MPGS_Arrabales_vWeb.pdf\">Arrabales, R. 2019. Artificial Intelligence Tools for the Evaluation and Treatment of Alexithymia.</a><br> <br>\n",
    "Raúl Arrabales Moreno (Psicobótica / Serendeepia Research)<br>\n",
    "<a target=\"_blank\" href=\"http://www.conscious-robots.com/\">http://www.conscious-robots.com/</a> <br>\n",
    "<hr>\n",
    "Spanish Word Vectors from: <a taget=\"_blank\" href=\"https://github.com/aitoralmeida/spanish_word2vec\">Spanish 3B Pre-trained Word2Vec</a>"
   ]
  },
  {
   "cell_type": "markdown",
   "metadata": {},
   "source": [
    "## Load Word Vectors and Documents (texts + labels)\n",
    "- Word Vectors are obtained from the pre-trained Spanish 3B Word2Vec.\n",
    "- Documents are obtained from the Prolexitim Pilot Study.\n",
    "    - Text are narratives from Prolexitim NLP. \n",
    "    - Labels are categorical values from Prolexitim TAS-20.\n"
   ]
  },
  {
   "cell_type": "markdown",
   "metadata": {},
   "source": [
    "### Loading the word vectors"
   ]
  },
  {
   "cell_type": "code",
   "execution_count": 1,
   "metadata": {},
   "outputs": [],
   "source": [
    "from gensim.models import KeyedVectors"
   ]
  },
  {
   "cell_type": "code",
   "execution_count": 2,
   "metadata": {},
   "outputs": [],
   "source": [
    "# My copy of Spanish 3 Billion Word2Vec\n",
    "word_vectors = KeyedVectors.load('D:\\Dropbox-Array2001\\Dropbox\\DataSets\\Spanish Word2Vec\\complete.kv', mmap='r')"
   ]
  },
  {
   "cell_type": "code",
   "execution_count": 3,
   "metadata": {},
   "outputs": [
    {
     "data": {
      "text/plain": [
       "('chiquillo', 0.863490104675293)"
      ]
     },
     "execution_count": 3,
     "metadata": {},
     "output_type": "execute_result"
    }
   ],
   "source": [
    "# Testing Word Vectors for Spanish\n",
    "word_vectors.most_similar(\"niño\")[0]"
   ]
  },
  {
   "cell_type": "code",
   "execution_count": 4,
   "metadata": {},
   "outputs": [],
   "source": [
    "# Testing Word Vectors for Spanish\n",
    "# word_vectors.get_vector(\"niño\")"
   ]
  },
  {
   "cell_type": "code",
   "execution_count": 5,
   "metadata": {},
   "outputs": [
    {
     "data": {
      "text/plain": [
       "('reina', 0.7074883580207825)"
      ]
     },
     "execution_count": 5,
     "metadata": {},
     "output_type": "execute_result"
    }
   ],
   "source": [
    "# Testing Word Vectors for Spanish\n",
    "word_vectors.similar_by_vector(\n",
    "    word_vectors.get_vector(\"rey\") - \n",
    "    word_vectors.get_vector(\"hombre\") + \n",
    "    word_vectors.get_vector(\"mujer\"))[0]"
   ]
  },
  {
   "cell_type": "markdown",
   "metadata": {},
   "source": [
    "### Loading Prolexitim TAS-20 + Text Visualization Dataset Load"
   ]
  },
  {
   "cell_type": "code",
   "execution_count": 6,
   "metadata": {},
   "outputs": [],
   "source": [
    "import pandas as pd "
   ]
  },
  {
   "cell_type": "code",
   "execution_count": 7,
   "metadata": {},
   "outputs": [],
   "source": [
    "viz_dataset_path = \"D:\\\\Dropbox-Array2001\\\\Dropbox\\\\UNI\\\\MPGS\\\\2_TFM\\\\Datos\\\\prolexitim-viz-1.2.csv\""
   ]
  },
  {
   "cell_type": "code",
   "execution_count": 8,
   "metadata": {},
   "outputs": [],
   "source": [
    "viz_df = pd.read_csv(viz_dataset_path, header=0, delimiter=\"\\t\")"
   ]
  },
  {
   "cell_type": "code",
   "execution_count": 9,
   "metadata": {},
   "outputs": [
    {
     "data": {
      "text/html": [
       "<div>\n",
       "<style scoped>\n",
       "    .dataframe tbody tr th:only-of-type {\n",
       "        vertical-align: middle;\n",
       "    }\n",
       "\n",
       "    .dataframe tbody tr th {\n",
       "        vertical-align: top;\n",
       "    }\n",
       "\n",
       "    .dataframe thead th {\n",
       "        text-align: right;\n",
       "    }\n",
       "</style>\n",
       "<table border=\"1\" class=\"dataframe\">\n",
       "  <thead>\n",
       "    <tr style=\"text-align: right;\">\n",
       "      <th></th>\n",
       "      <th>Text</th>\n",
       "      <th>AlexLabel</th>\n",
       "      <th>card</th>\n",
       "      <th>TAS20</th>\n",
       "      <th>F1</th>\n",
       "      <th>F2</th>\n",
       "      <th>F3</th>\n",
       "      <th>SubClass</th>\n",
       "    </tr>\n",
       "  </thead>\n",
       "  <tbody>\n",
       "    <tr>\n",
       "      <th>256</th>\n",
       "      <td>es un niño pensando en cual es la respuesta de...</td>\n",
       "      <td>NoAlex</td>\n",
       "      <td>1</td>\n",
       "      <td>40.0</td>\n",
       "      <td>16.0</td>\n",
       "      <td>9.0</td>\n",
       "      <td>15.0</td>\n",
       "      <td>NoAlex-1</td>\n",
       "    </tr>\n",
       "    <tr>\n",
       "      <th>35</th>\n",
       "      <td>En esa cueva el agua se filtraba discurriendo ...</td>\n",
       "      <td>NoAlex</td>\n",
       "      <td>11</td>\n",
       "      <td>31.0</td>\n",
       "      <td>12.0</td>\n",
       "      <td>5.0</td>\n",
       "      <td>14.0</td>\n",
       "      <td>NoAlex-11</td>\n",
       "    </tr>\n",
       "    <tr>\n",
       "      <th>217</th>\n",
       "      <td>Tras una larga y dura jornada se dispusieron a...</td>\n",
       "      <td>NoAlex</td>\n",
       "      <td>9VH</td>\n",
       "      <td>33.0</td>\n",
       "      <td>8.0</td>\n",
       "      <td>6.0</td>\n",
       "      <td>19.0</td>\n",
       "      <td>NoAlex-9VH</td>\n",
       "    </tr>\n",
       "    <tr>\n",
       "      <th>7</th>\n",
       "      <td>Es una pareja y el hombre se encuentra arrepen...</td>\n",
       "      <td>NoAlex</td>\n",
       "      <td>13HM</td>\n",
       "      <td>51.0</td>\n",
       "      <td>15.0</td>\n",
       "      <td>18.0</td>\n",
       "      <td>18.0</td>\n",
       "      <td>NoAlex-13HM</td>\n",
       "    </tr>\n",
       "  </tbody>\n",
       "</table>\n",
       "</div>"
      ],
      "text/plain": [
       "                                                  Text AlexLabel  card  TAS20  \\\n",
       "256  es un niño pensando en cual es la respuesta de...    NoAlex     1   40.0   \n",
       "35   En esa cueva el agua se filtraba discurriendo ...    NoAlex    11   31.0   \n",
       "217  Tras una larga y dura jornada se dispusieron a...    NoAlex   9VH   33.0   \n",
       "7    Es una pareja y el hombre se encuentra arrepen...    NoAlex  13HM   51.0   \n",
       "\n",
       "       F1    F2    F3     SubClass  \n",
       "256  16.0   9.0  15.0     NoAlex-1  \n",
       "35   12.0   5.0  14.0    NoAlex-11  \n",
       "217   8.0   6.0  19.0   NoAlex-9VH  \n",
       "7    15.0  18.0  18.0  NoAlex-13HM  "
      ]
     },
     "execution_count": 9,
     "metadata": {},
     "output_type": "execute_result"
    }
   ],
   "source": [
    "viz_df.sample(4)"
   ]
  },
  {
   "cell_type": "markdown",
   "metadata": {},
   "source": [
    "## Text preprocessing"
   ]
  },
  {
   "cell_type": "code",
   "execution_count": 40,
   "metadata": {},
   "outputs": [],
   "source": [
    "import random\n",
    "import numpy as np\n",
    "\n",
    "import re\n",
    "\n",
    "import nltk\n",
    "from nltk.tokenize import RegexpTokenizer\n",
    "from nltk.corpus import stopwords\n",
    "from nltk.stem import SnowballStemmer"
   ]
  },
  {
   "cell_type": "code",
   "execution_count": 35,
   "metadata": {},
   "outputs": [
    {
     "name": "stderr",
     "output_type": "stream",
     "text": [
      "[nltk_data] Downloading package stopwords to\n",
      "[nltk_data]     C:\\Users\\array\\AppData\\Roaming\\nltk_data...\n",
      "[nltk_data]   Package stopwords is already up-to-date!\n"
     ]
    },
    {
     "data": {
      "text/plain": [
       "True"
      ]
     },
     "execution_count": 35,
     "metadata": {},
     "output_type": "execute_result"
    }
   ],
   "source": [
    "nltk.download('stopwords')"
   ]
  },
  {
   "cell_type": "code",
   "execution_count": 12,
   "metadata": {},
   "outputs": [
    {
     "name": "stdout",
     "output_type": "stream",
     "text": [
      "El doctor solo pudo certificar su muerte, estaba agotado después de todo el día haciendo visitas y aquello le había dejado tremendamente exhausto. Tan solo tenía que regresar a casa, tomarse un whisky y mañana amanecerá de nuevo.\n",
      "\n",
      "['El', 'doctor', 'solo', 'pudo', 'certificar', 'su', 'muerte', 'estaba', 'agotado', 'después', 'de', 'todo', 'el', 'día', 'haciendo', 'visitas', 'y', 'aquello', 'le', 'había', 'dejado', 'tremendamente', 'exhausto', 'Tan', 'solo', 'tenía', 'que', 'regresar', 'a', 'casa', 'tomarse', 'un', 'whisky', 'y', 'mañana', 'amanecerá', 'de', 'nuevo']\n",
      "\n",
      "['el', 'doctor', 'solo', 'pudo', 'certificar', 'muerte', 'agotado', 'después', 'día', 'haciendo', 'visitas', 'aquello', 'dejado', 'tremendamente', 'exhausto', 'tan', 'solo', 'regresar', 'casa', 'tomarse', 'whisky', 'mañana', 'amanecerá', 'nuevo']\n",
      "\n",
      "['el', 'doctor', 'sol', 'pud', 'certific', 'muert', 'agot', 'despues', 'dia', 'hac', 'visit', 'aquell', 'dej', 'tremend', 'exhaust', 'tan', 'sol', 'regres', 'cas', 'tom', 'whisky', 'mañan', 'amanec', 'nuev']\n"
     ]
    }
   ],
   "source": [
    "# Test tokenization and stemming with our data\n",
    "\n",
    "randText = random.choice(viz_df['Text'])\n",
    "\n",
    "# Tokenizer\n",
    "tokenizer = RegexpTokenizer(r'\\w+')\n",
    "\n",
    "# Stemmer\n",
    "stemmer = SnowballStemmer('spanish') \n",
    "\n",
    "# Tokenize\n",
    "tokens = tokenizer.tokenize(randText)\n",
    "\n",
    "# Remove stop words\n",
    "words = [x.lower() for x in tokens if x not in stopwords.words('spanish')]\n",
    "\n",
    "# Get stems\n",
    "stems = [stemmer.stem(w) for w in words]\n",
    "\n",
    "print(randText)\n",
    "print()\n",
    "print(tokens)\n",
    "print()\n",
    "print(words)\n",
    "print()\n",
    "print(stems)"
   ]
  },
  {
   "cell_type": "code",
   "execution_count": 13,
   "metadata": {},
   "outputs": [],
   "source": [
    "# Tokenization Function\n",
    "def get_Tokens(Texts):\n",
    "    tokenizer = RegexpTokenizer(r'\\w+')\n",
    "    return [tokenizer.tokenize(text) for text in Texts]"
   ]
  },
  {
   "cell_type": "code",
   "execution_count": 14,
   "metadata": {},
   "outputs": [],
   "source": [
    "def Tokens2Words(Tokens):\n",
    "    return [tokens.lower() for tokens in Tokens if tokens not in stopwords.words('spanish')]"
   ]
  },
  {
   "cell_type": "code",
   "execution_count": 15,
   "metadata": {},
   "outputs": [],
   "source": [
    "def Words2Stems(Words):\n",
    "    return [stemmer.stem(word) for word in Words]"
   ]
  },
  {
   "cell_type": "code",
   "execution_count": 16,
   "metadata": {},
   "outputs": [],
   "source": [
    "# Wordization Function\n",
    "def get_Words(TokensList):\n",
    "    return [Tokens2Words(tokens) for tokens in TokensList]"
   ]
  },
  {
   "cell_type": "code",
   "execution_count": 17,
   "metadata": {},
   "outputs": [],
   "source": [
    "# Wordization Function\n",
    "def get_Stems(WordsLists):\n",
    "    return [Words2Stems(words) for words in WordsLists]"
   ]
  },
  {
   "cell_type": "code",
   "execution_count": 18,
   "metadata": {},
   "outputs": [],
   "source": [
    "# Add tokens and words to the df\n",
    "viz_df = viz_df.copy()\n",
    "viz_df['Tokens'] = get_Tokens(viz_df['Text'])\n",
    "viz_df['Words'] = get_Words(viz_df['Tokens'])\n",
    "viz_df['Stems'] = get_Stems(viz_df['Words'])"
   ]
  },
  {
   "cell_type": "code",
   "execution_count": 19,
   "metadata": {},
   "outputs": [
    {
     "data": {
      "text/html": [
       "<div>\n",
       "<style scoped>\n",
       "    .dataframe tbody tr th:only-of-type {\n",
       "        vertical-align: middle;\n",
       "    }\n",
       "\n",
       "    .dataframe tbody tr th {\n",
       "        vertical-align: top;\n",
       "    }\n",
       "\n",
       "    .dataframe thead th {\n",
       "        text-align: right;\n",
       "    }\n",
       "</style>\n",
       "<table border=\"1\" class=\"dataframe\">\n",
       "  <thead>\n",
       "    <tr style=\"text-align: right;\">\n",
       "      <th></th>\n",
       "      <th>Text</th>\n",
       "      <th>AlexLabel</th>\n",
       "      <th>card</th>\n",
       "      <th>TAS20</th>\n",
       "      <th>F1</th>\n",
       "      <th>F2</th>\n",
       "      <th>F3</th>\n",
       "      <th>SubClass</th>\n",
       "      <th>Tokens</th>\n",
       "      <th>Words</th>\n",
       "      <th>Stems</th>\n",
       "    </tr>\n",
       "  </thead>\n",
       "  <tbody>\n",
       "    <tr>\n",
       "      <th>215</th>\n",
       "      <td>Acaba de acuchillar a su amante y llora por su...</td>\n",
       "      <td>NoAlex</td>\n",
       "      <td>13HM</td>\n",
       "      <td>36.0</td>\n",
       "      <td>14.0</td>\n",
       "      <td>10.0</td>\n",
       "      <td>12.0</td>\n",
       "      <td>NoAlex-13HM</td>\n",
       "      <td>[Acaba, de, acuchillar, a, su, amante, y, llor...</td>\n",
       "      <td>[acaba, acuchillar, amante, llora, imperdonabl...</td>\n",
       "      <td>[acab, acuchill, amant, llor, imperdon, acto, ...</td>\n",
       "    </tr>\n",
       "    <tr>\n",
       "      <th>137</th>\n",
       "      <td>Érase un niño que se aburría tanto en sus clas...</td>\n",
       "      <td>NoAlex</td>\n",
       "      <td>1</td>\n",
       "      <td>34.0</td>\n",
       "      <td>13.0</td>\n",
       "      <td>10.0</td>\n",
       "      <td>11.0</td>\n",
       "      <td>NoAlex-1</td>\n",
       "      <td>[Érase, un, niño, que, se, aburría, tanto, en,...</td>\n",
       "      <td>[érase, niño, aburría, clases, música, dedicab...</td>\n",
       "      <td>[eras, niñ, aburr, clas, music, dedic, dorm, s...</td>\n",
       "    </tr>\n",
       "    <tr>\n",
       "      <th>9</th>\n",
       "      <td>Un día me propuse cruzar la montaña, subí a lo...</td>\n",
       "      <td>NoAlex</td>\n",
       "      <td>11</td>\n",
       "      <td>36.0</td>\n",
       "      <td>16.0</td>\n",
       "      <td>7.0</td>\n",
       "      <td>13.0</td>\n",
       "      <td>NoAlex-11</td>\n",
       "      <td>[Un, día, me, propuse, cruzar, la, montaña, su...</td>\n",
       "      <td>[un, día, propuse, cruzar, montaña, subí, alto...</td>\n",
       "      <td>[un, dia, propus, cruz, montañ, sub, alto, mon...</td>\n",
       "    </tr>\n",
       "    <tr>\n",
       "      <th>169</th>\n",
       "      <td>Tras varias semanas trabajando sin parar en la...</td>\n",
       "      <td>NoAlex</td>\n",
       "      <td>9VH</td>\n",
       "      <td>45.0</td>\n",
       "      <td>18.0</td>\n",
       "      <td>9.0</td>\n",
       "      <td>18.0</td>\n",
       "      <td>NoAlex-9VH</td>\n",
       "      <td>[Tras, varias, semanas, trabajando, sin, parar...</td>\n",
       "      <td>[tras, varias, semanas, trabajando, parar, gra...</td>\n",
       "      <td>[tras, vari, seman, trabaj, par, granj, tio, a...</td>\n",
       "    </tr>\n",
       "  </tbody>\n",
       "</table>\n",
       "</div>"
      ],
      "text/plain": [
       "                                                  Text AlexLabel  card  TAS20  \\\n",
       "215  Acaba de acuchillar a su amante y llora por su...    NoAlex  13HM   36.0   \n",
       "137  Érase un niño que se aburría tanto en sus clas...    NoAlex     1   34.0   \n",
       "9    Un día me propuse cruzar la montaña, subí a lo...    NoAlex    11   36.0   \n",
       "169  Tras varias semanas trabajando sin parar en la...    NoAlex   9VH   45.0   \n",
       "\n",
       "       F1    F2    F3     SubClass  \\\n",
       "215  14.0  10.0  12.0  NoAlex-13HM   \n",
       "137  13.0  10.0  11.0     NoAlex-1   \n",
       "9    16.0   7.0  13.0    NoAlex-11   \n",
       "169  18.0   9.0  18.0   NoAlex-9VH   \n",
       "\n",
       "                                                Tokens  \\\n",
       "215  [Acaba, de, acuchillar, a, su, amante, y, llor...   \n",
       "137  [Érase, un, niño, que, se, aburría, tanto, en,...   \n",
       "9    [Un, día, me, propuse, cruzar, la, montaña, su...   \n",
       "169  [Tras, varias, semanas, trabajando, sin, parar...   \n",
       "\n",
       "                                                 Words  \\\n",
       "215  [acaba, acuchillar, amante, llora, imperdonabl...   \n",
       "137  [érase, niño, aburría, clases, música, dedicab...   \n",
       "9    [un, día, propuse, cruzar, montaña, subí, alto...   \n",
       "169  [tras, varias, semanas, trabajando, parar, gra...   \n",
       "\n",
       "                                                 Stems  \n",
       "215  [acab, acuchill, amant, llor, imperdon, acto, ...  \n",
       "137  [eras, niñ, aburr, clas, music, dedic, dorm, s...  \n",
       "9    [un, dia, propus, cruz, montañ, sub, alto, mon...  \n",
       "169  [tras, vari, seman, trabaj, par, granj, tio, a...  "
      ]
     },
     "execution_count": 19,
     "metadata": {},
     "output_type": "execute_result"
    }
   ],
   "source": [
    "viz_df.sample(4)"
   ]
  },
  {
   "cell_type": "code",
   "execution_count": 104,
   "metadata": {},
   "outputs": [],
   "source": [
    "# Get all text from dataset\n",
    "def get_Corpus(df):\n",
    "    return df['Text'].str.cat()"
   ]
  },
  {
   "cell_type": "code",
   "execution_count": 106,
   "metadata": {},
   "outputs": [],
   "source": [
    "# get_Corpus(viz_df)"
   ]
  },
  {
   "cell_type": "markdown",
   "metadata": {},
   "source": [
    "### Generate BoWs with stems\n"
   ]
  },
  {
   "cell_type": "code",
   "execution_count": 180,
   "metadata": {},
   "outputs": [],
   "source": [
    "# BoW Vector size\n",
    "BoW_vector_size = 400"
   ]
  },
  {
   "cell_type": "code",
   "execution_count": 181,
   "metadata": {},
   "outputs": [],
   "source": [
    "# Create general BoW / TF\n",
    "BoW = {} \n",
    "for list in viz_df['Stems'].values: \n",
    "    for stem in list:\n",
    "        if stem not in BoW.keys(): \n",
    "            BoW[stem] = 1\n",
    "        else: \n",
    "            BoW[stem] += 1"
   ]
  },
  {
   "cell_type": "code",
   "execution_count": 182,
   "metadata": {},
   "outputs": [
    {
     "name": "stdout",
     "output_type": "stream",
     "text": [
      "Number of different words: 1483\n"
     ]
    }
   ],
   "source": [
    "print('Number of different words: ' + str(len(BoW)))"
   ]
  },
  {
   "cell_type": "code",
   "execution_count": 183,
   "metadata": {},
   "outputs": [],
   "source": [
    "orderedTF = sorted(BoW.items(), key = lambda x: x[1], reverse=True)"
   ]
  },
  {
   "cell_type": "code",
   "execution_count": 184,
   "metadata": {},
   "outputs": [
    {
     "data": {
      "text/plain": [
       "[('violin', 73),\n",
       " ('vez', 60),\n",
       " ('hombr', 60),\n",
       " ('niñ', 59),\n",
       " ('eras', 52),\n",
       " ('trabaj', 47),\n",
       " ('toc', 43),\n",
       " ('un', 43),\n",
       " ('hac', 42),\n",
       " ('descans', 41)]"
      ]
     },
     "execution_count": 184,
     "metadata": {},
     "output_type": "execute_result"
    }
   ],
   "source": [
    "# Most frequent words in the datase\n",
    "orderedTF[:10]"
   ]
  },
  {
   "cell_type": "code",
   "execution_count": 185,
   "metadata": {},
   "outputs": [
    {
     "data": {
      "text/plain": [
       "['violin',\n",
       " 'vez',\n",
       " 'hombr',\n",
       " 'niñ',\n",
       " 'eras',\n",
       " 'trabaj',\n",
       " 'toc',\n",
       " 'un',\n",
       " 'hac',\n",
       " 'descans']"
      ]
     },
     "execution_count": 185,
     "metadata": {},
     "output_type": "execute_result"
    }
   ],
   "source": [
    "# Most frequent words in the dataset\n",
    "import heapq \n",
    "freq_stems = heapq.nlargest(BoW_vector_size, BoW, key=BoW.get)\n",
    "freq_stems[:10]"
   ]
  },
  {
   "cell_type": "code",
   "execution_count": 186,
   "metadata": {},
   "outputs": [
    {
     "data": {
      "text/plain": [
       "'violin'"
      ]
     },
     "execution_count": 186,
     "metadata": {},
     "output_type": "execute_result"
    }
   ],
   "source": [
    "freq_stems[0]"
   ]
  },
  {
   "cell_type": "code",
   "execution_count": 188,
   "metadata": {},
   "outputs": [],
   "source": [
    "# Test Building BoW Model with n most frequent stems\n",
    "\n",
    "randText = random.choice(viz_df['Stems'])\n",
    "\n",
    "BoW_vector = np.zeros(BoW_vector_size, dtype=np.int)\n",
    "\n",
    "for w in randText:\n",
    "    for i,word in enumerate(freq_stems): \n",
    "        if word == w:                     \n",
    "            BoW_vector[i] += 1                            "
   ]
  },
  {
   "cell_type": "code",
   "execution_count": 57,
   "metadata": {},
   "outputs": [],
   "source": [
    "# BoW_vector"
   ]
  },
  {
   "cell_type": "code",
   "execution_count": 58,
   "metadata": {},
   "outputs": [],
   "source": [
    "# print(\"{0}\\n{1}\\n\".format(randText, np.array(BoW_vector)))"
   ]
  },
  {
   "cell_type": "code",
   "execution_count": 196,
   "metadata": {},
   "outputs": [],
   "source": [
    "# Custom BoW Function\n",
    "# - List of stems. \n",
    "# - Bow of the corpus. \n",
    "# - Size of the BoW Vector. \n",
    "def get_BoW_Vector(stems, BoW, size):\n",
    "    \n",
    "    BoW_vector = np.zeros(size, dtype=np.int)\n",
    "    \n",
    "    for w in stems:\n",
    "        for i,word in enumerate(BoW): \n",
    "            if word == w:                     \n",
    "                BoW_vector[i] += 1  \n",
    "                # print(\"added: \" + str(word))\n",
    "                \n",
    "    return BoW_vector"
   ]
  },
  {
   "cell_type": "code",
   "execution_count": 190,
   "metadata": {},
   "outputs": [],
   "source": [
    "# get_BoW_Vector([\"violin\", \"vez\", \"2\", \"2\", \"vez\"], freq_stems, BoW_vector_size)"
   ]
  },
  {
   "cell_type": "code",
   "execution_count": 197,
   "metadata": {},
   "outputs": [],
   "source": [
    "# Same thing with scikit learn using words (instead of stems)\n",
    "\n",
    "from sklearn.feature_extraction.text import CountVectorizer\n",
    "\n",
    "vectorizer = CountVectorizer(\n",
    "    max_features = BoW_vector_size, \n",
    "    analyzer = 'word',\n",
    "    stop_words = stopwords.words('spanish'))\n",
    "\n",
    "X = vectorizer.fit_transform(viz_df['Text']) \n",
    "\n",
    "# print(X.toarray())\n",
    "\n",
    "# print(vectorizer.get_feature_names())"
   ]
  },
  {
   "cell_type": "code",
   "execution_count": 198,
   "metadata": {},
   "outputs": [],
   "source": [
    "# print(vectorizer.transform([\"violín en la casita casa casa en violin niño niño\"]).toarray())"
   ]
  },
  {
   "cell_type": "code",
   "execution_count": 199,
   "metadata": {},
   "outputs": [],
   "source": [
    "# Helper functions for df handling\n",
    "\n",
    "def get_BoWStemVects(Stems):\n",
    "    return [get_BoW_Vector(s,freq_stems, BoW_vector_size) for s in Stems]\n",
    "\n",
    "def get_BoWWordVects(Words):\n",
    "    return [vectorizer.transform([w]).toarray()[0] for w in Words]\n",
    "\n"
   ]
  },
  {
   "cell_type": "code",
   "execution_count": 200,
   "metadata": {},
   "outputs": [],
   "source": [
    "# Add BoW Vectors to the df\n",
    "viz_df = viz_df.copy()\n",
    "viz_df['StemBoWVec'] = get_BoWStemVects(viz_df['Stems'])\n",
    "viz_df['WordBoWVec'] = get_BoWWordVects(viz_df['Text'])"
   ]
  },
  {
   "cell_type": "code",
   "execution_count": 201,
   "metadata": {},
   "outputs": [
    {
     "data": {
      "text/html": [
       "<div>\n",
       "<style scoped>\n",
       "    .dataframe tbody tr th:only-of-type {\n",
       "        vertical-align: middle;\n",
       "    }\n",
       "\n",
       "    .dataframe tbody tr th {\n",
       "        vertical-align: top;\n",
       "    }\n",
       "\n",
       "    .dataframe thead th {\n",
       "        text-align: right;\n",
       "    }\n",
       "</style>\n",
       "<table border=\"1\" class=\"dataframe\">\n",
       "  <thead>\n",
       "    <tr style=\"text-align: right;\">\n",
       "      <th></th>\n",
       "      <th>Text</th>\n",
       "      <th>AlexLabel</th>\n",
       "      <th>card</th>\n",
       "      <th>TAS20</th>\n",
       "      <th>F1</th>\n",
       "      <th>F2</th>\n",
       "      <th>F3</th>\n",
       "      <th>SubClass</th>\n",
       "      <th>Tokens</th>\n",
       "      <th>Words</th>\n",
       "      <th>Stems</th>\n",
       "      <th>StemBoWVec</th>\n",
       "      <th>WordBoWVec</th>\n",
       "    </tr>\n",
       "  </thead>\n",
       "  <tbody>\n",
       "    <tr>\n",
       "      <th>88</th>\n",
       "      <td>un hombre que quisiéra seguir compartiendo el ...</td>\n",
       "      <td>NoAlex</td>\n",
       "      <td>13HM</td>\n",
       "      <td>47.0</td>\n",
       "      <td>14.0</td>\n",
       "      <td>13.0</td>\n",
       "      <td>20.0</td>\n",
       "      <td>NoAlex-13HM</td>\n",
       "      <td>[un, hombre, que, quisiéra, seguir, compartien...</td>\n",
       "      <td>[hombre, quisiéra, seguir, compartiendo, lécho...</td>\n",
       "      <td>[hombr, quisier, segu, compart, lech, espos, u...</td>\n",
       "      <td>[0, 0, 1, 0, 0, 1, 0, 0, 0, 0, 0, 0, 0, 0, 0, ...</td>\n",
       "      <td>[0, 0, 0, 0, 0, 0, 0, 0, 0, 0, 0, 0, 0, 0, 0, ...</td>\n",
       "    </tr>\n",
       "    <tr>\n",
       "      <th>243</th>\n",
       "      <td>Hombre sufre tras ver a su mujer enferma en ca...</td>\n",
       "      <td>Alex</td>\n",
       "      <td>13HM</td>\n",
       "      <td>64.0</td>\n",
       "      <td>23.0</td>\n",
       "      <td>13.0</td>\n",
       "      <td>28.0</td>\n",
       "      <td>Alex-13HM</td>\n",
       "      <td>[Hombre, sufre, tras, ver, a, su, mujer, enfer...</td>\n",
       "      <td>[hombre, sufre, tras, ver, mujer, enferma, cam...</td>\n",
       "      <td>[hombr, sufr, tras, ver, muj, enferm, cam, gan...</td>\n",
       "      <td>[0, 0, 1, 0, 0, 0, 0, 0, 1, 0, 0, 1, 0, 0, 0, ...</td>\n",
       "      <td>[0, 0, 0, 0, 0, 0, 0, 0, 0, 0, 0, 0, 0, 0, 0, ...</td>\n",
       "    </tr>\n",
       "    <tr>\n",
       "      <th>86</th>\n",
       "      <td>un grupo de amigos descansando antes de volver...</td>\n",
       "      <td>NoAlex</td>\n",
       "      <td>9VH</td>\n",
       "      <td>47.0</td>\n",
       "      <td>14.0</td>\n",
       "      <td>13.0</td>\n",
       "      <td>20.0</td>\n",
       "      <td>NoAlex-9VH</td>\n",
       "      <td>[un, grupo, de, amigos, descansando, antes, de...</td>\n",
       "      <td>[grupo, amigos, descansando, volver, trabajo]</td>\n",
       "      <td>[grup, amig, descans, volv, trabaj]</td>\n",
       "      <td>[0, 0, 0, 0, 0, 1, 0, 0, 0, 1, 0, 0, 0, 0, 0, ...</td>\n",
       "      <td>[0, 0, 0, 0, 0, 0, 0, 0, 0, 0, 0, 0, 0, 0, 1, ...</td>\n",
       "    </tr>\n",
       "    <tr>\n",
       "      <th>41</th>\n",
       "      <td>un niño al que le gustaba mucho tocar el violí...</td>\n",
       "      <td>NoAlex</td>\n",
       "      <td>1</td>\n",
       "      <td>43.0</td>\n",
       "      <td>15.0</td>\n",
       "      <td>11.0</td>\n",
       "      <td>17.0</td>\n",
       "      <td>NoAlex-1</td>\n",
       "      <td>[un, niño, al, que, le, gustaba, mucho, tocar,...</td>\n",
       "      <td>[niño, gustaba, tocar, violín, él, perfeccioni...</td>\n",
       "      <td>[niñ, gust, toc, violin, el, perfeccion, ocasi...</td>\n",
       "      <td>[2, 0, 0, 2, 0, 0, 1, 0, 0, 0, 0, 0, 1, 0, 0, ...</td>\n",
       "      <td>[0, 0, 0, 0, 0, 0, 0, 0, 0, 0, 0, 0, 0, 0, 0, ...</td>\n",
       "    </tr>\n",
       "  </tbody>\n",
       "</table>\n",
       "</div>"
      ],
      "text/plain": [
       "                                                  Text AlexLabel  card  TAS20  \\\n",
       "88   un hombre que quisiéra seguir compartiendo el ...    NoAlex  13HM   47.0   \n",
       "243  Hombre sufre tras ver a su mujer enferma en ca...      Alex  13HM   64.0   \n",
       "86   un grupo de amigos descansando antes de volver...    NoAlex   9VH   47.0   \n",
       "41   un niño al que le gustaba mucho tocar el violí...    NoAlex     1   43.0   \n",
       "\n",
       "       F1    F2    F3     SubClass  \\\n",
       "88   14.0  13.0  20.0  NoAlex-13HM   \n",
       "243  23.0  13.0  28.0    Alex-13HM   \n",
       "86   14.0  13.0  20.0   NoAlex-9VH   \n",
       "41   15.0  11.0  17.0     NoAlex-1   \n",
       "\n",
       "                                                Tokens  \\\n",
       "88   [un, hombre, que, quisiéra, seguir, compartien...   \n",
       "243  [Hombre, sufre, tras, ver, a, su, mujer, enfer...   \n",
       "86   [un, grupo, de, amigos, descansando, antes, de...   \n",
       "41   [un, niño, al, que, le, gustaba, mucho, tocar,...   \n",
       "\n",
       "                                                 Words  \\\n",
       "88   [hombre, quisiéra, seguir, compartiendo, lécho...   \n",
       "243  [hombre, sufre, tras, ver, mujer, enferma, cam...   \n",
       "86       [grupo, amigos, descansando, volver, trabajo]   \n",
       "41   [niño, gustaba, tocar, violín, él, perfeccioni...   \n",
       "\n",
       "                                                 Stems  \\\n",
       "88   [hombr, quisier, segu, compart, lech, espos, u...   \n",
       "243  [hombr, sufr, tras, ver, muj, enferm, cam, gan...   \n",
       "86                 [grup, amig, descans, volv, trabaj]   \n",
       "41   [niñ, gust, toc, violin, el, perfeccion, ocasi...   \n",
       "\n",
       "                                            StemBoWVec  \\\n",
       "88   [0, 0, 1, 0, 0, 1, 0, 0, 0, 0, 0, 0, 0, 0, 0, ...   \n",
       "243  [0, 0, 1, 0, 0, 0, 0, 0, 1, 0, 0, 1, 0, 0, 0, ...   \n",
       "86   [0, 0, 0, 0, 0, 1, 0, 0, 0, 1, 0, 0, 0, 0, 0, ...   \n",
       "41   [2, 0, 0, 2, 0, 0, 1, 0, 0, 0, 0, 0, 1, 0, 0, ...   \n",
       "\n",
       "                                            WordBoWVec  \n",
       "88   [0, 0, 0, 0, 0, 0, 0, 0, 0, 0, 0, 0, 0, 0, 0, ...  \n",
       "243  [0, 0, 0, 0, 0, 0, 0, 0, 0, 0, 0, 0, 0, 0, 0, ...  \n",
       "86   [0, 0, 0, 0, 0, 0, 0, 0, 0, 0, 0, 0, 0, 0, 1, ...  \n",
       "41   [0, 0, 0, 0, 0, 0, 0, 0, 0, 0, 0, 0, 0, 0, 0, ...  "
      ]
     },
     "execution_count": 201,
     "metadata": {},
     "output_type": "execute_result"
    }
   ],
   "source": [
    "viz_df.sample(4)"
   ]
  },
  {
   "cell_type": "markdown",
   "metadata": {},
   "source": [
    "# Feature vectors using Pre-trained Spanish Word Embeddings"
   ]
  },
  {
   "cell_type": "markdown",
   "metadata": {},
   "source": [
    "## Vectorizers for documents (narratives) - Doc2Vec\n",
    "Using existing word embeddings for Spanish we obtain a vector for each word. <br>\n",
    "We also need to build a single vector representing the entire document.<br>\n",
    "In this case the Doc vector is build based on the distance value of all word vectors to a emotion cluster."
   ]
  },
  {
   "cell_type": "code",
   "execution_count": 202,
   "metadata": {},
   "outputs": [],
   "source": [
    "import numpy as np"
   ]
  },
  {
   "cell_type": "code",
   "execution_count": 203,
   "metadata": {},
   "outputs": [],
   "source": [
    "# Calculates the mean word vector of a list of words using the indicated word2vec model\n",
    "def get_mean_vector(word2vec_model, words):\n",
    "    # remove out-of-vocabulary words\n",
    "    words = [word for word in words if word in word2vec_model.vocab]\n",
    "    if len(words) >= 1:\n",
    "        return np.mean(word2vec_model[words], axis=0)\n",
    "    else:\n",
    "        return []"
   ]
  },
  {
   "cell_type": "markdown",
   "metadata": {},
   "source": [
    "### Calculating a cluster of emotion concepts in the 400-dimensional space"
   ]
  },
  {
   "cell_type": "code",
   "execution_count": 204,
   "metadata": {},
   "outputs": [],
   "source": [
    "# List of basic emotions\n",
    "BasicEmotions = ['miedo','amor','asco','ira','odio','tristeza','sorpresa','alegría']"
   ]
  },
  {
   "cell_type": "code",
   "execution_count": 205,
   "metadata": {},
   "outputs": [],
   "source": [
    "# List of secondary emotions\n",
    "SecondEmotions = ['cansancio','vergüenza', 'culpa', 'bochorno', 'desprecio', 'complacencia', 'orgullo',\n",
    "                  'entusiasmo', 'placer', 'satisfacción', 'celos', 'confianza', 'disgusto', 'felicidad',\n",
    "                  'alivio', 'sufrimiento', 'afecto', 'agradecimiento', 'cariño', 'compasión', 'esperanza',\n",
    "                  'euforia', 'gozo', 'ilusión', 'pasión', 'aburrimiento', 'agobio', 'angustia', 'ansiedad',\n",
    "                  'decepción', 'desaliento', 'desconcierto', 'desconfianza', 'desdicha', 'desencanto',\n",
    "                  'desesperación', 'desmotivación', 'desprecio', 'dolor', 'estrés', 'frustración', 'envidia',\n",
    "                  'frustración', 'humillación', 'impaciencia', 'indignación', 'infelicidad', 'lástima', \n",
    "                  'melancolía', 'preocupación', 'pudor', 'rencor', 'rabia', 'remordimiento', 'soledad',\n",
    "                  'admiración', 'excitación', 'sopor', 'enojo', 'júbilo', 'molestia', 'nostalgia', 'pánico',\n",
    "                  'pavor', 'recelo', 'regocijo', 'serenidad', 'sosiego', 'tentación', 'turbación', 'hastío',\n",
    "                  'fastidio', 'fervor', 'fobia', 'frenesí', 'furia', 'espanto', 'exaltación', 'extrañeza',\n",
    "                  'estupor', 'desconsuelo', 'desidia', 'congoja', 'cólera', 'calma', 'condescendencia', \n",
    "                  'contrariedad', 'concentración', 'alborozo', 'aflicción', 'añoranza', 'apatía', 'afecto',\n",
    "                  'abatimiento', 'asombro', 'enamorado', 'arrepentimiento', 'abrumado', 'desazón', 'aflicción',\n",
    "                  'gratitud', 'interés', 'diversión', 'plenitud', 'temor', 'terror', 'pereza', 'ofendido', 'desamor',\n",
    "                  'desasosiego', 'resquemor', 'desorientación', 'exasperación', 'soberbia', 'timidez', \n",
    "                  'incredulidad', 'ternura']"
   ]
  },
  {
   "cell_type": "code",
   "execution_count": 206,
   "metadata": {},
   "outputs": [],
   "source": [
    "# List of positive emotions\n",
    "PosEmotions = ['amor','alegría','orgullo','entusiasmo','placer','satisfacción','confianza','felicidad',\n",
    "               'alivio','afecto','agradecimiento', 'cariño', 'compasión', 'esperanza','euforia', 'gozo', \n",
    "               'ilusión', 'pasión','admiración', 'júbilo','regocijo', 'serenidad', 'sosiego','fervor',\n",
    "               'frenesí','calma','afecto','enamorado', 'gratitud', 'interés', 'diversión', 'plenitud',\n",
    "               'ternura']"
   ]
  },
  {
   "cell_type": "code",
   "execution_count": 207,
   "metadata": {},
   "outputs": [],
   "source": [
    "# List of negative emotions\n",
    "NegEmotions = ['miedo','asco','ira','odio','tristeza','cansancio','vergüenza', 'culpa', 'bochorno', 'desprecio',\n",
    "               'celos','disgusto','sufrimiento','aburrimiento', 'agobio', 'angustia', 'ansiedad','decepción', \n",
    "               'desaliento', 'desconcierto', 'desconfianza', 'desdicha', 'desencanto','desesperación', 'desmotivación', \n",
    "               'desprecio', 'dolor', 'estrés', 'frustración', 'envidia','frustración', 'humillación', 'impaciencia', \n",
    "               'indignación', 'infelicidad', 'lástima', 'melancolía', 'preocupación', 'pudor', 'rencor', 'rabia', \n",
    "               'remordimiento', 'soledad','sopor','enojo','molestia','pánico','pavor', 'recelo', 'turbación', 'hastío',\n",
    "               'fastidio','fobia', 'furia', 'espanto','estupor', 'desconsuelo', 'desidia', 'congoja', 'cólera',\n",
    "               'contrariedad','aflicción', 'añoranza','abatimiento','arrepentimiento', 'abrumado', 'desazón', 'aflicción',\n",
    "               'temor', 'terror', 'pereza','ofendido', 'desamor', 'desasosiego', 'resquemor', 'desorientación', 'exasperación']"
   ]
  },
  {
   "cell_type": "code",
   "execution_count": 218,
   "metadata": {},
   "outputs": [],
   "source": [
    "# Complete list of all emotions\n",
    "AllEmotions = BasicEmotions + SecondEmotions"
   ]
  },
  {
   "cell_type": "code",
   "execution_count": 219,
   "metadata": {},
   "outputs": [
    {
     "data": {
      "text/plain": [
       "125"
      ]
     },
     "execution_count": 219,
     "metadata": {},
     "output_type": "execute_result"
    }
   ],
   "source": [
    "len(AllEmotions)"
   ]
  },
  {
   "cell_type": "code",
   "execution_count": 237,
   "metadata": {},
   "outputs": [],
   "source": [
    "# Create data frame with emotions and their corresponding vectors\n",
    "emotions_df_cols = ['EmotionName', 'Polarity', 'Basic']\n",
    "\n",
    "emotions_df = pd.DataFrame(columns = emotions_df_cols)"
   ]
  },
  {
   "cell_type": "code",
   "execution_count": 238,
   "metadata": {},
   "outputs": [],
   "source": [
    "# Fill the new df with data\n",
    "\n",
    "for emotion in BasicEmotions:\n",
    "    emotions_df.loc[len(emotions_df)] = [emotion, 'N/A', 'True']\n",
    "    \n",
    "for emotion in SecondEmotions:\n",
    "    if emotion not in emotions_df['EmotionName']:\n",
    "        emotions_df.loc[len(emotions_df)] = [emotion, 'N/A', 'False']\n",
    "        \n",
    "def getPolarity(row):\n",
    "    if row['EmotionName'] in PosEmotions:\n",
    "        return 'Positive'\n",
    "    else:\n",
    "        return 'Negative'\n",
    "        \n",
    "emotions_df['Polarity'] = emotions_df.apply(getPolarity, axis=1)\n",
    "        "
   ]
  },
  {
   "cell_type": "code",
   "execution_count": 239,
   "metadata": {},
   "outputs": [
    {
     "data": {
      "text/html": [
       "<div>\n",
       "<style scoped>\n",
       "    .dataframe tbody tr th:only-of-type {\n",
       "        vertical-align: middle;\n",
       "    }\n",
       "\n",
       "    .dataframe tbody tr th {\n",
       "        vertical-align: top;\n",
       "    }\n",
       "\n",
       "    .dataframe thead th {\n",
       "        text-align: right;\n",
       "    }\n",
       "</style>\n",
       "<table border=\"1\" class=\"dataframe\">\n",
       "  <thead>\n",
       "    <tr style=\"text-align: right;\">\n",
       "      <th></th>\n",
       "      <th>EmotionName</th>\n",
       "      <th>Polarity</th>\n",
       "      <th>Basic</th>\n",
       "    </tr>\n",
       "  </thead>\n",
       "  <tbody>\n",
       "    <tr>\n",
       "      <th>0</th>\n",
       "      <td>miedo</td>\n",
       "      <td>Negative</td>\n",
       "      <td>True</td>\n",
       "    </tr>\n",
       "    <tr>\n",
       "      <th>1</th>\n",
       "      <td>amor</td>\n",
       "      <td>Positive</td>\n",
       "      <td>True</td>\n",
       "    </tr>\n",
       "    <tr>\n",
       "      <th>2</th>\n",
       "      <td>asco</td>\n",
       "      <td>Negative</td>\n",
       "      <td>True</td>\n",
       "    </tr>\n",
       "    <tr>\n",
       "      <th>3</th>\n",
       "      <td>ira</td>\n",
       "      <td>Negative</td>\n",
       "      <td>True</td>\n",
       "    </tr>\n",
       "    <tr>\n",
       "      <th>4</th>\n",
       "      <td>odio</td>\n",
       "      <td>Negative</td>\n",
       "      <td>True</td>\n",
       "    </tr>\n",
       "    <tr>\n",
       "      <th>5</th>\n",
       "      <td>tristeza</td>\n",
       "      <td>Negative</td>\n",
       "      <td>True</td>\n",
       "    </tr>\n",
       "    <tr>\n",
       "      <th>6</th>\n",
       "      <td>sorpresa</td>\n",
       "      <td>Negative</td>\n",
       "      <td>True</td>\n",
       "    </tr>\n",
       "    <tr>\n",
       "      <th>7</th>\n",
       "      <td>alegría</td>\n",
       "      <td>Positive</td>\n",
       "      <td>True</td>\n",
       "    </tr>\n",
       "    <tr>\n",
       "      <th>8</th>\n",
       "      <td>cansancio</td>\n",
       "      <td>Negative</td>\n",
       "      <td>False</td>\n",
       "    </tr>\n",
       "    <tr>\n",
       "      <th>9</th>\n",
       "      <td>vergüenza</td>\n",
       "      <td>Negative</td>\n",
       "      <td>False</td>\n",
       "    </tr>\n",
       "    <tr>\n",
       "      <th>10</th>\n",
       "      <td>culpa</td>\n",
       "      <td>Negative</td>\n",
       "      <td>False</td>\n",
       "    </tr>\n",
       "    <tr>\n",
       "      <th>11</th>\n",
       "      <td>bochorno</td>\n",
       "      <td>Negative</td>\n",
       "      <td>False</td>\n",
       "    </tr>\n",
       "    <tr>\n",
       "      <th>12</th>\n",
       "      <td>desprecio</td>\n",
       "      <td>Negative</td>\n",
       "      <td>False</td>\n",
       "    </tr>\n",
       "    <tr>\n",
       "      <th>13</th>\n",
       "      <td>complacencia</td>\n",
       "      <td>Negative</td>\n",
       "      <td>False</td>\n",
       "    </tr>\n",
       "    <tr>\n",
       "      <th>14</th>\n",
       "      <td>orgullo</td>\n",
       "      <td>Positive</td>\n",
       "      <td>False</td>\n",
       "    </tr>\n",
       "    <tr>\n",
       "      <th>15</th>\n",
       "      <td>entusiasmo</td>\n",
       "      <td>Positive</td>\n",
       "      <td>False</td>\n",
       "    </tr>\n",
       "    <tr>\n",
       "      <th>16</th>\n",
       "      <td>placer</td>\n",
       "      <td>Positive</td>\n",
       "      <td>False</td>\n",
       "    </tr>\n",
       "    <tr>\n",
       "      <th>17</th>\n",
       "      <td>satisfacción</td>\n",
       "      <td>Positive</td>\n",
       "      <td>False</td>\n",
       "    </tr>\n",
       "    <tr>\n",
       "      <th>18</th>\n",
       "      <td>celos</td>\n",
       "      <td>Negative</td>\n",
       "      <td>False</td>\n",
       "    </tr>\n",
       "    <tr>\n",
       "      <th>19</th>\n",
       "      <td>confianza</td>\n",
       "      <td>Positive</td>\n",
       "      <td>False</td>\n",
       "    </tr>\n",
       "    <tr>\n",
       "      <th>20</th>\n",
       "      <td>disgusto</td>\n",
       "      <td>Negative</td>\n",
       "      <td>False</td>\n",
       "    </tr>\n",
       "    <tr>\n",
       "      <th>21</th>\n",
       "      <td>felicidad</td>\n",
       "      <td>Positive</td>\n",
       "      <td>False</td>\n",
       "    </tr>\n",
       "    <tr>\n",
       "      <th>22</th>\n",
       "      <td>alivio</td>\n",
       "      <td>Positive</td>\n",
       "      <td>False</td>\n",
       "    </tr>\n",
       "    <tr>\n",
       "      <th>23</th>\n",
       "      <td>sufrimiento</td>\n",
       "      <td>Negative</td>\n",
       "      <td>False</td>\n",
       "    </tr>\n",
       "    <tr>\n",
       "      <th>24</th>\n",
       "      <td>afecto</td>\n",
       "      <td>Positive</td>\n",
       "      <td>False</td>\n",
       "    </tr>\n",
       "    <tr>\n",
       "      <th>25</th>\n",
       "      <td>agradecimiento</td>\n",
       "      <td>Positive</td>\n",
       "      <td>False</td>\n",
       "    </tr>\n",
       "    <tr>\n",
       "      <th>26</th>\n",
       "      <td>cariño</td>\n",
       "      <td>Positive</td>\n",
       "      <td>False</td>\n",
       "    </tr>\n",
       "    <tr>\n",
       "      <th>27</th>\n",
       "      <td>compasión</td>\n",
       "      <td>Positive</td>\n",
       "      <td>False</td>\n",
       "    </tr>\n",
       "    <tr>\n",
       "      <th>28</th>\n",
       "      <td>esperanza</td>\n",
       "      <td>Positive</td>\n",
       "      <td>False</td>\n",
       "    </tr>\n",
       "    <tr>\n",
       "      <th>29</th>\n",
       "      <td>euforia</td>\n",
       "      <td>Positive</td>\n",
       "      <td>False</td>\n",
       "    </tr>\n",
       "    <tr>\n",
       "      <th>...</th>\n",
       "      <td>...</td>\n",
       "      <td>...</td>\n",
       "      <td>...</td>\n",
       "    </tr>\n",
       "    <tr>\n",
       "      <th>95</th>\n",
       "      <td>concentración</td>\n",
       "      <td>Negative</td>\n",
       "      <td>False</td>\n",
       "    </tr>\n",
       "    <tr>\n",
       "      <th>96</th>\n",
       "      <td>alborozo</td>\n",
       "      <td>Negative</td>\n",
       "      <td>False</td>\n",
       "    </tr>\n",
       "    <tr>\n",
       "      <th>97</th>\n",
       "      <td>aflicción</td>\n",
       "      <td>Negative</td>\n",
       "      <td>False</td>\n",
       "    </tr>\n",
       "    <tr>\n",
       "      <th>98</th>\n",
       "      <td>añoranza</td>\n",
       "      <td>Negative</td>\n",
       "      <td>False</td>\n",
       "    </tr>\n",
       "    <tr>\n",
       "      <th>99</th>\n",
       "      <td>apatía</td>\n",
       "      <td>Negative</td>\n",
       "      <td>False</td>\n",
       "    </tr>\n",
       "    <tr>\n",
       "      <th>100</th>\n",
       "      <td>afecto</td>\n",
       "      <td>Positive</td>\n",
       "      <td>False</td>\n",
       "    </tr>\n",
       "    <tr>\n",
       "      <th>101</th>\n",
       "      <td>abatimiento</td>\n",
       "      <td>Negative</td>\n",
       "      <td>False</td>\n",
       "    </tr>\n",
       "    <tr>\n",
       "      <th>102</th>\n",
       "      <td>asombro</td>\n",
       "      <td>Negative</td>\n",
       "      <td>False</td>\n",
       "    </tr>\n",
       "    <tr>\n",
       "      <th>103</th>\n",
       "      <td>enamorado</td>\n",
       "      <td>Positive</td>\n",
       "      <td>False</td>\n",
       "    </tr>\n",
       "    <tr>\n",
       "      <th>104</th>\n",
       "      <td>arrepentimiento</td>\n",
       "      <td>Negative</td>\n",
       "      <td>False</td>\n",
       "    </tr>\n",
       "    <tr>\n",
       "      <th>105</th>\n",
       "      <td>abrumado</td>\n",
       "      <td>Negative</td>\n",
       "      <td>False</td>\n",
       "    </tr>\n",
       "    <tr>\n",
       "      <th>106</th>\n",
       "      <td>desazón</td>\n",
       "      <td>Negative</td>\n",
       "      <td>False</td>\n",
       "    </tr>\n",
       "    <tr>\n",
       "      <th>107</th>\n",
       "      <td>aflicción</td>\n",
       "      <td>Negative</td>\n",
       "      <td>False</td>\n",
       "    </tr>\n",
       "    <tr>\n",
       "      <th>108</th>\n",
       "      <td>gratitud</td>\n",
       "      <td>Positive</td>\n",
       "      <td>False</td>\n",
       "    </tr>\n",
       "    <tr>\n",
       "      <th>109</th>\n",
       "      <td>interés</td>\n",
       "      <td>Positive</td>\n",
       "      <td>False</td>\n",
       "    </tr>\n",
       "    <tr>\n",
       "      <th>110</th>\n",
       "      <td>diversión</td>\n",
       "      <td>Positive</td>\n",
       "      <td>False</td>\n",
       "    </tr>\n",
       "    <tr>\n",
       "      <th>111</th>\n",
       "      <td>plenitud</td>\n",
       "      <td>Positive</td>\n",
       "      <td>False</td>\n",
       "    </tr>\n",
       "    <tr>\n",
       "      <th>112</th>\n",
       "      <td>temor</td>\n",
       "      <td>Negative</td>\n",
       "      <td>False</td>\n",
       "    </tr>\n",
       "    <tr>\n",
       "      <th>113</th>\n",
       "      <td>terror</td>\n",
       "      <td>Negative</td>\n",
       "      <td>False</td>\n",
       "    </tr>\n",
       "    <tr>\n",
       "      <th>114</th>\n",
       "      <td>pereza</td>\n",
       "      <td>Negative</td>\n",
       "      <td>False</td>\n",
       "    </tr>\n",
       "    <tr>\n",
       "      <th>115</th>\n",
       "      <td>ofendido</td>\n",
       "      <td>Negative</td>\n",
       "      <td>False</td>\n",
       "    </tr>\n",
       "    <tr>\n",
       "      <th>116</th>\n",
       "      <td>desamor</td>\n",
       "      <td>Negative</td>\n",
       "      <td>False</td>\n",
       "    </tr>\n",
       "    <tr>\n",
       "      <th>117</th>\n",
       "      <td>desasosiego</td>\n",
       "      <td>Negative</td>\n",
       "      <td>False</td>\n",
       "    </tr>\n",
       "    <tr>\n",
       "      <th>118</th>\n",
       "      <td>resquemor</td>\n",
       "      <td>Negative</td>\n",
       "      <td>False</td>\n",
       "    </tr>\n",
       "    <tr>\n",
       "      <th>119</th>\n",
       "      <td>desorientación</td>\n",
       "      <td>Negative</td>\n",
       "      <td>False</td>\n",
       "    </tr>\n",
       "    <tr>\n",
       "      <th>120</th>\n",
       "      <td>exasperación</td>\n",
       "      <td>Negative</td>\n",
       "      <td>False</td>\n",
       "    </tr>\n",
       "    <tr>\n",
       "      <th>121</th>\n",
       "      <td>soberbia</td>\n",
       "      <td>Negative</td>\n",
       "      <td>False</td>\n",
       "    </tr>\n",
       "    <tr>\n",
       "      <th>122</th>\n",
       "      <td>timidez</td>\n",
       "      <td>Negative</td>\n",
       "      <td>False</td>\n",
       "    </tr>\n",
       "    <tr>\n",
       "      <th>123</th>\n",
       "      <td>incredulidad</td>\n",
       "      <td>Negative</td>\n",
       "      <td>False</td>\n",
       "    </tr>\n",
       "    <tr>\n",
       "      <th>124</th>\n",
       "      <td>ternura</td>\n",
       "      <td>Positive</td>\n",
       "      <td>False</td>\n",
       "    </tr>\n",
       "  </tbody>\n",
       "</table>\n",
       "<p>125 rows × 3 columns</p>\n",
       "</div>"
      ],
      "text/plain": [
       "         EmotionName  Polarity  Basic\n",
       "0              miedo  Negative   True\n",
       "1               amor  Positive   True\n",
       "2               asco  Negative   True\n",
       "3                ira  Negative   True\n",
       "4               odio  Negative   True\n",
       "5           tristeza  Negative   True\n",
       "6           sorpresa  Negative   True\n",
       "7            alegría  Positive   True\n",
       "8          cansancio  Negative  False\n",
       "9          vergüenza  Negative  False\n",
       "10             culpa  Negative  False\n",
       "11          bochorno  Negative  False\n",
       "12         desprecio  Negative  False\n",
       "13      complacencia  Negative  False\n",
       "14           orgullo  Positive  False\n",
       "15        entusiasmo  Positive  False\n",
       "16            placer  Positive  False\n",
       "17      satisfacción  Positive  False\n",
       "18             celos  Negative  False\n",
       "19         confianza  Positive  False\n",
       "20          disgusto  Negative  False\n",
       "21         felicidad  Positive  False\n",
       "22            alivio  Positive  False\n",
       "23       sufrimiento  Negative  False\n",
       "24            afecto  Positive  False\n",
       "25    agradecimiento  Positive  False\n",
       "26            cariño  Positive  False\n",
       "27         compasión  Positive  False\n",
       "28         esperanza  Positive  False\n",
       "29           euforia  Positive  False\n",
       "..               ...       ...    ...\n",
       "95     concentración  Negative  False\n",
       "96          alborozo  Negative  False\n",
       "97         aflicción  Negative  False\n",
       "98          añoranza  Negative  False\n",
       "99            apatía  Negative  False\n",
       "100           afecto  Positive  False\n",
       "101      abatimiento  Negative  False\n",
       "102          asombro  Negative  False\n",
       "103        enamorado  Positive  False\n",
       "104  arrepentimiento  Negative  False\n",
       "105         abrumado  Negative  False\n",
       "106          desazón  Negative  False\n",
       "107        aflicción  Negative  False\n",
       "108         gratitud  Positive  False\n",
       "109          interés  Positive  False\n",
       "110        diversión  Positive  False\n",
       "111         plenitud  Positive  False\n",
       "112            temor  Negative  False\n",
       "113           terror  Negative  False\n",
       "114           pereza  Negative  False\n",
       "115         ofendido  Negative  False\n",
       "116          desamor  Negative  False\n",
       "117      desasosiego  Negative  False\n",
       "118        resquemor  Negative  False\n",
       "119   desorientación  Negative  False\n",
       "120     exasperación  Negative  False\n",
       "121         soberbia  Negative  False\n",
       "122          timidez  Negative  False\n",
       "123     incredulidad  Negative  False\n",
       "124          ternura  Positive  False\n",
       "\n",
       "[125 rows x 3 columns]"
      ]
     },
     "execution_count": 239,
     "metadata": {},
     "output_type": "execute_result"
    }
   ],
   "source": [
    "emotions_df"
   ]
  },
  {
   "cell_type": "code",
   "execution_count": null,
   "metadata": {},
   "outputs": [],
   "source": []
  },
  {
   "cell_type": "code",
   "execution_count": 208,
   "metadata": {},
   "outputs": [],
   "source": []
  },
  {
   "cell_type": "code",
   "execution_count": 209,
   "metadata": {},
   "outputs": [
    {
     "data": {
      "text/plain": [
       "125"
      ]
     },
     "execution_count": 209,
     "metadata": {},
     "output_type": "execute_result"
    }
   ],
   "source": []
  },
  {
   "cell_type": "code",
   "execution_count": 210,
   "metadata": {},
   "outputs": [],
   "source": [
    "# Mean vector for basic emotions\n",
    "BasicEmotionsVec = get_mean_vector(word_vectors, BasicEmotions)\n",
    "\n",
    "# Mean vector for secondary emotions\n",
    "SecondEmotionsVec = get_mean_vector(word_vectors, SecondEmotions)\n",
    "\n",
    "# Mean vector for all emotions\n",
    "AllEmotionsVec = get_mean_vector(word_vectors, AllEmotions)\n",
    "\n",
    "# Mean vector for positive emotions\n",
    "PosEmotionsVec = get_mean_vector(word_vectors, PosEmotions)\n",
    "\n",
    "# Mean vector for negative emotions\n",
    "NegEmotionsVec = get_mean_vector(word_vectors, NegEmotions)"
   ]
  },
  {
   "cell_type": "code",
   "execution_count": 211,
   "metadata": {},
   "outputs": [
    {
     "data": {
      "text/plain": [
       "[('alegría', 0.8047903180122375),\n",
       " ('afecto', 0.7779877185821533),\n",
       " ('ternura', 0.7621577978134155),\n",
       " ('gozo', 0.757392406463623),\n",
       " ('gratitud', 0.7568492889404297),\n",
       " ('compasión', 0.7439577579498291),\n",
       " ('felicidad', 0.7397865056991577),\n",
       " ('admiración', 0.7357223033905029),\n",
       " ('emoción', 0.7333118915557861),\n",
       " ('satisfacción', 0.7311954498291016)]"
      ]
     },
     "execution_count": 211,
     "metadata": {},
     "output_type": "execute_result"
    }
   ],
   "source": [
    "word_vectors.similar_by_vector(PosEmotionsVec)"
   ]
  },
  {
   "cell_type": "code",
   "execution_count": 212,
   "metadata": {},
   "outputs": [
    {
     "data": {
      "text/plain": [
       "[('angustia', 0.8621305227279663),\n",
       " ('tristeza', 0.8261114954948425),\n",
       " ('congoja', 0.8229580521583557),\n",
       " ('aflicción', 0.8225841522216797),\n",
       " ('frustración', 0.8151585459709167),\n",
       " ('enojo', 0.8146544098854065),\n",
       " ('desazón', 0.8122626543045044),\n",
       " ('pesadumbre', 0.8033219575881958),\n",
       " ('inquietud', 0.8005258440971375),\n",
       " ('ansiedad', 0.7956131100654602)]"
      ]
     },
     "execution_count": 212,
     "metadata": {},
     "output_type": "execute_result"
    }
   ],
   "source": [
    "word_vectors.similar_by_vector(NegEmotionsVec)"
   ]
  },
  {
   "cell_type": "code",
   "execution_count": 213,
   "metadata": {},
   "outputs": [
    {
     "data": {
      "text/plain": [
       "1.043916"
      ]
     },
     "execution_count": 213,
     "metadata": {},
     "output_type": "execute_result"
    }
   ],
   "source": [
    "word_vectors.distances(AllEmotionsVec, ['hola'])[0]"
   ]
  },
  {
   "cell_type": "code",
   "execution_count": 214,
   "metadata": {},
   "outputs": [
    {
     "data": {
      "text/plain": [
       "0.4462517"
      ]
     },
     "execution_count": 214,
     "metadata": {},
     "output_type": "execute_result"
    }
   ],
   "source": [
    "word_vectors.distances(AllEmotionsVec, ['amor'])[0]"
   ]
  },
  {
   "cell_type": "code",
   "execution_count": 215,
   "metadata": {},
   "outputs": [
    {
     "data": {
      "text/plain": [
       "array([0.22716996, 0.03768701, 0.5537483 , 0.09603073], dtype=float32)"
      ]
     },
     "execution_count": 215,
     "metadata": {},
     "output_type": "execute_result"
    }
   ],
   "source": [
    "word_vectors.cosine_similarities(AllEmotionsVec, \n",
    "                                 [word_vectors.get_vector(\"niño\"),\n",
    "                                  word_vectors.get_vector(\"quiero\"),\n",
    "                                  word_vectors.get_vector(\"amor\"),\n",
    "                                  word_vectors.get_vector(\"casa\")])"
   ]
  },
  {
   "cell_type": "markdown",
   "metadata": {},
   "source": [
    "## Converting texts into 400-dimensional vecs"
   ]
  },
  {
   "cell_type": "code",
   "execution_count": 21,
   "metadata": {},
   "outputs": [],
   "source": [
    "docs_df = viz_df.copy()"
   ]
  },
  {
   "cell_type": "code",
   "execution_count": 22,
   "metadata": {},
   "outputs": [],
   "source": [
    "docs_df['Text'] = docs_df['Text'].apply(lambda x: get_mean_vector(word_vectors, x.split()))"
   ]
  },
  {
   "cell_type": "code",
   "execution_count": 23,
   "metadata": {},
   "outputs": [
    {
     "data": {
      "text/plain": [
       "271"
      ]
     },
     "execution_count": 23,
     "metadata": {},
     "output_type": "execute_result"
    }
   ],
   "source": [
    "docs_df['Text'].shape[0]"
   ]
  },
  {
   "cell_type": "code",
   "execution_count": 24,
   "metadata": {},
   "outputs": [
    {
     "data": {
      "text/html": [
       "<div>\n",
       "<style scoped>\n",
       "    .dataframe tbody tr th:only-of-type {\n",
       "        vertical-align: middle;\n",
       "    }\n",
       "\n",
       "    .dataframe tbody tr th {\n",
       "        vertical-align: top;\n",
       "    }\n",
       "\n",
       "    .dataframe thead th {\n",
       "        text-align: right;\n",
       "    }\n",
       "</style>\n",
       "<table border=\"1\" class=\"dataframe\">\n",
       "  <thead>\n",
       "    <tr style=\"text-align: right;\">\n",
       "      <th></th>\n",
       "      <th>Text</th>\n",
       "      <th>AlexLabel</th>\n",
       "      <th>card</th>\n",
       "      <th>SubClass</th>\n",
       "    </tr>\n",
       "  </thead>\n",
       "  <tbody>\n",
       "    <tr>\n",
       "      <th>238</th>\n",
       "      <td>[1.0921897, -1.3773147, -0.02553477, 0.5166553...</td>\n",
       "      <td>NoAlex</td>\n",
       "      <td>11</td>\n",
       "      <td>NoAlex-11</td>\n",
       "    </tr>\n",
       "    <tr>\n",
       "      <th>86</th>\n",
       "      <td>[0.320334, -0.8308433, -0.85727763, 0.5418416,...</td>\n",
       "      <td>NoAlex</td>\n",
       "      <td>9VH</td>\n",
       "      <td>NoAlex-9VH</td>\n",
       "    </tr>\n",
       "  </tbody>\n",
       "</table>\n",
       "</div>"
      ],
      "text/plain": [
       "                                                  Text AlexLabel card  \\\n",
       "238  [1.0921897, -1.3773147, -0.02553477, 0.5166553...    NoAlex   11   \n",
       "86   [0.320334, -0.8308433, -0.85727763, 0.5418416,...    NoAlex  9VH   \n",
       "\n",
       "       SubClass  \n",
       "238   NoAlex-11  \n",
       "86   NoAlex-9VH  "
      ]
     },
     "execution_count": 24,
     "metadata": {},
     "output_type": "execute_result"
    }
   ],
   "source": [
    "docs_df.sample(2)"
   ]
  },
  {
   "cell_type": "markdown",
   "metadata": {},
   "source": [
    "## Preparing data for visualization"
   ]
  },
  {
   "cell_type": "code",
   "execution_count": 25,
   "metadata": {},
   "outputs": [],
   "source": [
    "# Name the new columns for features \n",
    "# Xi are the Doc2Vec dimensions\n",
    "feat_cols = [ 'X-'+str(i) for i in range(word_vectors.vector_size) ]"
   ]
  },
  {
   "cell_type": "code",
   "execution_count": 26,
   "metadata": {},
   "outputs": [
    {
     "data": {
      "text/plain": [
       "(271, 400)"
      ]
     },
     "execution_count": 26,
     "metadata": {},
     "output_type": "execute_result"
    }
   ],
   "source": [
    "# Add Xi to a new dataframe as columns\n",
    "df = pd.DataFrame(np.column_stack(list(zip(*docs_df['Text'].get_values()))), columns=feat_cols)\n",
    "df.shape"
   ]
  },
  {
   "cell_type": "code",
   "execution_count": 27,
   "metadata": {},
   "outputs": [
    {
     "data": {
      "text/plain": [
       "(271, 401)"
      ]
     },
     "execution_count": 27,
     "metadata": {},
     "output_type": "execute_result"
    }
   ],
   "source": [
    "# Add the label to the df as a new column\n",
    "df['y'] = docs_df['AlexLabel'].get_values()\n",
    "df.shape"
   ]
  },
  {
   "cell_type": "code",
   "execution_count": 28,
   "metadata": {},
   "outputs": [
    {
     "data": {
      "text/html": [
       "<div>\n",
       "<style scoped>\n",
       "    .dataframe tbody tr th:only-of-type {\n",
       "        vertical-align: middle;\n",
       "    }\n",
       "\n",
       "    .dataframe tbody tr th {\n",
       "        vertical-align: top;\n",
       "    }\n",
       "\n",
       "    .dataframe thead th {\n",
       "        text-align: right;\n",
       "    }\n",
       "</style>\n",
       "<table border=\"1\" class=\"dataframe\">\n",
       "  <thead>\n",
       "    <tr style=\"text-align: right;\">\n",
       "      <th></th>\n",
       "      <th>X-0</th>\n",
       "      <th>X-1</th>\n",
       "      <th>X-2</th>\n",
       "      <th>X-3</th>\n",
       "      <th>X-4</th>\n",
       "      <th>X-5</th>\n",
       "      <th>X-6</th>\n",
       "      <th>X-7</th>\n",
       "      <th>X-8</th>\n",
       "      <th>X-9</th>\n",
       "      <th>...</th>\n",
       "      <th>X-391</th>\n",
       "      <th>X-392</th>\n",
       "      <th>X-393</th>\n",
       "      <th>X-394</th>\n",
       "      <th>X-395</th>\n",
       "      <th>X-396</th>\n",
       "      <th>X-397</th>\n",
       "      <th>X-398</th>\n",
       "      <th>X-399</th>\n",
       "      <th>y</th>\n",
       "    </tr>\n",
       "  </thead>\n",
       "  <tbody>\n",
       "    <tr>\n",
       "      <th>200</th>\n",
       "      <td>-0.163496</td>\n",
       "      <td>-0.597384</td>\n",
       "      <td>-0.334226</td>\n",
       "      <td>-0.312711</td>\n",
       "      <td>0.489902</td>\n",
       "      <td>-0.500147</td>\n",
       "      <td>0.745960</td>\n",
       "      <td>-0.321532</td>\n",
       "      <td>0.417892</td>\n",
       "      <td>-0.475484</td>\n",
       "      <td>...</td>\n",
       "      <td>-0.294026</td>\n",
       "      <td>-0.002750</td>\n",
       "      <td>0.578811</td>\n",
       "      <td>-0.330797</td>\n",
       "      <td>0.047100</td>\n",
       "      <td>0.191971</td>\n",
       "      <td>-0.006895</td>\n",
       "      <td>1.070760</td>\n",
       "      <td>0.219936</td>\n",
       "      <td>Alex</td>\n",
       "    </tr>\n",
       "    <tr>\n",
       "      <th>50</th>\n",
       "      <td>-0.097812</td>\n",
       "      <td>-0.567042</td>\n",
       "      <td>-0.420780</td>\n",
       "      <td>0.534808</td>\n",
       "      <td>0.541989</td>\n",
       "      <td>-0.260806</td>\n",
       "      <td>0.063615</td>\n",
       "      <td>-0.330307</td>\n",
       "      <td>-0.210334</td>\n",
       "      <td>0.459778</td>\n",
       "      <td>...</td>\n",
       "      <td>-0.610138</td>\n",
       "      <td>-0.013034</td>\n",
       "      <td>0.758466</td>\n",
       "      <td>-0.369661</td>\n",
       "      <td>-0.168655</td>\n",
       "      <td>0.721818</td>\n",
       "      <td>0.016812</td>\n",
       "      <td>0.919923</td>\n",
       "      <td>0.032114</td>\n",
       "      <td>NoAlex</td>\n",
       "    </tr>\n",
       "    <tr>\n",
       "      <th>8</th>\n",
       "      <td>0.132201</td>\n",
       "      <td>-0.761217</td>\n",
       "      <td>-0.944512</td>\n",
       "      <td>-0.122830</td>\n",
       "      <td>1.065322</td>\n",
       "      <td>-0.568012</td>\n",
       "      <td>0.116376</td>\n",
       "      <td>0.243056</td>\n",
       "      <td>0.199743</td>\n",
       "      <td>-0.080723</td>\n",
       "      <td>...</td>\n",
       "      <td>-0.319565</td>\n",
       "      <td>-0.176035</td>\n",
       "      <td>0.028891</td>\n",
       "      <td>0.025462</td>\n",
       "      <td>-0.710356</td>\n",
       "      <td>0.289243</td>\n",
       "      <td>0.399063</td>\n",
       "      <td>0.515269</td>\n",
       "      <td>0.045404</td>\n",
       "      <td>NoAlex</td>\n",
       "    </tr>\n",
       "    <tr>\n",
       "      <th>237</th>\n",
       "      <td>-0.657808</td>\n",
       "      <td>-0.838520</td>\n",
       "      <td>-0.383117</td>\n",
       "      <td>-0.367926</td>\n",
       "      <td>0.935128</td>\n",
       "      <td>0.036101</td>\n",
       "      <td>0.179133</td>\n",
       "      <td>-0.407831</td>\n",
       "      <td>0.937514</td>\n",
       "      <td>-0.017607</td>\n",
       "      <td>...</td>\n",
       "      <td>-0.077768</td>\n",
       "      <td>-0.171787</td>\n",
       "      <td>0.776328</td>\n",
       "      <td>-0.317432</td>\n",
       "      <td>-0.713515</td>\n",
       "      <td>-0.249397</td>\n",
       "      <td>1.015298</td>\n",
       "      <td>0.964268</td>\n",
       "      <td>-0.128045</td>\n",
       "      <td>NoAlex</td>\n",
       "    </tr>\n",
       "  </tbody>\n",
       "</table>\n",
       "<p>4 rows × 401 columns</p>\n",
       "</div>"
      ],
      "text/plain": [
       "          X-0       X-1       X-2       X-3       X-4       X-5       X-6  \\\n",
       "200 -0.163496 -0.597384 -0.334226 -0.312711  0.489902 -0.500147  0.745960   \n",
       "50  -0.097812 -0.567042 -0.420780  0.534808  0.541989 -0.260806  0.063615   \n",
       "8    0.132201 -0.761217 -0.944512 -0.122830  1.065322 -0.568012  0.116376   \n",
       "237 -0.657808 -0.838520 -0.383117 -0.367926  0.935128  0.036101  0.179133   \n",
       "\n",
       "          X-7       X-8       X-9  ...     X-391     X-392     X-393  \\\n",
       "200 -0.321532  0.417892 -0.475484  ... -0.294026 -0.002750  0.578811   \n",
       "50  -0.330307 -0.210334  0.459778  ... -0.610138 -0.013034  0.758466   \n",
       "8    0.243056  0.199743 -0.080723  ... -0.319565 -0.176035  0.028891   \n",
       "237 -0.407831  0.937514 -0.017607  ... -0.077768 -0.171787  0.776328   \n",
       "\n",
       "        X-394     X-395     X-396     X-397     X-398     X-399       y  \n",
       "200 -0.330797  0.047100  0.191971 -0.006895  1.070760  0.219936    Alex  \n",
       "50  -0.369661 -0.168655  0.721818  0.016812  0.919923  0.032114  NoAlex  \n",
       "8    0.025462 -0.710356  0.289243  0.399063  0.515269  0.045404  NoAlex  \n",
       "237 -0.317432 -0.713515 -0.249397  1.015298  0.964268 -0.128045  NoAlex  \n",
       "\n",
       "[4 rows x 401 columns]"
      ]
     },
     "execution_count": 28,
     "metadata": {},
     "output_type": "execute_result"
    }
   ],
   "source": [
    "df.sample(4)"
   ]
  },
  {
   "cell_type": "code",
   "execution_count": 29,
   "metadata": {},
   "outputs": [
    {
     "name": "stdout",
     "output_type": "stream",
     "text": [
      "Size of the dataframe: (271, 401)\n"
     ]
    }
   ],
   "source": [
    "X, y = None, None\n",
    "print('Size of the dataframe: {}'.format(df.shape))"
   ]
  },
  {
   "cell_type": "markdown",
   "metadata": {},
   "source": [
    "## Using PCA to project into a 2D space"
   ]
  },
  {
   "cell_type": "code",
   "execution_count": 31,
   "metadata": {},
   "outputs": [],
   "source": [
    "from sklearn.decomposition import PCA"
   ]
  },
  {
   "cell_type": "code",
   "execution_count": 32,
   "metadata": {},
   "outputs": [],
   "source": [
    "pca = PCA(n_components=2)\n",
    "pca_result = pca.fit_transform(df[feat_cols].values)"
   ]
  },
  {
   "cell_type": "code",
   "execution_count": 33,
   "metadata": {},
   "outputs": [],
   "source": [
    "df['pca-1'] = pca_result[:,0]\n",
    "df['pca-2'] = pca_result[:,1]"
   ]
  },
  {
   "cell_type": "code",
   "execution_count": 34,
   "metadata": {},
   "outputs": [
    {
     "data": {
      "text/html": [
       "<div>\n",
       "<style scoped>\n",
       "    .dataframe tbody tr th:only-of-type {\n",
       "        vertical-align: middle;\n",
       "    }\n",
       "\n",
       "    .dataframe tbody tr th {\n",
       "        vertical-align: top;\n",
       "    }\n",
       "\n",
       "    .dataframe thead th {\n",
       "        text-align: right;\n",
       "    }\n",
       "</style>\n",
       "<table border=\"1\" class=\"dataframe\">\n",
       "  <thead>\n",
       "    <tr style=\"text-align: right;\">\n",
       "      <th></th>\n",
       "      <th>X-0</th>\n",
       "      <th>X-1</th>\n",
       "      <th>X-2</th>\n",
       "      <th>X-3</th>\n",
       "      <th>X-4</th>\n",
       "      <th>X-5</th>\n",
       "      <th>X-6</th>\n",
       "      <th>X-7</th>\n",
       "      <th>X-8</th>\n",
       "      <th>X-9</th>\n",
       "      <th>...</th>\n",
       "      <th>X-393</th>\n",
       "      <th>X-394</th>\n",
       "      <th>X-395</th>\n",
       "      <th>X-396</th>\n",
       "      <th>X-397</th>\n",
       "      <th>X-398</th>\n",
       "      <th>X-399</th>\n",
       "      <th>y</th>\n",
       "      <th>pca-1</th>\n",
       "      <th>pca-2</th>\n",
       "    </tr>\n",
       "  </thead>\n",
       "  <tbody>\n",
       "    <tr>\n",
       "      <th>264</th>\n",
       "      <td>-0.154043</td>\n",
       "      <td>-0.738234</td>\n",
       "      <td>-1.346447</td>\n",
       "      <td>-0.225724</td>\n",
       "      <td>0.932469</td>\n",
       "      <td>-0.399016</td>\n",
       "      <td>0.281528</td>\n",
       "      <td>-0.618201</td>\n",
       "      <td>0.258167</td>\n",
       "      <td>-0.416905</td>\n",
       "      <td>...</td>\n",
       "      <td>0.344288</td>\n",
       "      <td>-0.719736</td>\n",
       "      <td>-0.202969</td>\n",
       "      <td>-0.232134</td>\n",
       "      <td>0.727870</td>\n",
       "      <td>1.357108</td>\n",
       "      <td>0.023455</td>\n",
       "      <td>Alex</td>\n",
       "      <td>-1.455873</td>\n",
       "      <td>-0.132326</td>\n",
       "    </tr>\n",
       "    <tr>\n",
       "      <th>17</th>\n",
       "      <td>0.111428</td>\n",
       "      <td>-0.837695</td>\n",
       "      <td>-0.654304</td>\n",
       "      <td>-0.637068</td>\n",
       "      <td>0.833316</td>\n",
       "      <td>-0.656078</td>\n",
       "      <td>-0.366503</td>\n",
       "      <td>-0.255694</td>\n",
       "      <td>0.425809</td>\n",
       "      <td>0.120263</td>\n",
       "      <td>...</td>\n",
       "      <td>-0.193532</td>\n",
       "      <td>-0.012530</td>\n",
       "      <td>-0.778033</td>\n",
       "      <td>-0.538829</td>\n",
       "      <td>1.015139</td>\n",
       "      <td>0.872723</td>\n",
       "      <td>-0.049058</td>\n",
       "      <td>NoAlex</td>\n",
       "      <td>-0.764464</td>\n",
       "      <td>-2.131534</td>\n",
       "    </tr>\n",
       "    <tr>\n",
       "      <th>86</th>\n",
       "      <td>0.320334</td>\n",
       "      <td>-0.830843</td>\n",
       "      <td>-0.857278</td>\n",
       "      <td>0.541842</td>\n",
       "      <td>1.526618</td>\n",
       "      <td>-0.445657</td>\n",
       "      <td>0.169099</td>\n",
       "      <td>-0.629589</td>\n",
       "      <td>-0.393408</td>\n",
       "      <td>-0.576042</td>\n",
       "      <td>...</td>\n",
       "      <td>0.661649</td>\n",
       "      <td>-0.593585</td>\n",
       "      <td>-0.898826</td>\n",
       "      <td>-1.032610</td>\n",
       "      <td>0.938776</td>\n",
       "      <td>2.197415</td>\n",
       "      <td>-0.088825</td>\n",
       "      <td>NoAlex</td>\n",
       "      <td>-3.447955</td>\n",
       "      <td>1.908487</td>\n",
       "    </tr>\n",
       "    <tr>\n",
       "      <th>140</th>\n",
       "      <td>-0.216879</td>\n",
       "      <td>-0.702176</td>\n",
       "      <td>-0.334212</td>\n",
       "      <td>0.338466</td>\n",
       "      <td>0.972673</td>\n",
       "      <td>-0.798958</td>\n",
       "      <td>-0.010087</td>\n",
       "      <td>-0.677729</td>\n",
       "      <td>0.078210</td>\n",
       "      <td>-0.037030</td>\n",
       "      <td>...</td>\n",
       "      <td>1.509063</td>\n",
       "      <td>0.053040</td>\n",
       "      <td>-0.578482</td>\n",
       "      <td>0.795520</td>\n",
       "      <td>-0.870476</td>\n",
       "      <td>0.736999</td>\n",
       "      <td>0.835187</td>\n",
       "      <td>NoAlex</td>\n",
       "      <td>5.267655</td>\n",
       "      <td>-2.097949</td>\n",
       "    </tr>\n",
       "  </tbody>\n",
       "</table>\n",
       "<p>4 rows × 403 columns</p>\n",
       "</div>"
      ],
      "text/plain": [
       "          X-0       X-1       X-2       X-3       X-4       X-5       X-6  \\\n",
       "264 -0.154043 -0.738234 -1.346447 -0.225724  0.932469 -0.399016  0.281528   \n",
       "17   0.111428 -0.837695 -0.654304 -0.637068  0.833316 -0.656078 -0.366503   \n",
       "86   0.320334 -0.830843 -0.857278  0.541842  1.526618 -0.445657  0.169099   \n",
       "140 -0.216879 -0.702176 -0.334212  0.338466  0.972673 -0.798958 -0.010087   \n",
       "\n",
       "          X-7       X-8       X-9  ...     X-393     X-394     X-395  \\\n",
       "264 -0.618201  0.258167 -0.416905  ...  0.344288 -0.719736 -0.202969   \n",
       "17  -0.255694  0.425809  0.120263  ... -0.193532 -0.012530 -0.778033   \n",
       "86  -0.629589 -0.393408 -0.576042  ...  0.661649 -0.593585 -0.898826   \n",
       "140 -0.677729  0.078210 -0.037030  ...  1.509063  0.053040 -0.578482   \n",
       "\n",
       "        X-396     X-397     X-398     X-399       y     pca-1     pca-2  \n",
       "264 -0.232134  0.727870  1.357108  0.023455    Alex -1.455873 -0.132326  \n",
       "17  -0.538829  1.015139  0.872723 -0.049058  NoAlex -0.764464 -2.131534  \n",
       "86  -1.032610  0.938776  2.197415 -0.088825  NoAlex -3.447955  1.908487  \n",
       "140  0.795520 -0.870476  0.736999  0.835187  NoAlex  5.267655 -2.097949  \n",
       "\n",
       "[4 rows x 403 columns]"
      ]
     },
     "execution_count": 34,
     "metadata": {},
     "output_type": "execute_result"
    }
   ],
   "source": [
    "df.sample(4)"
   ]
  },
  {
   "cell_type": "code",
   "execution_count": 35,
   "metadata": {},
   "outputs": [
    {
     "name": "stdout",
     "output_type": "stream",
     "text": [
      "Explained variation per principal component: [0.21227731 0.06680973]\n"
     ]
    }
   ],
   "source": [
    "print('Explained variation per principal component: {}'.format(pca.explained_variance_ratio_))"
   ]
  },
  {
   "cell_type": "code",
   "execution_count": 39,
   "metadata": {},
   "outputs": [],
   "source": [
    "%matplotlib inline\n",
    "import matplotlib.pyplot as plt\n",
    "from mpl_toolkits.mplot3d import Axes3D\n",
    "import seaborn as sns"
   ]
  },
  {
   "cell_type": "code",
   "execution_count": 40,
   "metadata": {},
   "outputs": [
    {
     "data": {
      "text/plain": [
       "<matplotlib.axes._subplots.AxesSubplot at 0x1efb9189ba8>"
      ]
     },
     "execution_count": 40,
     "metadata": {},
     "output_type": "execute_result"
    },
    {
     "data": {
      "image/png": "[encoded data removed]",
      "text/plain": [
       "<Figure size 720x576 with 1 Axes>"
      ]
     },
     "metadata": {
      "needs_background": "light"
     },
     "output_type": "display_data"
    }
   ],
   "source": [
    "plt.figure(figsize=(10,8))\n",
    "markers = {\"Alex\": \"X\", \"NoAlex\": \"o\"}\n",
    "sns.scatterplot(\n",
    "    x=\"pca-1\", \n",
    "    y=\"pca-2\",\n",
    "    hue=\"y\",\n",
    "    style=\"y\",\n",
    "    palette=sns.color_palette([\"#0000ff\", \"#ff0000\"]),\n",
    "    data=df,\n",
    "    markers=markers,\n",
    "    legend=\"full\",\n",
    "    alpha=1\n",
    ")"
   ]
  },
  {
   "cell_type": "markdown",
   "metadata": {},
   "source": [
    "## Using PCA to project into a 3D space"
   ]
  },
  {
   "cell_type": "code",
   "execution_count": 41,
   "metadata": {},
   "outputs": [],
   "source": [
    "pca = PCA(n_components=3)\n",
    "pca_result = pca.fit_transform(df[feat_cols].values)"
   ]
  },
  {
   "cell_type": "code",
   "execution_count": 42,
   "metadata": {},
   "outputs": [],
   "source": [
    "df['pca-1'] = pca_result[:,0]\n",
    "df['pca-2'] = pca_result[:,1]\n",
    "df['pca-3'] = pca_result[:,2]"
   ]
  },
  {
   "cell_type": "code",
   "execution_count": 43,
   "metadata": {},
   "outputs": [
    {
     "data": {
      "text/html": [
       "<div>\n",
       "<style scoped>\n",
       "    .dataframe tbody tr th:only-of-type {\n",
       "        vertical-align: middle;\n",
       "    }\n",
       "\n",
       "    .dataframe tbody tr th {\n",
       "        vertical-align: top;\n",
       "    }\n",
       "\n",
       "    .dataframe thead th {\n",
       "        text-align: right;\n",
       "    }\n",
       "</style>\n",
       "<table border=\"1\" class=\"dataframe\">\n",
       "  <thead>\n",
       "    <tr style=\"text-align: right;\">\n",
       "      <th></th>\n",
       "      <th>X-0</th>\n",
       "      <th>X-1</th>\n",
       "      <th>X-2</th>\n",
       "      <th>X-3</th>\n",
       "      <th>X-4</th>\n",
       "      <th>X-5</th>\n",
       "      <th>X-6</th>\n",
       "      <th>X-7</th>\n",
       "      <th>X-8</th>\n",
       "      <th>X-9</th>\n",
       "      <th>...</th>\n",
       "      <th>X-394</th>\n",
       "      <th>X-395</th>\n",
       "      <th>X-396</th>\n",
       "      <th>X-397</th>\n",
       "      <th>X-398</th>\n",
       "      <th>X-399</th>\n",
       "      <th>y</th>\n",
       "      <th>pca-1</th>\n",
       "      <th>pca-2</th>\n",
       "      <th>pca-3</th>\n",
       "    </tr>\n",
       "  </thead>\n",
       "  <tbody>\n",
       "    <tr>\n",
       "      <th>206</th>\n",
       "      <td>0.388908</td>\n",
       "      <td>0.006849</td>\n",
       "      <td>-0.797448</td>\n",
       "      <td>-0.634822</td>\n",
       "      <td>1.582541</td>\n",
       "      <td>-0.694459</td>\n",
       "      <td>-0.437666</td>\n",
       "      <td>-0.271410</td>\n",
       "      <td>0.024513</td>\n",
       "      <td>-0.689414</td>\n",
       "      <td>...</td>\n",
       "      <td>-0.974001</td>\n",
       "      <td>-0.685190</td>\n",
       "      <td>-0.548028</td>\n",
       "      <td>0.279012</td>\n",
       "      <td>0.741474</td>\n",
       "      <td>-0.161273</td>\n",
       "      <td>Alex</td>\n",
       "      <td>-5.744339</td>\n",
       "      <td>-6.426547</td>\n",
       "      <td>0.213500</td>\n",
       "    </tr>\n",
       "    <tr>\n",
       "      <th>232</th>\n",
       "      <td>0.348644</td>\n",
       "      <td>-1.117189</td>\n",
       "      <td>-0.638708</td>\n",
       "      <td>0.444595</td>\n",
       "      <td>0.516731</td>\n",
       "      <td>-0.142488</td>\n",
       "      <td>-0.013959</td>\n",
       "      <td>-0.121311</td>\n",
       "      <td>-0.195286</td>\n",
       "      <td>0.058360</td>\n",
       "      <td>...</td>\n",
       "      <td>-0.224643</td>\n",
       "      <td>0.007297</td>\n",
       "      <td>0.101970</td>\n",
       "      <td>0.386939</td>\n",
       "      <td>0.262069</td>\n",
       "      <td>0.570791</td>\n",
       "      <td>NoAlex</td>\n",
       "      <td>3.906293</td>\n",
       "      <td>0.719756</td>\n",
       "      <td>2.681361</td>\n",
       "    </tr>\n",
       "    <tr>\n",
       "      <th>200</th>\n",
       "      <td>-0.163496</td>\n",
       "      <td>-0.597384</td>\n",
       "      <td>-0.334226</td>\n",
       "      <td>-0.312711</td>\n",
       "      <td>0.489902</td>\n",
       "      <td>-0.500147</td>\n",
       "      <td>0.745960</td>\n",
       "      <td>-0.321532</td>\n",
       "      <td>0.417892</td>\n",
       "      <td>-0.475484</td>\n",
       "      <td>...</td>\n",
       "      <td>-0.330797</td>\n",
       "      <td>0.047100</td>\n",
       "      <td>0.191971</td>\n",
       "      <td>-0.006895</td>\n",
       "      <td>1.070760</td>\n",
       "      <td>0.219936</td>\n",
       "      <td>Alex</td>\n",
       "      <td>3.159852</td>\n",
       "      <td>-0.741870</td>\n",
       "      <td>-0.455702</td>\n",
       "    </tr>\n",
       "    <tr>\n",
       "      <th>169</th>\n",
       "      <td>-0.007462</td>\n",
       "      <td>-0.921400</td>\n",
       "      <td>-1.314328</td>\n",
       "      <td>-0.304174</td>\n",
       "      <td>1.032015</td>\n",
       "      <td>-0.517898</td>\n",
       "      <td>0.158670</td>\n",
       "      <td>-0.814741</td>\n",
       "      <td>-0.055199</td>\n",
       "      <td>0.448150</td>\n",
       "      <td>...</td>\n",
       "      <td>-1.125515</td>\n",
       "      <td>-0.887321</td>\n",
       "      <td>-0.601460</td>\n",
       "      <td>0.887915</td>\n",
       "      <td>1.821122</td>\n",
       "      <td>0.327035</td>\n",
       "      <td>NoAlex</td>\n",
       "      <td>-5.264001</td>\n",
       "      <td>0.527788</td>\n",
       "      <td>-0.051952</td>\n",
       "    </tr>\n",
       "  </tbody>\n",
       "</table>\n",
       "<p>4 rows × 404 columns</p>\n",
       "</div>"
      ],
      "text/plain": [
       "          X-0       X-1       X-2       X-3       X-4       X-5       X-6  \\\n",
       "206  0.388908  0.006849 -0.797448 -0.634822  1.582541 -0.694459 -0.437666   \n",
       "232  0.348644 -1.117189 -0.638708  0.444595  0.516731 -0.142488 -0.013959   \n",
       "200 -0.163496 -0.597384 -0.334226 -0.312711  0.489902 -0.500147  0.745960   \n",
       "169 -0.007462 -0.921400 -1.314328 -0.304174  1.032015 -0.517898  0.158670   \n",
       "\n",
       "          X-7       X-8       X-9  ...     X-394     X-395     X-396  \\\n",
       "206 -0.271410  0.024513 -0.689414  ... -0.974001 -0.685190 -0.548028   \n",
       "232 -0.121311 -0.195286  0.058360  ... -0.224643  0.007297  0.101970   \n",
       "200 -0.321532  0.417892 -0.475484  ... -0.330797  0.047100  0.191971   \n",
       "169 -0.814741 -0.055199  0.448150  ... -1.125515 -0.887321 -0.601460   \n",
       "\n",
       "        X-397     X-398     X-399       y     pca-1     pca-2     pca-3  \n",
       "206  0.279012  0.741474 -0.161273    Alex -5.744339 -6.426547  0.213500  \n",
       "232  0.386939  0.262069  0.570791  NoAlex  3.906293  0.719756  2.681361  \n",
       "200 -0.006895  1.070760  0.219936    Alex  3.159852 -0.741870 -0.455702  \n",
       "169  0.887915  1.821122  0.327035  NoAlex -5.264001  0.527788 -0.051952  \n",
       "\n",
       "[4 rows x 404 columns]"
      ]
     },
     "execution_count": 43,
     "metadata": {},
     "output_type": "execute_result"
    }
   ],
   "source": [
    "df.sample(4)"
   ]
  },
  {
   "cell_type": "code",
   "execution_count": 44,
   "metadata": {},
   "outputs": [
    {
     "name": "stdout",
     "output_type": "stream",
     "text": [
      "Explained variation per principal component: [0.21227735 0.06680972 0.06338171]\n"
     ]
    }
   ],
   "source": [
    "print('Explained variation per principal component: {}'.format(pca.explained_variance_ratio_))"
   ]
  },
  {
   "cell_type": "code",
   "execution_count": 45,
   "metadata": {},
   "outputs": [
    {
     "data": {
      "image/png": "[encoded data removed]",
      "text/plain": [
       "<Figure size 864x576 with 1 Axes>"
      ]
     },
     "metadata": {
      "needs_background": "light"
     },
     "output_type": "display_data"
    }
   ],
   "source": [
    "colors = {'Alex':'red', 'NoAlex':'blue'}\n",
    "ax = plt.figure(figsize=(12,8)).gca(projection='3d')\n",
    "ax.scatter(\n",
    "    xs=df[\"pca-1\"], \n",
    "    ys=df[\"pca-2\"], \n",
    "    zs=df[\"pca-3\"], \n",
    "    c=df['y'].apply(lambda x: colors[x])\n",
    ")\n",
    "ax.set_xlabel('pca-1')\n",
    "ax.set_ylabel('pca-2')\n",
    "ax.set_zlabel('pca-3')\n",
    "plt.show()"
   ]
  },
  {
   "cell_type": "markdown",
   "metadata": {},
   "source": [
    "## Using t-SNE to project into a 2D space"
   ]
  },
  {
   "cell_type": "code",
   "execution_count": 48,
   "metadata": {},
   "outputs": [],
   "source": [
    "from sklearn.manifold import TSNE"
   ]
  },
  {
   "cell_type": "code",
   "execution_count": 49,
   "metadata": {},
   "outputs": [],
   "source": [
    "data = df[feat_cols].values"
   ]
  },
  {
   "cell_type": "code",
   "execution_count": 50,
   "metadata": {},
   "outputs": [
    {
     "name": "stdout",
     "output_type": "stream",
     "text": [
      "[t-SNE] Computing 121 nearest neighbors...\n",
      "[t-SNE] Indexed 271 samples in 0.004s...\n",
      "[t-SNE] Computed neighbors for 271 samples in 0.053s...\n",
      "[t-SNE] Computed conditional probabilities for sample 271 / 271\n",
      "[t-SNE] Mean sigma: 3.174130\n",
      "[t-SNE] KL divergence after 250 iterations with early exaggeration: 75.476891\n",
      "[t-SNE] KL divergence after 300 iterations: 1.081816\n"
     ]
    }
   ],
   "source": [
    "tsne = TSNE(n_components=2, verbose=1, perplexity=40, n_iter=300)\n",
    "tsne_results = tsne.fit_transform(data)"
   ]
  },
  {
   "cell_type": "code",
   "execution_count": 51,
   "metadata": {},
   "outputs": [],
   "source": [
    "df['tsne-2d-1'] = tsne_results[:,0]\n",
    "df['tsne-2d-2'] = tsne_results[:,1]"
   ]
  },
  {
   "cell_type": "code",
   "execution_count": 52,
   "metadata": {},
   "outputs": [
    {
     "data": {
      "text/html": [
       "<div>\n",
       "<style scoped>\n",
       "    .dataframe tbody tr th:only-of-type {\n",
       "        vertical-align: middle;\n",
       "    }\n",
       "\n",
       "    .dataframe tbody tr th {\n",
       "        vertical-align: top;\n",
       "    }\n",
       "\n",
       "    .dataframe thead th {\n",
       "        text-align: right;\n",
       "    }\n",
       "</style>\n",
       "<table border=\"1\" class=\"dataframe\">\n",
       "  <thead>\n",
       "    <tr style=\"text-align: right;\">\n",
       "      <th></th>\n",
       "      <th>X-0</th>\n",
       "      <th>X-1</th>\n",
       "      <th>X-2</th>\n",
       "      <th>X-3</th>\n",
       "      <th>X-4</th>\n",
       "      <th>X-5</th>\n",
       "      <th>X-6</th>\n",
       "      <th>X-7</th>\n",
       "      <th>X-8</th>\n",
       "      <th>X-9</th>\n",
       "      <th>...</th>\n",
       "      <th>X-396</th>\n",
       "      <th>X-397</th>\n",
       "      <th>X-398</th>\n",
       "      <th>X-399</th>\n",
       "      <th>y</th>\n",
       "      <th>pca-1</th>\n",
       "      <th>pca-2</th>\n",
       "      <th>pca-3</th>\n",
       "      <th>tsne-2d-1</th>\n",
       "      <th>tsne-2d-2</th>\n",
       "    </tr>\n",
       "  </thead>\n",
       "  <tbody>\n",
       "    <tr>\n",
       "      <th>210</th>\n",
       "      <td>1.118459</td>\n",
       "      <td>-0.363183</td>\n",
       "      <td>-2.325202</td>\n",
       "      <td>-1.498535</td>\n",
       "      <td>0.449706</td>\n",
       "      <td>-0.432613</td>\n",
       "      <td>-0.601883</td>\n",
       "      <td>-0.270360</td>\n",
       "      <td>1.264371</td>\n",
       "      <td>-0.323065</td>\n",
       "      <td>...</td>\n",
       "      <td>-0.862088</td>\n",
       "      <td>2.111035</td>\n",
       "      <td>1.493838</td>\n",
       "      <td>-1.885173</td>\n",
       "      <td>NoAlex</td>\n",
       "      <td>-11.687435</td>\n",
       "      <td>-2.436841</td>\n",
       "      <td>-3.078526</td>\n",
       "      <td>-3.961662</td>\n",
       "      <td>-17.923704</td>\n",
       "    </tr>\n",
       "    <tr>\n",
       "      <th>111</th>\n",
       "      <td>0.382354</td>\n",
       "      <td>-0.452906</td>\n",
       "      <td>-0.919709</td>\n",
       "      <td>0.027613</td>\n",
       "      <td>1.078115</td>\n",
       "      <td>-0.690729</td>\n",
       "      <td>0.453763</td>\n",
       "      <td>-0.802465</td>\n",
       "      <td>-0.012711</td>\n",
       "      <td>0.156963</td>\n",
       "      <td>...</td>\n",
       "      <td>-0.127875</td>\n",
       "      <td>0.437508</td>\n",
       "      <td>1.499100</td>\n",
       "      <td>0.043039</td>\n",
       "      <td>NoAlex</td>\n",
       "      <td>-2.049782</td>\n",
       "      <td>0.290162</td>\n",
       "      <td>-1.805191</td>\n",
       "      <td>1.049268</td>\n",
       "      <td>-6.291683</td>\n",
       "    </tr>\n",
       "    <tr>\n",
       "      <th>65</th>\n",
       "      <td>-0.151910</td>\n",
       "      <td>-1.050460</td>\n",
       "      <td>-1.137015</td>\n",
       "      <td>0.293178</td>\n",
       "      <td>0.444000</td>\n",
       "      <td>-0.855390</td>\n",
       "      <td>0.177459</td>\n",
       "      <td>0.065164</td>\n",
       "      <td>0.424514</td>\n",
       "      <td>-0.435053</td>\n",
       "      <td>...</td>\n",
       "      <td>0.344060</td>\n",
       "      <td>0.889195</td>\n",
       "      <td>1.026724</td>\n",
       "      <td>0.212306</td>\n",
       "      <td>Alex</td>\n",
       "      <td>3.685163</td>\n",
       "      <td>2.023967</td>\n",
       "      <td>-0.295305</td>\n",
       "      <td>4.634480</td>\n",
       "      <td>12.974747</td>\n",
       "    </tr>\n",
       "    <tr>\n",
       "      <th>208</th>\n",
       "      <td>-0.392065</td>\n",
       "      <td>-0.860844</td>\n",
       "      <td>0.004348</td>\n",
       "      <td>-0.683359</td>\n",
       "      <td>2.199303</td>\n",
       "      <td>-0.591141</td>\n",
       "      <td>0.745220</td>\n",
       "      <td>-1.150335</td>\n",
       "      <td>0.982833</td>\n",
       "      <td>0.282903</td>\n",
       "      <td>...</td>\n",
       "      <td>-0.686094</td>\n",
       "      <td>1.244086</td>\n",
       "      <td>2.709211</td>\n",
       "      <td>0.009035</td>\n",
       "      <td>NoAlex</td>\n",
       "      <td>-5.444190</td>\n",
       "      <td>0.802128</td>\n",
       "      <td>-3.064375</td>\n",
       "      <td>12.591675</td>\n",
       "      <td>-10.285513</td>\n",
       "    </tr>\n",
       "  </tbody>\n",
       "</table>\n",
       "<p>4 rows × 406 columns</p>\n",
       "</div>"
      ],
      "text/plain": [
       "          X-0       X-1       X-2       X-3       X-4       X-5       X-6  \\\n",
       "210  1.118459 -0.363183 -2.325202 -1.498535  0.449706 -0.432613 -0.601883   \n",
       "111  0.382354 -0.452906 -0.919709  0.027613  1.078115 -0.690729  0.453763   \n",
       "65  -0.151910 -1.050460 -1.137015  0.293178  0.444000 -0.855390  0.177459   \n",
       "208 -0.392065 -0.860844  0.004348 -0.683359  2.199303 -0.591141  0.745220   \n",
       "\n",
       "          X-7       X-8       X-9  ...     X-396     X-397     X-398  \\\n",
       "210 -0.270360  1.264371 -0.323065  ... -0.862088  2.111035  1.493838   \n",
       "111 -0.802465 -0.012711  0.156963  ... -0.127875  0.437508  1.499100   \n",
       "65   0.065164  0.424514 -0.435053  ...  0.344060  0.889195  1.026724   \n",
       "208 -1.150335  0.982833  0.282903  ... -0.686094  1.244086  2.709211   \n",
       "\n",
       "        X-399       y      pca-1     pca-2     pca-3  tsne-2d-1  tsne-2d-2  \n",
       "210 -1.885173  NoAlex -11.687435 -2.436841 -3.078526  -3.961662 -17.923704  \n",
       "111  0.043039  NoAlex  -2.049782  0.290162 -1.805191   1.049268  -6.291683  \n",
       "65   0.212306    Alex   3.685163  2.023967 -0.295305   4.634480  12.974747  \n",
       "208  0.009035  NoAlex  -5.444190  0.802128 -3.064375  12.591675 -10.285513  \n",
       "\n",
       "[4 rows x 406 columns]"
      ]
     },
     "execution_count": 52,
     "metadata": {},
     "output_type": "execute_result"
    }
   ],
   "source": [
    "df.sample(4)"
   ]
  },
  {
   "cell_type": "code",
   "execution_count": 53,
   "metadata": {},
   "outputs": [
    {
     "data": {
      "text/plain": [
       "<matplotlib.axes._subplots.AxesSubplot at 0x1efba11d860>"
      ]
     },
     "execution_count": 53,
     "metadata": {},
     "output_type": "execute_result"
    },
    {
     "data": {
      "image/png": "[encoded data removed]",
      "text/plain": [
       "<Figure size 720x576 with 1 Axes>"
      ]
     },
     "metadata": {
      "needs_background": "light"
     },
     "output_type": "display_data"
    }
   ],
   "source": [
    "plt.figure(figsize=(10,8))\n",
    "markers = {\"Alex\": \"X\", \"NoAlex\": \"o\"}\n",
    "sns.scatterplot(\n",
    "    x=\"tsne-2d-1\", \n",
    "    y=\"tsne-2d-2\",\n",
    "    hue=\"y\",\n",
    "    style=\"y\",\n",
    "    palette=sns.color_palette([\"#0000ff\", \"#ff0000\"]),\n",
    "    data=df,\n",
    "    markers=markers,\n",
    "    legend=\"full\",\n",
    "    alpha=1\n",
    ")"
   ]
  },
  {
   "cell_type": "markdown",
   "metadata": {},
   "source": [
    "### Reduce dimensionality from 400 to 50 dimensions before using t-SNE"
   ]
  },
  {
   "cell_type": "code",
   "execution_count": 54,
   "metadata": {},
   "outputs": [],
   "source": [
    "# Using PCA to reduce to 50 dimensions\n",
    "pca_50 = PCA(n_components=50)\n",
    "pca_result_50 = pca_50.fit_transform(df[feat_cols].values)"
   ]
  },
  {
   "cell_type": "code",
   "execution_count": 55,
   "metadata": {},
   "outputs": [
    {
     "name": "stdout",
     "output_type": "stream",
     "text": [
      "Cumulative explained variation for 50 principal components: 0.8954629302024841\n"
     ]
    }
   ],
   "source": [
    "print('Cumulative explained variation for 50 principal components: {}'.format(np.sum(pca_50.explained_variance_ratio_)))"
   ]
  },
  {
   "cell_type": "code",
   "execution_count": 56,
   "metadata": {},
   "outputs": [],
   "source": [
    "# Using t-SNE to reduce from 50 to 2 dimensions\n",
    "tsne = TSNE(n_components=2, verbose=0, perplexity=40, n_iter=300)\n",
    "tsne_pca_results = tsne.fit_transform(pca_result_50)"
   ]
  },
  {
   "cell_type": "code",
   "execution_count": 57,
   "metadata": {},
   "outputs": [],
   "source": [
    "df['tsne-pca50-1'] = tsne_pca_results[:,0]\n",
    "df['tsne-pca50-2'] = tsne_pca_results[:,1]"
   ]
  },
  {
   "cell_type": "code",
   "execution_count": 59,
   "metadata": {},
   "outputs": [
    {
     "data": {
      "text/plain": [
       "<matplotlib.axes._subplots.AxesSubplot at 0x1efb9d23e80>"
      ]
     },
     "execution_count": 59,
     "metadata": {},
     "output_type": "execute_result"
    },
    {
     "data": {
      "image/png": "[encoded data removed]",
      "text/plain": [
       "<Figure size 720x576 with 1 Axes>"
      ]
     },
     "metadata": {
      "needs_background": "light"
     },
     "output_type": "display_data"
    }
   ],
   "source": [
    "plt.figure(figsize=(10,8))\n",
    "markers = {\"Alex\": \"X\", \"NoAlex\": \"o\"}\n",
    "sns.scatterplot(\n",
    "    x=\"tsne-pca50-1\", \n",
    "    y=\"tsne-pca50-2\",\n",
    "    hue=\"y\",\n",
    "    style=\"y\",\n",
    "    palette=sns.color_palette([\"#0000ff\", \"#ff0000\"]),\n",
    "    data=df,\n",
    "    markers=markers,\n",
    "    legend=\"full\",\n",
    "    alpha=1\n",
    ")"
   ]
  },
  {
   "cell_type": "markdown",
   "metadata": {},
   "source": [
    "## Stimuli Discrimination - Using card as class"
   ]
  },
  {
   "cell_type": "code",
   "execution_count": 61,
   "metadata": {},
   "outputs": [],
   "source": [
    "df['y'] = docs_df['card'].get_values()"
   ]
  },
  {
   "cell_type": "code",
   "execution_count": 63,
   "metadata": {},
   "outputs": [
    {
     "data": {
      "text/plain": [
       "0         1\n",
       "1        11\n",
       "2      13HM\n",
       "3        11\n",
       "4        11\n",
       "5       9VH\n",
       "6         1\n",
       "7      13HM\n",
       "8         1\n",
       "9        11\n",
       "10       11\n",
       "11        1\n",
       "12     13HM\n",
       "13       11\n",
       "14       11\n",
       "15      9VH\n",
       "16      9VH\n",
       "17      9VH\n",
       "18      9VH\n",
       "19      9VH\n",
       "20       11\n",
       "21     13HM\n",
       "22        1\n",
       "23       11\n",
       "24      9VH\n",
       "25       11\n",
       "26       11\n",
       "27      9VH\n",
       "28        1\n",
       "29        1\n",
       "       ... \n",
       "241     9VH\n",
       "242      11\n",
       "243    13HM\n",
       "244       1\n",
       "245     9VH\n",
       "246      11\n",
       "247    13HM\n",
       "248       1\n",
       "249     9VH\n",
       "250      11\n",
       "251    13HM\n",
       "252       1\n",
       "253     9VH\n",
       "254      11\n",
       "255    13HM\n",
       "256       1\n",
       "257     9VH\n",
       "258    13HM\n",
       "259       1\n",
       "260     9VH\n",
       "261      11\n",
       "262    13HM\n",
       "263       1\n",
       "264     9VH\n",
       "265      11\n",
       "266    13HM\n",
       "267       1\n",
       "268     9VH\n",
       "269      11\n",
       "270    13HM\n",
       "Name: y, Length: 271, dtype: object"
      ]
     },
     "execution_count": 63,
     "metadata": {},
     "output_type": "execute_result"
    }
   ],
   "source": [
    "df['y']"
   ]
  },
  {
   "cell_type": "code",
   "execution_count": 71,
   "metadata": {},
   "outputs": [
    {
     "data": {
      "text/plain": [
       "<matplotlib.axes._subplots.AxesSubplot at 0x1efbadfa400>"
      ]
     },
     "execution_count": 71,
     "metadata": {},
     "output_type": "execute_result"
    },
    {
     "data": {
      "image/png": "[encoded data removed]",
      "text/plain": [
       "<Figure size 720x576 with 1 Axes>"
      ]
     },
     "metadata": {
      "needs_background": "light"
     },
     "output_type": "display_data"
    }
   ],
   "source": [
    "plt.figure(figsize=(10,8))\n",
    "sns.scatterplot(\n",
    "    x=\"tsne-pca50-1\", \n",
    "    y=\"tsne-pca50-2\",\n",
    "    hue=\"y\",\n",
    "    style=\"y\",\n",
    "    data=df,\n",
    "    legend=\"full\",\n",
    "    alpha=1\n",
    ")"
   ]
  },
  {
   "cell_type": "markdown",
   "metadata": {},
   "source": [
    "## Subclass Discrimination - Using pair Card-AlexLabel as class"
   ]
  },
  {
   "cell_type": "code",
   "execution_count": 72,
   "metadata": {},
   "outputs": [],
   "source": [
    "df['y'] = docs_df['SubClass'].get_values()"
   ]
  },
  {
   "cell_type": "code",
   "execution_count": 73,
   "metadata": {},
   "outputs": [
    {
     "data": {
      "text/plain": [
       "<matplotlib.axes._subplots.AxesSubplot at 0x1efbafcb780>"
      ]
     },
     "execution_count": 73,
     "metadata": {},
     "output_type": "execute_result"
    },
    {
     "data": {
      "image/png": "[encoded data removed]",
      "text/plain": [
       "<Figure size 720x576 with 1 Axes>"
      ]
     },
     "metadata": {
      "needs_background": "light"
     },
     "output_type": "display_data"
    }
   ],
   "source": [
    "plt.figure(figsize=(10,8))\n",
    "sns.scatterplot(\n",
    "    x=\"tsne-pca50-1\", \n",
    "    y=\"tsne-pca50-2\",\n",
    "    hue=\"y\",\n",
    "    style=\"y\",\n",
    "    data=df,\n",
    "    legend=\"full\",\n",
    "    alpha=1\n",
    ")"
   ]
  },
  {
   "cell_type": "markdown",
   "metadata": {},
   "source": [
    "## Alex Vs. NoAlex for each specific TAT card"
   ]
  },
  {
   "cell_type": "code",
   "execution_count": 78,
   "metadata": {},
   "outputs": [],
   "source": [
    "subset_df = df[(df.y == 'Alex-1') | (df.y == 'NoAlex-1')]"
   ]
  },
  {
   "cell_type": "code",
   "execution_count": 80,
   "metadata": {},
   "outputs": [
    {
     "data": {
      "text/plain": [
       "<matplotlib.axes._subplots.AxesSubplot at 0x1efbb6ba4a8>"
      ]
     },
     "execution_count": 80,
     "metadata": {},
     "output_type": "execute_result"
    },
    {
     "data": {
      "image/png": "[encoded data removed]",
      "text/plain": [
       "<Figure size 720x576 with 1 Axes>"
      ]
     },
     "metadata": {
      "needs_background": "light"
     },
     "output_type": "display_data"
    }
   ],
   "source": [
    "plt.figure(figsize=(10,8))\n",
    "sns.scatterplot(\n",
    "    x=\"tsne-pca50-1\", \n",
    "    y=\"tsne-pca50-2\",\n",
    "    hue=\"y\",\n",
    "    style=\"y\",\n",
    "    data=subset_df,\n",
    "    legend=\"full\",\n",
    "    alpha=1\n",
    ")"
   ]
  },
  {
   "cell_type": "code",
   "execution_count": 81,
   "metadata": {},
   "outputs": [],
   "source": [
    "subset_df = df[(df.y == 'Alex-11') | (df.y == 'NoAlex-11')]"
   ]
  },
  {
   "cell_type": "code",
   "execution_count": 82,
   "metadata": {},
   "outputs": [
    {
     "data": {
      "text/plain": [
       "<matplotlib.axes._subplots.AxesSubplot at 0x1efbb85c358>"
      ]
     },
     "execution_count": 82,
     "metadata": {},
     "output_type": "execute_result"
    },
    {
     "data": {
      "image/png": "[encoded data removed]",
      "text/plain": [
       "<Figure size 720x576 with 1 Axes>"
      ]
     },
     "metadata": {
      "needs_background": "light"
     },
     "output_type": "display_data"
    }
   ],
   "source": [
    "plt.figure(figsize=(10,8))\n",
    "sns.scatterplot(\n",
    "    x=\"tsne-pca50-1\", \n",
    "    y=\"tsne-pca50-2\",\n",
    "    hue=\"y\",\n",
    "    style=\"y\",\n",
    "    data=subset_df,\n",
    "    legend=\"full\",\n",
    "    alpha=1\n",
    ")"
   ]
  },
  {
   "cell_type": "code",
   "execution_count": 83,
   "metadata": {},
   "outputs": [],
   "source": [
    "subset_df = df[(df.y == 'Alex-9VH') | (df.y == 'NoAlex-9VH')]"
   ]
  },
  {
   "cell_type": "code",
   "execution_count": 84,
   "metadata": {},
   "outputs": [
    {
     "data": {
      "text/plain": [
       "<matplotlib.axes._subplots.AxesSubplot at 0x1efbbaa51d0>"
      ]
     },
     "execution_count": 84,
     "metadata": {},
     "output_type": "execute_result"
    },
    {
     "data": {
      "image/png": "[encoded data removed]",
      "text/plain": [
       "<Figure size 720x576 with 1 Axes>"
      ]
     },
     "metadata": {
      "needs_background": "light"
     },
     "output_type": "display_data"
    }
   ],
   "source": [
    "plt.figure(figsize=(10,8))\n",
    "sns.scatterplot(\n",
    "    x=\"tsne-pca50-1\", \n",
    "    y=\"tsne-pca50-2\",\n",
    "    hue=\"y\",\n",
    "    style=\"y\",\n",
    "    data=subset_df,\n",
    "    legend=\"full\",\n",
    "    alpha=1\n",
    ")"
   ]
  },
  {
   "cell_type": "code",
   "execution_count": 85,
   "metadata": {},
   "outputs": [],
   "source": [
    "subset_df = df[(df.y == 'Alex-13HM') | (df.y == 'NoAlex-13HM')]"
   ]
  },
  {
   "cell_type": "code",
   "execution_count": 86,
   "metadata": {},
   "outputs": [
    {
     "data": {
      "text/plain": [
       "<matplotlib.axes._subplots.AxesSubplot at 0x1efbbca9da0>"
      ]
     },
     "execution_count": 86,
     "metadata": {},
     "output_type": "execute_result"
    },
    {
     "data": {
      "image/png": "[encoded data removed]",
      "text/plain": [
       "<Figure size 720x576 with 1 Axes>"
      ]
     },
     "metadata": {
      "needs_background": "light"
     },
     "output_type": "display_data"
    }
   ],
   "source": [
    "plt.figure(figsize=(10,8))\n",
    "sns.scatterplot(\n",
    "    x=\"tsne-pca50-1\", \n",
    "    y=\"tsne-pca50-2\",\n",
    "    hue=\"y\",\n",
    "    style=\"y\",\n",
    "    data=subset_df,\n",
    "    legend=\"full\",\n",
    "    alpha=1\n",
    ")"
   ]
  },
  {
   "cell_type": "markdown",
   "metadata": {},
   "source": [
    "## Save text processed data to a new CSV file"
   ]
  },
  {
   "cell_type": "code",
   "execution_count": 44,
   "metadata": {},
   "outputs": [],
   "source": [
    "# Save text processed dataset\n",
    "tok_dataset_path = \"D:\\\\Dropbox-Array2001\\\\Dropbox\\\\UNI\\\\MPGS\\\\2_TFM\\\\Datos\\\\prolexitim-text-processed-1.2.csv\""
   ]
  },
  {
   "cell_type": "code",
   "execution_count": 45,
   "metadata": {},
   "outputs": [],
   "source": [
    "viz_df.to_csv(tok_dataset_path, sep='\\t', encoding='utf-8', index=False)"
   ]
  }
 ],
 "metadata": {
  "kernelspec": {
   "display_name": "Python 3",
   "language": "python",
   "name": "python3"
  },
  "language_info": {
   "codemirror_mode": {
    "name": "ipython",
    "version": 3
   },
   "file_extension": ".py",
   "mimetype": "text/x-python",
   "name": "python",
   "nbconvert_exporter": "python",
   "pygments_lexer": "ipython3",
   "version": "3.7.3"
  }
 },
 "nbformat": 4,
 "nbformat_minor": 2
}
