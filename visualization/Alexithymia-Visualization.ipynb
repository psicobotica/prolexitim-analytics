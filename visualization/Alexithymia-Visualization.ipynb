{
 "cells": [
  {
   "cell_type": "markdown",
   "metadata": {},
   "source": [
    "# Prolexitim Visualization (Prolexitim Viz)\n",
    "## t-SNE and PCA 2D Visualization of narratives\n",
    "### Dataset from Prolexitim TAS-20 Spain, Prolexitim NLP and Spanish 3Billion Word2Vec\n",
    "<hr>\n",
    "Sept 2019.<br> Prolexitim dataset version 1.2 (MPGS-TFM-Submission).<br> \n",
    "Raúl Arrabales Moreno (Psicobótica / Serendeepia Research)<br>\n",
    "<a target=\"_blank\" href=\"http://www.conscious-robots.com/\">http://www.conscious-robots.com/</a> <br>\n",
    "<hr>\n",
    "Spanish Word Vectors from: <a taget=\"_blank\" href=\"https://github.com/aitoralmeida/spanish_word2vec\">Spanish 3B Pre-trained Word2Vec</a>"
   ]
  },
  {
   "cell_type": "markdown",
   "metadata": {},
   "source": [
    "## Load Word Vectors and Documents (texts + labels)\n",
    "- Word Vectors are obtained from the pre-trained Spanish 3B Word2Vec.\n",
    "- Documents are obtained from the Prolexitim Pilot Study.\n",
    "    - Text are narratives from Prolexitim NLP. \n",
    "    - Labels are categorical values from Prolexitim TAS-20.\n"
   ]
  },
  {
   "cell_type": "markdown",
   "metadata": {},
   "source": [
    "### Loading the word vectors"
   ]
  },
  {
   "cell_type": "code",
   "execution_count": 1,
   "metadata": {},
   "outputs": [],
   "source": [
    "from gensim.models import KeyedVectors"
   ]
  },
  {
   "cell_type": "code",
   "execution_count": 2,
   "metadata": {},
   "outputs": [],
   "source": [
    "# My copy of Spanish 3 Billion Word2Vec\n",
    "word_vectors = KeyedVectors.load('D:\\Dropbox-Array2001\\Dropbox\\DataSets\\Spanish Word2Vec\\complete.kv', mmap='r')"
   ]
  },
  {
   "cell_type": "code",
   "execution_count": 3,
   "metadata": {},
   "outputs": [
    {
     "data": {
      "text/plain": [
       "[('chiquillo', 0.863490104675293),\n",
       " ('bebé', 0.85056471824646),\n",
       " ('crío', 0.842483401298523),\n",
       " ('muchacho', 0.7765985727310181),\n",
       " ('niñito', 0.7588649988174438),\n",
       " ('chico', 0.75837242603302),\n",
       " ('cachorro', 0.7369438409805298),\n",
       " ('muchachito', 0.7227176427841187),\n",
       " ('gatito', 0.6718686819076538),\n",
       " ('hombre', 0.6658662557601929)]"
      ]
     },
     "execution_count": 3,
     "metadata": {},
     "output_type": "execute_result"
    }
   ],
   "source": [
    "# Testing Word Vectors for Spanish\n",
    "word_vectors.most_similar(\"niño\")"
   ]
  },
  {
   "cell_type": "code",
   "execution_count": 108,
   "metadata": {},
   "outputs": [],
   "source": [
    "# Testing Word Vectors for Spanish\n",
    "# word_vectors.get_vector(\"niño\")"
   ]
  },
  {
   "cell_type": "code",
   "execution_count": 110,
   "metadata": {},
   "outputs": [
    {
     "data": {
      "text/plain": [
       "[('reina', 0.7074883580207825),\n",
       " ('princesa', 0.6571577787399292),\n",
       " ('emperatriz', 0.6183611750602722),\n",
       " ('esposa', 0.5992065072059631),\n",
       " ('doncella', 0.5958696603775024),\n",
       " ('dama', 0.5885563492774963),\n",
       " ('infanta', 0.5775144696235657),\n",
       " ('mujer', 0.5741763114929199),\n",
       " ('concubina', 0.5553327202796936),\n",
       " ('hija', 0.5514962673187256)]"
      ]
     },
     "execution_count": 110,
     "metadata": {},
     "output_type": "execute_result"
    }
   ],
   "source": [
    "# Testing Word Vectors for Spanish\n",
    "word_vectors.similar_by_vector(\n",
    "    word_vectors.get_vector(\"rey\") - \n",
    "    word_vectors.get_vector(\"hombre\") + \n",
    "    word_vectors.get_vector(\"mujer\"))"
   ]
  },
  {
   "cell_type": "markdown",
   "metadata": {},
   "source": [
    "### Loading Prolexitim TAS-20 + NLP Dataset Load"
   ]
  },
  {
   "cell_type": "code",
   "execution_count": 6,
   "metadata": {},
   "outputs": [],
   "source": [
    "import pandas as pd "
   ]
  },
  {
   "cell_type": "code",
   "execution_count": 111,
   "metadata": {},
   "outputs": [],
   "source": [
    "# My copy of Prolexitim join tables with TAS-20 categorical label and narratives from Prolexitim NLP\n",
    "tasnlp_dataset_path = \"D:\\\\Dropbox-Array2001\\\\Dropbox\\\\UNI\\\\MPGS\\\\2_TFM\\\\Datos\\\\prolexitim-merged-1.3.csv\""
   ]
  },
  {
   "cell_type": "code",
   "execution_count": 112,
   "metadata": {},
   "outputs": [],
   "source": [
    "docs_df = pd.read_csv(tasnlp_dataset_path,header=0,delimiter=\"\\t\")"
   ]
  },
  {
   "cell_type": "code",
   "execution_count": 113,
   "metadata": {},
   "outputs": [
    {
     "data": {
      "text/html": [
       "<div>\n",
       "<style scoped>\n",
       "    .dataframe tbody tr th:only-of-type {\n",
       "        vertical-align: middle;\n",
       "    }\n",
       "\n",
       "    .dataframe tbody tr th {\n",
       "        vertical-align: top;\n",
       "    }\n",
       "\n",
       "    .dataframe thead th {\n",
       "        text-align: right;\n",
       "    }\n",
       "</style>\n",
       "<table border=\"1\" class=\"dataframe\">\n",
       "  <thead>\n",
       "    <tr style=\"text-align: right;\">\n",
       "      <th></th>\n",
       "      <th>Text</th>\n",
       "      <th>AlexLabel</th>\n",
       "    </tr>\n",
       "  </thead>\n",
       "  <tbody>\n",
       "    <tr>\n",
       "      <th>179</th>\n",
       "      <td>un grupo de amigos que les gustaban las aventu...</td>\n",
       "      <td>PosAlex</td>\n",
       "    </tr>\n",
       "    <tr>\n",
       "      <th>36</th>\n",
       "      <td>Le acaban de dar una noticia muy mala porque l...</td>\n",
       "      <td>NoAlex</td>\n",
       "    </tr>\n",
       "    <tr>\n",
       "      <th>21</th>\n",
       "      <td>Esto es una señora que le acaban de dar una ma...</td>\n",
       "      <td>NoAlex</td>\n",
       "    </tr>\n",
       "    <tr>\n",
       "      <th>113</th>\n",
       "      <td>un hombre y una mujer, puede que la mujer esté...</td>\n",
       "      <td>PosAlex</td>\n",
       "    </tr>\n",
       "    <tr>\n",
       "      <th>25</th>\n",
       "      <td>A mí me recuerda a los chavales cuando no sabí...</td>\n",
       "      <td>NoAlex</td>\n",
       "    </tr>\n",
       "    <tr>\n",
       "      <th>237</th>\n",
       "      <td>despertando después de hacer el amor con una b...</td>\n",
       "      <td>Alex</td>\n",
       "    </tr>\n",
       "  </tbody>\n",
       "</table>\n",
       "</div>"
      ],
      "text/plain": [
       "                                                  Text AlexLabel\n",
       "179  un grupo de amigos que les gustaban las aventu...   PosAlex\n",
       "36   Le acaban de dar una noticia muy mala porque l...    NoAlex\n",
       "21   Esto es una señora que le acaban de dar una ma...    NoAlex\n",
       "113  un hombre y una mujer, puede que la mujer esté...   PosAlex\n",
       "25   A mí me recuerda a los chavales cuando no sabí...    NoAlex\n",
       "237  despertando después de hacer el amor con una b...      Alex"
      ]
     },
     "execution_count": 113,
     "metadata": {},
     "output_type": "execute_result"
    }
   ],
   "source": [
    "# We're only intereted in the Spanish text and the corresponding Alexithymia label\n",
    "docs_df = docs_df.dropna()\n",
    "docs_df = docs_df[['Text', 'alex-a']]\n",
    "docs_df.columns = ['Text', 'AlexLabel']\n",
    "docs_df.sample(n=6)"
   ]
  },
  {
   "cell_type": "code",
   "execution_count": 114,
   "metadata": {},
   "outputs": [
    {
     "data": {
      "text/html": [
       "<div>\n",
       "<style scoped>\n",
       "    .dataframe tbody tr th:only-of-type {\n",
       "        vertical-align: middle;\n",
       "    }\n",
       "\n",
       "    .dataframe tbody tr th {\n",
       "        vertical-align: top;\n",
       "    }\n",
       "\n",
       "    .dataframe thead th {\n",
       "        text-align: right;\n",
       "    }\n",
       "</style>\n",
       "<table border=\"1\" class=\"dataframe\">\n",
       "  <thead>\n",
       "    <tr style=\"text-align: right;\">\n",
       "      <th></th>\n",
       "      <th>Text</th>\n",
       "    </tr>\n",
       "    <tr>\n",
       "      <th>AlexLabel</th>\n",
       "      <th></th>\n",
       "    </tr>\n",
       "  </thead>\n",
       "  <tbody>\n",
       "    <tr>\n",
       "      <th>Alex</th>\n",
       "      <td>31</td>\n",
       "    </tr>\n",
       "    <tr>\n",
       "      <th>NoAlex</th>\n",
       "      <td>240</td>\n",
       "    </tr>\n",
       "    <tr>\n",
       "      <th>PosAlex</th>\n",
       "      <td>45</td>\n",
       "    </tr>\n",
       "  </tbody>\n",
       "</table>\n",
       "</div>"
      ],
      "text/plain": [
       "           Text\n",
       "AlexLabel      \n",
       "Alex         31\n",
       "NoAlex      240\n",
       "PosAlex      45"
      ]
     },
     "execution_count": 114,
     "metadata": {},
     "output_type": "execute_result"
    }
   ],
   "source": [
    "# As expected, we have a very unbalance dataset (aprox 10% alexithymia)\n",
    "docs_df.groupby(by='AlexLabel').count()"
   ]
  },
  {
   "cell_type": "code",
   "execution_count": 115,
   "metadata": {},
   "outputs": [],
   "source": [
    "# And we decided to consider both Possible Alexithymia and Alexithymia as the same (Positive) class\n",
    "docs_df['AlexLabel'] = docs_df['AlexLabel'].apply(lambda x: x.replace('PosAlex', 'Alex'))"
   ]
  },
  {
   "cell_type": "code",
   "execution_count": 116,
   "metadata": {},
   "outputs": [
    {
     "data": {
      "text/html": [
       "<div>\n",
       "<style scoped>\n",
       "    .dataframe tbody tr th:only-of-type {\n",
       "        vertical-align: middle;\n",
       "    }\n",
       "\n",
       "    .dataframe tbody tr th {\n",
       "        vertical-align: top;\n",
       "    }\n",
       "\n",
       "    .dataframe thead th {\n",
       "        text-align: right;\n",
       "    }\n",
       "</style>\n",
       "<table border=\"1\" class=\"dataframe\">\n",
       "  <thead>\n",
       "    <tr style=\"text-align: right;\">\n",
       "      <th></th>\n",
       "      <th>Text</th>\n",
       "    </tr>\n",
       "    <tr>\n",
       "      <th>AlexLabel</th>\n",
       "      <th></th>\n",
       "    </tr>\n",
       "  </thead>\n",
       "  <tbody>\n",
       "    <tr>\n",
       "      <th>Alex</th>\n",
       "      <td>76</td>\n",
       "    </tr>\n",
       "    <tr>\n",
       "      <th>NoAlex</th>\n",
       "      <td>240</td>\n",
       "    </tr>\n",
       "  </tbody>\n",
       "</table>\n",
       "</div>"
      ],
      "text/plain": [
       "           Text\n",
       "AlexLabel      \n",
       "Alex         76\n",
       "NoAlex      240"
      ]
     },
     "execution_count": 116,
     "metadata": {},
     "output_type": "execute_result"
    }
   ],
   "source": [
    "docs_df.groupby(by='AlexLabel').count()"
   ]
  },
  {
   "cell_type": "code",
   "execution_count": 117,
   "metadata": {},
   "outputs": [
    {
     "data": {
      "text/plain": [
       "(316, 2)"
      ]
     },
     "execution_count": 117,
     "metadata": {},
     "output_type": "execute_result"
    }
   ],
   "source": [
    "docs_df.shape"
   ]
  },
  {
   "cell_type": "markdown",
   "metadata": {},
   "source": [
    "# Feature vectors using Pre-trained Spanish Word Embeddings"
   ]
  },
  {
   "cell_type": "markdown",
   "metadata": {},
   "source": [
    "## Vectorizers for documents (narratives) - Doc2Vec\n",
    "Using existing word embeddings for Spanish we obtain a vector for each word. \n",
    "We also need to build a single vector representing the entire document, and for that we use different methods "
   ]
  },
  {
   "cell_type": "code",
   "execution_count": 118,
   "metadata": {},
   "outputs": [],
   "source": [
    "import numpy as np"
   ]
  },
  {
   "cell_type": "code",
   "execution_count": 119,
   "metadata": {},
   "outputs": [],
   "source": [
    "# Calculates the mean word vector of a list of words using the indicated word2vec model\n",
    "def get_mean_vector(word2vec_model, words):\n",
    "    # remove out-of-vocabulary words\n",
    "    words = [word for word in words if word in word2vec_model.vocab]\n",
    "    if len(words) >= 1:\n",
    "        return np.mean(word2vec_model[words], axis=0)\n",
    "    else:\n",
    "        return []"
   ]
  },
  {
   "cell_type": "code",
   "execution_count": 120,
   "metadata": {},
   "outputs": [
    {
     "data": {
      "text/plain": [
       "'Una madre que está consolando a su hijo, después de darle las notas, que ha sacado no sé cuantos insuficientes'"
      ]
     },
     "execution_count": 120,
     "metadata": {},
     "output_type": "execute_result"
    }
   ],
   "source": [
    "# docs_df.get_values()[1][0]"
   ]
  },
  {
   "cell_type": "code",
   "execution_count": 30,
   "metadata": {},
   "outputs": [],
   "source": [
    "# get_mean_vector( word_vectors, docs_df.get_values()[1][0].split() ) "
   ]
  },
  {
   "cell_type": "markdown",
   "metadata": {},
   "source": [
    "## Converting texts into 400-dimensional vecs"
   ]
  },
  {
   "cell_type": "code",
   "execution_count": 121,
   "metadata": {},
   "outputs": [],
   "source": [
    "docs_df['Text'] = docs_df['Text'].apply(lambda x: get_mean_vector(word_vectors, x.split()))"
   ]
  },
  {
   "cell_type": "code",
   "execution_count": 122,
   "metadata": {},
   "outputs": [
    {
     "data": {
      "text/plain": [
       "316"
      ]
     },
     "execution_count": 122,
     "metadata": {},
     "output_type": "execute_result"
    }
   ],
   "source": [
    "docs_df['Text'].shape[0]"
   ]
  },
  {
   "cell_type": "code",
   "execution_count": 124,
   "metadata": {},
   "outputs": [
    {
     "data": {
      "text/html": [
       "<div>\n",
       "<style scoped>\n",
       "    .dataframe tbody tr th:only-of-type {\n",
       "        vertical-align: middle;\n",
       "    }\n",
       "\n",
       "    .dataframe tbody tr th {\n",
       "        vertical-align: top;\n",
       "    }\n",
       "\n",
       "    .dataframe thead th {\n",
       "        text-align: right;\n",
       "    }\n",
       "</style>\n",
       "<table border=\"1\" class=\"dataframe\">\n",
       "  <thead>\n",
       "    <tr style=\"text-align: right;\">\n",
       "      <th></th>\n",
       "      <th>Text</th>\n",
       "      <th>AlexLabel</th>\n",
       "    </tr>\n",
       "  </thead>\n",
       "  <tbody>\n",
       "    <tr>\n",
       "      <th>33</th>\n",
       "      <td>[0.07857421, -0.49665523, -1.133586, 0.0082593...</td>\n",
       "      <td>NoAlex</td>\n",
       "    </tr>\n",
       "    <tr>\n",
       "      <th>118</th>\n",
       "      <td>[-0.4983944, -0.91248834, -0.38407347, 0.42629...</td>\n",
       "      <td>NoAlex</td>\n",
       "    </tr>\n",
       "  </tbody>\n",
       "</table>\n",
       "</div>"
      ],
      "text/plain": [
       "                                                  Text AlexLabel\n",
       "33   [0.07857421, -0.49665523, -1.133586, 0.0082593...    NoAlex\n",
       "118  [-0.4983944, -0.91248834, -0.38407347, 0.42629...    NoAlex"
      ]
     },
     "execution_count": 124,
     "metadata": {},
     "output_type": "execute_result"
    }
   ],
   "source": [
    "docs_df.sample(2)"
   ]
  },
  {
   "cell_type": "markdown",
   "metadata": {},
   "source": [
    "## Preparing data for visualization"
   ]
  },
  {
   "cell_type": "code",
   "execution_count": 125,
   "metadata": {},
   "outputs": [],
   "source": [
    "# Name the new columns for features \n",
    "# Xi are the Doc2Vec dimensions\n",
    "feat_cols = [ 'X-'+str(i) for i in range(word_vectors.vector_size) ]"
   ]
  },
  {
   "cell_type": "code",
   "execution_count": 126,
   "metadata": {},
   "outputs": [
    {
     "data": {
      "text/plain": [
       "(316, 400)"
      ]
     },
     "execution_count": 126,
     "metadata": {},
     "output_type": "execute_result"
    }
   ],
   "source": [
    "# Add Xi to a new dataframe as columns\n",
    "df = pd.DataFrame(np.column_stack(list(zip(*docs_df['Text'].get_values()))), columns=feat_cols)\n",
    "df.shape"
   ]
  },
  {
   "cell_type": "code",
   "execution_count": 128,
   "metadata": {},
   "outputs": [
    {
     "data": {
      "text/plain": [
       "(316, 401)"
      ]
     },
     "execution_count": 128,
     "metadata": {},
     "output_type": "execute_result"
    }
   ],
   "source": [
    "# Add the label to the df as a new column\n",
    "df['y'] = docs_df['AlexLabel'].get_values()\n",
    "df.shape"
   ]
  },
  {
   "cell_type": "code",
   "execution_count": 131,
   "metadata": {},
   "outputs": [
    {
     "data": {
      "text/html": [
       "<div>\n",
       "<style scoped>\n",
       "    .dataframe tbody tr th:only-of-type {\n",
       "        vertical-align: middle;\n",
       "    }\n",
       "\n",
       "    .dataframe tbody tr th {\n",
       "        vertical-align: top;\n",
       "    }\n",
       "\n",
       "    .dataframe thead th {\n",
       "        text-align: right;\n",
       "    }\n",
       "</style>\n",
       "<table border=\"1\" class=\"dataframe\">\n",
       "  <thead>\n",
       "    <tr style=\"text-align: right;\">\n",
       "      <th></th>\n",
       "      <th>X-0</th>\n",
       "      <th>X-1</th>\n",
       "      <th>X-2</th>\n",
       "      <th>X-3</th>\n",
       "      <th>X-4</th>\n",
       "      <th>X-5</th>\n",
       "      <th>X-6</th>\n",
       "      <th>X-7</th>\n",
       "      <th>X-8</th>\n",
       "      <th>X-9</th>\n",
       "      <th>...</th>\n",
       "      <th>X-391</th>\n",
       "      <th>X-392</th>\n",
       "      <th>X-393</th>\n",
       "      <th>X-394</th>\n",
       "      <th>X-395</th>\n",
       "      <th>X-396</th>\n",
       "      <th>X-397</th>\n",
       "      <th>X-398</th>\n",
       "      <th>X-399</th>\n",
       "      <th>y</th>\n",
       "    </tr>\n",
       "  </thead>\n",
       "  <tbody>\n",
       "    <tr>\n",
       "      <th>255</th>\n",
       "      <td>1.118459</td>\n",
       "      <td>-0.363183</td>\n",
       "      <td>-2.325202</td>\n",
       "      <td>-1.498535</td>\n",
       "      <td>0.449706</td>\n",
       "      <td>-0.432613</td>\n",
       "      <td>-0.601883</td>\n",
       "      <td>-0.270360</td>\n",
       "      <td>1.264371</td>\n",
       "      <td>-0.323065</td>\n",
       "      <td>...</td>\n",
       "      <td>0.832332</td>\n",
       "      <td>-0.344631</td>\n",
       "      <td>-0.311708</td>\n",
       "      <td>-1.302373</td>\n",
       "      <td>-3.306339</td>\n",
       "      <td>-0.862088</td>\n",
       "      <td>2.111035</td>\n",
       "      <td>1.493838</td>\n",
       "      <td>-1.885173</td>\n",
       "      <td>NoAlex</td>\n",
       "    </tr>\n",
       "    <tr>\n",
       "      <th>223</th>\n",
       "      <td>0.191317</td>\n",
       "      <td>0.561498</td>\n",
       "      <td>-0.743412</td>\n",
       "      <td>-0.504792</td>\n",
       "      <td>1.581110</td>\n",
       "      <td>-0.614235</td>\n",
       "      <td>0.256454</td>\n",
       "      <td>-0.327123</td>\n",
       "      <td>-0.193037</td>\n",
       "      <td>-0.594747</td>\n",
       "      <td>...</td>\n",
       "      <td>0.938761</td>\n",
       "      <td>-0.784671</td>\n",
       "      <td>0.804589</td>\n",
       "      <td>-0.994943</td>\n",
       "      <td>-1.165016</td>\n",
       "      <td>-1.441822</td>\n",
       "      <td>0.372391</td>\n",
       "      <td>1.620864</td>\n",
       "      <td>-0.388592</td>\n",
       "      <td>Alex</td>\n",
       "    </tr>\n",
       "    <tr>\n",
       "      <th>170</th>\n",
       "      <td>0.689235</td>\n",
       "      <td>-0.774325</td>\n",
       "      <td>-0.404031</td>\n",
       "      <td>0.022976</td>\n",
       "      <td>0.994053</td>\n",
       "      <td>-1.105081</td>\n",
       "      <td>0.029822</td>\n",
       "      <td>0.675584</td>\n",
       "      <td>0.599592</td>\n",
       "      <td>0.388542</td>\n",
       "      <td>...</td>\n",
       "      <td>-0.078972</td>\n",
       "      <td>0.708426</td>\n",
       "      <td>0.273631</td>\n",
       "      <td>-0.015515</td>\n",
       "      <td>-0.469885</td>\n",
       "      <td>0.131283</td>\n",
       "      <td>1.087900</td>\n",
       "      <td>0.112537</td>\n",
       "      <td>-0.448603</td>\n",
       "      <td>NoAlex</td>\n",
       "    </tr>\n",
       "    <tr>\n",
       "      <th>314</th>\n",
       "      <td>-0.087938</td>\n",
       "      <td>-0.941084</td>\n",
       "      <td>-0.409083</td>\n",
       "      <td>0.218923</td>\n",
       "      <td>1.114106</td>\n",
       "      <td>-0.670373</td>\n",
       "      <td>-0.645470</td>\n",
       "      <td>0.304526</td>\n",
       "      <td>0.332099</td>\n",
       "      <td>0.526869</td>\n",
       "      <td>...</td>\n",
       "      <td>-0.389154</td>\n",
       "      <td>-0.014353</td>\n",
       "      <td>0.841415</td>\n",
       "      <td>-0.271603</td>\n",
       "      <td>-0.742122</td>\n",
       "      <td>0.145704</td>\n",
       "      <td>0.987741</td>\n",
       "      <td>0.722008</td>\n",
       "      <td>0.345696</td>\n",
       "      <td>Alex</td>\n",
       "    </tr>\n",
       "  </tbody>\n",
       "</table>\n",
       "<p>4 rows × 401 columns</p>\n",
       "</div>"
      ],
      "text/plain": [
       "          X-0       X-1       X-2       X-3       X-4       X-5       X-6  \\\n",
       "255  1.118459 -0.363183 -2.325202 -1.498535  0.449706 -0.432613 -0.601883   \n",
       "223  0.191317  0.561498 -0.743412 -0.504792  1.581110 -0.614235  0.256454   \n",
       "170  0.689235 -0.774325 -0.404031  0.022976  0.994053 -1.105081  0.029822   \n",
       "314 -0.087938 -0.941084 -0.409083  0.218923  1.114106 -0.670373 -0.645470   \n",
       "\n",
       "          X-7       X-8       X-9  ...     X-391     X-392     X-393  \\\n",
       "255 -0.270360  1.264371 -0.323065  ...  0.832332 -0.344631 -0.311708   \n",
       "223 -0.327123 -0.193037 -0.594747  ...  0.938761 -0.784671  0.804589   \n",
       "170  0.675584  0.599592  0.388542  ... -0.078972  0.708426  0.273631   \n",
       "314  0.304526  0.332099  0.526869  ... -0.389154 -0.014353  0.841415   \n",
       "\n",
       "        X-394     X-395     X-396     X-397     X-398     X-399       y  \n",
       "255 -1.302373 -3.306339 -0.862088  2.111035  1.493838 -1.885173  NoAlex  \n",
       "223 -0.994943 -1.165016 -1.441822  0.372391  1.620864 -0.388592    Alex  \n",
       "170 -0.015515 -0.469885  0.131283  1.087900  0.112537 -0.448603  NoAlex  \n",
       "314 -0.271603 -0.742122  0.145704  0.987741  0.722008  0.345696    Alex  \n",
       "\n",
       "[4 rows x 401 columns]"
      ]
     },
     "execution_count": 131,
     "metadata": {},
     "output_type": "execute_result"
    }
   ],
   "source": [
    "df.sample(4)"
   ]
  },
  {
   "cell_type": "code",
   "execution_count": 132,
   "metadata": {},
   "outputs": [
    {
     "name": "stdout",
     "output_type": "stream",
     "text": [
      "Size of the dataframe: (316, 401)\n"
     ]
    }
   ],
   "source": [
    "X, y = None, None\n",
    "print('Size of the dataframe: {}'.format(df.shape))"
   ]
  },
  {
   "cell_type": "markdown",
   "metadata": {},
   "source": [
    "## Using PCA to project into a 2D space"
   ]
  },
  {
   "cell_type": "code",
   "execution_count": 137,
   "metadata": {},
   "outputs": [],
   "source": [
    "pca = PCA(n_components=2)\n",
    "pca_result = pca.fit_transform(df[feat_cols].values)"
   ]
  },
  {
   "cell_type": "code",
   "execution_count": 139,
   "metadata": {},
   "outputs": [],
   "source": [
    "df['pca-1'] = pca_result[:,0]\n",
    "df['pca-2'] = pca_result[:,1]"
   ]
  },
  {
   "cell_type": "code",
   "execution_count": 140,
   "metadata": {},
   "outputs": [
    {
     "data": {
      "text/html": [
       "<div>\n",
       "<style scoped>\n",
       "    .dataframe tbody tr th:only-of-type {\n",
       "        vertical-align: middle;\n",
       "    }\n",
       "\n",
       "    .dataframe tbody tr th {\n",
       "        vertical-align: top;\n",
       "    }\n",
       "\n",
       "    .dataframe thead th {\n",
       "        text-align: right;\n",
       "    }\n",
       "</style>\n",
       "<table border=\"1\" class=\"dataframe\">\n",
       "  <thead>\n",
       "    <tr style=\"text-align: right;\">\n",
       "      <th></th>\n",
       "      <th>X-0</th>\n",
       "      <th>X-1</th>\n",
       "      <th>X-2</th>\n",
       "      <th>X-3</th>\n",
       "      <th>X-4</th>\n",
       "      <th>X-5</th>\n",
       "      <th>X-6</th>\n",
       "      <th>X-7</th>\n",
       "      <th>X-8</th>\n",
       "      <th>X-9</th>\n",
       "      <th>...</th>\n",
       "      <th>X-393</th>\n",
       "      <th>X-394</th>\n",
       "      <th>X-395</th>\n",
       "      <th>X-396</th>\n",
       "      <th>X-397</th>\n",
       "      <th>X-398</th>\n",
       "      <th>X-399</th>\n",
       "      <th>y</th>\n",
       "      <th>pca-1</th>\n",
       "      <th>pca-2</th>\n",
       "    </tr>\n",
       "  </thead>\n",
       "  <tbody>\n",
       "    <tr>\n",
       "      <th>151</th>\n",
       "      <td>-0.306138</td>\n",
       "      <td>-0.128466</td>\n",
       "      <td>-0.602213</td>\n",
       "      <td>0.051811</td>\n",
       "      <td>0.722613</td>\n",
       "      <td>-0.543894</td>\n",
       "      <td>-0.406675</td>\n",
       "      <td>-0.636734</td>\n",
       "      <td>0.212714</td>\n",
       "      <td>0.389784</td>\n",
       "      <td>...</td>\n",
       "      <td>-0.114097</td>\n",
       "      <td>-1.081081</td>\n",
       "      <td>-0.918725</td>\n",
       "      <td>-0.460545</td>\n",
       "      <td>0.304387</td>\n",
       "      <td>1.204008</td>\n",
       "      <td>0.252737</td>\n",
       "      <td>NoAlex</td>\n",
       "      <td>-3.901942</td>\n",
       "      <td>3.894003</td>\n",
       "    </tr>\n",
       "    <tr>\n",
       "      <th>94</th>\n",
       "      <td>-0.058325</td>\n",
       "      <td>-0.994232</td>\n",
       "      <td>-0.707467</td>\n",
       "      <td>-0.044605</td>\n",
       "      <td>0.829481</td>\n",
       "      <td>-0.524377</td>\n",
       "      <td>-0.178582</td>\n",
       "      <td>0.183523</td>\n",
       "      <td>0.323801</td>\n",
       "      <td>0.061337</td>\n",
       "      <td>...</td>\n",
       "      <td>0.094312</td>\n",
       "      <td>-0.288437</td>\n",
       "      <td>-0.193157</td>\n",
       "      <td>0.813131</td>\n",
       "      <td>0.818633</td>\n",
       "      <td>-0.076100</td>\n",
       "      <td>0.533259</td>\n",
       "      <td>NoAlex</td>\n",
       "      <td>7.605083</td>\n",
       "      <td>3.885520</td>\n",
       "    </tr>\n",
       "    <tr>\n",
       "      <th>230</th>\n",
       "      <td>0.221559</td>\n",
       "      <td>-0.469617</td>\n",
       "      <td>-0.679500</td>\n",
       "      <td>-0.383782</td>\n",
       "      <td>0.749529</td>\n",
       "      <td>-0.455118</td>\n",
       "      <td>-0.727191</td>\n",
       "      <td>-0.480802</td>\n",
       "      <td>0.412790</td>\n",
       "      <td>0.329623</td>\n",
       "      <td>...</td>\n",
       "      <td>-0.082100</td>\n",
       "      <td>-1.038516</td>\n",
       "      <td>-0.941084</td>\n",
       "      <td>-1.007755</td>\n",
       "      <td>1.347143</td>\n",
       "      <td>1.349607</td>\n",
       "      <td>-0.032709</td>\n",
       "      <td>NoAlex</td>\n",
       "      <td>-4.441039</td>\n",
       "      <td>4.942625</td>\n",
       "    </tr>\n",
       "    <tr>\n",
       "      <th>197</th>\n",
       "      <td>-0.007119</td>\n",
       "      <td>-0.735285</td>\n",
       "      <td>-0.396098</td>\n",
       "      <td>0.066176</td>\n",
       "      <td>0.994440</td>\n",
       "      <td>-0.539137</td>\n",
       "      <td>0.212514</td>\n",
       "      <td>-0.164372</td>\n",
       "      <td>0.075474</td>\n",
       "      <td>-0.150516</td>\n",
       "      <td>...</td>\n",
       "      <td>0.152557</td>\n",
       "      <td>-0.758594</td>\n",
       "      <td>-0.972938</td>\n",
       "      <td>0.515245</td>\n",
       "      <td>0.264331</td>\n",
       "      <td>0.968958</td>\n",
       "      <td>0.408967</td>\n",
       "      <td>NoAlex</td>\n",
       "      <td>3.234218</td>\n",
       "      <td>1.133538</td>\n",
       "    </tr>\n",
       "  </tbody>\n",
       "</table>\n",
       "<p>4 rows × 403 columns</p>\n",
       "</div>"
      ],
      "text/plain": [
       "          X-0       X-1       X-2       X-3       X-4       X-5       X-6  \\\n",
       "151 -0.306138 -0.128466 -0.602213  0.051811  0.722613 -0.543894 -0.406675   \n",
       "94  -0.058325 -0.994232 -0.707467 -0.044605  0.829481 -0.524377 -0.178582   \n",
       "230  0.221559 -0.469617 -0.679500 -0.383782  0.749529 -0.455118 -0.727191   \n",
       "197 -0.007119 -0.735285 -0.396098  0.066176  0.994440 -0.539137  0.212514   \n",
       "\n",
       "          X-7       X-8       X-9  ...     X-393     X-394     X-395  \\\n",
       "151 -0.636734  0.212714  0.389784  ... -0.114097 -1.081081 -0.918725   \n",
       "94   0.183523  0.323801  0.061337  ...  0.094312 -0.288437 -0.193157   \n",
       "230 -0.480802  0.412790  0.329623  ... -0.082100 -1.038516 -0.941084   \n",
       "197 -0.164372  0.075474 -0.150516  ...  0.152557 -0.758594 -0.972938   \n",
       "\n",
       "        X-396     X-397     X-398     X-399       y     pca-1     pca-2  \n",
       "151 -0.460545  0.304387  1.204008  0.252737  NoAlex -3.901942  3.894003  \n",
       "94   0.813131  0.818633 -0.076100  0.533259  NoAlex  7.605083  3.885520  \n",
       "230 -1.007755  1.347143  1.349607 -0.032709  NoAlex -4.441039  4.942625  \n",
       "197  0.515245  0.264331  0.968958  0.408967  NoAlex  3.234218  1.133538  \n",
       "\n",
       "[4 rows x 403 columns]"
      ]
     },
     "execution_count": 140,
     "metadata": {},
     "output_type": "execute_result"
    }
   ],
   "source": [
    "df.sample(4)"
   ]
  },
  {
   "cell_type": "code",
   "execution_count": 141,
   "metadata": {},
   "outputs": [
    {
     "name": "stdout",
     "output_type": "stream",
     "text": [
      "Explained variation per principal component: [0.20713027 0.07029649]\n"
     ]
    }
   ],
   "source": [
    "print('Explained variation per principal component: {}'.format(pca.explained_variance_ratio_))"
   ]
  },
  {
   "cell_type": "code",
   "execution_count": 166,
   "metadata": {},
   "outputs": [
    {
     "data": {
      "text/plain": [
       "<matplotlib.axes._subplots.AxesSubplot at 0x20e556e4b38>"
      ]
     },
     "execution_count": 166,
     "metadata": {},
     "output_type": "execute_result"
    },
    {
     "data": {
      "image/png": "[encoded data removed]",
      "text/plain": [
       "<Figure size 720x576 with 1 Axes>"
      ]
     },
     "metadata": {
      "needs_background": "light"
     },
     "output_type": "display_data"
    }
   ],
   "source": [
    "plt.figure(figsize=(10,8))\n",
    "markers = {\"Alex\": \"X\", \"NoAlex\": \"o\"}\n",
    "sns.scatterplot(\n",
    "    x=\"pca-1\", \n",
    "    y=\"pca-2\",\n",
    "    hue=\"y\",\n",
    "    style=\"y\",\n",
    "    palette=sns.color_palette([\"#0000ff\", \"#ff0000\"]),\n",
    "    data=df,\n",
    "    markers=markers,\n",
    "    legend=\"full\",\n",
    "    alpha=1\n",
    ")"
   ]
  },
  {
   "cell_type": "markdown",
   "metadata": {},
   "source": [
    "## Using PCA to project into a 3D space"
   ]
  },
  {
   "cell_type": "code",
   "execution_count": 155,
   "metadata": {},
   "outputs": [],
   "source": [
    "pca = PCA(n_components=3)\n",
    "pca_result = pca.fit_transform(df[feat_cols].values)"
   ]
  },
  {
   "cell_type": "code",
   "execution_count": 156,
   "metadata": {},
   "outputs": [],
   "source": [
    "df['pca-1'] = pca_result[:,0]\n",
    "df['pca-2'] = pca_result[:,1]\n",
    "df['pca-3'] = pca_result[:,2]"
   ]
  },
  {
   "cell_type": "code",
   "execution_count": 157,
   "metadata": {},
   "outputs": [
    {
     "data": {
      "text/html": [
       "<div>\n",
       "<style scoped>\n",
       "    .dataframe tbody tr th:only-of-type {\n",
       "        vertical-align: middle;\n",
       "    }\n",
       "\n",
       "    .dataframe tbody tr th {\n",
       "        vertical-align: top;\n",
       "    }\n",
       "\n",
       "    .dataframe thead th {\n",
       "        text-align: right;\n",
       "    }\n",
       "</style>\n",
       "<table border=\"1\" class=\"dataframe\">\n",
       "  <thead>\n",
       "    <tr style=\"text-align: right;\">\n",
       "      <th></th>\n",
       "      <th>X-0</th>\n",
       "      <th>X-1</th>\n",
       "      <th>X-2</th>\n",
       "      <th>X-3</th>\n",
       "      <th>X-4</th>\n",
       "      <th>X-5</th>\n",
       "      <th>X-6</th>\n",
       "      <th>X-7</th>\n",
       "      <th>X-8</th>\n",
       "      <th>X-9</th>\n",
       "      <th>...</th>\n",
       "      <th>X-394</th>\n",
       "      <th>X-395</th>\n",
       "      <th>X-396</th>\n",
       "      <th>X-397</th>\n",
       "      <th>X-398</th>\n",
       "      <th>X-399</th>\n",
       "      <th>y</th>\n",
       "      <th>pca-1</th>\n",
       "      <th>pca-2</th>\n",
       "      <th>pca-3</th>\n",
       "    </tr>\n",
       "  </thead>\n",
       "  <tbody>\n",
       "    <tr>\n",
       "      <th>110</th>\n",
       "      <td>-0.151910</td>\n",
       "      <td>-1.050460</td>\n",
       "      <td>-1.137015</td>\n",
       "      <td>0.293178</td>\n",
       "      <td>0.444000</td>\n",
       "      <td>-0.855390</td>\n",
       "      <td>0.177459</td>\n",
       "      <td>0.065164</td>\n",
       "      <td>0.424514</td>\n",
       "      <td>-0.435053</td>\n",
       "      <td>...</td>\n",
       "      <td>0.018375</td>\n",
       "      <td>-0.255102</td>\n",
       "      <td>0.344060</td>\n",
       "      <td>0.889195</td>\n",
       "      <td>1.026724</td>\n",
       "      <td>0.212306</td>\n",
       "      <td>Alex</td>\n",
       "      <td>3.514068</td>\n",
       "      <td>-1.641873</td>\n",
       "      <td>-1.658318</td>\n",
       "    </tr>\n",
       "    <tr>\n",
       "      <th>244</th>\n",
       "      <td>-0.128132</td>\n",
       "      <td>-0.481466</td>\n",
       "      <td>-0.270343</td>\n",
       "      <td>-0.135993</td>\n",
       "      <td>0.748241</td>\n",
       "      <td>-0.665462</td>\n",
       "      <td>0.861111</td>\n",
       "      <td>-0.954201</td>\n",
       "      <td>0.533073</td>\n",
       "      <td>-0.738764</td>\n",
       "      <td>...</td>\n",
       "      <td>-0.101716</td>\n",
       "      <td>-1.470184</td>\n",
       "      <td>0.101365</td>\n",
       "      <td>0.405679</td>\n",
       "      <td>1.939866</td>\n",
       "      <td>0.063763</td>\n",
       "      <td>NoAlex</td>\n",
       "      <td>-1.808028</td>\n",
       "      <td>-1.676344</td>\n",
       "      <td>-2.973947</td>\n",
       "    </tr>\n",
       "    <tr>\n",
       "      <th>98</th>\n",
       "      <td>-0.123455</td>\n",
       "      <td>-0.614725</td>\n",
       "      <td>-1.067672</td>\n",
       "      <td>0.141310</td>\n",
       "      <td>0.809279</td>\n",
       "      <td>-0.296878</td>\n",
       "      <td>0.260216</td>\n",
       "      <td>-0.427128</td>\n",
       "      <td>0.013758</td>\n",
       "      <td>0.532020</td>\n",
       "      <td>...</td>\n",
       "      <td>-0.299062</td>\n",
       "      <td>-1.015238</td>\n",
       "      <td>-0.261029</td>\n",
       "      <td>0.751129</td>\n",
       "      <td>1.312050</td>\n",
       "      <td>0.209572</td>\n",
       "      <td>NoAlex</td>\n",
       "      <td>-0.252529</td>\n",
       "      <td>-1.082437</td>\n",
       "      <td>-0.162945</td>\n",
       "    </tr>\n",
       "    <tr>\n",
       "      <th>118</th>\n",
       "      <td>-0.271627</td>\n",
       "      <td>-0.952217</td>\n",
       "      <td>-0.640624</td>\n",
       "      <td>0.007386</td>\n",
       "      <td>0.661505</td>\n",
       "      <td>-0.630952</td>\n",
       "      <td>0.489910</td>\n",
       "      <td>-0.097749</td>\n",
       "      <td>-0.133254</td>\n",
       "      <td>-0.285852</td>\n",
       "      <td>...</td>\n",
       "      <td>-0.613913</td>\n",
       "      <td>-0.819587</td>\n",
       "      <td>-0.245787</td>\n",
       "      <td>0.316487</td>\n",
       "      <td>1.602795</td>\n",
       "      <td>0.733004</td>\n",
       "      <td>NoAlex</td>\n",
       "      <td>1.291473</td>\n",
       "      <td>-1.684122</td>\n",
       "      <td>2.468693</td>\n",
       "    </tr>\n",
       "  </tbody>\n",
       "</table>\n",
       "<p>4 rows × 404 columns</p>\n",
       "</div>"
      ],
      "text/plain": [
       "          X-0       X-1       X-2       X-3       X-4       X-5       X-6  \\\n",
       "110 -0.151910 -1.050460 -1.137015  0.293178  0.444000 -0.855390  0.177459   \n",
       "244 -0.128132 -0.481466 -0.270343 -0.135993  0.748241 -0.665462  0.861111   \n",
       "98  -0.123455 -0.614725 -1.067672  0.141310  0.809279 -0.296878  0.260216   \n",
       "118 -0.271627 -0.952217 -0.640624  0.007386  0.661505 -0.630952  0.489910   \n",
       "\n",
       "          X-7       X-8       X-9  ...     X-394     X-395     X-396  \\\n",
       "110  0.065164  0.424514 -0.435053  ...  0.018375 -0.255102  0.344060   \n",
       "244 -0.954201  0.533073 -0.738764  ... -0.101716 -1.470184  0.101365   \n",
       "98  -0.427128  0.013758  0.532020  ... -0.299062 -1.015238 -0.261029   \n",
       "118 -0.097749 -0.133254 -0.285852  ... -0.613913 -0.819587 -0.245787   \n",
       "\n",
       "        X-397     X-398     X-399       y     pca-1     pca-2     pca-3  \n",
       "110  0.889195  1.026724  0.212306    Alex  3.514068 -1.641873 -1.658318  \n",
       "244  0.405679  1.939866  0.063763  NoAlex -1.808028 -1.676344 -2.973947  \n",
       "98   0.751129  1.312050  0.209572  NoAlex -0.252529 -1.082437 -0.162945  \n",
       "118  0.316487  1.602795  0.733004  NoAlex  1.291473 -1.684122  2.468693  \n",
       "\n",
       "[4 rows x 404 columns]"
      ]
     },
     "execution_count": 157,
     "metadata": {},
     "output_type": "execute_result"
    }
   ],
   "source": [
    "df.sample(4)"
   ]
  },
  {
   "cell_type": "code",
   "execution_count": 158,
   "metadata": {},
   "outputs": [
    {
     "name": "stdout",
     "output_type": "stream",
     "text": [
      "Explained variation per principal component: [0.2071303  0.07029647 0.0658333 ]\n"
     ]
    }
   ],
   "source": [
    "print('Explained variation per principal component: {}'.format(pca.explained_variance_ratio_))"
   ]
  },
  {
   "cell_type": "code",
   "execution_count": 161,
   "metadata": {},
   "outputs": [
    {
     "data": {
      "image/png": "[encoded data removed]",
      "text/plain": [
       "<Figure size 864x576 with 1 Axes>"
      ]
     },
     "metadata": {
      "needs_background": "light"
     },
     "output_type": "display_data"
    }
   ],
   "source": [
    "colors = {'Alex':'red', 'NoAlex':'blue'}\n",
    "ax = plt.figure(figsize=(12,8)).gca(projection='3d')\n",
    "ax.scatter(\n",
    "    xs=df[\"pca-1\"], \n",
    "    ys=df[\"pca-2\"], \n",
    "    zs=df[\"pca-3\"], \n",
    "    c=df['y'].apply(lambda x: colors[x])\n",
    ")\n",
    "ax.set_xlabel('pca-1')\n",
    "ax.set_ylabel('pca-2')\n",
    "ax.set_zlabel('pca-3')\n",
    "plt.show()"
   ]
  },
  {
   "cell_type": "markdown",
   "metadata": {},
   "source": [
    "## Using t-SNE to project into a 2D space"
   ]
  },
  {
   "cell_type": "code",
   "execution_count": 162,
   "metadata": {},
   "outputs": [],
   "source": [
    "data = df[feat_cols].values"
   ]
  },
  {
   "cell_type": "code",
   "execution_count": 163,
   "metadata": {},
   "outputs": [
    {
     "name": "stdout",
     "output_type": "stream",
     "text": [
      "[t-SNE] Computing 121 nearest neighbors...\n",
      "[t-SNE] Indexed 316 samples in 0.004s...\n",
      "[t-SNE] Computed neighbors for 316 samples in 0.066s...\n",
      "[t-SNE] Computed conditional probabilities for sample 316 / 316\n",
      "[t-SNE] Mean sigma: 3.089098\n",
      "[t-SNE] KL divergence after 250 iterations with early exaggeration: 80.363106\n",
      "[t-SNE] KL divergence after 300 iterations: 1.233669\n"
     ]
    }
   ],
   "source": [
    "tsne = TSNE(n_components=2, verbose=1, perplexity=40, n_iter=300)\n",
    "tsne_results = tsne.fit_transform(data)"
   ]
  },
  {
   "cell_type": "code",
   "execution_count": 164,
   "metadata": {},
   "outputs": [],
   "source": [
    "df['tsne-2d-1'] = tsne_results[:,0]\n",
    "df['tsne-2d-2'] = tsne_results[:,1]"
   ]
  },
  {
   "cell_type": "code",
   "execution_count": 165,
   "metadata": {},
   "outputs": [
    {
     "data": {
      "text/html": [
       "<div>\n",
       "<style scoped>\n",
       "    .dataframe tbody tr th:only-of-type {\n",
       "        vertical-align: middle;\n",
       "    }\n",
       "\n",
       "    .dataframe tbody tr th {\n",
       "        vertical-align: top;\n",
       "    }\n",
       "\n",
       "    .dataframe thead th {\n",
       "        text-align: right;\n",
       "    }\n",
       "</style>\n",
       "<table border=\"1\" class=\"dataframe\">\n",
       "  <thead>\n",
       "    <tr style=\"text-align: right;\">\n",
       "      <th></th>\n",
       "      <th>X-0</th>\n",
       "      <th>X-1</th>\n",
       "      <th>X-2</th>\n",
       "      <th>X-3</th>\n",
       "      <th>X-4</th>\n",
       "      <th>X-5</th>\n",
       "      <th>X-6</th>\n",
       "      <th>X-7</th>\n",
       "      <th>X-8</th>\n",
       "      <th>X-9</th>\n",
       "      <th>...</th>\n",
       "      <th>X-396</th>\n",
       "      <th>X-397</th>\n",
       "      <th>X-398</th>\n",
       "      <th>X-399</th>\n",
       "      <th>y</th>\n",
       "      <th>pca-1</th>\n",
       "      <th>pca-2</th>\n",
       "      <th>pca-3</th>\n",
       "      <th>tsne-2d-1</th>\n",
       "      <th>tsne-2d-2</th>\n",
       "    </tr>\n",
       "  </thead>\n",
       "  <tbody>\n",
       "    <tr>\n",
       "      <th>191</th>\n",
       "      <td>-0.134536</td>\n",
       "      <td>-0.857307</td>\n",
       "      <td>-0.557955</td>\n",
       "      <td>-0.142064</td>\n",
       "      <td>0.779675</td>\n",
       "      <td>-0.973493</td>\n",
       "      <td>0.250363</td>\n",
       "      <td>-0.118114</td>\n",
       "      <td>-0.094059</td>\n",
       "      <td>-0.447118</td>\n",
       "      <td>...</td>\n",
       "      <td>-0.460763</td>\n",
       "      <td>0.469324</td>\n",
       "      <td>1.806160</td>\n",
       "      <td>0.483093</td>\n",
       "      <td>NoAlex</td>\n",
       "      <td>-0.051327</td>\n",
       "      <td>-1.150025</td>\n",
       "      <td>0.096102</td>\n",
       "      <td>-1.108321</td>\n",
       "      <td>-3.481961</td>\n",
       "    </tr>\n",
       "    <tr>\n",
       "      <th>146</th>\n",
       "      <td>-0.188305</td>\n",
       "      <td>-1.092564</td>\n",
       "      <td>-0.955071</td>\n",
       "      <td>0.170896</td>\n",
       "      <td>0.647327</td>\n",
       "      <td>-0.531403</td>\n",
       "      <td>0.487089</td>\n",
       "      <td>-0.020619</td>\n",
       "      <td>-0.186025</td>\n",
       "      <td>-0.388185</td>\n",
       "      <td>...</td>\n",
       "      <td>0.726952</td>\n",
       "      <td>0.140377</td>\n",
       "      <td>0.937962</td>\n",
       "      <td>0.565395</td>\n",
       "      <td>Alex</td>\n",
       "      <td>6.104549</td>\n",
       "      <td>-1.221066</td>\n",
       "      <td>1.058107</td>\n",
       "      <td>8.850558</td>\n",
       "      <td>11.144759</td>\n",
       "    </tr>\n",
       "    <tr>\n",
       "      <th>49</th>\n",
       "      <td>0.194154</td>\n",
       "      <td>-0.802226</td>\n",
       "      <td>-1.134616</td>\n",
       "      <td>0.295151</td>\n",
       "      <td>1.033297</td>\n",
       "      <td>-0.936962</td>\n",
       "      <td>-0.064561</td>\n",
       "      <td>0.679462</td>\n",
       "      <td>-0.237932</td>\n",
       "      <td>-0.010541</td>\n",
       "      <td>...</td>\n",
       "      <td>0.387272</td>\n",
       "      <td>0.753963</td>\n",
       "      <td>0.673369</td>\n",
       "      <td>0.337256</td>\n",
       "      <td>NoAlex</td>\n",
       "      <td>4.566782</td>\n",
       "      <td>-0.586961</td>\n",
       "      <td>-2.972641</td>\n",
       "      <td>10.867945</td>\n",
       "      <td>14.706865</td>\n",
       "    </tr>\n",
       "    <tr>\n",
       "      <th>133</th>\n",
       "      <td>0.862909</td>\n",
       "      <td>-1.042678</td>\n",
       "      <td>-0.781047</td>\n",
       "      <td>-0.050212</td>\n",
       "      <td>1.429064</td>\n",
       "      <td>-0.276617</td>\n",
       "      <td>0.085690</td>\n",
       "      <td>0.006255</td>\n",
       "      <td>-0.075972</td>\n",
       "      <td>-0.441603</td>\n",
       "      <td>...</td>\n",
       "      <td>0.370381</td>\n",
       "      <td>0.719575</td>\n",
       "      <td>0.988425</td>\n",
       "      <td>0.316159</td>\n",
       "      <td>NoAlex</td>\n",
       "      <td>2.858772</td>\n",
       "      <td>-1.413379</td>\n",
       "      <td>-0.934036</td>\n",
       "      <td>18.211821</td>\n",
       "      <td>-1.909374</td>\n",
       "    </tr>\n",
       "  </tbody>\n",
       "</table>\n",
       "<p>4 rows × 406 columns</p>\n",
       "</div>"
      ],
      "text/plain": [
       "          X-0       X-1       X-2       X-3       X-4       X-5       X-6  \\\n",
       "191 -0.134536 -0.857307 -0.557955 -0.142064  0.779675 -0.973493  0.250363   \n",
       "146 -0.188305 -1.092564 -0.955071  0.170896  0.647327 -0.531403  0.487089   \n",
       "49   0.194154 -0.802226 -1.134616  0.295151  1.033297 -0.936962 -0.064561   \n",
       "133  0.862909 -1.042678 -0.781047 -0.050212  1.429064 -0.276617  0.085690   \n",
       "\n",
       "          X-7       X-8       X-9  ...     X-396     X-397     X-398  \\\n",
       "191 -0.118114 -0.094059 -0.447118  ... -0.460763  0.469324  1.806160   \n",
       "146 -0.020619 -0.186025 -0.388185  ...  0.726952  0.140377  0.937962   \n",
       "49   0.679462 -0.237932 -0.010541  ...  0.387272  0.753963  0.673369   \n",
       "133  0.006255 -0.075972 -0.441603  ...  0.370381  0.719575  0.988425   \n",
       "\n",
       "        X-399       y     pca-1     pca-2     pca-3  tsne-2d-1  tsne-2d-2  \n",
       "191  0.483093  NoAlex -0.051327 -1.150025  0.096102  -1.108321  -3.481961  \n",
       "146  0.565395    Alex  6.104549 -1.221066  1.058107   8.850558  11.144759  \n",
       "49   0.337256  NoAlex  4.566782 -0.586961 -2.972641  10.867945  14.706865  \n",
       "133  0.316159  NoAlex  2.858772 -1.413379 -0.934036  18.211821  -1.909374  \n",
       "\n",
       "[4 rows x 406 columns]"
      ]
     },
     "execution_count": 165,
     "metadata": {},
     "output_type": "execute_result"
    }
   ],
   "source": [
    "df.sample(4)"
   ]
  },
  {
   "cell_type": "code",
   "execution_count": 167,
   "metadata": {},
   "outputs": [
    {
     "data": {
      "text/plain": [
       "<matplotlib.axes._subplots.AxesSubplot at 0x20e53bacac8>"
      ]
     },
     "execution_count": 167,
     "metadata": {},
     "output_type": "execute_result"
    },
    {
     "data": {
      "image/png": "[encoded data removed]",
      "text/plain": [
       "<Figure size 720x576 with 1 Axes>"
      ]
     },
     "metadata": {
      "needs_background": "light"
     },
     "output_type": "display_data"
    }
   ],
   "source": [
    "plt.figure(figsize=(10,8))\n",
    "markers = {\"Alex\": \"X\", \"NoAlex\": \"o\"}\n",
    "sns.scatterplot(\n",
    "    x=\"tsne-2d-1\", \n",
    "    y=\"tsne-2d-2\",\n",
    "    hue=\"y\",\n",
    "    style=\"y\",\n",
    "    palette=sns.color_palette([\"#0000ff\", \"#ff0000\"]),\n",
    "    data=df,\n",
    "    markers=markers,\n",
    "    legend=\"full\",\n",
    "    alpha=1\n",
    ")"
   ]
  },
  {
   "cell_type": "code",
   "execution_count": null,
   "metadata": {},
   "outputs": [],
   "source": []
  }
 ],
 "metadata": {
  "kernelspec": {
   "display_name": "Python 3",
   "language": "python",
   "name": "python3"
  },
  "language_info": {
   "codemirror_mode": {
    "name": "ipython",
    "version": 3
   },
   "file_extension": ".py",
   "mimetype": "text/x-python",
   "name": "python",
   "nbconvert_exporter": "python",
   "pygments_lexer": "ipython3",
   "version": "3.7.3"
  }
 },
 "nbformat": 4,
 "nbformat_minor": 2
}
